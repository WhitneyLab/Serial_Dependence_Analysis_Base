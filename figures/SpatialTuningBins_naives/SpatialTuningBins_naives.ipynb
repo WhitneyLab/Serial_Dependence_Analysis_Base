{
 "cells": [
  {
   "cell_type": "markdown",
   "metadata": {},
   "source": [
    "# Libraries "
   ]
  },
  {
   "cell_type": "code",
   "execution_count": 32,
   "metadata": {
    "ExecuteTime": {
     "end_time": "2020-09-30T16:18:24.988091Z",
     "start_time": "2020-09-30T16:18:24.980959Z"
    }
   },
   "outputs": [],
   "source": [
    "import pandas as pd\n",
    "import matplotlib.pyplot as plt\n",
    "import numpy as np\n",
    "from scipy.optimize import curve_fit\n",
    "from scipy.special import i0\n",
    "from numpy import exp, sin, cos\n",
    "import seaborn as sns\n",
    "import matplotlib as mpl\n",
    "import os\n",
    "from pathlib import Path\n",
    "from statsFuncs import mean_confidence_interval\n",
    "from statsFuncs import compDistributions\n",
    "import scipy\n",
    "\n",
    "mpl.rcParams['axes.linewidth'] = 2"
   ]
  },
  {
   "cell_type": "markdown",
   "metadata": {},
   "source": [
    "# Paths"
   ]
  },
  {
   "cell_type": "code",
   "execution_count": 33,
   "metadata": {
    "ExecuteTime": {
     "end_time": "2020-09-30T16:18:24.998782Z",
     "start_time": "2020-09-30T16:18:24.993349Z"
    }
   },
   "outputs": [],
   "source": [
    "fig6_path = os.getcwd()\n",
    "figures_path = str(Path(fig6_path).parent)\n",
    "datapath = figures_path + '/data/naive_subjects/Analysis9_30_2020/'"
   ]
  },
  {
   "cell_type": "markdown",
   "metadata": {},
   "source": [
    "# Plot params "
   ]
  },
  {
   "cell_type": "code",
   "execution_count": 34,
   "metadata": {
    "ExecuteTime": {
     "end_time": "2020-09-30T16:18:25.010239Z",
     "start_time": "2020-09-30T16:18:25.004051Z"
    }
   },
   "outputs": [],
   "source": [
    "mpl.rcParams['xtick.major.size'] = 6\n",
    "mpl.rcParams['xtick.major.width'] = 2\n",
    "mpl.rcParams['ytick.major.size'] = 6\n",
    "mpl.rcParams['ytick.major.width'] = 2\n",
    "mpl.rcParams['xtick.direction'] = 'in'\n",
    "mpl.rcParams['ytick.direction'] = 'in'\n",
    "mpl.rcParams['font.serif'] = 'Myriad Pro'\n",
    "mpl.rcParams['font.weight'] = 'medium'\n",
    "mpl.rcParams['font.size'] = 16\n",
    "mpl.rcParams['axes.labelweight'] = 'medium'\n",
    "\n",
    "mpl.rcParams['pdf.fonttype'] = 42\n",
    "mpl.rcParams['ps.fonttype'] = 42"
   ]
  },
  {
   "cell_type": "markdown",
   "metadata": {},
   "source": [
    "# Bins "
   ]
  },
  {
   "cell_type": "markdown",
   "metadata": {},
   "source": [
    "## 24 "
   ]
  },
  {
   "cell_type": "code",
   "execution_count": 35,
   "metadata": {
    "ExecuteTime": {
     "end_time": "2020-09-30T16:18:25.018606Z",
     "start_time": "2020-09-30T16:18:25.014107Z"
    }
   },
   "outputs": [],
   "source": [
    "# numBins = 24\n",
    "# data = np.load(datapath + str(numBins) + '_bins_amplitudes.npy')\n",
    "\n",
    "# alldata_trimed = pd.DataFrame()\n",
    "# alldata = pd.DataFrame(columns=['SUBJECT', 'BOOTSTRAP_VALUES'])\n",
    "\n",
    "# bindata = pd.DataFrame()\n",
    "\n",
    "# row = 0\n",
    "# for bins in range(numBins):\n",
    "#     subjectdata_temp = pd.DataFrame()\n",
    "    \n",
    "#     mean_bin, ci_low_bin, ci_up_bin = mean_confidence_interval.confidence_interval_percentile(data[bins])\n",
    "    \n",
    "#     bindata.loc[bins, 'MEAN'] = mean_bin\n",
    "#     bindata.loc[bins, 'CI_LOW'] = ci_low_bin\n",
    "#     bindata.loc[bins, 'CI_UP'] = ci_up_bin\n",
    "    \n",
    "# # CI\n",
    "# bin_ci = pd.DataFrame()\n",
    "# for i in range(len(bindata)):\n",
    "    \n",
    "#     low = bindata.loc[i, 'MEAN'] - bindata.loc[i, 'CI_LOW']\n",
    "#     up = bindata.loc[i, 'CI_UP'] - bindata.loc[i, 'MEAN'] \n",
    "    \n",
    "#     bin_ci.loc[0, i] = low\n",
    "#     bin_ci.loc[1, i] = up\n",
    "    \n",
    "# # plot\n",
    "# plt.figure(figsize=(10, 6))\n",
    "\n",
    "# plt.bar(range(len(bindata)), bindata['MEAN'], yerr=bin_ci.to_numpy(), ecolor='black',\n",
    "#        capsize=6, color = 'darkgray')\n",
    "# plt.title(str(numBins) + ' Bins')\n",
    "# plt.savefig('Fig_6_' + str(numBins) + 'bins.eps', bbox_inches='tight', dpi=1200)\n",
    "# plt.savefig('Fig_6_' + str(numBins) + 'bins.svg', bbox_inches='tight', dpi=1200)\n",
    "# plt.savefig('Fig_6_' + str(numBins) + 'bins.jpg', bbox_inches='tight', dpi=1200)"
   ]
  },
  {
   "cell_type": "markdown",
   "metadata": {
    "ExecuteTime": {
     "end_time": "2020-05-22T22:18:42.429430Z",
     "start_time": "2020-05-22T22:18:42.383703Z"
    }
   },
   "source": [
    "## 18 "
   ]
  },
  {
   "cell_type": "code",
   "execution_count": 36,
   "metadata": {
    "ExecuteTime": {
     "end_time": "2020-09-30T16:18:25.026461Z",
     "start_time": "2020-09-30T16:18:25.022410Z"
    }
   },
   "outputs": [],
   "source": [
    "# numBins = 18\n",
    "# data = np.load(datapath + str(numBins) + '_bins_amplitudes.npy')\n",
    "\n",
    "# alldata_trimed = pd.DataFrame()\n",
    "# alldata = pd.DataFrame(columns=['SUBJECT', 'BOOTSTRAP_VALUES'])\n",
    "\n",
    "# bindata = pd.DataFrame()\n",
    "\n",
    "# row = 0\n",
    "# for bins in range(numBins):\n",
    "#     subjectdata_temp = pd.DataFrame()\n",
    "    \n",
    "#     mean_bin, ci_low_bin, ci_up_bin = mean_confidence_interval.confidence_interval_percentile(data[bins])\n",
    "    \n",
    "#     bindata.loc[bins, 'MEAN'] = mean_bin\n",
    "#     bindata.loc[bins, 'CI_LOW'] = ci_low_bin\n",
    "#     bindata.loc[bins, 'CI_UP'] = ci_up_bin\n",
    "    \n",
    "# # CI\n",
    "# bin_ci = pd.DataFrame()\n",
    "# for i in range(len(bindata)):\n",
    "    \n",
    "#     low = bindata.loc[i, 'MEAN'] - bindata.loc[i, 'CI_LOW']\n",
    "#     up = bindata.loc[i, 'CI_UP'] - bindata.loc[i, 'MEAN'] \n",
    "    \n",
    "#     bin_ci.loc[0, i] = low\n",
    "#     bin_ci.loc[1, i] = up\n",
    "    \n",
    "# # plot\n",
    "# plt.figure(figsize=(10, 6))\n",
    "\n",
    "# plt.bar(range(len(bindata)), bindata['MEAN'], yerr=bin_ci.to_numpy(), ecolor='black',\n",
    "#        capsize=6, color = 'darkgray')\n",
    "# plt.title(str(numBins) + ' Bins')\n",
    "# plt.savefig('Fig_6_' + str(numBins) + 'bins.eps', bbox_inches='tight', dpi=1200)\n",
    "# plt.savefig('Fig_6_' + str(numBins) + 'bins.svg', bbox_inches='tight', dpi=1200)\n",
    "# plt.savefig('Fig_6_' + str(numBins) + 'bins.jpg', bbox_inches='tight', dpi=1200)"
   ]
  },
  {
   "cell_type": "markdown",
   "metadata": {},
   "source": [
    "## 12 "
   ]
  },
  {
   "cell_type": "code",
   "execution_count": 37,
   "metadata": {
    "ExecuteTime": {
     "end_time": "2020-09-30T16:18:25.034445Z",
     "start_time": "2020-09-30T16:18:25.030346Z"
    }
   },
   "outputs": [],
   "source": [
    "# numBins = 12\n",
    "# data = np.load(datapath + str(numBins) + '_bins_amplitudes.npy')\n",
    "\n",
    "# alldata_trimed = pd.DataFrame()\n",
    "# alldata = pd.DataFrame(columns=['SUBJECT', 'BOOTSTRAP_VALUES'])\n",
    "\n",
    "# bindata = pd.DataFrame()\n",
    "\n",
    "# row = 0\n",
    "# for bins in range(numBins):\n",
    "#     subjectdata_temp = pd.DataFrame()\n",
    "    \n",
    "#     mean_bin, ci_low_bin, ci_up_bin = mean_confidence_interval.confidence_interval_percentile(data[bins])\n",
    "    \n",
    "#     bindata.loc[bins, 'MEAN'] = mean_bin\n",
    "#     bindata.loc[bins, 'CI_LOW'] = ci_low_bin\n",
    "#     bindata.loc[bins, 'CI_UP'] = ci_up_bin\n",
    "    \n",
    "# # CI\n",
    "# bin_ci = pd.DataFrame()\n",
    "# for i in range(len(bindata)):\n",
    "    \n",
    "#     low = bindata.loc[i, 'MEAN'] - bindata.loc[i, 'CI_LOW']\n",
    "#     up = bindata.loc[i, 'CI_UP'] - bindata.loc[i, 'MEAN'] \n",
    "    \n",
    "#     bin_ci.loc[0, i] = low\n",
    "#     bin_ci.loc[1, i] = up\n",
    "    \n",
    "# # plot\n",
    "# plt.figure(figsize=(10, 6))\n",
    "\n",
    "# plt.bar(range(len(bindata)), bindata['MEAN'], yerr=bin_ci.to_numpy(), ecolor='black',\n",
    "#        capsize=6, color = 'darkgray')\n",
    "# plt.title(str(numBins) + ' Bins')\n",
    "# plt.savefig('Fig_6_' + str(numBins) + 'bins.eps', bbox_inches='tight', dpi=1200)\n",
    "# plt.savefig('Fig_6_' + str(numBins) + 'bins.svg', bbox_inches='tight', dpi=1200)\n",
    "# plt.savefig('Fig_6_' + str(numBins) + 'bins.jpg', bbox_inches='tight', dpi=1200)"
   ]
  },
  {
   "cell_type": "markdown",
   "metadata": {},
   "source": [
    "## 10 "
   ]
  },
  {
   "cell_type": "code",
   "execution_count": 38,
   "metadata": {
    "ExecuteTime": {
     "end_time": "2020-09-30T16:18:25.044522Z",
     "start_time": "2020-09-30T16:18:25.040053Z"
    }
   },
   "outputs": [],
   "source": [
    "# numBins = 10\n",
    "# data = np.load(datapath + str(numBins) + '_bins_amplitudes.npy')\n",
    "\n",
    "# bindata = pd.DataFrame()\n",
    "# allbindata = pd.DataFrame()\n",
    "# row = 0\n",
    "# for bins in range(numBins):\n",
    "#     subjectdata_temp = pd.DataFrame()\n",
    "    \n",
    "#     mean_bin, ci_low_bin, ci_up_bin = mean_confidence_interval.confidence_interval_percentile(data[bins])\n",
    "    \n",
    "#     bindata.loc[bins, 'MEAN'] = mean_bin\n",
    "#     bindata.loc[bins, 'CI_LOW'] = ci_low_bin\n",
    "#     bindata.loc[bins, 'CI_UP'] = ci_up_bin\n",
    "    \n",
    "#     allbindata[bins] = data[bins]\n",
    "    \n",
    "# # CI\n",
    "# bin_ci = pd.DataFrame()\n",
    "# for i in range(len(bindata)):\n",
    "    \n",
    "#     low = bindata.loc[i, 'MEAN'] - bindata.loc[i, 'CI_LOW']\n",
    "#     up = bindata.loc[i, 'CI_UP'] - bindata.loc[i, 'MEAN'] \n",
    "    \n",
    "#     bin_ci.loc[0, i] = low\n",
    "#     bin_ci.loc[1, i] = up\n",
    "    \n",
    "# # regression line\n",
    "# for row in range(len(allbindata)):\n",
    "    \n",
    "#     # fit regression line\n",
    "#     slope, intercept = np.polyfit(range(numBins), allbindata.loc[row, range(numBins)], 1)\n",
    "    \n",
    "#     allbindata.loc[row, 'SLOPE'] = slope\n",
    "#     allbindata.loc[row, 'INTERCEPT'] = intercept\n",
    "    \n",
    "# compDistributions.sigDistribution(allbindata['SLOPE'], extra_title=' numBins= ' + str(numBins), xlim=[-1.5, 0], ylim=[0, 5])\n",
    "\n",
    "# # plot\n",
    "# plt.figure(figsize=(10, 6))\n",
    "\n",
    "# plt.bar(range(len(bindata)), bindata['MEAN'], yerr=bin_ci.to_numpy(), ecolor='black',\n",
    "#        capsize=6, color = 'darkgray')\n",
    "# plt.title(str(numBins) + ' Bins')\n",
    "# plt.savefig('Fig_6_' + str(numBins) + 'bins.eps', bbox_inches='tight', dpi=1200)\n",
    "# plt.savefig('Fig_6_' + str(numBins) + 'bins.svg', bbox_inches='tight', dpi=1200)\n",
    "# plt.savefig('Fig_6_' + str(numBins) + 'bins.jpg', bbox_inches='tight', dpi=1200)"
   ]
  },
  {
   "cell_type": "markdown",
   "metadata": {},
   "source": [
    "## 8 "
   ]
  },
  {
   "cell_type": "code",
   "execution_count": 39,
   "metadata": {
    "ExecuteTime": {
     "end_time": "2020-09-30T16:18:25.053213Z",
     "start_time": "2020-09-30T16:18:25.049013Z"
    }
   },
   "outputs": [],
   "source": [
    "# numBins = 8\n",
    "# data = np.load(datapath + str(numBins) + '_bins_amplitudes.npy')\n",
    "\n",
    "# bindata = pd.DataFrame()\n",
    "# allbindata = pd.DataFrame()\n",
    "# row = 0\n",
    "# for bins in range(numBins):\n",
    "#     subjectdata_temp = pd.DataFrame()\n",
    "    \n",
    "#     mean_bin, ci_low_bin, ci_up_bin = mean_confidence_interval.confidence_interval_percentile(data[bins])\n",
    "    \n",
    "#     bindata.loc[bins, 'MEAN'] = mean_bin\n",
    "#     bindata.loc[bins, 'CI_LOW'] = ci_low_bin\n",
    "#     bindata.loc[bins, 'CI_UP'] = ci_up_bin\n",
    "    \n",
    "#     allbindata[bins] = data[bins]\n",
    "    \n",
    "# # CI\n",
    "# bin_ci = pd.DataFrame()\n",
    "# for i in range(len(bindata)):\n",
    "    \n",
    "#     low = bindata.loc[i, 'MEAN'] - bindata.loc[i, 'CI_LOW']\n",
    "#     up = bindata.loc[i, 'CI_UP'] - bindata.loc[i, 'MEAN'] \n",
    "    \n",
    "#     bin_ci.loc[0, i] = low\n",
    "#     bin_ci.loc[1, i] = up\n",
    "    \n",
    "# # regression line\n",
    "# for row in range(len(allbindata)):\n",
    "    \n",
    "#     # fit regression line\n",
    "#     slope, intercept = np.polyfit(range(numBins), allbindata.loc[row, range(numBins)], 1)\n",
    "    \n",
    "#     allbindata.loc[row, 'SLOPE'] = slope\n",
    "#     allbindata.loc[row, 'INTERCEPT'] = intercept\n",
    "    \n",
    "# compDistributions.sigDistribution(allbindata['SLOPE'], extra_title=' numBins= ' + str(numBins), xlim=[-1.5, 0], ylim=[0, 5])\n",
    "\n",
    "# # plot\n",
    "# plt.figure(figsize=(10, 6))\n",
    "\n",
    "# plt.bar(range(len(bindata)), bindata['MEAN'], yerr=bin_ci.to_numpy(), ecolor='black',\n",
    "#        capsize=6, color = 'darkgray')\n",
    "# plt.title(str(numBins) + ' Bins')\n",
    "# plt.savefig('Fig_6_' + str(numBins) + 'bins.eps', bbox_inches='tight', dpi=1200)\n",
    "# plt.savefig('Fig_6_' + str(numBins) + 'bins.svg', bbox_inches='tight', dpi=1200)\n",
    "# plt.savefig('Fig_6_' + str(numBins) + 'bins.jpg', bbox_inches='tight', dpi=1200)"
   ]
  },
  {
   "cell_type": "markdown",
   "metadata": {},
   "source": [
    "## 6 "
   ]
  },
  {
   "cell_type": "code",
   "execution_count": 40,
   "metadata": {
    "ExecuteTime": {
     "end_time": "2020-09-30T16:18:25.061035Z",
     "start_time": "2020-09-30T16:18:25.056999Z"
    }
   },
   "outputs": [],
   "source": [
    "# numBins = 6\n",
    "# data = np.load(datapath + str(numBins) + '_bins_amplitudes.npy')\n",
    "\n",
    "# bindata = pd.DataFrame()\n",
    "# allbindata = pd.DataFrame()\n",
    "# row = 0\n",
    "# for bins in range(numBins):\n",
    "#     subjectdata_temp = pd.DataFrame()\n",
    "    \n",
    "#     mean_bin, ci_low_bin, ci_up_bin = mean_confidence_interval.confidence_interval_percentile(data[bins])\n",
    "    \n",
    "#     bindata.loc[bins, 'MEAN'] = mean_bin\n",
    "#     bindata.loc[bins, 'CI_LOW'] = ci_low_bin\n",
    "#     bindata.loc[bins, 'CI_UP'] = ci_up_bin\n",
    "    \n",
    "#     allbindata[bins] = data[bins]\n",
    "    \n",
    "# # CI\n",
    "# bin_ci = pd.DataFrame()\n",
    "# for i in range(len(bindata)):\n",
    "    \n",
    "#     low = bindata.loc[i, 'MEAN'] - bindata.loc[i, 'CI_LOW']\n",
    "#     up = bindata.loc[i, 'CI_UP'] - bindata.loc[i, 'MEAN'] \n",
    "    \n",
    "#     bin_ci.loc[0, i] = low\n",
    "#     bin_ci.loc[1, i] = up\n",
    "    \n",
    "# # regression line\n",
    "# for row in range(len(allbindata)):\n",
    "    \n",
    "#     # fit regression line\n",
    "#     slope, intercept = np.polyfit(range(numBins), allbindata.loc[row, range(numBins)], 1)\n",
    "    \n",
    "#     allbindata.loc[row, 'SLOPE'] = slope\n",
    "#     allbindata.loc[row, 'INTERCEPT'] = intercept\n",
    "    \n",
    "# compDistributions.sigDistribution(allbindata['SLOPE'], extra_title=' numBins= ' + str(numBins), xlim=[-1.5, 0], ylim=[0, 5])\n",
    "\n",
    "# # plot\n",
    "# plt.figure(figsize=(10, 6))\n",
    "\n",
    "# plt.bar(range(len(bindata)), bindata['MEAN'], yerr=bin_ci.to_numpy(), ecolor='black',\n",
    "#        capsize=6, color = 'darkgray')\n",
    "# plt.title(str(numBins) + ' Bins')\n",
    "# plt.savefig('Fig_6_' + str(numBins) + 'bins.eps', bbox_inches='tight', dpi=1200)\n",
    "# plt.savefig('Fig_6_' + str(numBins) + 'bins.svg', bbox_inches='tight', dpi=1200)\n",
    "# plt.savefig('Fig_6_' + str(numBins) + 'bins.jpg', bbox_inches='tight', dpi=1200)"
   ]
  },
  {
   "cell_type": "markdown",
   "metadata": {},
   "source": [
    "## 5 "
   ]
  },
  {
   "cell_type": "code",
   "execution_count": 41,
   "metadata": {
    "ExecuteTime": {
     "end_time": "2020-09-30T16:18:25.070063Z",
     "start_time": "2020-09-30T16:18:25.065679Z"
    }
   },
   "outputs": [],
   "source": [
    "# numBins = 5\n",
    "# data = np.load(datapath + 'naive_' + str(numBins) + '_bins_1_back.npy')\n",
    "# radiologistsAmps_3_bins_1_back.npy\n",
    "# bindata = pd.DataFrame()\n",
    "# allbindata = pd.DataFrame()\n",
    "# row = 0\n",
    "# for bins in range(numBins):\n",
    "#     subjectdata_temp = pd.DataFrame()\n",
    "    \n",
    "#     mean_bin, ci_low_bin, ci_up_bin = mean_confidence_interval.confidence_interval_percentile(data[bins])\n",
    "    \n",
    "#     bindata.loc[bins, 'MEAN'] = mean_bin\n",
    "#     bindata.loc[bins, 'CI_LOW'] = ci_low_bin\n",
    "#     bindata.loc[bins, 'CI_UP'] = ci_up_bin\n",
    "    \n",
    "#     allbindata[bins] = data[bins]\n",
    "    \n",
    "# # CI\n",
    "# bin_ci = pd.DataFrame()\n",
    "# for i in range(len(bindata)):\n",
    "    \n",
    "#     low = bindata.loc[i, 'MEAN'] - bindata.loc[i, 'CI_LOW']\n",
    "#     up = bindata.loc[i, 'CI_UP'] - bindata.loc[i, 'MEAN'] \n",
    "    \n",
    "#     bin_ci.loc[0, i] = low\n",
    "#     bin_ci.loc[1, i] = up\n",
    "    \n",
    "# # regression line\n",
    "# for row in range(len(allbindata)):\n",
    "    \n",
    "#     # fit regression line\n",
    "#     slope, intercept = np.polyfit(range(numBins), allbindata.loc[row, range(numBins)], 1)\n",
    "    \n",
    "#     allbindata.loc[row, 'SLOPE'] = slope\n",
    "#     allbindata.loc[row, 'INTERCEPT'] = intercept\n",
    "    \n",
    "# compDistributions.sigDistribution(allbindata['SLOPE'], extra_title=' numBins= ' + str(numBins), xlim=None, ylim=None)\n",
    "\n",
    "# # plot\n",
    "# plt.figure(figsize=(5, 4))\n",
    "\n",
    "# ax = plt.errorbar(np.arange(len(bindata)), bindata['MEAN'], yerr=bin_ci.to_numpy(), ecolor='black',\n",
    "#        capsize=6, color = 'darkgreen', linewidth=2, fmt='o', ms=12, linestyle='-')\n",
    "# plt.title(str(numBins) + ' Bins')\n",
    "# plt.ylabel('Bootstrapped \\nHalf Amplitude')\n",
    "# plt.xlabel('Absolute Relative Distance (°)')\n",
    "# plt.ylim([-3, 7])\n",
    "# plt.xticks(np.arange(len(bindata), step=1), labels=('  (0-36)', '(37-72)', '(73-108)', '(109-144)', '(145-180)'))\n",
    "# plt.savefig('SpatialTuning_' + str(numBins) + 'bins_naives.eps', bbox_inches='tight', dpi=1200)\n",
    "# plt.savefig('SpatialTuning_' + str(numBins) + 'bins_naives.svg', bbox_inches='tight', dpi=1200)\n",
    "# plt.savefig('SpatialTuning_' + str(numBins) + 'bins_naives.jpg', bbox_inches='tight', dpi=1200)"
   ]
  },
  {
   "cell_type": "markdown",
   "metadata": {},
   "source": [
    "## 4"
   ]
  },
  {
   "cell_type": "code",
   "execution_count": 42,
   "metadata": {
    "ExecuteTime": {
     "end_time": "2020-09-30T16:18:25.078069Z",
     "start_time": "2020-09-30T16:18:25.074164Z"
    },
    "scrolled": false
   },
   "outputs": [],
   "source": [
    "# numBins = 4\n",
    "# data = np.load(datapath +  'naive_' + str(numBins) + '_bins_1_back.npy')\n",
    "\n",
    "# bindata = pd.DataFrame()\n",
    "# allbindata = pd.DataFrame()\n",
    "# row = 0\n",
    "# for bins in range(numBins):\n",
    "#     subjectdata_temp = pd.DataFrame()\n",
    "    \n",
    "#     mean_bin, ci_low_bin, ci_up_bin = mean_confidence_interval.confidence_interval_percentile(data[bins])\n",
    "    \n",
    "#     bindata.loc[bins, 'MEAN'] = mean_bin\n",
    "#     bindata.loc[bins, 'CI_LOW'] = ci_low_bin\n",
    "#     bindata.loc[bins, 'CI_UP'] = ci_up_bin\n",
    "    \n",
    "#     allbindata[bins] = data[bins]\n",
    "    \n",
    "# # CI\n",
    "# bin_ci = pd.DataFrame()\n",
    "# for i in range(len(bindata)):\n",
    "    \n",
    "#     low = bindata.loc[i, 'MEAN'] - bindata.loc[i, 'CI_LOW']\n",
    "#     up = bindata.loc[i, 'CI_UP'] - bindata.loc[i, 'MEAN'] \n",
    "    \n",
    "#     bin_ci.loc[0, i] = low\n",
    "#     bin_ci.loc[1, i] = up\n",
    "    \n",
    "# # regression line\n",
    "# for row in range(len(allbindata)):\n",
    "    \n",
    "#     # fit regression line\n",
    "#     slope, intercept = np.polyfit(range(numBins), allbindata.loc[row, range(numBins)], 1)\n",
    "    \n",
    "#     allbindata.loc[row, 'SLOPE'] = slope\n",
    "#     allbindata.loc[row, 'INTERCEPT'] = intercept\n",
    "    \n",
    "# compDistributions.sigDistribution(allbindata['SLOPE'], extra_title=' numBins= ' + str(numBins), xlim=None, ylim=None)\n",
    "\n",
    "# # plot\n",
    "# plt.figure(figsize=(5, 4))\n",
    "\n",
    "# ax = plt.errorbar(np.arange(len(bindata)), bindata['MEAN'], yerr=bin_ci.to_numpy(), ecolor='black',\n",
    "#        capsize=6, color = 'darkgreen', linewidth=2, fmt='o', ms=12, linestyle='-')\n",
    "# plt.title(str(numBins) + ' Bins')\n",
    "# plt.ylabel('Bootstrapped \\nHalf Amplitude')\n",
    "# plt.xlabel('Absolute Relative Distance (°)')\n",
    "# plt.ylim([-1, 6])\n",
    "# plt.xticks(np.arange(len(bindata), step=1), labels=('  (0-45)', '(46-90)', '(91-135)', '(136-180)'))\n",
    "# plt.savefig('SpatialTuning_' + str(numBins) + 'bins_naives.eps', bbox_inches='tight', dpi=1200)\n",
    "# plt.savefig('SpatialTuning_' + str(numBins) + 'bins_naives.svg', bbox_inches='tight', dpi=1200)\n",
    "# plt.savefig('SpatialTuning_' + str(numBins) + 'bins_naives.jpg', bbox_inches='tight', dpi=1200)"
   ]
  },
  {
   "cell_type": "markdown",
   "metadata": {},
   "source": [
    "## 3 "
   ]
  },
  {
   "cell_type": "code",
   "execution_count": 43,
   "metadata": {
    "ExecuteTime": {
     "end_time": "2020-09-30T16:18:25.087733Z",
     "start_time": "2020-09-30T16:18:25.082870Z"
    }
   },
   "outputs": [],
   "source": [
    "plt.rcParams['font.family'] = 'Myriad Pro'\n",
    "mpl.rcParams['pdf.fonttype'] = 42\n",
    "mpl.rcParams['ps.fonttype'] = 42"
   ]
  },
  {
   "cell_type": "code",
   "execution_count": 49,
   "metadata": {
    "ExecuteTime": {
     "end_time": "2020-09-30T16:21:17.488678Z",
     "start_time": "2020-09-30T16:21:02.668049Z"
    },
    "scrolled": false
   },
   "outputs": [
    {
     "name": "stdout",
     "output_type": "stream",
     "text": [
      "0.4482\n"
     ]
    },
    {
     "data": {
      "image/png": "[encoded data removed]",
      "text/plain": [
       "<Figure size 360x360 with 1 Axes>"
      ]
     },
     "metadata": {
      "needs_background": "light"
     },
     "output_type": "display_data"
    },
    {
     "name": "stderr",
     "output_type": "stream",
     "text": [
      "The PostScript backend does not support transparency; partially transparent artists will be rendered opaque.\n",
      "The PostScript backend does not support transparency; partially transparent artists will be rendered opaque.\n"
     ]
    },
    {
     "data": {
      "image/png": "[encoded data removed]",
      "text/plain": [
       "<Figure size 360x288 with 1 Axes>"
      ]
     },
     "metadata": {
      "needs_background": "light"
     },
     "output_type": "display_data"
    }
   ],
   "source": [
    "numBins = 3\n",
    "# data = np.load(datapath +  'naiveAmps_' + str(numBins) + '_bins_1_back.npy')\n",
    "data = np.load(datapath + 'naiveAmps_3_bins_1_back.npy')\n",
    "bindata = pd.DataFrame()\n",
    "allbindata = pd.DataFrame()\n",
    "row = 0\n",
    "for bins in range(numBins):\n",
    "    subjectdata_temp = pd.DataFrame()\n",
    "    \n",
    "    mean_bin, ci_low_bin, ci_up_bin = mean_confidence_interval.confidence_interval_percentile(data[bins])\n",
    "    \n",
    "    bindata.loc[bins, 'MEAN'] = mean_bin\n",
    "    bindata.loc[bins, 'CI_LOW'] = ci_low_bin\n",
    "    bindata.loc[bins, 'CI_UP'] = ci_up_bin\n",
    "    \n",
    "    allbindata[bins] = data[bins]\n",
    "    \n",
    "# CI\n",
    "bin_ci = pd.DataFrame()\n",
    "for i in range(len(bindata)):\n",
    "    \n",
    "    low = bindata.loc[i, 'MEAN'] - bindata.loc[i, 'CI_LOW']\n",
    "    up = bindata.loc[i, 'CI_UP'] - bindata.loc[i, 'MEAN'] \n",
    "    \n",
    "    bin_ci.loc[0, i] = low\n",
    "    bin_ci.loc[1, i] = up\n",
    "    \n",
    "# regression line\n",
    "for row in range(len(allbindata)):\n",
    "    \n",
    "    # fit regression line\n",
    "    slope, intercept = np.polyfit(range(numBins), allbindata.loc[row, range(numBins)], 1)\n",
    "    \n",
    "    allbindata.loc[row, 'SLOPE'] = slope\n",
    "    allbindata.loc[row, 'INTERCEPT'] = intercept\n",
    "    \n",
    "compDistributions.sigDistribution(allbindata['SLOPE'], extra_title=' numBins= ' + str(numBins), xlim=None, ylim=None)\n",
    "\n",
    "# plot\n",
    "plt.figure(figsize=(5, 4))\n",
    "\n",
    "ax = plt.errorbar(np.arange(len(bindata)), bindata['MEAN'], yerr=bin_ci.to_numpy(), ecolor='black',\n",
    "       capsize=6, color = 'darkgreen', linewidth=2, fmt='o', ms=12, linestyle='-')\n",
    "plt.title(str(numBins) + ' Bins')\n",
    "plt.ylabel('Bootstrapped \\nHalf Amplitude')\n",
    "plt.xlabel('Distance from Previous Tumor Location (°)')\n",
    "plt.ylim([-1, 6])\n",
    "plt.xlim([-0.5, 2.5])\n",
    "plt.xticks(np.arange(len(bindata), step=1), labels=('  (0-60)', '(61-120)', '(121-180)'))\n",
    "plt.yticks(np.arange(-1, 7, 1))\n",
    "\n",
    "plt.plot(np.arange(-0.5, 3.5, step=1), [0, 0, 0, 0], color='darkgrey', linestyle='--', linewidth=1, alpha=0.5)\n",
    "\n",
    "plt.savefig('SpatialTuning_' + str(numBins) + 'bins_naives.eps', bbox_inches='tight', dpi=1200)\n",
    "plt.savefig('SpatialTuning_' + str(numBins) + 'bins_naives.svg', bbox_inches='tight', dpi=1200)\n",
    "plt.savefig('SpatialTuning_' + str(numBins) + 'bins_naives.jpg', bbox_inches='tight', dpi=1200)\n",
    "plt.savefig('SpatialTuning_' + str(numBins) + 'bins_naives.pdf', bbox_inches='tight', dpi=1200)"
   ]
  },
  {
   "cell_type": "code",
   "execution_count": 45,
   "metadata": {
    "ExecuteTime": {
     "end_time": "2020-09-30T16:18:41.085054Z",
     "start_time": "2020-09-30T16:18:40.591994Z"
    }
   },
   "outputs": [
    {
     "name": "stdout",
     "output_type": "stream",
     "text": [
      "0.9936\n"
     ]
    },
    {
     "data": {
      "image/png": "[encoded data removed]",
      "text/plain": [
       "<Figure size 360x360 with 1 Axes>"
      ]
     },
     "metadata": {
      "needs_background": "light"
     },
     "output_type": "display_data"
    }
   ],
   "source": [
    "compDistributions.sigDistribution(allbindata[0], extra_title=' Bin 1 Naives', xlim=None, ylim=None)\n"
   ]
  },
  {
   "cell_type": "code",
   "execution_count": 46,
   "metadata": {
    "ExecuteTime": {
     "end_time": "2020-09-30T16:18:41.400044Z",
     "start_time": "2020-09-30T16:18:41.094175Z"
    }
   },
   "outputs": [
    {
     "name": "stdout",
     "output_type": "stream",
     "text": [
      "1.0\n"
     ]
    },
    {
     "data": {
      "image/png": "[encoded data removed]",
      "text/plain": [
       "<Figure size 360x360 with 1 Axes>"
      ]
     },
     "metadata": {
      "needs_background": "light"
     },
     "output_type": "display_data"
    }
   ],
   "source": [
    "compDistributions.sigDistribution(allbindata[1], extra_title=' Bin 2 Naives', xlim=None, ylim=None)\n"
   ]
  },
  {
   "cell_type": "code",
   "execution_count": 47,
   "metadata": {
    "ExecuteTime": {
     "end_time": "2020-09-30T16:18:41.708911Z",
     "start_time": "2020-09-30T16:18:41.405228Z"
    }
   },
   "outputs": [
    {
     "name": "stdout",
     "output_type": "stream",
     "text": [
      "0.9868\n"
     ]
    },
    {
     "data": {
      "image/png": "[encoded data removed]",
      "text/plain": [
       "<Figure size 360x360 with 1 Axes>"
      ]
     },
     "metadata": {
      "needs_background": "light"
     },
     "output_type": "display_data"
    }
   ],
   "source": [
    "compDistributions.sigDistribution(allbindata[2], extra_title=' Bin 3 Naives', xlim=None, ylim=None)\n"
   ]
  },
  {
   "cell_type": "markdown",
   "metadata": {},
   "source": [
    "## 2"
   ]
  },
  {
   "cell_type": "code",
   "execution_count": 48,
   "metadata": {
    "ExecuteTime": {
     "end_time": "2020-09-30T16:18:41.724138Z",
     "start_time": "2020-09-30T16:18:41.717347Z"
    }
   },
   "outputs": [],
   "source": [
    "# numBins = 2\n",
    "# data = np.load(datapath +  'naive_' + str(numBins) + '_bins_1_back.npy')\n",
    "\n",
    "# bindata = pd.DataFrame()\n",
    "# allbindata = pd.DataFrame()\n",
    "# row = 0\n",
    "# for bins in range(numBins):\n",
    "#     subjectdata_temp = pd.DataFrame()\n",
    "    \n",
    "#     mean_bin, ci_low_bin, ci_up_bin = mean_confidence_interval.confidence_interval_percentile(data[bins])\n",
    "    \n",
    "#     bindata.loc[bins, 'MEAN'] = mean_bin\n",
    "#     bindata.loc[bins, 'CI_LOW'] = ci_low_bin\n",
    "#     bindata.loc[bins, 'CI_UP'] = ci_up_bin\n",
    "    \n",
    "#     allbindata[bins] = data[bins]\n",
    "    \n",
    "# # CI\n",
    "# bin_ci = pd.DataFrame()\n",
    "# for i in range(len(bindata)):\n",
    "    \n",
    "#     low = bindata.loc[i, 'MEAN'] - bindata.loc[i, 'CI_LOW']\n",
    "#     up = bindata.loc[i, 'CI_UP'] - bindata.loc[i, 'MEAN'] \n",
    "    \n",
    "#     bin_ci.loc[0, i] = low\n",
    "#     bin_ci.loc[1, i] = up\n",
    "    \n",
    "# # regression line\n",
    "# for row in range(len(allbindata)):\n",
    "    \n",
    "#     # fit regression line\n",
    "#     slope, intercept = np.polyfit(range(numBins), allbindata.loc[row, range(numBins)], 1)\n",
    "    \n",
    "#     allbindata.loc[row, 'SLOPE'] = slope\n",
    "#     allbindata.loc[row, 'INTERCEPT'] = intercept\n",
    "    \n",
    "# compDistributions.sigDistribution(allbindata['SLOPE'], extra_title=' numBins= ' + str(numBins), xlim=None, ylim=None)\n",
    "\n",
    "# # plot\n",
    "# plt.figure(figsize=(5, 4))\n",
    "\n",
    "# ax = plt.errorbar(np.arange(len(bindata)), bindata['MEAN'], yerr=bin_ci.to_numpy(), ecolor='black',\n",
    "#        capsize=6, color = 'darkgreen', linewidth=2, fmt='o', ms=12, linestyle='-')\n",
    "# plt.title(str(numBins) + ' Bins')\n",
    "# plt.ylabel('Bootstrapped \\nHalf Amplitude')\n",
    "# plt.xlabel('Absolute Relative Distance (°)')\n",
    "# plt.ylim([-1, 4.5])\n",
    "# plt.xticks(np.arange(len(bindata), step=1), labels=('  (0-90)', '(91-180)'))\n",
    "# plt.savefig('SpatialTuning_' + str(numBins) + 'bins_naives.eps', bbox_inches='tight', dpi=1200)\n",
    "# plt.savefig('SpatialTuning_' + str(numBins) + 'bins_naives.svg', bbox_inches='tight', dpi=1200)\n",
    "# plt.savefig('SpatialTuning_' + str(numBins) + 'bins_naives.jpg', bbox_inches='tight', dpi=1200)"
   ]
  },
  {
   "cell_type": "code",
   "execution_count": null,
   "metadata": {},
   "outputs": [],
   "source": []
  }
 ],
 "metadata": {
  "kernelspec": {
   "display_name": "Python 3",
   "language": "python",
   "name": "python3"
  },
  "language_info": {
   "codemirror_mode": {
    "name": "ipython",
    "version": 3
   },
   "file_extension": ".py",
   "mimetype": "text/x-python",
   "name": "python",
   "nbconvert_exporter": "python",
   "pygments_lexer": "ipython3",
   "version": "3.7.6"
  },
  "toc": {
   "base_numbering": 1,
   "nav_menu": {},
   "number_sections": true,
   "sideBar": true,
   "skip_h1_title": false,
   "title_cell": "Table of Contents",
   "title_sidebar": "Contents",
   "toc_cell": false,
   "toc_position": {
    "height": "calc(100% - 180px)",
    "left": "10px",
    "top": "150px",
    "width": "273.594px"
   },
   "toc_section_display": true,
   "toc_window_display": true
  },
  "varInspector": {
   "cols": {
    "lenName": 16,
    "lenType": 16,
    "lenVar": 40
   },
   "kernels_config": {
    "python": {
     "delete_cmd_postfix": "",
     "delete_cmd_prefix": "del ",
     "library": "var_list.py",
     "varRefreshCmd": "print(var_dic_list())"
    },
    "r": {
     "delete_cmd_postfix": ") ",
     "delete_cmd_prefix": "rm(",
     "library": "var_list.r",
     "varRefreshCmd": "cat(var_dic_list()) "
    }
   },
   "types_to_exclude": [
    "module",
    "function",
    "builtin_function_or_method",
    "instance",
    "_Feature"
   ],
   "window_display": false
  }
 },
 "nbformat": 4,
 "nbformat_minor": 4
}
