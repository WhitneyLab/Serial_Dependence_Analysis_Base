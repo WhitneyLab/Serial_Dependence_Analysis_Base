{
 "cells": [
  {
   "cell_type": "markdown",
   "metadata": {},
   "source": [
    "# Libraries "
   ]
  },
  {
   "cell_type": "code",
   "execution_count": 42,
   "metadata": {
    "ExecuteTime": {
     "end_time": "2020-09-24T03:08:01.043263Z",
     "start_time": "2020-09-24T03:08:01.038715Z"
    }
   },
   "outputs": [],
   "source": [
    "import pandas as pd\n",
    "import matplotlib.pyplot as plt\n",
    "import numpy as np\n",
    "from scipy.optimize import curve_fit\n",
    "from scipy.special import i0\n",
    "from numpy import exp, sin, cos\n",
    "import seaborn as sns\n",
    "import matplotlib as mpl\n",
    "import os\n",
    "from pathlib import Path\n",
    "from statsFuncs import mean_confidence_interval\n",
    "from statsFuncs import compDistributions\n",
    "import scipy\n",
    "import random\n",
    "\n",
    "mpl.rcParams['axes.linewidth'] = 2"
   ]
  },
  {
   "cell_type": "markdown",
   "metadata": {},
   "source": [
    "# Paths "
   ]
  },
  {
   "cell_type": "code",
   "execution_count": 43,
   "metadata": {
    "ExecuteTime": {
     "end_time": "2020-09-24T03:08:01.056103Z",
     "start_time": "2020-09-24T03:08:01.049124Z"
    }
   },
   "outputs": [],
   "source": [
    "fig3_path = os.getcwd()\n",
    "figures_path = str(Path(fig3_path).parent)\n",
    "datapath = figures_path + '/data/radiologists/trials_forward/radiologists_results/'"
   ]
  },
  {
   "cell_type": "markdown",
   "metadata": {},
   "source": [
    "# Plot params "
   ]
  },
  {
   "cell_type": "code",
   "execution_count": 44,
   "metadata": {
    "ExecuteTime": {
     "end_time": "2020-09-24T03:08:01.066286Z",
     "start_time": "2020-09-24T03:08:01.059570Z"
    }
   },
   "outputs": [],
   "source": [
    "mpl.rcParams['xtick.major.size'] = 6\n",
    "mpl.rcParams['xtick.major.width'] = 2\n",
    "mpl.rcParams['ytick.major.size'] = 6\n",
    "mpl.rcParams['ytick.major.width'] = 2\n",
    "mpl.rcParams['xtick.direction'] = 'in'\n",
    "mpl.rcParams['ytick.direction'] = 'in'\n",
    "mpl.rcParams['font.serif'] = 'Myriad Pro'\n",
    "mpl.rcParams['font.weight'] = 'medium'\n",
    "mpl.rcParams['font.size'] = 16\n",
    "mpl.rcParams['axes.labelweight'] = 'medium'"
   ]
  },
  {
   "cell_type": "markdown",
   "metadata": {},
   "source": [
    "# Subject loop "
   ]
  },
  {
   "cell_type": "markdown",
   "metadata": {},
   "source": [
    "Get number of subjects, which is number of folders in datapath -1 (the super subject)"
   ]
  },
  {
   "cell_type": "code",
   "execution_count": 45,
   "metadata": {
    "ExecuteTime": {
     "end_time": "2020-09-24T03:08:01.082662Z",
     "start_time": "2020-09-24T03:08:01.071028Z"
    }
   },
   "outputs": [
    {
     "name": "stdout",
     "output_type": "stream",
     "text": [
      "79 files, 13 folders\n",
      "12 subjects\n"
     ]
    }
   ],
   "source": [
    "files = folders = 0\n",
    "\n",
    "for _, dirnames, filenames in os.walk(datapath):\n",
    "  # ^ this idiom means \"we won't be using this value\"\n",
    "    files += len(filenames)\n",
    "    folders += len(dirnames)\n",
    "\n",
    "print(\"{:,} files, {:,} folders\".format(files, folders))\n",
    "print(str(folders-1) + ' subjects')\n",
    "nSubjects = folders-1"
   ]
  },
  {
   "cell_type": "code",
   "execution_count": 46,
   "metadata": {
    "ExecuteTime": {
     "end_time": "2020-09-24T03:08:01.093433Z",
     "start_time": "2020-09-24T03:08:01.087959Z"
    }
   },
   "outputs": [],
   "source": [
    "subject_names = ['S1', 'S3', 'S4', 'S6', 'S7', 'S8', 's9', 's10', 's11', 's12', 's13', 's14', 's15']"
   ]
  },
  {
   "cell_type": "markdown",
   "metadata": {},
   "source": [
    "## Calculate mean and error bars "
   ]
  },
  {
   "cell_type": "code",
   "execution_count": 47,
   "metadata": {
    "ExecuteTime": {
     "end_time": "2020-09-24T03:08:01.420371Z",
     "start_time": "2020-09-24T03:08:01.098726Z"
    }
   },
   "outputs": [
    {
     "name": "stdout",
     "output_type": "stream",
     "text": [
      "S1\n",
      "S3\n",
      "S4\n",
      "S6\n",
      "S7\n",
      "S8\n",
      "s9\n",
      "s10\n",
      "s11\n",
      "s12\n",
      "s13\n",
      "s14\n",
      "s15\n"
     ]
    }
   ],
   "source": [
    "alldata_trimed = pd.DataFrame()\n",
    "alldata = pd.DataFrame(columns=['SUBJECT', 'BOOTSTRAP_VALUES'])\n",
    "\n",
    "row = 0\n",
    "for subject in subject_names:\n",
    "    subjectdata_temp = pd.DataFrame()\n",
    "    \n",
    "    # load data:\n",
    "    subjectdata = pd.read_csv(datapath + subject + '/' + subject + '_VM_output_-1nBack.csv')\n",
    "    subjectdata_temp['BOOTSTRAP_VALUES'] = subjectdata['bootstrap_values']\n",
    "    subjectdata_temp.loc[:, 'SUBJECT'] = subject\n",
    "    \n",
    "    print(subject)\n",
    "    alldata_trimed.loc[row,'SUBJECT'] = subject\n",
    "    \n",
    "    mean, ci_low, ci_up = mean_confidence_interval.confidence_interval_percentile(subjectdata['bootstrap_values'])\n",
    "    \n",
    "    alldata_trimed.loc[row, 'BOOTSTRAP_MEAN'] = mean\n",
    "    alldata_trimed.loc[row, 'BOOTSTRAP_CI_LOW'] = ci_low\n",
    "    alldata_trimed.loc[row, 'BOOTSTRAP_CI_UP'] = ci_up\n",
    "    \n",
    "    if subject == 'S1':\n",
    "        alldata = subjectdata_temp\n",
    "    else:\n",
    "        alldata = pd.concat([alldata, subjectdata_temp])\n",
    "    \n",
    "    row += 1\n",
    "    "
   ]
  },
  {
   "cell_type": "markdown",
   "metadata": {},
   "source": [
    "## Organize error bars "
   ]
  },
  {
   "cell_type": "code",
   "execution_count": 48,
   "metadata": {
    "ExecuteTime": {
     "end_time": "2020-09-24T03:08:01.495854Z",
     "start_time": "2020-09-24T03:08:01.424017Z"
    }
   },
   "outputs": [
    {
     "name": "stdout",
     "output_type": "stream",
     "text": [
      "0\n",
      "1\n",
      "2\n",
      "3\n",
      "4\n",
      "5\n",
      "6\n",
      "7\n",
      "8\n",
      "9\n",
      "10\n",
      "11\n",
      "12\n"
     ]
    }
   ],
   "source": [
    "alldata_trimed_ci = pd.DataFrame(columns= subject_names)\n",
    "for i in range(len(alldata_trimed)):\n",
    "    \n",
    "    print(i)\n",
    "    subject = alldata_trimed.loc[i, 'SUBJECT']\n",
    "    low = alldata_trimed.loc[i, 'BOOTSTRAP_MEAN'] - alldata_trimed.loc[i, 'BOOTSTRAP_CI_LOW']\n",
    "    up = alldata_trimed.loc[i, 'BOOTSTRAP_CI_UP'] - alldata_trimed.loc[i, 'BOOTSTRAP_MEAN'] \n",
    "    \n",
    "    alldata_trimed_ci.loc[0, subject] = low\n",
    "    alldata_trimed_ci.loc[1, subject] = up"
   ]
  },
  {
   "cell_type": "markdown",
   "metadata": {},
   "source": [
    "# Plot Fig 3 "
   ]
  },
  {
   "cell_type": "code",
   "execution_count": 49,
   "metadata": {
    "ExecuteTime": {
     "end_time": "2020-09-24T03:08:01.941881Z",
     "start_time": "2020-09-24T03:08:01.501720Z"
    }
   },
   "outputs": [
    {
     "data": {
      "image/png": "[encoded data removed]",
      "text/plain": [
       "<Figure size 720x432 with 1 Axes>"
      ]
     },
     "metadata": {
      "needs_background": "light"
     },
     "output_type": "display_data"
    }
   ],
   "source": [
    "plt.figure(figsize=(10, 6))\n",
    "\n",
    "plt.bar(alldata_trimed['SUBJECT'], alldata_trimed['BOOTSTRAP_MEAN'], yerr=alldata_trimed['BOOTSTRAP_CI_LOW'].to_numpy(), ecolor='black',\n",
    "       capsize=6, color = 'darkgray')\n",
    "plt.savefig('TrialsForward_HalfAmplitude_radiologists_v1.eps', bbox_inches='tight', dpi=1200)\n",
    "plt.savefig('TrialsForward_HalfAmplitude_radiologists_v1.svg', bbox_inches='tight', dpi=1200)"
   ]
  },
  {
   "cell_type": "markdown",
   "metadata": {},
   "source": [
    "## Subject 13: checking distribution and error bars "
   ]
  },
  {
   "cell_type": "code",
   "execution_count": 50,
   "metadata": {
    "ExecuteTime": {
     "end_time": "2020-09-24T03:08:02.229927Z",
     "start_time": "2020-09-24T03:08:01.944129Z"
    }
   },
   "outputs": [
    {
     "data": {
      "text/plain": [
       "<matplotlib.lines.Line2D at 0x7f876a3e5fd0>"
      ]
     },
     "execution_count": 50,
     "metadata": {},
     "output_type": "execute_result"
    },
    {
     "data": {
      "image/png": "[encoded data removed]",
      "text/plain": [
       "<Figure size 720x432 with 1 Axes>"
      ]
     },
     "metadata": {
      "needs_background": "light"
     },
     "output_type": "display_data"
    }
   ],
   "source": [
    "plt.figure(figsize=(10, 6))\n",
    "weirddata = alldata[alldata['SUBJECT'] == 's13']\n",
    "sorteddata = sorted(weirddata['BOOTSTRAP_VALUES'])\n",
    "mean = np.mean(weirddata['BOOTSTRAP_VALUES'])\n",
    "\n",
    "position_top = int(0.97*len(weirddata['BOOTSTRAP_VALUES']))\n",
    "position_bottom = int(0.025*len(weirddata['BOOTSTRAP_VALUES']))\n",
    "\n",
    "ci_low = sorteddata[position_bottom]\n",
    "ci_up = sorteddata[position_top]\n",
    "\n",
    "\n",
    "plt.hist(weirddata['BOOTSTRAP_VALUES'], 100)\n",
    "plt.axvline(x=mean, linestyle='--', linewidth=2.5, label=\"sample mean\", c='orange')\n",
    "plt.axvline(x=ci_low, linestyle='--', linewidth=2.5, label=\"lower bound 95% CI (sample_mean - 1.96*SE)\", c='g')\n",
    "plt.axvline(x=ci_up, linestyle='--', linewidth=2.5, label=\"upper bound 95% CI (sample_mean + 1.96*SE)\", c='purple')\n"
   ]
  },
  {
   "cell_type": "markdown",
   "metadata": {},
   "source": [
    "# Plot Fig 3 v2 "
   ]
  },
  {
   "cell_type": "markdown",
   "metadata": {},
   "source": [
    "3 bars, for 1-back, 2-back and 3-back (group bootstrap)\n",
    "on top of each bar, the boostrap means as mini circles"
   ]
  },
  {
   "cell_type": "code",
   "execution_count": 51,
   "metadata": {
    "ExecuteTime": {
     "end_time": "2020-09-24T03:08:02.237099Z",
     "start_time": "2020-09-24T03:08:02.233743Z"
    }
   },
   "outputs": [],
   "source": [
    "nTypes = ['1', '2', '3']\n",
    "subject_names = ['S1', 'S3', 'S4', 'S6', 'S7', 'S8', 's9', 's10', 's11', 's12', 's13', 's14', 's15']"
   ]
  },
  {
   "cell_type": "code",
   "execution_count": 52,
   "metadata": {
    "ExecuteTime": {
     "end_time": "2020-09-24T03:08:02.922086Z",
     "start_time": "2020-09-24T03:08:02.241595Z"
    }
   },
   "outputs": [
    {
     "name": "stdout",
     "output_type": "stream",
     "text": [
      "S1\n",
      "S3\n",
      "S4\n",
      "S6\n",
      "S7\n",
      "S8\n",
      "s9\n",
      "s10\n",
      "s11\n",
      "s12\n",
      "s13\n",
      "s14\n",
      "s15\n",
      "13\n",
      "S1\n",
      "S3\n",
      "S4\n",
      "S6\n",
      "S7\n",
      "S8\n",
      "s9\n",
      "s10\n",
      "s11\n",
      "s12\n",
      "s13\n",
      "s14\n",
      "s15\n",
      "13\n",
      "S1\n",
      "S3\n",
      "S4\n",
      "S6\n",
      "S7\n",
      "S8\n",
      "s9\n",
      "s10\n",
      "s11\n",
      "s12\n",
      "s13\n",
      "s14\n",
      "s15\n",
      "13\n"
     ]
    }
   ],
   "source": [
    "subject_names = ['S1', 'S3', 'S4', 'S6', 'S7', 'S8', 's9', 's10', 's11', 's12', 's13', 's14', 's15']\n",
    "\n",
    "alldata_v2 = pd.DataFrame(columns=['SUBJECT', 'BOOTSTRAP_VALUES'])\n",
    "ntype_data_trimed = pd.DataFrame()\n",
    "ntype_data = pd.DataFrame()\n",
    "\n",
    "row_type = 0\n",
    "for ntype in nTypes:\n",
    "    row = 0\n",
    "    alldata_trimed_v2 = pd.DataFrame()\n",
    "    for subject in subject_names:\n",
    "        subjectdata_temp = pd.DataFrame()\n",
    "\n",
    "        # load data:\n",
    "        filename = datapath + subject + '/' + subject + '_VM_output_-' + ntype + 'nBack.csv'\n",
    "        subjectdata = pd.read_csv(filename)\n",
    "        subjectdata_temp['BOOTSTRAP_VALUES'] = subjectdata['bootstrap_values']\n",
    "        subjectdata_temp.loc[:, 'SUBJECT'] = subject\n",
    "        subjectdata_temp.loc[:, 'NTYPE'] = ntype\n",
    "\n",
    "        print(subject)\n",
    "        alldata_trimed_v2.loc[row,'SUBJECT'] = subject\n",
    "\n",
    "        mean, ci_low, ci_up = mean_confidence_interval.confidence_interval_percentile(subjectdata['bootstrap_values'])\n",
    "        \n",
    "        alldata_trimed_v2.loc[row, 'NTYPE'] = ntype\n",
    "        alldata_trimed_v2.loc[row, 'BOOTSTRAP_MEAN'] = mean\n",
    "        alldata_trimed_v2.loc[row, 'BOOTSTRAP_CI_LOW'] = ci_low\n",
    "        alldata_trimed_v2.loc[row, 'BOOTSTRAP_CI_UP'] = ci_up\n",
    "\n",
    "#         if subject == 'S1':\n",
    "#             alldata_v2 = subjectdata_temp\n",
    "#         else:\n",
    "#             alldata_v2 = pd.concat([alldata_v2, subjectdata_temp])\n",
    "\n",
    "        row += 1\n",
    "    \n",
    "    if ntype == '1':\n",
    "        ntype_data = alldata_trimed_v2\n",
    "        \n",
    "    else:\n",
    "        ntype_data = pd.concat([ntype_data, alldata_trimed_v2])\n",
    "        \n",
    "    print(len(alldata_trimed_v2))\n",
    "    mean_type, ci_low_type, ci_up_type = mean_confidence_interval.mean_confidence_interval(alldata_trimed_v2['BOOTSTRAP_MEAN'])\n",
    "    ntype_data_trimed.loc[row_type, 'NTYPE'] = alldata_trimed_v2.NTYPE.unique()\n",
    "    ntype_data_trimed.loc[row_type, 'NTYPE_MEAN'] = mean_type\n",
    "    ntype_data_trimed.loc[row_type, 'NTYPE_CI_LOW'] = ci_low_type\n",
    "    ntype_data_trimed.loc[row_type, 'NTYPE_CI_UP'] = ci_up_type\n",
    "    \n",
    "    row_type += 1\n",
    "    \n",
    "\n",
    "    \n",
    "    \n",
    "        \n"
   ]
  },
  {
   "cell_type": "code",
   "execution_count": 53,
   "metadata": {
    "ExecuteTime": {
     "end_time": "2020-09-24T03:08:02.935002Z",
     "start_time": "2020-09-24T03:08:02.924582Z"
    }
   },
   "outputs": [
    {
     "name": "stdout",
     "output_type": "stream",
     "text": [
      "0\n",
      "1\n",
      "2\n"
     ]
    }
   ],
   "source": [
    "alldata_ci_v2 = pd.DataFrame(columns= nTypes)\n",
    "for i in range(len(ntype_data_trimed)):\n",
    "    \n",
    "    print(i)\n",
    "    ntype = ntype_data_trimed.loc[i, 'NTYPE']\n",
    "    low = ntype_data_trimed.loc[i, 'NTYPE_MEAN'] - ntype_data_trimed.loc[i, 'NTYPE_CI_LOW']\n",
    "    up = ntype_data_trimed.loc[i, 'NTYPE_CI_UP'] - ntype_data_trimed.loc[i, 'NTYPE_MEAN'] \n",
    "    \n",
    "    alldata_ci_v2.loc[0, ntype] = low\n",
    "    alldata_ci_v2.loc[1, ntype] = up"
   ]
  },
  {
   "cell_type": "code",
   "execution_count": 54,
   "metadata": {
    "ExecuteTime": {
     "end_time": "2020-09-24T03:08:03.531279Z",
     "start_time": "2020-09-24T03:08:02.940813Z"
    }
   },
   "outputs": [
    {
     "name": "stderr",
     "output_type": "stream",
     "text": [
      "The PostScript backend does not support transparency; partially transparent artists will be rendered opaque.\n",
      "The PostScript backend does not support transparency; partially transparent artists will be rendered opaque.\n",
      "The PostScript backend does not support transparency; partially transparent artists will be rendered opaque.\n",
      "The PostScript backend does not support transparency; partially transparent artists will be rendered opaque.\n",
      "The PostScript backend does not support transparency; partially transparent artists will be rendered opaque.\n",
      "The PostScript backend does not support transparency; partially transparent artists will be rendered opaque.\n",
      "The PostScript backend does not support transparency; partially transparent artists will be rendered opaque.\n",
      "The PostScript backend does not support transparency; partially transparent artists will be rendered opaque.\n",
      "The PostScript backend does not support transparency; partially transparent artists will be rendered opaque.\n",
      "The PostScript backend does not support transparency; partially transparent artists will be rendered opaque.\n",
      "The PostScript backend does not support transparency; partially transparent artists will be rendered opaque.\n",
      "The PostScript backend does not support transparency; partially transparent artists will be rendered opaque.\n",
      "The PostScript backend does not support transparency; partially transparent artists will be rendered opaque.\n",
      "The PostScript backend does not support transparency; partially transparent artists will be rendered opaque.\n",
      "The PostScript backend does not support transparency; partially transparent artists will be rendered opaque.\n",
      "The PostScript backend does not support transparency; partially transparent artists will be rendered opaque.\n",
      "The PostScript backend does not support transparency; partially transparent artists will be rendered opaque.\n",
      "The PostScript backend does not support transparency; partially transparent artists will be rendered opaque.\n",
      "The PostScript backend does not support transparency; partially transparent artists will be rendered opaque.\n",
      "The PostScript backend does not support transparency; partially transparent artists will be rendered opaque.\n",
      "The PostScript backend does not support transparency; partially transparent artists will be rendered opaque.\n",
      "The PostScript backend does not support transparency; partially transparent artists will be rendered opaque.\n",
      "The PostScript backend does not support transparency; partially transparent artists will be rendered opaque.\n",
      "The PostScript backend does not support transparency; partially transparent artists will be rendered opaque.\n",
      "The PostScript backend does not support transparency; partially transparent artists will be rendered opaque.\n",
      "The PostScript backend does not support transparency; partially transparent artists will be rendered opaque.\n",
      "The PostScript backend does not support transparency; partially transparent artists will be rendered opaque.\n",
      "The PostScript backend does not support transparency; partially transparent artists will be rendered opaque.\n",
      "The PostScript backend does not support transparency; partially transparent artists will be rendered opaque.\n",
      "The PostScript backend does not support transparency; partially transparent artists will be rendered opaque.\n",
      "The PostScript backend does not support transparency; partially transparent artists will be rendered opaque.\n",
      "The PostScript backend does not support transparency; partially transparent artists will be rendered opaque.\n",
      "The PostScript backend does not support transparency; partially transparent artists will be rendered opaque.\n",
      "The PostScript backend does not support transparency; partially transparent artists will be rendered opaque.\n",
      "The PostScript backend does not support transparency; partially transparent artists will be rendered opaque.\n",
      "The PostScript backend does not support transparency; partially transparent artists will be rendered opaque.\n",
      "The PostScript backend does not support transparency; partially transparent artists will be rendered opaque.\n",
      "The PostScript backend does not support transparency; partially transparent artists will be rendered opaque.\n",
      "The PostScript backend does not support transparency; partially transparent artists will be rendered opaque.\n",
      "The PostScript backend does not support transparency; partially transparent artists will be rendered opaque.\n",
      "The PostScript backend does not support transparency; partially transparent artists will be rendered opaque.\n",
      "The PostScript backend does not support transparency; partially transparent artists will be rendered opaque.\n",
      "The PostScript backend does not support transparency; partially transparent artists will be rendered opaque.\n",
      "The PostScript backend does not support transparency; partially transparent artists will be rendered opaque.\n",
      "The PostScript backend does not support transparency; partially transparent artists will be rendered opaque.\n",
      "The PostScript backend does not support transparency; partially transparent artists will be rendered opaque.\n",
      "The PostScript backend does not support transparency; partially transparent artists will be rendered opaque.\n",
      "The PostScript backend does not support transparency; partially transparent artists will be rendered opaque.\n",
      "The PostScript backend does not support transparency; partially transparent artists will be rendered opaque.\n",
      "The PostScript backend does not support transparency; partially transparent artists will be rendered opaque.\n",
      "The PostScript backend does not support transparency; partially transparent artists will be rendered opaque.\n",
      "The PostScript backend does not support transparency; partially transparent artists will be rendered opaque.\n",
      "The PostScript backend does not support transparency; partially transparent artists will be rendered opaque.\n",
      "The PostScript backend does not support transparency; partially transparent artists will be rendered opaque.\n",
      "The PostScript backend does not support transparency; partially transparent artists will be rendered opaque.\n",
      "The PostScript backend does not support transparency; partially transparent artists will be rendered opaque.\n",
      "The PostScript backend does not support transparency; partially transparent artists will be rendered opaque.\n",
      "The PostScript backend does not support transparency; partially transparent artists will be rendered opaque.\n",
      "The PostScript backend does not support transparency; partially transparent artists will be rendered opaque.\n",
      "The PostScript backend does not support transparency; partially transparent artists will be rendered opaque.\n",
      "The PostScript backend does not support transparency; partially transparent artists will be rendered opaque.\n",
      "The PostScript backend does not support transparency; partially transparent artists will be rendered opaque.\n",
      "The PostScript backend does not support transparency; partially transparent artists will be rendered opaque.\n",
      "The PostScript backend does not support transparency; partially transparent artists will be rendered opaque.\n",
      "The PostScript backend does not support transparency; partially transparent artists will be rendered opaque.\n",
      "The PostScript backend does not support transparency; partially transparent artists will be rendered opaque.\n",
      "The PostScript backend does not support transparency; partially transparent artists will be rendered opaque.\n",
      "The PostScript backend does not support transparency; partially transparent artists will be rendered opaque.\n",
      "The PostScript backend does not support transparency; partially transparent artists will be rendered opaque.\n",
      "The PostScript backend does not support transparency; partially transparent artists will be rendered opaque.\n",
      "The PostScript backend does not support transparency; partially transparent artists will be rendered opaque.\n",
      "The PostScript backend does not support transparency; partially transparent artists will be rendered opaque.\n",
      "The PostScript backend does not support transparency; partially transparent artists will be rendered opaque.\n",
      "The PostScript backend does not support transparency; partially transparent artists will be rendered opaque.\n",
      "The PostScript backend does not support transparency; partially transparent artists will be rendered opaque.\n",
      "The PostScript backend does not support transparency; partially transparent artists will be rendered opaque.\n"
     ]
    },
    {
     "name": "stderr",
     "output_type": "stream",
     "text": [
      "The PostScript backend does not support transparency; partially transparent artists will be rendered opaque.\n",
      "The PostScript backend does not support transparency; partially transparent artists will be rendered opaque.\n"
     ]
    },
    {
     "data": {
      "image/png": "[encoded data removed]",
      "text/plain": [
       "<Figure size 720x432 with 1 Axes>"
      ]
     },
     "metadata": {
      "needs_background": "light"
     },
     "output_type": "display_data"
    }
   ],
   "source": [
    "plt.figure(figsize=(10, 6))\n",
    "\n",
    "plt.bar(ntype_data_trimed['NTYPE'], ntype_data_trimed['NTYPE_MEAN'], yerr=alldata_ci_v2.to_numpy(), ecolor='black',\n",
    "       capsize=6, color = 'darkgray')\n",
    "ax = sns.swarmplot(x='NTYPE', y=\"BOOTSTRAP_MEAN\", data=ntype_data, dodge=True, size=10, alpha=0.7)\n",
    "plt.savefig('TrialsForward_HalfAmplitude_radiologists_v2.eps', bbox_inches='tight', dpi=1200)\n",
    "plt.savefig('TrialsForward_HalfAmplitude_radiologists_v2.svg', bbox_inches='tight', dpi=1200)"
   ]
  },
  {
   "cell_type": "markdown",
   "metadata": {},
   "source": [
    "#  Plot Fig 3 v3"
   ]
  },
  {
   "cell_type": "code",
   "execution_count": 55,
   "metadata": {
    "ExecuteTime": {
     "end_time": "2020-09-24T03:11:45.346475Z",
     "start_time": "2020-09-24T03:08:03.534054Z"
    }
   },
   "outputs": [
    {
     "name": "stdout",
     "output_type": "stream",
     "text": [
      "S1\n",
      "S3\n",
      "S4\n",
      "S6\n",
      "S7\n",
      "S8\n",
      "s9\n",
      "s10\n",
      "s11\n",
      "s12\n",
      "s13\n",
      "s14\n",
      "s15\n",
      "S1\n",
      "S3\n",
      "S4\n",
      "S6\n",
      "S7\n",
      "S8\n",
      "s9\n",
      "s10\n",
      "s11\n",
      "s12\n",
      "s13\n",
      "s14\n",
      "s15\n",
      "S1\n",
      "S3\n",
      "S4\n",
      "S6\n",
      "S7\n",
      "S8\n",
      "s9\n",
      "s10\n",
      "s11\n",
      "s12\n",
      "s13\n",
      "s14\n",
      "s15\n"
     ]
    }
   ],
   "source": [
    "subject_names = ['S1', 'S3', 'S4', 'S6', 'S7', 'S8', 's9', 's10', 's11', 's12', 's13', 's14', 's15']\n",
    "nTypes = ['1', '2', '3']\n",
    "\n",
    "# alldata_v2 = pd.DataFrame(columns=['SUBJECT', 'BOOTSTRAP_VALUES'])\n",
    "# ntype_data_trimed = pd.DataFrame()\n",
    "# bootstrap_data = pd.DataFrame(columns=)\n",
    "bootstrap_data = pd.DataFrame()\n",
    "row_subject = 0\n",
    "for ntype in nTypes:\n",
    "    for subject in subject_names:\n",
    "        print(subject)\n",
    "        subjectdata_temp = pd.DataFrame()\n",
    "\n",
    "        # load data:\n",
    "        filename = datapath + subject + '/' + subject + '_VM_output_-' + ntype + 'nBack.csv'\n",
    "        subjectdata = pd.read_csv(filename)\n",
    "        subjectdata_temp.loc[row_subject, 'SUBJECT'] = subject\n",
    "        subjectdata_temp.loc[row_subject, 'TYPE'] = ntype\n",
    "\n",
    "        for iteration in range(len(subjectdata['bootstrap_values'])):\n",
    "            \n",
    "            subjectdata_temp.loc[row_subject, str(iteration)] = subjectdata.loc[iteration, 'bootstrap_values']\n",
    "\n",
    "#         alldata_trimed_v2.loc[row,'SUBJECT'] = subject\n",
    "\n",
    "#         mean, ci_low, ci_up = mean_confidence_interval.confidence_interval_percentile(subjectdata['bootstrap_values'])\n",
    "        \n",
    "#         alldata_trimed_v2.loc[row, 'NTYPE'] = ntype\n",
    "#         alldata_trimed_v2.loc[row, 'BOOTSTRAP_MEAN'] = mean\n",
    "#         alldata_trimed_v2.loc[row, 'BOOTSTRAP_CI_LOW'] = ci_low\n",
    "#         alldata_trimed_v2.loc[row, 'BOOTSTRAP_CI_UP'] = ci_up\n",
    "\n",
    "\n",
    "    \n",
    "        if (ntype == '1') & (subject == 'S1'):\n",
    "            bootstrap_data = subjectdata_temp\n",
    "\n",
    "        else:\n",
    "            bootstrap_data = pd.concat([bootstrap_data, subjectdata_temp])\n",
    "            \n",
    "        row_subject += 1\n",
    "\n",
    "        \n",
    "    \n",
    "#     mean_type, ci_low_type, ci_up_type = mean_confidence_interval.mean_confidence_interval(alldata_trimed_v2['BOOTSTRAP_MEAN'])\n",
    "#     ntype_data_trimed.loc[row_type, 'NTYPE'] = alldata_trimed_v2.NTYPE.unique()\n",
    "#     ntype_data_trimed.loc[row_type, 'NTYPE_MEAN'] = mean_type\n",
    "#     ntype_data_trimed.loc[row_type, 'NTYPE_CI_LOW'] = ci_low_type\n",
    "#     ntype_data_trimed.loc[row_type, 'NTYPE_CI_UP'] = ci_up_type\n",
    "    \n",
    "#     row_type += 1\n",
    "    \n",
    "\n",
    "    \n",
    "    \n",
    "        \n"
   ]
  },
  {
   "cell_type": "code",
   "execution_count": 56,
   "metadata": {
    "ExecuteTime": {
     "end_time": "2020-09-24T03:12:02.592766Z",
     "start_time": "2020-09-24T03:11:45.348717Z"
    }
   },
   "outputs": [
    {
     "name": "stdout",
     "output_type": "stream",
     "text": [
      "1\n",
      "2\n",
      "3\n"
     ]
    }
   ],
   "source": [
    "bootstrap_trimed = pd.DataFrame()\n",
    "\n",
    "row = 0\n",
    "for ntype in nTypes:\n",
    "    \n",
    "    print(ntype)\n",
    "    type_data = bootstrap_data[bootstrap_data['TYPE'] == ntype]\n",
    "    \n",
    "    for iteration in range(5000):\n",
    "        \n",
    "        column = str(iteration)\n",
    "        \n",
    "        bootstrap_trimed.loc[row,'TYPE'] = ntype\n",
    "        bootstrap_trimed.loc[row, column] = np.mean(type_data[column])\n",
    "        \n",
    "    \n",
    "    row += 1"
   ]
  },
  {
   "cell_type": "code",
   "execution_count": 57,
   "metadata": {
    "ExecuteTime": {
     "end_time": "2020-09-24T03:12:02.712286Z",
     "start_time": "2020-09-24T03:12:02.594831Z"
    }
   },
   "outputs": [],
   "source": [
    "type_v3 = pd.DataFrame()\n",
    "row=0\n",
    "for ntype in nTypes:\n",
    "    \n",
    "    type_data = bootstrap_trimed[bootstrap_trimed['TYPE'] == ntype].reset_index(drop=True)\n",
    "    mean, ci_low, ci_up = mean_confidence_interval.confidence_interval_percentile(type_data.iloc[0, 1:])\n",
    "    \n",
    "    type_v3.loc[row, 'TYPE'] = ntype\n",
    "    type_v3.loc[row, 'MEAN'] = mean\n",
    "    type_v3.loc[row, 'CI_LOW'] = ci_low\n",
    "    type_v3.loc[row, 'CI_UP'] = ci_up\n",
    "    \n",
    "    row += 1\n",
    "    "
   ]
  },
  {
   "cell_type": "code",
   "execution_count": 58,
   "metadata": {
    "ExecuteTime": {
     "end_time": "2020-09-24T03:12:02.730476Z",
     "start_time": "2020-09-24T03:12:02.716143Z"
    }
   },
   "outputs": [
    {
     "name": "stdout",
     "output_type": "stream",
     "text": [
      "0\n",
      "1\n",
      "2\n"
     ]
    }
   ],
   "source": [
    "alldata_ci_v3 = pd.DataFrame(columns= nTypes)\n",
    "for i in range(len(type_v3)):\n",
    "    \n",
    "    print(i)\n",
    "    ntype = type_v3.loc[i, 'TYPE']\n",
    "    low = type_v3.loc[i, 'MEAN'] - type_v3.loc[i, 'CI_LOW']\n",
    "    up = type_v3.loc[i, 'CI_UP'] - type_v3.loc[i, 'MEAN'] \n",
    "    \n",
    "    alldata_ci_v3.loc[0, ntype] = low\n",
    "    alldata_ci_v3.loc[1, ntype] = up"
   ]
  },
  {
   "cell_type": "code",
   "execution_count": 59,
   "metadata": {
    "ExecuteTime": {
     "end_time": "2020-09-24T03:12:28.831796Z",
     "start_time": "2020-09-24T03:12:02.734178Z"
    }
   },
   "outputs": [],
   "source": [
    "boostrap_trimed_reorganized = pd.DataFrame()\n",
    "row = 0\n",
    "for ntype in nTypes:\n",
    "    \n",
    "    type_data = bootstrap_trimed[bootstrap_trimed['TYPE'] == ntype].reset_index(drop=True)\n",
    "\n",
    "    for iteration in range(5000):\n",
    "        \n",
    "        \n",
    "        boostrap_trimed_reorganized.loc[row, 'TYPE'] = ntype\n",
    "        boostrap_trimed_reorganized.loc[row, 'BOOSTRAP_MEAN'] = type_data.loc[0, str(iteration)]\n",
    "        \n",
    "        \n",
    "        row += 1\n",
    "        \n",
    "        "
   ]
  },
  {
   "cell_type": "code",
   "execution_count": 60,
   "metadata": {
    "ExecuteTime": {
     "end_time": "2020-09-24T03:12:31.008607Z",
     "start_time": "2020-09-24T03:12:28.833723Z"
    },
    "scrolled": false
   },
   "outputs": [
    {
     "name": "stderr",
     "output_type": "stream",
     "text": [
      "The PostScript backend does not support transparency; partially transparent artists will be rendered opaque.\n",
      "The PostScript backend does not support transparency; partially transparent artists will be rendered opaque.\n",
      "The PostScript backend does not support transparency; partially transparent artists will be rendered opaque.\n",
      "The PostScript backend does not support transparency; partially transparent artists will be rendered opaque.\n",
      "The PostScript backend does not support transparency; partially transparent artists will be rendered opaque.\n",
      "The PostScript backend does not support transparency; partially transparent artists will be rendered opaque.\n",
      "The PostScript backend does not support transparency; partially transparent artists will be rendered opaque.\n",
      "The PostScript backend does not support transparency; partially transparent artists will be rendered opaque.\n",
      "The PostScript backend does not support transparency; partially transparent artists will be rendered opaque.\n",
      "The PostScript backend does not support transparency; partially transparent artists will be rendered opaque.\n",
      "The PostScript backend does not support transparency; partially transparent artists will be rendered opaque.\n",
      "The PostScript backend does not support transparency; partially transparent artists will be rendered opaque.\n",
      "The PostScript backend does not support transparency; partially transparent artists will be rendered opaque.\n",
      "The PostScript backend does not support transparency; partially transparent artists will be rendered opaque.\n",
      "The PostScript backend does not support transparency; partially transparent artists will be rendered opaque.\n",
      "The PostScript backend does not support transparency; partially transparent artists will be rendered opaque.\n",
      "The PostScript backend does not support transparency; partially transparent artists will be rendered opaque.\n",
      "The PostScript backend does not support transparency; partially transparent artists will be rendered opaque.\n",
      "The PostScript backend does not support transparency; partially transparent artists will be rendered opaque.\n",
      "The PostScript backend does not support transparency; partially transparent artists will be rendered opaque.\n",
      "The PostScript backend does not support transparency; partially transparent artists will be rendered opaque.\n",
      "The PostScript backend does not support transparency; partially transparent artists will be rendered opaque.\n",
      "The PostScript backend does not support transparency; partially transparent artists will be rendered opaque.\n",
      "The PostScript backend does not support transparency; partially transparent artists will be rendered opaque.\n",
      "The PostScript backend does not support transparency; partially transparent artists will be rendered opaque.\n",
      "The PostScript backend does not support transparency; partially transparent artists will be rendered opaque.\n",
      "The PostScript backend does not support transparency; partially transparent artists will be rendered opaque.\n",
      "The PostScript backend does not support transparency; partially transparent artists will be rendered opaque.\n",
      "The PostScript backend does not support transparency; partially transparent artists will be rendered opaque.\n",
      "The PostScript backend does not support transparency; partially transparent artists will be rendered opaque.\n",
      "The PostScript backend does not support transparency; partially transparent artists will be rendered opaque.\n",
      "The PostScript backend does not support transparency; partially transparent artists will be rendered opaque.\n",
      "The PostScript backend does not support transparency; partially transparent artists will be rendered opaque.\n",
      "The PostScript backend does not support transparency; partially transparent artists will be rendered opaque.\n",
      "The PostScript backend does not support transparency; partially transparent artists will be rendered opaque.\n",
      "The PostScript backend does not support transparency; partially transparent artists will be rendered opaque.\n",
      "The PostScript backend does not support transparency; partially transparent artists will be rendered opaque.\n",
      "The PostScript backend does not support transparency; partially transparent artists will be rendered opaque.\n",
      "The PostScript backend does not support transparency; partially transparent artists will be rendered opaque.\n",
      "The PostScript backend does not support transparency; partially transparent artists will be rendered opaque.\n",
      "The PostScript backend does not support transparency; partially transparent artists will be rendered opaque.\n",
      "The PostScript backend does not support transparency; partially transparent artists will be rendered opaque.\n",
      "The PostScript backend does not support transparency; partially transparent artists will be rendered opaque.\n",
      "The PostScript backend does not support transparency; partially transparent artists will be rendered opaque.\n",
      "The PostScript backend does not support transparency; partially transparent artists will be rendered opaque.\n",
      "The PostScript backend does not support transparency; partially transparent artists will be rendered opaque.\n",
      "The PostScript backend does not support transparency; partially transparent artists will be rendered opaque.\n",
      "The PostScript backend does not support transparency; partially transparent artists will be rendered opaque.\n",
      "The PostScript backend does not support transparency; partially transparent artists will be rendered opaque.\n",
      "The PostScript backend does not support transparency; partially transparent artists will be rendered opaque.\n",
      "The PostScript backend does not support transparency; partially transparent artists will be rendered opaque.\n",
      "The PostScript backend does not support transparency; partially transparent artists will be rendered opaque.\n",
      "The PostScript backend does not support transparency; partially transparent artists will be rendered opaque.\n",
      "The PostScript backend does not support transparency; partially transparent artists will be rendered opaque.\n",
      "The PostScript backend does not support transparency; partially transparent artists will be rendered opaque.\n",
      "The PostScript backend does not support transparency; partially transparent artists will be rendered opaque.\n",
      "The PostScript backend does not support transparency; partially transparent artists will be rendered opaque.\n",
      "The PostScript backend does not support transparency; partially transparent artists will be rendered opaque.\n",
      "The PostScript backend does not support transparency; partially transparent artists will be rendered opaque.\n",
      "The PostScript backend does not support transparency; partially transparent artists will be rendered opaque.\n",
      "The PostScript backend does not support transparency; partially transparent artists will be rendered opaque.\n",
      "The PostScript backend does not support transparency; partially transparent artists will be rendered opaque.\n",
      "The PostScript backend does not support transparency; partially transparent artists will be rendered opaque.\n",
      "The PostScript backend does not support transparency; partially transparent artists will be rendered opaque.\n",
      "The PostScript backend does not support transparency; partially transparent artists will be rendered opaque.\n",
      "The PostScript backend does not support transparency; partially transparent artists will be rendered opaque.\n",
      "The PostScript backend does not support transparency; partially transparent artists will be rendered opaque.\n",
      "The PostScript backend does not support transparency; partially transparent artists will be rendered opaque.\n",
      "The PostScript backend does not support transparency; partially transparent artists will be rendered opaque.\n",
      "The PostScript backend does not support transparency; partially transparent artists will be rendered opaque.\n",
      "The PostScript backend does not support transparency; partially transparent artists will be rendered opaque.\n",
      "The PostScript backend does not support transparency; partially transparent artists will be rendered opaque.\n",
      "The PostScript backend does not support transparency; partially transparent artists will be rendered opaque.\n",
      "The PostScript backend does not support transparency; partially transparent artists will be rendered opaque.\n",
      "The PostScript backend does not support transparency; partially transparent artists will be rendered opaque.\n",
      "The PostScript backend does not support transparency; partially transparent artists will be rendered opaque.\n"
     ]
    },
    {
     "name": "stderr",
     "output_type": "stream",
     "text": [
      "The PostScript backend does not support transparency; partially transparent artists will be rendered opaque.\n",
      "The PostScript backend does not support transparency; partially transparent artists will be rendered opaque.\n",
      "The PostScript backend does not support transparency; partially transparent artists will be rendered opaque.\n",
      "The PostScript backend does not support transparency; partially transparent artists will be rendered opaque.\n",
      "The PostScript backend does not support transparency; partially transparent artists will be rendered opaque.\n",
      "The PostScript backend does not support transparency; partially transparent artists will be rendered opaque.\n",
      "The PostScript backend does not support transparency; partially transparent artists will be rendered opaque.\n",
      "The PostScript backend does not support transparency; partially transparent artists will be rendered opaque.\n",
      "The PostScript backend does not support transparency; partially transparent artists will be rendered opaque.\n",
      "The PostScript backend does not support transparency; partially transparent artists will be rendered opaque.\n",
      "The PostScript backend does not support transparency; partially transparent artists will be rendered opaque.\n",
      "The PostScript backend does not support transparency; partially transparent artists will be rendered opaque.\n",
      "The PostScript backend does not support transparency; partially transparent artists will be rendered opaque.\n",
      "The PostScript backend does not support transparency; partially transparent artists will be rendered opaque.\n",
      "The PostScript backend does not support transparency; partially transparent artists will be rendered opaque.\n",
      "The PostScript backend does not support transparency; partially transparent artists will be rendered opaque.\n",
      "The PostScript backend does not support transparency; partially transparent artists will be rendered opaque.\n",
      "The PostScript backend does not support transparency; partially transparent artists will be rendered opaque.\n",
      "The PostScript backend does not support transparency; partially transparent artists will be rendered opaque.\n",
      "The PostScript backend does not support transparency; partially transparent artists will be rendered opaque.\n",
      "The PostScript backend does not support transparency; partially transparent artists will be rendered opaque.\n",
      "The PostScript backend does not support transparency; partially transparent artists will be rendered opaque.\n",
      "The PostScript backend does not support transparency; partially transparent artists will be rendered opaque.\n",
      "The PostScript backend does not support transparency; partially transparent artists will be rendered opaque.\n",
      "The PostScript backend does not support transparency; partially transparent artists will be rendered opaque.\n",
      "The PostScript backend does not support transparency; partially transparent artists will be rendered opaque.\n",
      "The PostScript backend does not support transparency; partially transparent artists will be rendered opaque.\n",
      "The PostScript backend does not support transparency; partially transparent artists will be rendered opaque.\n",
      "The PostScript backend does not support transparency; partially transparent artists will be rendered opaque.\n",
      "The PostScript backend does not support transparency; partially transparent artists will be rendered opaque.\n",
      "The PostScript backend does not support transparency; partially transparent artists will be rendered opaque.\n",
      "The PostScript backend does not support transparency; partially transparent artists will be rendered opaque.\n",
      "The PostScript backend does not support transparency; partially transparent artists will be rendered opaque.\n",
      "The PostScript backend does not support transparency; partially transparent artists will be rendered opaque.\n",
      "The PostScript backend does not support transparency; partially transparent artists will be rendered opaque.\n",
      "The PostScript backend does not support transparency; partially transparent artists will be rendered opaque.\n",
      "The PostScript backend does not support transparency; partially transparent artists will be rendered opaque.\n",
      "The PostScript backend does not support transparency; partially transparent artists will be rendered opaque.\n",
      "The PostScript backend does not support transparency; partially transparent artists will be rendered opaque.\n",
      "The PostScript backend does not support transparency; partially transparent artists will be rendered opaque.\n",
      "The PostScript backend does not support transparency; partially transparent artists will be rendered opaque.\n",
      "The PostScript backend does not support transparency; partially transparent artists will be rendered opaque.\n",
      "The PostScript backend does not support transparency; partially transparent artists will be rendered opaque.\n",
      "The PostScript backend does not support transparency; partially transparent artists will be rendered opaque.\n",
      "The PostScript backend does not support transparency; partially transparent artists will be rendered opaque.\n",
      "The PostScript backend does not support transparency; partially transparent artists will be rendered opaque.\n",
      "The PostScript backend does not support transparency; partially transparent artists will be rendered opaque.\n",
      "The PostScript backend does not support transparency; partially transparent artists will be rendered opaque.\n",
      "The PostScript backend does not support transparency; partially transparent artists will be rendered opaque.\n",
      "The PostScript backend does not support transparency; partially transparent artists will be rendered opaque.\n",
      "The PostScript backend does not support transparency; partially transparent artists will be rendered opaque.\n",
      "The PostScript backend does not support transparency; partially transparent artists will be rendered opaque.\n",
      "The PostScript backend does not support transparency; partially transparent artists will be rendered opaque.\n",
      "The PostScript backend does not support transparency; partially transparent artists will be rendered opaque.\n",
      "The PostScript backend does not support transparency; partially transparent artists will be rendered opaque.\n",
      "The PostScript backend does not support transparency; partially transparent artists will be rendered opaque.\n",
      "The PostScript backend does not support transparency; partially transparent artists will be rendered opaque.\n",
      "The PostScript backend does not support transparency; partially transparent artists will be rendered opaque.\n",
      "The PostScript backend does not support transparency; partially transparent artists will be rendered opaque.\n",
      "The PostScript backend does not support transparency; partially transparent artists will be rendered opaque.\n",
      "The PostScript backend does not support transparency; partially transparent artists will be rendered opaque.\n",
      "The PostScript backend does not support transparency; partially transparent artists will be rendered opaque.\n",
      "The PostScript backend does not support transparency; partially transparent artists will be rendered opaque.\n",
      "The PostScript backend does not support transparency; partially transparent artists will be rendered opaque.\n",
      "The PostScript backend does not support transparency; partially transparent artists will be rendered opaque.\n",
      "The PostScript backend does not support transparency; partially transparent artists will be rendered opaque.\n",
      "The PostScript backend does not support transparency; partially transparent artists will be rendered opaque.\n",
      "The PostScript backend does not support transparency; partially transparent artists will be rendered opaque.\n",
      "The PostScript backend does not support transparency; partially transparent artists will be rendered opaque.\n",
      "The PostScript backend does not support transparency; partially transparent artists will be rendered opaque.\n",
      "The PostScript backend does not support transparency; partially transparent artists will be rendered opaque.\n",
      "The PostScript backend does not support transparency; partially transparent artists will be rendered opaque.\n",
      "The PostScript backend does not support transparency; partially transparent artists will be rendered opaque.\n",
      "The PostScript backend does not support transparency; partially transparent artists will be rendered opaque.\n",
      "The PostScript backend does not support transparency; partially transparent artists will be rendered opaque.\n",
      "The PostScript backend does not support transparency; partially transparent artists will be rendered opaque.\n"
     ]
    },
    {
     "name": "stderr",
     "output_type": "stream",
     "text": [
      "The PostScript backend does not support transparency; partially transparent artists will be rendered opaque.\n",
      "The PostScript backend does not support transparency; partially transparent artists will be rendered opaque.\n",
      "The PostScript backend does not support transparency; partially transparent artists will be rendered opaque.\n",
      "The PostScript backend does not support transparency; partially transparent artists will be rendered opaque.\n",
      "The PostScript backend does not support transparency; partially transparent artists will be rendered opaque.\n",
      "The PostScript backend does not support transparency; partially transparent artists will be rendered opaque.\n",
      "The PostScript backend does not support transparency; partially transparent artists will be rendered opaque.\n",
      "The PostScript backend does not support transparency; partially transparent artists will be rendered opaque.\n",
      "The PostScript backend does not support transparency; partially transparent artists will be rendered opaque.\n",
      "The PostScript backend does not support transparency; partially transparent artists will be rendered opaque.\n",
      "The PostScript backend does not support transparency; partially transparent artists will be rendered opaque.\n",
      "The PostScript backend does not support transparency; partially transparent artists will be rendered opaque.\n",
      "The PostScript backend does not support transparency; partially transparent artists will be rendered opaque.\n",
      "The PostScript backend does not support transparency; partially transparent artists will be rendered opaque.\n",
      "The PostScript backend does not support transparency; partially transparent artists will be rendered opaque.\n",
      "The PostScript backend does not support transparency; partially transparent artists will be rendered opaque.\n"
     ]
    },
    {
     "data": {
      "image/png": "[encoded data removed]",
      "text/plain": [
       "<Figure size 324x360 with 1 Axes>"
      ]
     },
     "metadata": {
      "needs_background": "light"
     },
     "output_type": "display_data"
    }
   ],
   "source": [
    "plt.figure(figsize=(4.5, 5))\n",
    "\n",
    "plt.bar(type_v3['TYPE'], type_v3['MEAN'], yerr=alldata_ci_v3.to_numpy(), ecolor='black',\n",
    "       capsize=6,color = ['darkgreen', 'forestgreen', 'darkseagreen'], edgecolor='k', alpha=0.9, width=0.6, linewidth=2)\n",
    "# ax = sns.swarmplot(x='TYPE', y=\"BOOSTRAP_MEAN\", data=boostrap_trimed_reorganized, dodge=True, size=10, alpha=0.7)\n",
    "ax = sns.swarmplot(x='NTYPE', y=\"BOOTSTRAP_MEAN\", data=ntype_data, dodge=True, size=7, alpha=0.7,edgecolor='k', linewidth=1, palette=['darkgreen', 'forestgreen', 'darkseagreen'])\n",
    "sns.despine()\n",
    "plt.ylabel('Bootstrapped                 \\nHalf                 \\nAmplitude                   ', rotation=0)\n",
    "plt.xlabel('')\n",
    "plt.ylim([-3, 6])\n",
    "ax.set_xticklabels(['1-Back', '2-Back', '3-Back'])\n",
    "plt.axhline(0, linestyle='-', linewidth=2, c='k')\n",
    "sns.despine()\n",
    "plt.yticks(np.arange(-3, 7, 1.0))\n",
    "plt.savefig('TrialsForward_HalfAmplitude_radiologists_v3.eps', bbox_inches='tight', dpi=1200)\n",
    "plt.savefig('TrialsForward_HalfAmplitude_radiologists_v3.svg', bbox_inches='tight', dpi=1200)\n",
    "plt.savefig('TrialsForward_HalfAmplitude_radiologists_v3.jpg', bbox_inches='tight', dpi=1200)"
   ]
  },
  {
   "cell_type": "markdown",
   "metadata": {},
   "source": [
    "## Test significance of bars "
   ]
  },
  {
   "cell_type": "code",
   "execution_count": 61,
   "metadata": {
    "ExecuteTime": {
     "end_time": "2020-09-24T03:12:31.193078Z",
     "start_time": "2020-09-24T03:12:31.011694Z"
    }
   },
   "outputs": [
    {
     "name": "stdout",
     "output_type": "stream",
     "text": [
      "0.8894\n"
     ]
    },
    {
     "data": {
      "image/png": "[encoded data removed]",
      "text/plain": [
       "<Figure size 360x360 with 1 Axes>"
      ]
     },
     "metadata": {
      "needs_background": "light"
     },
     "output_type": "display_data"
    }
   ],
   "source": [
    "compDistributions.sigDistribution(bootstrap_trimed.iloc[0, 1:], extra_title=' 1-Back Radiologists', xlim=[-5, 10])"
   ]
  },
  {
   "cell_type": "code",
   "execution_count": 62,
   "metadata": {
    "ExecuteTime": {
     "end_time": "2020-09-24T03:12:31.456866Z",
     "start_time": "2020-09-24T03:12:31.195236Z"
    }
   },
   "outputs": [
    {
     "name": "stdout",
     "output_type": "stream",
     "text": [
      "0.9156\n"
     ]
    },
    {
     "data": {
      "image/png": "[encoded data removed]",
      "text/plain": [
       "<Figure size 360x360 with 1 Axes>"
      ]
     },
     "metadata": {
      "needs_background": "light"
     },
     "output_type": "display_data"
    }
   ],
   "source": [
    "compDistributions.sigDistribution(bootstrap_trimed.iloc[1, 1:], extra_title=' 2-Back Radiologists', xlim=[-5, 10])"
   ]
  },
  {
   "cell_type": "code",
   "execution_count": 63,
   "metadata": {
    "ExecuteTime": {
     "end_time": "2020-09-24T03:12:31.605201Z",
     "start_time": "2020-09-24T03:12:31.459172Z"
    }
   },
   "outputs": [
    {
     "name": "stdout",
     "output_type": "stream",
     "text": [
      "0.9044\n"
     ]
    },
    {
     "data": {
      "image/png": "[encoded data removed]",
      "text/plain": [
       "<Figure size 360x360 with 1 Axes>"
      ]
     },
     "metadata": {
      "needs_background": "light"
     },
     "output_type": "display_data"
    }
   ],
   "source": [
    "compDistributions.sigDistribution(bootstrap_trimed.iloc[2, 1:], extra_title=' 3-Back Radiologists', xlim=[-5, 10])"
   ]
  },
  {
   "cell_type": "code",
   "execution_count": 64,
   "metadata": {
    "ExecuteTime": {
     "end_time": "2020-09-24T03:12:33.334530Z",
     "start_time": "2020-09-24T03:12:31.608059Z"
    },
    "scrolled": false
   },
   "outputs": [
    {
     "data": {
      "image/png": "[encoded data removed]",
      "text/plain": [
       "<Figure size 432x288 with 1 Axes>"
      ]
     },
     "metadata": {
      "needs_background": "light"
     },
     "output_type": "display_data"
    },
    {
     "data": {
      "image/png": "[encoded data removed]",
      "text/plain": [
       "<Figure size 432x288 with 1 Axes>"
      ]
     },
     "metadata": {
      "needs_background": "light"
     },
     "output_type": "display_data"
    },
    {
     "data": {
      "image/png": "[encoded data removed]",
      "text/plain": [
       "<Figure size 432x288 with 1 Axes>"
      ]
     },
     "metadata": {
      "needs_background": "light"
     },
     "output_type": "display_data"
    },
    {
     "data": {
      "image/png": "[encoded data removed]",
      "text/plain": [
       "<Figure size 432x288 with 1 Axes>"
      ]
     },
     "metadata": {
      "needs_background": "light"
     },
     "output_type": "display_data"
    },
    {
     "data": {
      "image/png": "[encoded data removed]",
      "text/plain": [
       "<Figure size 432x288 with 1 Axes>"
      ]
     },
     "metadata": {
      "needs_background": "light"
     },
     "output_type": "display_data"
    },
    {
     "data": {
      "image/png": "[encoded data removed]",
      "text/plain": [
       "<Figure size 432x288 with 1 Axes>"
      ]
     },
     "metadata": {
      "needs_background": "light"
     },
     "output_type": "display_data"
    },
    {
     "data": {
      "image/png": "[encoded data removed]",
      "text/plain": [
       "<Figure size 432x288 with 1 Axes>"
      ]
     },
     "metadata": {
      "needs_background": "light"
     },
     "output_type": "display_data"
    },
    {
     "data": {
      "image/png": "[encoded data removed]",
      "text/plain": [
       "<Figure size 432x288 with 1 Axes>"
      ]
     },
     "metadata": {
      "needs_background": "light"
     },
     "output_type": "display_data"
    },
    {
     "data": {
      "image/png": "[encoded data removed]",
      "text/plain": [
       "<Figure size 432x288 with 1 Axes>"
      ]
     },
     "metadata": {
      "needs_background": "light"
     },
     "output_type": "display_data"
    },
    {
     "data": {
      "image/png": "[encoded data removed]",
      "text/plain": [
       "<Figure size 432x288 with 1 Axes>"
      ]
     },
     "metadata": {
      "needs_background": "light"
     },
     "output_type": "display_data"
    },
    {
     "data": {
      "image/png": "[encoded data removed]",
      "text/plain": [
       "<Figure size 432x288 with 1 Axes>"
      ]
     },
     "metadata": {
      "needs_background": "light"
     },
     "output_type": "display_data"
    },
    {
     "data": {
      "image/png": "[encoded data removed]",
      "text/plain": [
       "<Figure size 432x288 with 1 Axes>"
      ]
     },
     "metadata": {
      "needs_background": "light"
     },
     "output_type": "display_data"
    },
    {
     "data": {
      "image/png": "[encoded data removed]",
      "text/plain": [
       "<Figure size 432x288 with 1 Axes>"
      ]
     },
     "metadata": {
      "needs_background": "light"
     },
     "output_type": "display_data"
    }
   ],
   "source": [
    "nBack2 = bootstrap_data[bootstrap_data['TYPE'] == '2']\n",
    "for subject in nBack2.SUBJECT.unique():\n",
    "    \n",
    "    subdata = nBack2[nBack2['SUBJECT'] == subject].reset_index(drop=True)\n",
    "    plt.hist(subdata.iloc[0, 2:])\n",
    "    plt.title(subject)\n",
    "    plt.xlim([-10, 10])\n",
    "    plt.show()"
   ]
  },
  {
   "cell_type": "markdown",
   "metadata": {},
   "source": [
    "## Run bootstrapped means "
   ]
  },
  {
   "cell_type": "code",
   "execution_count": 65,
   "metadata": {
    "ExecuteTime": {
     "end_time": "2020-09-24T03:12:33.357341Z",
     "start_time": "2020-09-24T03:12:33.336789Z"
    }
   },
   "outputs": [
    {
     "data": {
      "text/html": [
       "<div>\n",
       "<style scoped>\n",
       "    .dataframe tbody tr th:only-of-type {\n",
       "        vertical-align: middle;\n",
       "    }\n",
       "\n",
       "    .dataframe tbody tr th {\n",
       "        vertical-align: top;\n",
       "    }\n",
       "\n",
       "    .dataframe thead th {\n",
       "        text-align: right;\n",
       "    }\n",
       "</style>\n",
       "<table border=\"1\" class=\"dataframe\">\n",
       "  <thead>\n",
       "    <tr style=\"text-align: right;\">\n",
       "      <th></th>\n",
       "      <th>SUBJECT</th>\n",
       "      <th>NTYPE</th>\n",
       "      <th>BOOTSTRAP_MEAN</th>\n",
       "      <th>BOOTSTRAP_CI_LOW</th>\n",
       "      <th>BOOTSTRAP_CI_UP</th>\n",
       "    </tr>\n",
       "  </thead>\n",
       "  <tbody>\n",
       "    <tr>\n",
       "      <th>0</th>\n",
       "      <td>S1</td>\n",
       "      <td>2</td>\n",
       "      <td>2.421630</td>\n",
       "      <td>-1.904475</td>\n",
       "      <td>6.444896</td>\n",
       "    </tr>\n",
       "    <tr>\n",
       "      <th>1</th>\n",
       "      <td>S3</td>\n",
       "      <td>2</td>\n",
       "      <td>1.157909</td>\n",
       "      <td>-2.760075</td>\n",
       "      <td>4.360235</td>\n",
       "    </tr>\n",
       "    <tr>\n",
       "      <th>2</th>\n",
       "      <td>S4</td>\n",
       "      <td>2</td>\n",
       "      <td>1.563532</td>\n",
       "      <td>-2.899739</td>\n",
       "      <td>4.771057</td>\n",
       "    </tr>\n",
       "    <tr>\n",
       "      <th>3</th>\n",
       "      <td>S6</td>\n",
       "      <td>2</td>\n",
       "      <td>0.449556</td>\n",
       "      <td>-2.537063</td>\n",
       "      <td>3.064202</td>\n",
       "    </tr>\n",
       "    <tr>\n",
       "      <th>4</th>\n",
       "      <td>S7</td>\n",
       "      <td>2</td>\n",
       "      <td>3.868420</td>\n",
       "      <td>0.856072</td>\n",
       "      <td>6.889315</td>\n",
       "    </tr>\n",
       "    <tr>\n",
       "      <th>5</th>\n",
       "      <td>S8</td>\n",
       "      <td>2</td>\n",
       "      <td>-1.219547</td>\n",
       "      <td>-4.450442</td>\n",
       "      <td>2.006337</td>\n",
       "    </tr>\n",
       "    <tr>\n",
       "      <th>6</th>\n",
       "      <td>s9</td>\n",
       "      <td>2</td>\n",
       "      <td>-0.448117</td>\n",
       "      <td>-2.860760</td>\n",
       "      <td>1.933180</td>\n",
       "    </tr>\n",
       "    <tr>\n",
       "      <th>7</th>\n",
       "      <td>s10</td>\n",
       "      <td>2</td>\n",
       "      <td>-0.323826</td>\n",
       "      <td>-3.227555</td>\n",
       "      <td>2.724820</td>\n",
       "    </tr>\n",
       "    <tr>\n",
       "      <th>8</th>\n",
       "      <td>s11</td>\n",
       "      <td>2</td>\n",
       "      <td>-0.212808</td>\n",
       "      <td>-3.123592</td>\n",
       "      <td>2.405390</td>\n",
       "    </tr>\n",
       "    <tr>\n",
       "      <th>9</th>\n",
       "      <td>s12</td>\n",
       "      <td>2</td>\n",
       "      <td>-1.179823</td>\n",
       "      <td>-5.463050</td>\n",
       "      <td>2.741187</td>\n",
       "    </tr>\n",
       "    <tr>\n",
       "      <th>10</th>\n",
       "      <td>s13</td>\n",
       "      <td>2</td>\n",
       "      <td>-1.391496</td>\n",
       "      <td>-6.398420</td>\n",
       "      <td>3.437362</td>\n",
       "    </tr>\n",
       "    <tr>\n",
       "      <th>11</th>\n",
       "      <td>s14</td>\n",
       "      <td>2</td>\n",
       "      <td>0.782664</td>\n",
       "      <td>-1.724676</td>\n",
       "      <td>2.864709</td>\n",
       "    </tr>\n",
       "    <tr>\n",
       "      <th>12</th>\n",
       "      <td>s15</td>\n",
       "      <td>2</td>\n",
       "      <td>3.483339</td>\n",
       "      <td>1.008417</td>\n",
       "      <td>5.992590</td>\n",
       "    </tr>\n",
       "  </tbody>\n",
       "</table>\n",
       "</div>"
      ],
      "text/plain": [
       "   SUBJECT NTYPE  BOOTSTRAP_MEAN  BOOTSTRAP_CI_LOW  BOOTSTRAP_CI_UP\n",
       "0       S1     2        2.421630         -1.904475         6.444896\n",
       "1       S3     2        1.157909         -2.760075         4.360235\n",
       "2       S4     2        1.563532         -2.899739         4.771057\n",
       "3       S6     2        0.449556         -2.537063         3.064202\n",
       "4       S7     2        3.868420          0.856072         6.889315\n",
       "5       S8     2       -1.219547         -4.450442         2.006337\n",
       "6       s9     2       -0.448117         -2.860760         1.933180\n",
       "7      s10     2       -0.323826         -3.227555         2.724820\n",
       "8      s11     2       -0.212808         -3.123592         2.405390\n",
       "9      s12     2       -1.179823         -5.463050         2.741187\n",
       "10     s13     2       -1.391496         -6.398420         3.437362\n",
       "11     s14     2        0.782664         -1.724676         2.864709\n",
       "12     s15     2        3.483339          1.008417         5.992590"
      ]
     },
     "execution_count": 65,
     "metadata": {},
     "output_type": "execute_result"
    }
   ],
   "source": [
    "nBack2_means = ntype_data[ntype_data['NTYPE'] == '2']\n",
    "nBack2_means"
   ]
  },
  {
   "cell_type": "code",
   "execution_count": 66,
   "metadata": {
    "ExecuteTime": {
     "end_time": "2020-09-24T03:12:33.512004Z",
     "start_time": "2020-09-24T03:12:33.359650Z"
    }
   },
   "outputs": [
    {
     "name": "stdout",
     "output_type": "stream",
     "text": [
      "0.5384615384615384\n"
     ]
    },
    {
     "data": {
      "image/png": "[encoded data removed]",
      "text/plain": [
       "<Figure size 360x360 with 1 Axes>"
      ]
     },
     "metadata": {
      "needs_background": "light"
     },
     "output_type": "display_data"
    }
   ],
   "source": [
    "compDistributions.sigDistribution(nBack2_means['BOOTSTRAP_MEAN'], extra_title=' 2-Back Radiologists Means')"
   ]
  },
  {
   "cell_type": "code",
   "execution_count": 67,
   "metadata": {
    "ExecuteTime": {
     "end_time": "2020-09-24T03:12:38.609552Z",
     "start_time": "2020-09-24T03:12:33.515335Z"
    }
   },
   "outputs": [],
   "source": [
    "nIterations = 5000\n",
    "nSubjects = len(nBack2_means['BOOTSTRAP_MEAN'])\n",
    "iteration_means = list()\n",
    "iteration_df = pd.DataFrame()\n",
    "\n",
    "row = 0\n",
    "for iteration in range(nIterations):\n",
    "    iteration_sample = random.choices(nBack2_means['BOOTSTRAP_MEAN'], k=nSubjects)\n",
    "    iteration_means.append(np.mean(iteration_sample))\n",
    "    iteration_df.loc[iteration, 'MEAN'] = np.mean(iteration_sample)"
   ]
  },
  {
   "cell_type": "code",
   "execution_count": 68,
   "metadata": {
    "ExecuteTime": {
     "end_time": "2020-09-24T03:12:38.760678Z",
     "start_time": "2020-09-24T03:12:38.617792Z"
    }
   },
   "outputs": [
    {
     "name": "stdout",
     "output_type": "stream",
     "text": [
      "0.9322\n"
     ]
    },
    {
     "data": {
      "image/png": "[encoded data removed]",
      "text/plain": [
       "<Figure size 360x360 with 1 Axes>"
      ]
     },
     "metadata": {
      "needs_background": "light"
     },
     "output_type": "display_data"
    }
   ],
   "source": [
    "compDistributions.sigDistribution(iteration_df['MEAN'], extra_title=' - Bootstrapped mean')"
   ]
  },
  {
   "cell_type": "code",
   "execution_count": null,
   "metadata": {},
   "outputs": [],
   "source": []
  }
 ],
 "metadata": {
  "kernelspec": {
   "display_name": "Python 3",
   "language": "python",
   "name": "python3"
  },
  "language_info": {
   "codemirror_mode": {
    "name": "ipython",
    "version": 3
   },
   "file_extension": ".py",
   "mimetype": "text/x-python",
   "name": "python",
   "nbconvert_exporter": "python",
   "pygments_lexer": "ipython3",
   "version": "3.7.6"
  },
  "toc": {
   "base_numbering": 1,
   "nav_menu": {},
   "number_sections": true,
   "sideBar": true,
   "skip_h1_title": false,
   "title_cell": "Table of Contents",
   "title_sidebar": "Contents",
   "toc_cell": false,
   "toc_position": {
    "height": "calc(100% - 180px)",
    "left": "10px",
    "top": "150px",
    "width": "165px"
   },
   "toc_section_display": true,
   "toc_window_display": true
  },
  "varInspector": {
   "cols": {
    "lenName": 16,
    "lenType": 16,
    "lenVar": 40
   },
   "kernels_config": {
    "python": {
     "delete_cmd_postfix": "",
     "delete_cmd_prefix": "del ",
     "library": "var_list.py",
     "varRefreshCmd": "print(var_dic_list())"
    },
    "r": {
     "delete_cmd_postfix": ") ",
     "delete_cmd_prefix": "rm(",
     "library": "var_list.r",
     "varRefreshCmd": "cat(var_dic_list()) "
    }
   },
   "types_to_exclude": [
    "module",
    "function",
    "builtin_function_or_method",
    "instance",
    "_Feature"
   ],
   "window_display": false
  }
 },
 "nbformat": 4,
 "nbformat_minor": 4
}
