{
 "cells": [
  {
   "cell_type": "markdown",
   "metadata": {},
   "source": [
    "# Libraries "
   ]
  },
  {
   "cell_type": "code",
   "execution_count": 1,
   "metadata": {
    "ExecuteTime": {
     "end_time": "2020-05-25T04:49:17.128420Z",
     "start_time": "2020-05-25T04:49:16.087745Z"
    }
   },
   "outputs": [],
   "source": [
    "import pandas as pd\n",
    "import matplotlib.pyplot as plt\n",
    "import numpy as np\n",
    "from scipy.optimize import curve_fit\n",
    "from scipy.special import i0\n",
    "from numpy import exp, sin, cos\n",
    "import seaborn as sns\n",
    "import matplotlib as mpl\n",
    "import os\n",
    "from pathlib import Path\n",
    "from statsFuncs import mean_confidence_interval\n",
    "from statsFuncs import compDistributions\n",
    "import scipy\n",
    "\n",
    "mpl.rcParams['axes.linewidth'] = 2"
   ]
  },
  {
   "cell_type": "markdown",
   "metadata": {},
   "source": [
    "# Paths"
   ]
  },
  {
   "cell_type": "code",
   "execution_count": 2,
   "metadata": {
    "ExecuteTime": {
     "end_time": "2020-05-25T04:49:17.854739Z",
     "start_time": "2020-05-25T04:49:17.850839Z"
    }
   },
   "outputs": [],
   "source": [
    "fig6_path = os.getcwd()\n",
    "figures_path = str(Path(fig6_path).parent)\n",
    "datapath = figures_path + '/data/radiologists/Analysis5_24_2020/'"
   ]
  },
  {
   "cell_type": "markdown",
   "metadata": {},
   "source": [
    "# Bins "
   ]
  },
  {
   "cell_type": "markdown",
   "metadata": {},
   "source": [
    "## 24 "
   ]
  },
  {
   "cell_type": "code",
   "execution_count": 3,
   "metadata": {
    "ExecuteTime": {
     "end_time": "2020-05-24T19:55:14.205460Z",
     "start_time": "2020-05-24T19:55:14.199993Z"
    }
   },
   "outputs": [],
   "source": [
    "# numBins = 24\n",
    "# data = np.load(datapath + str(numBins) + '_bins_amplitudes.npy')\n",
    "\n",
    "# alldata_trimed = pd.DataFrame()\n",
    "# alldata = pd.DataFrame(columns=['SUBJECT', 'BOOTSTRAP_VALUES'])\n",
    "\n",
    "# bindata = pd.DataFrame()\n",
    "\n",
    "# row = 0\n",
    "# for bins in range(numBins):\n",
    "#     subjectdata_temp = pd.DataFrame()\n",
    "    \n",
    "#     mean_bin, ci_low_bin, ci_up_bin = mean_confidence_interval.confidence_interval_percentile(data[bins])\n",
    "    \n",
    "#     bindata.loc[bins, 'MEAN'] = mean_bin\n",
    "#     bindata.loc[bins, 'CI_LOW'] = ci_low_bin\n",
    "#     bindata.loc[bins, 'CI_UP'] = ci_up_bin\n",
    "    \n",
    "# # CI\n",
    "# bin_ci = pd.DataFrame()\n",
    "# for i in range(len(bindata)):\n",
    "    \n",
    "#     low = bindata.loc[i, 'MEAN'] - bindata.loc[i, 'CI_LOW']\n",
    "#     up = bindata.loc[i, 'CI_UP'] - bindata.loc[i, 'MEAN'] \n",
    "    \n",
    "#     bin_ci.loc[0, i] = low\n",
    "#     bin_ci.loc[1, i] = up\n",
    "    \n",
    "# # plot\n",
    "# plt.figure(figsize=(10, 6))\n",
    "\n",
    "# plt.bar(range(len(bindata)), bindata['MEAN'], yerr=bin_ci.to_numpy(), ecolor='black',\n",
    "#        capsize=6, color = 'darkgray')\n",
    "# plt.title(str(numBins) + ' Bins')\n",
    "# plt.savefig('Fig_6_' + str(numBins) + 'bins.eps', bbox_inches='tight', dpi=1200)\n",
    "# plt.savefig('Fig_6_' + str(numBins) + 'bins.svg', bbox_inches='tight', dpi=1200)\n",
    "# plt.savefig('Fig_6_' + str(numBins) + 'bins.jpg', bbox_inches='tight', dpi=1200)"
   ]
  },
  {
   "cell_type": "markdown",
   "metadata": {
    "ExecuteTime": {
     "end_time": "2020-05-22T22:18:42.429430Z",
     "start_time": "2020-05-22T22:18:42.383703Z"
    }
   },
   "source": [
    "## 18 "
   ]
  },
  {
   "cell_type": "code",
   "execution_count": 4,
   "metadata": {
    "ExecuteTime": {
     "end_time": "2020-05-24T19:55:14.212439Z",
     "start_time": "2020-05-24T19:55:14.208267Z"
    }
   },
   "outputs": [],
   "source": [
    "# numBins = 18\n",
    "# data = np.load(datapath + str(numBins) + '_bins_amplitudes.npy')\n",
    "\n",
    "# alldata_trimed = pd.DataFrame()\n",
    "# alldata = pd.DataFrame(columns=['SUBJECT', 'BOOTSTRAP_VALUES'])\n",
    "\n",
    "# bindata = pd.DataFrame()\n",
    "\n",
    "# row = 0\n",
    "# for bins in range(numBins):\n",
    "#     subjectdata_temp = pd.DataFrame()\n",
    "    \n",
    "#     mean_bin, ci_low_bin, ci_up_bin = mean_confidence_interval.confidence_interval_percentile(data[bins])\n",
    "    \n",
    "#     bindata.loc[bins, 'MEAN'] = mean_bin\n",
    "#     bindata.loc[bins, 'CI_LOW'] = ci_low_bin\n",
    "#     bindata.loc[bins, 'CI_UP'] = ci_up_bin\n",
    "    \n",
    "# # CI\n",
    "# bin_ci = pd.DataFrame()\n",
    "# for i in range(len(bindata)):\n",
    "    \n",
    "#     low = bindata.loc[i, 'MEAN'] - bindata.loc[i, 'CI_LOW']\n",
    "#     up = bindata.loc[i, 'CI_UP'] - bindata.loc[i, 'MEAN'] \n",
    "    \n",
    "#     bin_ci.loc[0, i] = low\n",
    "#     bin_ci.loc[1, i] = up\n",
    "    \n",
    "# # plot\n",
    "# plt.figure(figsize=(10, 6))\n",
    "\n",
    "# plt.bar(range(len(bindata)), bindata['MEAN'], yerr=bin_ci.to_numpy(), ecolor='black',\n",
    "#        capsize=6, color = 'darkgray')\n",
    "# plt.title(str(numBins) + ' Bins')\n",
    "# plt.savefig('Fig_6_' + str(numBins) + 'bins.eps', bbox_inches='tight', dpi=1200)\n",
    "# plt.savefig('Fig_6_' + str(numBins) + 'bins.svg', bbox_inches='tight', dpi=1200)\n",
    "# plt.savefig('Fig_6_' + str(numBins) + 'bins.jpg', bbox_inches='tight', dpi=1200)"
   ]
  },
  {
   "cell_type": "markdown",
   "metadata": {},
   "source": [
    "## 12 "
   ]
  },
  {
   "cell_type": "code",
   "execution_count": 5,
   "metadata": {
    "ExecuteTime": {
     "end_time": "2020-05-24T19:55:14.222234Z",
     "start_time": "2020-05-24T19:55:14.214422Z"
    }
   },
   "outputs": [],
   "source": [
    "# numBins = 12\n",
    "# data = np.load(datapath + str(numBins) + '_bins_amplitudes.npy')\n",
    "\n",
    "# alldata_trimed = pd.DataFrame()\n",
    "# alldata = pd.DataFrame(columns=['SUBJECT', 'BOOTSTRAP_VALUES'])\n",
    "\n",
    "# bindata = pd.DataFrame()\n",
    "\n",
    "# row = 0\n",
    "# for bins in range(numBins):\n",
    "#     subjectdata_temp = pd.DataFrame()\n",
    "    \n",
    "#     mean_bin, ci_low_bin, ci_up_bin = mean_confidence_interval.confidence_interval_percentile(data[bins])\n",
    "    \n",
    "#     bindata.loc[bins, 'MEAN'] = mean_bin\n",
    "#     bindata.loc[bins, 'CI_LOW'] = ci_low_bin\n",
    "#     bindata.loc[bins, 'CI_UP'] = ci_up_bin\n",
    "    \n",
    "# # CI\n",
    "# bin_ci = pd.DataFrame()\n",
    "# for i in range(len(bindata)):\n",
    "    \n",
    "#     low = bindata.loc[i, 'MEAN'] - bindata.loc[i, 'CI_LOW']\n",
    "#     up = bindata.loc[i, 'CI_UP'] - bindata.loc[i, 'MEAN'] \n",
    "    \n",
    "#     bin_ci.loc[0, i] = low\n",
    "#     bin_ci.loc[1, i] = up\n",
    "    \n",
    "# # plot\n",
    "# plt.figure(figsize=(10, 6))\n",
    "\n",
    "# plt.bar(range(len(bindata)), bindata['MEAN'], yerr=bin_ci.to_numpy(), ecolor='black',\n",
    "#        capsize=6, color = 'darkgray')\n",
    "# plt.title(str(numBins) + ' Bins')\n",
    "# plt.savefig('Fig_6_' + str(numBins) + 'bins.eps', bbox_inches='tight', dpi=1200)\n",
    "# plt.savefig('Fig_6_' + str(numBins) + 'bins.svg', bbox_inches='tight', dpi=1200)\n",
    "# plt.savefig('Fig_6_' + str(numBins) + 'bins.jpg', bbox_inches='tight', dpi=1200)"
   ]
  },
  {
   "cell_type": "markdown",
   "metadata": {},
   "source": [
    "## 10 "
   ]
  },
  {
   "cell_type": "code",
   "execution_count": 10,
   "metadata": {
    "ExecuteTime": {
     "end_time": "2020-05-25T04:52:37.105876Z",
     "start_time": "2020-05-25T04:52:20.235617Z"
    }
   },
   "outputs": [
    {
     "name": "stdout",
     "output_type": "stream",
     "text": [
      "0.003\n"
     ]
    },
    {
     "data": {
      "image/png": "[encoded data removed]",
      "text/plain": [
       "<Figure size 360x360 with 1 Axes>"
      ]
     },
     "metadata": {
      "needs_background": "light"
     },
     "output_type": "display_data"
    },
    {
     "data": {
      "image/png": "[encoded data removed]",
      "text/plain": [
       "<Figure size 720x432 with 1 Axes>"
      ]
     },
     "metadata": {
      "needs_background": "light"
     },
     "output_type": "display_data"
    }
   ],
   "source": [
    "numBins = 10\n",
    "data = np.load(datapath + str(numBins) + '_bins_amplitudes.npy')\n",
    "\n",
    "bindata = pd.DataFrame()\n",
    "allbindata = pd.DataFrame()\n",
    "row = 0\n",
    "for bins in range(numBins):\n",
    "    subjectdata_temp = pd.DataFrame()\n",
    "    \n",
    "    mean_bin, ci_low_bin, ci_up_bin = mean_confidence_interval.confidence_interval_percentile(data[bins])\n",
    "    \n",
    "    bindata.loc[bins, 'MEAN'] = mean_bin\n",
    "    bindata.loc[bins, 'CI_LOW'] = ci_low_bin\n",
    "    bindata.loc[bins, 'CI_UP'] = ci_up_bin\n",
    "    \n",
    "    allbindata[bins] = data[bins]\n",
    "    \n",
    "# CI\n",
    "bin_ci = pd.DataFrame()\n",
    "for i in range(len(bindata)):\n",
    "    \n",
    "    low = bindata.loc[i, 'MEAN'] - bindata.loc[i, 'CI_LOW']\n",
    "    up = bindata.loc[i, 'CI_UP'] - bindata.loc[i, 'MEAN'] \n",
    "    \n",
    "    bin_ci.loc[0, i] = low\n",
    "    bin_ci.loc[1, i] = up\n",
    "    \n",
    "# regression line\n",
    "for row in range(len(allbindata)):\n",
    "    \n",
    "    # fit regression line\n",
    "    slope, intercept = np.polyfit(range(numBins), allbindata.loc[row, range(numBins)], 1)\n",
    "    \n",
    "    allbindata.loc[row, 'SLOPE'] = slope\n",
    "    allbindata.loc[row, 'INTERCEPT'] = intercept\n",
    "    \n",
    "compDistributions.sigDistribution(allbindata['SLOPE'], extra_title=' numBins= ' + str(numBins), xlim=[-1.5, 0], ylim=[0, 5])\n",
    "\n",
    "# plot\n",
    "plt.figure(figsize=(10, 6))\n",
    "\n",
    "plt.bar(range(len(bindata)), bindata['MEAN'], yerr=bin_ci.to_numpy(), ecolor='black',\n",
    "       capsize=6, color = 'darkgray')\n",
    "plt.title(str(numBins) + ' Bins')\n",
    "plt.savefig('Fig_6_' + str(numBins) + 'bins.eps', bbox_inches='tight', dpi=1200)\n",
    "plt.savefig('Fig_6_' + str(numBins) + 'bins.svg', bbox_inches='tight', dpi=1200)\n",
    "plt.savefig('Fig_6_' + str(numBins) + 'bins.jpg', bbox_inches='tight', dpi=1200)"
   ]
  },
  {
   "cell_type": "markdown",
   "metadata": {},
   "source": [
    "## 8 "
   ]
  },
  {
   "cell_type": "code",
   "execution_count": 11,
   "metadata": {
    "ExecuteTime": {
     "end_time": "2020-05-25T04:52:58.282893Z",
     "start_time": "2020-05-25T04:52:37.109286Z"
    }
   },
   "outputs": [
    {
     "name": "stdout",
     "output_type": "stream",
     "text": [
      "0.0006\n"
     ]
    },
    {
     "data": {
      "image/png": "[encoded data removed]",
      "text/plain": [
       "<Figure size 360x360 with 1 Axes>"
      ]
     },
     "metadata": {
      "needs_background": "light"
     },
     "output_type": "display_data"
    },
    {
     "data": {
      "image/png": "[encoded data removed]",
      "text/plain": [
       "<Figure size 720x432 with 1 Axes>"
      ]
     },
     "metadata": {
      "needs_background": "light"
     },
     "output_type": "display_data"
    }
   ],
   "source": [
    "numBins = 8\n",
    "data = np.load(datapath + str(numBins) + '_bins_amplitudes.npy')\n",
    "\n",
    "bindata = pd.DataFrame()\n",
    "allbindata = pd.DataFrame()\n",
    "row = 0\n",
    "for bins in range(numBins):\n",
    "    subjectdata_temp = pd.DataFrame()\n",
    "    \n",
    "    mean_bin, ci_low_bin, ci_up_bin = mean_confidence_interval.confidence_interval_percentile(data[bins])\n",
    "    \n",
    "    bindata.loc[bins, 'MEAN'] = mean_bin\n",
    "    bindata.loc[bins, 'CI_LOW'] = ci_low_bin\n",
    "    bindata.loc[bins, 'CI_UP'] = ci_up_bin\n",
    "    \n",
    "    allbindata[bins] = data[bins]\n",
    "    \n",
    "# CI\n",
    "bin_ci = pd.DataFrame()\n",
    "for i in range(len(bindata)):\n",
    "    \n",
    "    low = bindata.loc[i, 'MEAN'] - bindata.loc[i, 'CI_LOW']\n",
    "    up = bindata.loc[i, 'CI_UP'] - bindata.loc[i, 'MEAN'] \n",
    "    \n",
    "    bin_ci.loc[0, i] = low\n",
    "    bin_ci.loc[1, i] = up\n",
    "    \n",
    "# regression line\n",
    "for row in range(len(allbindata)):\n",
    "    \n",
    "    # fit regression line\n",
    "    slope, intercept = np.polyfit(range(numBins), allbindata.loc[row, range(numBins)], 1)\n",
    "    \n",
    "    allbindata.loc[row, 'SLOPE'] = slope\n",
    "    allbindata.loc[row, 'INTERCEPT'] = intercept\n",
    "    \n",
    "compDistributions.sigDistribution(allbindata['SLOPE'], extra_title=' numBins= ' + str(numBins), xlim=[-1.5, 0], ylim=[0, 5])\n",
    "\n",
    "# plot\n",
    "plt.figure(figsize=(10, 6))\n",
    "\n",
    "plt.bar(range(len(bindata)), bindata['MEAN'], yerr=bin_ci.to_numpy(), ecolor='black',\n",
    "       capsize=6, color = 'darkgray')\n",
    "plt.title(str(numBins) + ' Bins')\n",
    "plt.savefig('Fig_6_' + str(numBins) + 'bins.eps', bbox_inches='tight', dpi=1200)\n",
    "plt.savefig('Fig_6_' + str(numBins) + 'bins.svg', bbox_inches='tight', dpi=1200)\n",
    "plt.savefig('Fig_6_' + str(numBins) + 'bins.jpg', bbox_inches='tight', dpi=1200)"
   ]
  },
  {
   "cell_type": "markdown",
   "metadata": {},
   "source": [
    "## 6 "
   ]
  },
  {
   "cell_type": "code",
   "execution_count": 12,
   "metadata": {
    "ExecuteTime": {
     "end_time": "2020-05-25T04:53:20.223350Z",
     "start_time": "2020-05-25T04:52:58.286133Z"
    }
   },
   "outputs": [
    {
     "name": "stdout",
     "output_type": "stream",
     "text": [
      "0.0\n"
     ]
    },
    {
     "data": {
      "image/png": "[encoded data removed]",
      "text/plain": [
       "<Figure size 360x360 with 1 Axes>"
      ]
     },
     "metadata": {
      "needs_background": "light"
     },
     "output_type": "display_data"
    },
    {
     "data": {
      "image/png": "[encoded data removed]",
      "text/plain": [
       "<Figure size 720x432 with 1 Axes>"
      ]
     },
     "metadata": {
      "needs_background": "light"
     },
     "output_type": "display_data"
    }
   ],
   "source": [
    "numBins = 6\n",
    "data = np.load(datapath + str(numBins) + '_bins_amplitudes.npy')\n",
    "\n",
    "bindata = pd.DataFrame()\n",
    "allbindata = pd.DataFrame()\n",
    "row = 0\n",
    "for bins in range(numBins):\n",
    "    subjectdata_temp = pd.DataFrame()\n",
    "    \n",
    "    mean_bin, ci_low_bin, ci_up_bin = mean_confidence_interval.confidence_interval_percentile(data[bins])\n",
    "    \n",
    "    bindata.loc[bins, 'MEAN'] = mean_bin\n",
    "    bindata.loc[bins, 'CI_LOW'] = ci_low_bin\n",
    "    bindata.loc[bins, 'CI_UP'] = ci_up_bin\n",
    "    \n",
    "    allbindata[bins] = data[bins]\n",
    "    \n",
    "# CI\n",
    "bin_ci = pd.DataFrame()\n",
    "for i in range(len(bindata)):\n",
    "    \n",
    "    low = bindata.loc[i, 'MEAN'] - bindata.loc[i, 'CI_LOW']\n",
    "    up = bindata.loc[i, 'CI_UP'] - bindata.loc[i, 'MEAN'] \n",
    "    \n",
    "    bin_ci.loc[0, i] = low\n",
    "    bin_ci.loc[1, i] = up\n",
    "    \n",
    "# regression line\n",
    "for row in range(len(allbindata)):\n",
    "    \n",
    "    # fit regression line\n",
    "    slope, intercept = np.polyfit(range(numBins), allbindata.loc[row, range(numBins)], 1)\n",
    "    \n",
    "    allbindata.loc[row, 'SLOPE'] = slope\n",
    "    allbindata.loc[row, 'INTERCEPT'] = intercept\n",
    "    \n",
    "compDistributions.sigDistribution(allbindata['SLOPE'], extra_title=' numBins= ' + str(numBins), xlim=[-1.5, 0], ylim=[0, 5])\n",
    "\n",
    "# plot\n",
    "plt.figure(figsize=(10, 6))\n",
    "\n",
    "plt.bar(range(len(bindata)), bindata['MEAN'], yerr=bin_ci.to_numpy(), ecolor='black',\n",
    "       capsize=6, color = 'darkgray')\n",
    "plt.title(str(numBins) + ' Bins')\n",
    "plt.savefig('Fig_6_' + str(numBins) + 'bins.eps', bbox_inches='tight', dpi=1200)\n",
    "plt.savefig('Fig_6_' + str(numBins) + 'bins.svg', bbox_inches='tight', dpi=1200)\n",
    "plt.savefig('Fig_6_' + str(numBins) + 'bins.jpg', bbox_inches='tight', dpi=1200)"
   ]
  },
  {
   "cell_type": "markdown",
   "metadata": {},
   "source": [
    "## 4"
   ]
  },
  {
   "cell_type": "code",
   "execution_count": 13,
   "metadata": {
    "ExecuteTime": {
     "end_time": "2020-05-25T04:53:42.243897Z",
     "start_time": "2020-05-25T04:53:20.228356Z"
    },
    "scrolled": false
   },
   "outputs": [
    {
     "name": "stdout",
     "output_type": "stream",
     "text": [
      "0.0\n"
     ]
    },
    {
     "data": {
      "image/png": "[encoded data removed]",
      "text/plain": [
       "<Figure size 360x360 with 1 Axes>"
      ]
     },
     "metadata": {
      "needs_background": "light"
     },
     "output_type": "display_data"
    },
    {
     "data": {
      "image/png": "[encoded data removed]",
      "text/plain": [
       "<Figure size 720x432 with 1 Axes>"
      ]
     },
     "metadata": {
      "needs_background": "light"
     },
     "output_type": "display_data"
    }
   ],
   "source": [
    "numBins = 4\n",
    "data = np.load(datapath + str(numBins) + '_bins_amplitudes.npy')\n",
    "\n",
    "bindata = pd.DataFrame()\n",
    "allbindata = pd.DataFrame()\n",
    "row = 0\n",
    "for bins in range(numBins):\n",
    "    subjectdata_temp = pd.DataFrame()\n",
    "    \n",
    "    mean_bin, ci_low_bin, ci_up_bin = mean_confidence_interval.confidence_interval_percentile(data[bins])\n",
    "    \n",
    "    bindata.loc[bins, 'MEAN'] = mean_bin\n",
    "    bindata.loc[bins, 'CI_LOW'] = ci_low_bin\n",
    "    bindata.loc[bins, 'CI_UP'] = ci_up_bin\n",
    "    \n",
    "    allbindata[bins] = data[bins]\n",
    "    \n",
    "# CI\n",
    "bin_ci = pd.DataFrame()\n",
    "for i in range(len(bindata)):\n",
    "    \n",
    "    low = bindata.loc[i, 'MEAN'] - bindata.loc[i, 'CI_LOW']\n",
    "    up = bindata.loc[i, 'CI_UP'] - bindata.loc[i, 'MEAN'] \n",
    "    \n",
    "    bin_ci.loc[0, i] = low\n",
    "    bin_ci.loc[1, i] = up\n",
    "    \n",
    "# regression line\n",
    "for row in range(len(allbindata)):\n",
    "    \n",
    "    # fit regression line\n",
    "    slope, intercept = np.polyfit(range(numBins), allbindata.loc[row, range(numBins)], 1)\n",
    "    \n",
    "    allbindata.loc[row, 'SLOPE'] = slope\n",
    "    allbindata.loc[row, 'INTERCEPT'] = intercept\n",
    "    \n",
    "compDistributions.sigDistribution(allbindata['SLOPE'], extra_title=' numBins= ' + str(numBins), xlim=[-1.5, 0], ylim=[0, 5])\n",
    "\n",
    "# plot\n",
    "plt.figure(figsize=(10, 6))\n",
    "\n",
    "plt.bar(range(len(bindata)), bindata['MEAN'], yerr=bin_ci.to_numpy(), ecolor='black',\n",
    "       capsize=6, color = 'darkgray')\n",
    "plt.title(str(numBins) + ' Bins')\n",
    "plt.savefig('Fig_6_' + str(numBins) + 'bins.eps', bbox_inches='tight', dpi=1200)\n",
    "plt.savefig('Fig_6_' + str(numBins) + 'bins.svg', bbox_inches='tight', dpi=1200)\n",
    "plt.savefig('Fig_6_' + str(numBins) + 'bins.jpg', bbox_inches='tight', dpi=1200)"
   ]
  },
  {
   "cell_type": "markdown",
   "metadata": {},
   "source": [
    "## 2"
   ]
  },
  {
   "cell_type": "code",
   "execution_count": 14,
   "metadata": {
    "ExecuteTime": {
     "end_time": "2020-05-25T04:54:07.001468Z",
     "start_time": "2020-05-25T04:53:42.275493Z"
    }
   },
   "outputs": [
    {
     "name": "stdout",
     "output_type": "stream",
     "text": [
      "0.0\n"
     ]
    },
    {
     "data": {
      "image/png": "[encoded data removed]",
      "text/plain": [
       "<Figure size 360x360 with 1 Axes>"
      ]
     },
     "metadata": {
      "needs_background": "light"
     },
     "output_type": "display_data"
    },
    {
     "data": {
      "image/png": "[encoded data removed]",
      "text/plain": [
       "<Figure size 720x432 with 1 Axes>"
      ]
     },
     "metadata": {
      "needs_background": "light"
     },
     "output_type": "display_data"
    }
   ],
   "source": [
    "numBins = 2\n",
    "data = np.load(datapath + str(numBins) + '_bins_amplitudes.npy')\n",
    "\n",
    "bindata = pd.DataFrame()\n",
    "allbindata = pd.DataFrame()\n",
    "row = 0\n",
    "for bins in range(numBins):\n",
    "    subjectdata_temp = pd.DataFrame()\n",
    "    \n",
    "    mean_bin, ci_low_bin, ci_up_bin = mean_confidence_interval.confidence_interval_percentile(data[bins])\n",
    "    \n",
    "    bindata.loc[bins, 'MEAN'] = mean_bin\n",
    "    bindata.loc[bins, 'CI_LOW'] = ci_low_bin\n",
    "    bindata.loc[bins, 'CI_UP'] = ci_up_bin\n",
    "    \n",
    "    allbindata[bins] = data[bins]\n",
    "    \n",
    "# CI\n",
    "bin_ci = pd.DataFrame()\n",
    "for i in range(len(bindata)):\n",
    "    \n",
    "    low = bindata.loc[i, 'MEAN'] - bindata.loc[i, 'CI_LOW']\n",
    "    up = bindata.loc[i, 'CI_UP'] - bindata.loc[i, 'MEAN'] \n",
    "    \n",
    "    bin_ci.loc[0, i] = low\n",
    "    bin_ci.loc[1, i] = up\n",
    "    \n",
    "# regression line\n",
    "for row in range(len(allbindata)):\n",
    "    \n",
    "    # fit regression line\n",
    "    slope, intercept = np.polyfit(range(numBins), allbindata.loc[row, range(numBins)], 1)\n",
    "    \n",
    "    allbindata.loc[row, 'SLOPE'] = slope\n",
    "    allbindata.loc[row, 'INTERCEPT'] = intercept\n",
    "    \n",
    "compDistributions.sigDistribution(allbindata['SLOPE'], extra_title=' numBins= ' + str(numBins), xlim=[-1.5, 0], ylim=[0, 5])\n",
    "\n",
    "# plot\n",
    "plt.figure(figsize=(10, 6))\n",
    "\n",
    "plt.bar(range(len(bindata)), bindata['MEAN'], yerr=bin_ci.to_numpy(), ecolor='black',\n",
    "       capsize=6, color = 'darkgray')\n",
    "plt.title(str(numBins) + ' Bins')\n",
    "plt.savefig('Fig_6_' + str(numBins) + 'bins.eps', bbox_inches='tight', dpi=1200)\n",
    "plt.savefig('Fig_6_' + str(numBins) + 'bins.svg', bbox_inches='tight', dpi=1200)\n",
    "plt.savefig('Fig_6_' + str(numBins) + 'bins.jpg', bbox_inches='tight', dpi=1200)"
   ]
  },
  {
   "cell_type": "code",
   "execution_count": null,
   "metadata": {},
   "outputs": [],
   "source": []
  }
 ],
 "metadata": {
  "kernelspec": {
   "display_name": "Python 3",
   "language": "python",
   "name": "python3"
  },
  "language_info": {
   "codemirror_mode": {
    "name": "ipython",
    "version": 3
   },
   "file_extension": ".py",
   "mimetype": "text/x-python",
   "name": "python",
   "nbconvert_exporter": "python",
   "pygments_lexer": "ipython3",
   "version": "3.7.6"
  },
  "toc": {
   "base_numbering": 1,
   "nav_menu": {},
   "number_sections": true,
   "sideBar": true,
   "skip_h1_title": false,
   "title_cell": "Table of Contents",
   "title_sidebar": "Contents",
   "toc_cell": false,
   "toc_position": {
    "height": "calc(100% - 180px)",
    "left": "10px",
    "top": "150px",
    "width": "273.594px"
   },
   "toc_section_display": true,
   "toc_window_display": true
  },
  "varInspector": {
   "cols": {
    "lenName": 16,
    "lenType": 16,
    "lenVar": 40
   },
   "kernels_config": {
    "python": {
     "delete_cmd_postfix": "",
     "delete_cmd_prefix": "del ",
     "library": "var_list.py",
     "varRefreshCmd": "print(var_dic_list())"
    },
    "r": {
     "delete_cmd_postfix": ") ",
     "delete_cmd_prefix": "rm(",
     "library": "var_list.r",
     "varRefreshCmd": "cat(var_dic_list()) "
    }
   },
   "types_to_exclude": [
    "module",
    "function",
    "builtin_function_or_method",
    "instance",
    "_Feature"
   ],
   "window_display": false
  }
 },
 "nbformat": 4,
 "nbformat_minor": 4
}
