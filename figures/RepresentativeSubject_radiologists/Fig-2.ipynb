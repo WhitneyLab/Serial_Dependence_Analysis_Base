{
 "cells": [
  {
   "cell_type": "markdown",
   "metadata": {},
   "source": [
    "# Load libraries "
   ]
  },
  {
   "cell_type": "code",
   "execution_count": 11,
   "metadata": {
    "ExecuteTime": {
     "end_time": "2020-03-26T18:34:58.034661Z",
     "start_time": "2020-03-26T18:34:58.030098Z"
    }
   },
   "outputs": [],
   "source": [
    "import pandas as pd\n",
    "import matplotlib.pyplot as plt\n",
    "import numpy as np\n",
    "from scipy.optimize import curve_fit\n",
    "from scipy.special import i0\n",
    "from numpy import exp, sin, cos\n",
    "import seaborn as sns\n",
    "import matplotlib as mpl\n",
    "\n",
    "mpl.rcParams['axes.linewidth'] = 2"
   ]
  },
  {
   "cell_type": "markdown",
   "metadata": {},
   "source": [
    "# Load data "
   ]
  },
  {
   "cell_type": "code",
   "execution_count": 12,
   "metadata": {
    "ExecuteTime": {
     "end_time": "2020-03-26T18:34:58.046908Z",
     "start_time": "2020-03-26T18:34:58.038747Z"
    }
   },
   "outputs": [],
   "source": [
    "data = pd.read_csv('test.csv')"
   ]
  },
  {
   "cell_type": "markdown",
   "metadata": {},
   "source": [
    "# Plot params "
   ]
  },
  {
   "cell_type": "code",
   "execution_count": 13,
   "metadata": {
    "ExecuteTime": {
     "end_time": "2020-03-26T18:34:58.057404Z",
     "start_time": "2020-03-26T18:34:58.051314Z"
    }
   },
   "outputs": [],
   "source": [
    "mpl.rcParams['xtick.major.size'] = 6\n",
    "mpl.rcParams['xtick.major.width'] = 2\n",
    "mpl.rcParams['ytick.major.size'] = 6\n",
    "mpl.rcParams['ytick.major.width'] = 2\n",
    "mpl.rcParams['xtick.direction'] = 'in'\n",
    "mpl.rcParams['ytick.direction'] = 'in'\n",
    "mpl.rcParams['font.serif'] = 'Myriad Pro'\n",
    "mpl.rcParams['font.weight'] = 'medium'\n",
    "mpl.rcParams['font.size'] = 16\n",
    "mpl.rcParams['axes.labelweight'] = 'medium'"
   ]
  },
  {
   "cell_type": "markdown",
   "metadata": {},
   "source": [
    "# Needed preprocessing "
   ]
  },
  {
   "cell_type": "code",
   "execution_count": 14,
   "metadata": {
    "ExecuteTime": {
     "end_time": "2020-03-26T18:34:58.066524Z",
     "start_time": "2020-03-26T18:34:58.060897Z"
    }
   },
   "outputs": [],
   "source": [
    "def vonmise_derivative(xdata, a = 25, kai = 4):\n",
    "    xdata = xdata / 75 * np.pi\n",
    "    return - a / (i0(kai) * 2 * np.pi) * exp(kai * cos(xdata)) * kai * sin(xdata) # Derivative of vonmise formula"
   ]
  },
  {
   "cell_type": "code",
   "execution_count": 15,
   "metadata": {
    "ExecuteTime": {
     "end_time": "2020-03-26T18:34:58.078022Z",
     "start_time": "2020-03-26T18:34:58.069966Z"
    }
   },
   "outputs": [],
   "source": [
    "def getRunningMean(stimuli_diff, filtered_responseError, halfway =74, step = 8):\n",
    "    RM = [None] * (2 * halfway + 1); # running mean initialization\n",
    "    xvals = list(range(-halfway, halfway + 1)) # index for running mean -90~90 + -90~90 (avoid error in sep[jj] == 91\\92...\n",
    "    allx_vals = xvals + xvals\n",
    "    for ii in range(0,len(xvals) - 1): # start running mean calculation 0~180\n",
    "        if ii - step // 2 >= 0:\n",
    "            sep = allx_vals[(ii - step // 2) : (ii + step // 2 + 1)] # symmetric to avoid shift\n",
    "        else:\n",
    "            sep = allx_vals[(ii - step // 2) : len(allx_vals)] + allx_vals[0 : (ii + step // 2 + 1)]\n",
    "        sep_sum = []\n",
    "        for jj in range(0,len(sep)): # match every value in sep to every stimuli_diff point\n",
    "            for kk in range(0, len(stimuli_diff)):\n",
    "                if stimuli_diff[kk] == sep[jj]:\n",
    "                    sep_sum.insert(0, filtered_responseError[kk])\n",
    "        RM[ii] = np.mean(sep_sum)\n",
    "    RM[2 * halfway] = RM[0]\n",
    "    return RM, xvals"
   ]
  },
  {
   "cell_type": "code",
   "execution_count": 16,
   "metadata": {
    "ExecuteTime": {
     "end_time": "2020-03-26T18:34:58.094701Z",
     "start_time": "2020-03-26T18:34:58.081318Z"
    }
   },
   "outputs": [],
   "source": [
    "def getRegressionLine(x, y, peak):\n",
    "    stimuli_diff_filtered = []\n",
    "    filtered_responseError_new = []\n",
    "    for i in range(len(x)):\n",
    "        if x[i] < peak + 1 and x[i] > - peak + 1:\n",
    "            stimuli_diff_filtered.append(x[i])\n",
    "            filtered_responseError_new.append(y[i])\n",
    "    coef = np.polyfit(stimuli_diff_filtered,filtered_responseError_new,1)\n",
    "    poly1d_fn = np.poly1d(coef)\n",
    "    return poly1d_fn, coef"
   ]
  },
  {
   "cell_type": "code",
   "execution_count": 17,
   "metadata": {
    "ExecuteTime": {
     "end_time": "2020-03-26T18:34:58.138759Z",
     "start_time": "2020-03-26T18:34:58.099150Z"
    }
   },
   "outputs": [],
   "source": [
    "## Von Mise fitting: Shape Similarity##\n",
    "init_vals = [25, 4]\n",
    "best_vals, covar = curve_fit(vonmise_derivative, data['Stim_diff'], data['responseError'], p0=init_vals)"
   ]
  },
  {
   "cell_type": "code",
   "execution_count": 46,
   "metadata": {
    "ExecuteTime": {
     "end_time": "2020-03-26T19:06:35.442686Z",
     "start_time": "2020-03-26T19:06:29.947822Z"
    }
   },
   "outputs": [],
   "source": [
    "#### RUNNING MEAN ####\n",
    "RM, xvals = getRunningMean(data['Stim_diff'], data['responseError'], step = 20)"
   ]
  },
  {
   "cell_type": "markdown",
   "metadata": {},
   "source": [
    "# Plot figure "
   ]
  },
  {
   "cell_type": "code",
   "execution_count": 58,
   "metadata": {
    "ExecuteTime": {
     "end_time": "2020-03-27T18:00:16.152606Z",
     "start_time": "2020-03-27T18:00:15.847383Z"
    }
   },
   "outputs": [
    {
     "name": "stderr",
     "output_type": "stream",
     "text": [
      "The PostScript backend does not support transparency; partially transparent artists will be rendered opaque.\n",
      "The PostScript backend does not support transparency; partially transparent artists will be rendered opaque.\n",
      "The PostScript backend does not support transparency; partially transparent artists will be rendered opaque.\n",
      "The PostScript backend does not support transparency; partially transparent artists will be rendered opaque.\n",
      "The PostScript backend does not support transparency; partially transparent artists will be rendered opaque.\n",
      "The PostScript backend does not support transparency; partially transparent artists will be rendered opaque.\n"
     ]
    },
    {
     "data": {
      "image/png": "[encoded data removed]",
      "text/plain": [
       "<Figure size 360x288 with 1 Axes>"
      ]
     },
     "metadata": {
      "needs_background": "light"
     },
     "output_type": "display_data"
    }
   ],
   "source": [
    "plt.figure(figsize=(5, 4))\n",
    "plt.plot(data['Stim_diff'], data['responseError'], color='dodgerblue', marker='o', linestyle='none', alpha=0.7, markersize=5)\n",
    "x = np.linspace(-75, 75, 300)\n",
    "y = [vonmise_derivative(xi,best_vals[0],best_vals[1]) for xi in x]\n",
    "DoVM_values = [vonmise_derivative(xi,best_vals[0],best_vals[1]) for xi in data['Stim_diff']]\n",
    "plt.plot(x, y, '-', linewidth = 4, color='k')\n",
    "plt.plot(xvals, RM, label = 'Running Mean', color = 'forestgreen', linewidth = 3)\n",
    "peak_x = (x[np.argmax(y)])\n",
    "poly1d_fn, coef = getRegressionLine(x = data['Stim_diff'], y= data['responseError'], peak = peak_x)\n",
    "xdata = np.linspace(-peak_x, peak_x, 100)\n",
    "# plt.plot(xdata, poly1d_fn(xdata), linestyle='--', color='powderblue', linewidth = 4)\n",
    "plt.xlim([-73, 73])\n",
    "plt.ylim([-32, 32])\n",
    "plt.yticks(np.arange(-30, 40, 10))\n",
    "# plt.xticks(np.arange(-70, 80, 20))\n",
    "plt.xticks([-73, -50, -25, 0, 25, 50, 73])\n",
    "sns.despine()\n",
    "# print(coef[0], coef[1])\n",
    "plt.ylabel('Response Error\\n(morph units)')\n",
    "plt.xlabel('\\nRelative Orientation of previous trial\\n(morph units)')\n",
    "plt.savefig('ShapeDiff_DerivativeVonMises.eps', bbox_inches='tight', dpi=1200)"
   ]
  },
  {
   "cell_type": "code",
   "execution_count": 49,
   "metadata": {
    "ExecuteTime": {
     "end_time": "2020-03-26T19:09:48.742435Z",
     "start_time": "2020-03-26T19:09:48.736483Z"
    }
   },
   "outputs": [
    {
     "data": {
      "text/plain": [
       "73.0"
      ]
     },
     "execution_count": 49,
     "metadata": {},
     "output_type": "execute_result"
    }
   ],
   "source": [
    "max(data['Stim_diff'])"
   ]
  },
  {
   "cell_type": "code",
   "execution_count": null,
   "metadata": {},
   "outputs": [],
   "source": []
  }
 ],
 "metadata": {
  "kernelspec": {
   "display_name": "Python 3",
   "language": "python",
   "name": "python3"
  },
  "language_info": {
   "codemirror_mode": {
    "name": "ipython",
    "version": 3
   },
   "file_extension": ".py",
   "mimetype": "text/x-python",
   "name": "python",
   "nbconvert_exporter": "python",
   "pygments_lexer": "ipython3",
   "version": "3.7.6"
  },
  "toc": {
   "base_numbering": 1,
   "nav_menu": {},
   "number_sections": true,
   "sideBar": true,
   "skip_h1_title": false,
   "title_cell": "Table of Contents",
   "title_sidebar": "Contents",
   "toc_cell": false,
   "toc_position": {},
   "toc_section_display": true,
   "toc_window_display": true
  },
  "varInspector": {
   "cols": {
    "lenName": 16,
    "lenType": 16,
    "lenVar": 40
   },
   "kernels_config": {
    "python": {
     "delete_cmd_postfix": "",
     "delete_cmd_prefix": "del ",
     "library": "var_list.py",
     "varRefreshCmd": "print(var_dic_list())"
    },
    "r": {
     "delete_cmd_postfix": ") ",
     "delete_cmd_prefix": "rm(",
     "library": "var_list.r",
     "varRefreshCmd": "cat(var_dic_list()) "
    }
   },
   "types_to_exclude": [
    "module",
    "function",
    "builtin_function_or_method",
    "instance",
    "_Feature"
   ],
   "window_display": false
  }
 },
 "nbformat": 4,
 "nbformat_minor": 2
}
