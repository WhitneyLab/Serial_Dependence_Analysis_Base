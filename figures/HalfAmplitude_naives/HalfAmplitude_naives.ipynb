{
 "cells": [
  {
   "cell_type": "markdown",
   "metadata": {},
   "source": [
    "# Libraries "
   ]
  },
  {
   "cell_type": "code",
   "execution_count": 1,
   "metadata": {
    "ExecuteTime": {
     "end_time": "2020-07-15T20:46:56.083155Z",
     "start_time": "2020-07-15T20:46:54.657277Z"
    }
   },
   "outputs": [],
   "source": [
    "import pandas as pd\n",
    "import matplotlib.pyplot as plt\n",
    "import numpy as np\n",
    "from scipy.optimize import curve_fit\n",
    "from scipy.special import i0\n",
    "from numpy import exp, sin, cos\n",
    "import seaborn as sns\n",
    "import matplotlib as mpl\n",
    "import os\n",
    "from pathlib import Path\n",
    "from statsFuncs import mean_confidence_interval\n",
    "from statsFuncs import compDistributions\n",
    "import scipy\n",
    "\n",
    "mpl.rcParams['axes.linewidth'] = 2"
   ]
  },
  {
   "cell_type": "markdown",
   "metadata": {},
   "source": [
    "# Paths "
   ]
  },
  {
   "cell_type": "code",
   "execution_count": 2,
   "metadata": {
    "ExecuteTime": {
     "end_time": "2020-07-15T20:46:56.098728Z",
     "start_time": "2020-07-15T20:46:56.093651Z"
    }
   },
   "outputs": [],
   "source": [
    "fig3_path = os.getcwd()\n",
    "figures_path = str(Path(fig3_path).parent)\n",
    "datapath = figures_path + '/data/naive_subjects/05_13/yes removal yes correction/'"
   ]
  },
  {
   "cell_type": "markdown",
   "metadata": {},
   "source": [
    "# Plot params "
   ]
  },
  {
   "cell_type": "code",
   "execution_count": 3,
   "metadata": {
    "ExecuteTime": {
     "end_time": "2020-07-15T20:46:56.113329Z",
     "start_time": "2020-07-15T20:46:56.103758Z"
    }
   },
   "outputs": [],
   "source": [
    "mpl.rcParams['xtick.major.size'] = 6\n",
    "mpl.rcParams['xtick.major.width'] = 2\n",
    "mpl.rcParams['ytick.major.size'] = 6\n",
    "mpl.rcParams['ytick.major.width'] = 2\n",
    "mpl.rcParams['xtick.direction'] = 'in'\n",
    "mpl.rcParams['ytick.direction'] = 'in'\n",
    "mpl.rcParams['font.serif'] = 'Myriad Pro'\n",
    "mpl.rcParams['font.weight'] = 'medium'\n",
    "mpl.rcParams['font.size'] = 16\n",
    "mpl.rcParams['axes.labelweight'] = 'medium'"
   ]
  },
  {
   "cell_type": "markdown",
   "metadata": {},
   "source": [
    "# Subject loop "
   ]
  },
  {
   "cell_type": "markdown",
   "metadata": {},
   "source": [
    "Get number of subjects, which is number of folders in datapath -1 (the super subject)"
   ]
  },
  {
   "cell_type": "code",
   "execution_count": 4,
   "metadata": {
    "ExecuteTime": {
     "end_time": "2020-07-15T20:46:56.131038Z",
     "start_time": "2020-07-15T20:46:56.120472Z"
    }
   },
   "outputs": [
    {
     "name": "stdout",
     "output_type": "stream",
     "text": [
      "127 files, 21 folders\n",
      "20 subjects\n"
     ]
    }
   ],
   "source": [
    "files = folders = 0\n",
    "\n",
    "for _, dirnames, filenames in os.walk(datapath):\n",
    "  # ^ this idiom means \"we won't be using this value\"\n",
    "    files += len(filenames)\n",
    "    folders += len(dirnames)\n",
    "\n",
    "print(\"{:,} files, {:,} folders\".format(files, folders))\n",
    "print(str(folders-1) + ' subjects')\n",
    "nSubjects = folders-1"
   ]
  },
  {
   "cell_type": "code",
   "execution_count": 5,
   "metadata": {
    "ExecuteTime": {
     "end_time": "2020-07-15T20:46:56.149817Z",
     "start_time": "2020-07-15T20:46:56.134668Z"
    }
   },
   "outputs": [],
   "source": [
    "subject_names = ['AR', 'AS', 'CAN', 'CG', 'CK', 'CT', 'EK', 'ES', 'EW', 'HE', 'HL', 'HOL', 'HY', 'IS', 'JP', 'MF', 'NC','SA', 'SK', 'SS','UnderGrad_SuperSubject']\n",
    "# subject_names = ['AR', 'CK', 'CT', 'EW', 'HL', 'IS', 'JP', 'MF', 'NC', 'SK', 'SS']\n"
   ]
  },
  {
   "cell_type": "markdown",
   "metadata": {},
   "source": [
    "## Calculate mean and error bars "
   ]
  },
  {
   "cell_type": "code",
   "execution_count": 6,
   "metadata": {
    "ExecuteTime": {
     "end_time": "2020-07-15T20:46:56.593820Z",
     "start_time": "2020-07-15T20:46:56.167550Z"
    }
   },
   "outputs": [
    {
     "name": "stdout",
     "output_type": "stream",
     "text": [
      "AR\n",
      "AS\n",
      "CAN\n",
      "CG\n",
      "CK\n",
      "CT\n",
      "EK\n",
      "ES\n",
      "EW\n",
      "HE\n",
      "HL\n",
      "HOL\n",
      "HY\n",
      "IS\n",
      "JP\n",
      "MF\n",
      "NC\n",
      "SA\n",
      "SK\n",
      "SS\n",
      "UnderGrad_SuperSubject\n"
     ]
    }
   ],
   "source": [
    "alldata_trimed = pd.DataFrame()\n",
    "alldata = pd.DataFrame(columns=['SUBJECT', 'BOOTSTRAP_VALUES'])\n",
    "\n",
    "row = 0\n",
    "for subject in subject_names:\n",
    "    subjectdata_temp = pd.DataFrame()\n",
    "    \n",
    "    # load data:\n",
    "    subjectdata = pd.read_csv(datapath + subject + '/' + subject + '_VM_output_1nBack.csv')\n",
    "    subjectdata_temp['BOOTSTRAP_VALUES'] = subjectdata['bootstrap_values']\n",
    "    subjectdata_temp.loc[:, 'SUBJECT'] = subject\n",
    "    \n",
    "    print(subject)\n",
    "    alldata_trimed.loc[row,'SUBJECT'] = subject\n",
    "    \n",
    "    mean, ci_low, ci_up = mean_confidence_interval.confidence_interval_percentile(subjectdata['bootstrap_values'])\n",
    "    \n",
    "    alldata_trimed.loc[row, 'BOOTSTRAP_MEAN'] = mean\n",
    "    alldata_trimed.loc[row, 'BOOTSTRAP_CI_LOW'] = ci_low\n",
    "    alldata_trimed.loc[row, 'BOOTSTRAP_CI_UP'] = ci_up\n",
    "    \n",
    "    if subject == 'S1':\n",
    "        alldata = subjectdata_temp\n",
    "    else:\n",
    "        alldata = pd.concat([alldata, subjectdata_temp])\n",
    "    \n",
    "    row += 1\n",
    "    "
   ]
  },
  {
   "cell_type": "markdown",
   "metadata": {},
   "source": [
    "## Organize error bars "
   ]
  },
  {
   "cell_type": "code",
   "execution_count": 7,
   "metadata": {
    "ExecuteTime": {
     "end_time": "2020-07-15T20:46:56.635444Z",
     "start_time": "2020-07-15T20:46:56.602160Z"
    }
   },
   "outputs": [
    {
     "name": "stdout",
     "output_type": "stream",
     "text": [
      "0\n",
      "1\n",
      "2\n",
      "3\n",
      "4\n",
      "5\n",
      "6\n",
      "7\n",
      "8\n",
      "9\n",
      "10\n",
      "11\n",
      "12\n",
      "13\n",
      "14\n",
      "15\n",
      "16\n",
      "17\n",
      "18\n",
      "19\n",
      "20\n"
     ]
    }
   ],
   "source": [
    "alldata_trimed_ci = pd.DataFrame(columns= subject_names)\n",
    "for i in range(len(alldata_trimed)):\n",
    "    \n",
    "    print(i)\n",
    "    subject = alldata_trimed.loc[i, 'SUBJECT']\n",
    "    low = alldata_trimed.loc[i, 'BOOTSTRAP_MEAN'] - alldata_trimed.loc[i, 'BOOTSTRAP_CI_LOW']\n",
    "    up = alldata_trimed.loc[i, 'BOOTSTRAP_CI_UP'] - alldata_trimed.loc[i, 'BOOTSTRAP_MEAN'] \n",
    "    \n",
    "    alldata_trimed_ci.loc[0, subject] = low\n",
    "    alldata_trimed_ci.loc[1, subject] = up"
   ]
  },
  {
   "cell_type": "markdown",
   "metadata": {},
   "source": [
    "# Plot Fig 3 "
   ]
  },
  {
   "cell_type": "code",
   "execution_count": 8,
   "metadata": {
    "ExecuteTime": {
     "end_time": "2020-07-15T20:46:59.904078Z",
     "start_time": "2020-07-15T20:46:56.643856Z"
    }
   },
   "outputs": [
    {
     "data": {
      "image/png": "[encoded data removed]",
      "text/plain": [
       "<Figure size 720x432 with 1 Axes>"
      ]
     },
     "metadata": {
      "needs_background": "light"
     },
     "output_type": "display_data"
    }
   ],
   "source": [
    "plt.figure(figsize=(10, 6))\n",
    "\n",
    "plt.bar(alldata_trimed['SUBJECT'], alldata_trimed['BOOTSTRAP_MEAN'], yerr=alldata_trimed['BOOTSTRAP_CI_LOW'].to_numpy(), ecolor='black',\n",
    "       capsize=6, color = 'darkgray')\n",
    "plt.savefig('HalfAmplitude_v1_naives.eps', bbox_inches='tight', dpi=1200)\n",
    "plt.savefig('HalfAmplitude_v1_naives.jpg', bbox_inches='tight', dpi=1200)\n",
    "plt.savefig('HalfAmplitude_v1_naives.svg', bbox_inches='tight', dpi=1200)"
   ]
  },
  {
   "cell_type": "markdown",
   "metadata": {},
   "source": [
    "# Plot Fig 3 v2 "
   ]
  },
  {
   "cell_type": "markdown",
   "metadata": {},
   "source": [
    "3 bars, for 1-back, 2-back and 3-back (group bootstrap)\n",
    "on top of each bar, the boostrap means as mini circles"
   ]
  },
  {
   "cell_type": "code",
   "execution_count": 9,
   "metadata": {
    "ExecuteTime": {
     "end_time": "2020-07-15T20:46:59.917087Z",
     "start_time": "2020-07-15T20:46:59.907160Z"
    }
   },
   "outputs": [],
   "source": [
    "nTypes = ['1', '2', '3']\n",
    "# subject_names = ['AR', 'AS', 'CAN', 'CG', 'CK', 'CT', 'EK', 'ES', 'EW', 'HE', 'HL', 'HOL', 'HY', 'IS', 'JP', 'MF', 'NC','SA', 'SK', 'SS']\n",
    "subject_names = ['AR', 'CK', 'CT', 'EW', 'HL', 'IS', 'JP', 'MF', 'NC', 'SK', 'SS']\n"
   ]
  },
  {
   "cell_type": "code",
   "execution_count": 10,
   "metadata": {
    "ExecuteTime": {
     "end_time": "2020-07-15T20:47:00.465564Z",
     "start_time": "2020-07-15T20:46:59.924246Z"
    }
   },
   "outputs": [
    {
     "name": "stdout",
     "output_type": "stream",
     "text": [
      "AR\n",
      "CK\n",
      "CT\n",
      "EW\n",
      "HL\n",
      "IS\n",
      "JP\n",
      "MF\n",
      "NC\n",
      "SK\n",
      "SS\n",
      "11\n",
      "AR\n",
      "CK\n",
      "CT\n",
      "EW\n",
      "HL\n",
      "IS\n",
      "JP\n",
      "MF\n",
      "NC\n",
      "SK\n",
      "SS\n",
      "11\n",
      "AR\n",
      "CK\n",
      "CT\n",
      "EW\n",
      "HL\n",
      "IS\n",
      "JP\n",
      "MF\n",
      "NC\n",
      "SK\n",
      "SS\n",
      "11\n"
     ]
    }
   ],
   "source": [
    "# subject_names = ['AR', 'AS', 'CAN', 'CG', 'CK', 'CT', 'EK', 'ES', 'EW', 'HE', 'HL', 'HOL', 'HY', 'IS', 'JP', 'MF', 'NC','SA', 'SK', 'SS']\n",
    "subject_names = ['AR', 'CK', 'CT', 'EW', 'HL', 'IS', 'JP', 'MF', 'NC', 'SK', 'SS']\n",
    "\n",
    "alldata_v2 = pd.DataFrame(columns=['SUBJECT', 'BOOTSTRAP_VALUES'])\n",
    "ntype_data_trimed = pd.DataFrame()\n",
    "ntype_data = pd.DataFrame()\n",
    "\n",
    "row_type = 0\n",
    "for ntype in nTypes:\n",
    "    row = 0\n",
    "    alldata_trimed_v2 = pd.DataFrame()\n",
    "    for subject in subject_names:\n",
    "        subjectdata_temp = pd.DataFrame()\n",
    "\n",
    "        # load data:\n",
    "        filename = datapath + subject + '/' + subject + '_VM_output_' + ntype + 'nBack.csv'\n",
    "        subjectdata = pd.read_csv(filename)\n",
    "        subjectdata_temp['BOOTSTRAP_VALUES'] = subjectdata['bootstrap_values']\n",
    "        subjectdata_temp.loc[:, 'SUBJECT'] = subject\n",
    "        subjectdata_temp.loc[:, 'NTYPE'] = ntype\n",
    "\n",
    "        print(subject)\n",
    "        alldata_trimed_v2.loc[row,'SUBJECT'] = subject\n",
    "\n",
    "        mean, ci_low, ci_up = mean_confidence_interval.confidence_interval_percentile(subjectdata['bootstrap_values'])\n",
    "        \n",
    "        alldata_trimed_v2.loc[row, 'NTYPE'] = ntype\n",
    "        alldata_trimed_v2.loc[row, 'BOOTSTRAP_MEAN'] = mean\n",
    "        alldata_trimed_v2.loc[row, 'BOOTSTRAP_CI_LOW'] = ci_low\n",
    "        alldata_trimed_v2.loc[row, 'BOOTSTRAP_CI_UP'] = ci_up\n",
    "\n",
    "#         if subject == 'S1':\n",
    "#             alldata_v2 = subjectdata_temp\n",
    "#         else:\n",
    "#             alldata_v2 = pd.concat([alldata_v2, subjectdata_temp])\n",
    "\n",
    "        row += 1\n",
    "    \n",
    "    if ntype == '1':\n",
    "        ntype_data = alldata_trimed_v2\n",
    "        \n",
    "    else:\n",
    "        ntype_data = pd.concat([ntype_data, alldata_trimed_v2])\n",
    "        \n",
    "    print(len(alldata_trimed_v2))\n",
    "    mean_type, ci_low_type, ci_up_type = mean_confidence_interval.mean_confidence_interval(alldata_trimed_v2['BOOTSTRAP_MEAN'])\n",
    "    ntype_data_trimed.loc[row_type, 'NTYPE'] = alldata_trimed_v2.NTYPE.unique()\n",
    "    ntype_data_trimed.loc[row_type, 'NTYPE_MEAN'] = mean_type\n",
    "    ntype_data_trimed.loc[row_type, 'NTYPE_CI_LOW'] = ci_low_type\n",
    "    ntype_data_trimed.loc[row_type, 'NTYPE_CI_UP'] = ci_up_type\n",
    "    \n",
    "    row_type += 1\n",
    "    \n",
    "\n",
    "    \n",
    "    \n",
    "        \n"
   ]
  },
  {
   "cell_type": "code",
   "execution_count": 11,
   "metadata": {
    "ExecuteTime": {
     "end_time": "2020-07-15T20:47:00.485950Z",
     "start_time": "2020-07-15T20:47:00.469316Z"
    }
   },
   "outputs": [
    {
     "name": "stdout",
     "output_type": "stream",
     "text": [
      "0\n",
      "1\n",
      "2\n"
     ]
    }
   ],
   "source": [
    "alldata_ci_v2 = pd.DataFrame(columns= nTypes)\n",
    "for i in range(len(ntype_data_trimed)):\n",
    "    \n",
    "    print(i)\n",
    "    ntype = ntype_data_trimed.loc[i, 'NTYPE']\n",
    "    low = ntype_data_trimed.loc[i, 'NTYPE_MEAN'] - ntype_data_trimed.loc[i, 'NTYPE_CI_LOW']\n",
    "    up = ntype_data_trimed.loc[i, 'NTYPE_CI_UP'] - ntype_data_trimed.loc[i, 'NTYPE_MEAN'] \n",
    "    \n",
    "    alldata_ci_v2.loc[0, ntype] = low\n",
    "    alldata_ci_v2.loc[1, ntype] = up"
   ]
  },
  {
   "cell_type": "code",
   "execution_count": 12,
   "metadata": {
    "ExecuteTime": {
     "end_time": "2020-07-15T20:47:03.282178Z",
     "start_time": "2020-07-15T20:47:00.490887Z"
    }
   },
   "outputs": [
    {
     "name": "stderr",
     "output_type": "stream",
     "text": [
      "The PostScript backend does not support transparency; partially transparent artists will be rendered opaque.\n",
      "The PostScript backend does not support transparency; partially transparent artists will be rendered opaque.\n",
      "The PostScript backend does not support transparency; partially transparent artists will be rendered opaque.\n",
      "The PostScript backend does not support transparency; partially transparent artists will be rendered opaque.\n",
      "The PostScript backend does not support transparency; partially transparent artists will be rendered opaque.\n",
      "The PostScript backend does not support transparency; partially transparent artists will be rendered opaque.\n",
      "The PostScript backend does not support transparency; partially transparent artists will be rendered opaque.\n",
      "The PostScript backend does not support transparency; partially transparent artists will be rendered opaque.\n",
      "The PostScript backend does not support transparency; partially transparent artists will be rendered opaque.\n",
      "The PostScript backend does not support transparency; partially transparent artists will be rendered opaque.\n",
      "The PostScript backend does not support transparency; partially transparent artists will be rendered opaque.\n",
      "The PostScript backend does not support transparency; partially transparent artists will be rendered opaque.\n",
      "The PostScript backend does not support transparency; partially transparent artists will be rendered opaque.\n",
      "The PostScript backend does not support transparency; partially transparent artists will be rendered opaque.\n",
      "The PostScript backend does not support transparency; partially transparent artists will be rendered opaque.\n",
      "The PostScript backend does not support transparency; partially transparent artists will be rendered opaque.\n",
      "The PostScript backend does not support transparency; partially transparent artists will be rendered opaque.\n",
      "The PostScript backend does not support transparency; partially transparent artists will be rendered opaque.\n",
      "The PostScript backend does not support transparency; partially transparent artists will be rendered opaque.\n",
      "The PostScript backend does not support transparency; partially transparent artists will be rendered opaque.\n",
      "The PostScript backend does not support transparency; partially transparent artists will be rendered opaque.\n",
      "The PostScript backend does not support transparency; partially transparent artists will be rendered opaque.\n",
      "The PostScript backend does not support transparency; partially transparent artists will be rendered opaque.\n",
      "The PostScript backend does not support transparency; partially transparent artists will be rendered opaque.\n",
      "The PostScript backend does not support transparency; partially transparent artists will be rendered opaque.\n",
      "The PostScript backend does not support transparency; partially transparent artists will be rendered opaque.\n",
      "The PostScript backend does not support transparency; partially transparent artists will be rendered opaque.\n",
      "The PostScript backend does not support transparency; partially transparent artists will be rendered opaque.\n",
      "The PostScript backend does not support transparency; partially transparent artists will be rendered opaque.\n",
      "The PostScript backend does not support transparency; partially transparent artists will be rendered opaque.\n",
      "The PostScript backend does not support transparency; partially transparent artists will be rendered opaque.\n",
      "The PostScript backend does not support transparency; partially transparent artists will be rendered opaque.\n",
      "The PostScript backend does not support transparency; partially transparent artists will be rendered opaque.\n",
      "The PostScript backend does not support transparency; partially transparent artists will be rendered opaque.\n",
      "The PostScript backend does not support transparency; partially transparent artists will be rendered opaque.\n",
      "The PostScript backend does not support transparency; partially transparent artists will be rendered opaque.\n",
      "The PostScript backend does not support transparency; partially transparent artists will be rendered opaque.\n",
      "The PostScript backend does not support transparency; partially transparent artists will be rendered opaque.\n",
      "The PostScript backend does not support transparency; partially transparent artists will be rendered opaque.\n",
      "The PostScript backend does not support transparency; partially transparent artists will be rendered opaque.\n",
      "The PostScript backend does not support transparency; partially transparent artists will be rendered opaque.\n",
      "The PostScript backend does not support transparency; partially transparent artists will be rendered opaque.\n",
      "The PostScript backend does not support transparency; partially transparent artists will be rendered opaque.\n",
      "The PostScript backend does not support transparency; partially transparent artists will be rendered opaque.\n",
      "The PostScript backend does not support transparency; partially transparent artists will be rendered opaque.\n",
      "The PostScript backend does not support transparency; partially transparent artists will be rendered opaque.\n",
      "The PostScript backend does not support transparency; partially transparent artists will be rendered opaque.\n",
      "The PostScript backend does not support transparency; partially transparent artists will be rendered opaque.\n",
      "The PostScript backend does not support transparency; partially transparent artists will be rendered opaque.\n",
      "The PostScript backend does not support transparency; partially transparent artists will be rendered opaque.\n",
      "The PostScript backend does not support transparency; partially transparent artists will be rendered opaque.\n",
      "The PostScript backend does not support transparency; partially transparent artists will be rendered opaque.\n",
      "The PostScript backend does not support transparency; partially transparent artists will be rendered opaque.\n",
      "The PostScript backend does not support transparency; partially transparent artists will be rendered opaque.\n",
      "The PostScript backend does not support transparency; partially transparent artists will be rendered opaque.\n",
      "The PostScript backend does not support transparency; partially transparent artists will be rendered opaque.\n",
      "The PostScript backend does not support transparency; partially transparent artists will be rendered opaque.\n",
      "The PostScript backend does not support transparency; partially transparent artists will be rendered opaque.\n",
      "The PostScript backend does not support transparency; partially transparent artists will be rendered opaque.\n",
      "The PostScript backend does not support transparency; partially transparent artists will be rendered opaque.\n",
      "The PostScript backend does not support transparency; partially transparent artists will be rendered opaque.\n",
      "The PostScript backend does not support transparency; partially transparent artists will be rendered opaque.\n",
      "The PostScript backend does not support transparency; partially transparent artists will be rendered opaque.\n",
      "The PostScript backend does not support transparency; partially transparent artists will be rendered opaque.\n",
      "The PostScript backend does not support transparency; partially transparent artists will be rendered opaque.\n",
      "The PostScript backend does not support transparency; partially transparent artists will be rendered opaque.\n"
     ]
    },
    {
     "data": {
      "image/png": "[encoded data removed]",
      "text/plain": [
       "<Figure size 720x432 with 1 Axes>"
      ]
     },
     "metadata": {
      "needs_background": "light"
     },
     "output_type": "display_data"
    }
   ],
   "source": [
    "plt.figure(figsize=(10, 6))\n",
    "\n",
    "plt.bar(ntype_data_trimed['NTYPE'], ntype_data_trimed['NTYPE_MEAN'], yerr=alldata_ci_v2.to_numpy(), ecolor='black',\n",
    "       capsize=6, color = 'darkgray')\n",
    "ax = sns.swarmplot(x='NTYPE', y=\"BOOTSTRAP_MEAN\", data=ntype_data, dodge=True, size=10, alpha=0.7)\n",
    "plt.savefig('HalfAmplitude_v2_naives.eps', bbox_inches='tight', dpi=1200)\n",
    "plt.savefig('HalfAmplitude_v2_naives.svg', bbox_inches='tight', dpi=1200)\n",
    "plt.savefig('HalfAmplitude_v2_naives.jpg', bbox_inches='tight', dpi=1200)"
   ]
  },
  {
   "cell_type": "markdown",
   "metadata": {},
   "source": [
    "#  Plot Fig 3 v3"
   ]
  },
  {
   "cell_type": "code",
   "execution_count": 13,
   "metadata": {
    "ExecuteTime": {
     "end_time": "2020-07-15T20:50:55.764661Z",
     "start_time": "2020-07-15T20:47:03.284727Z"
    }
   },
   "outputs": [
    {
     "name": "stdout",
     "output_type": "stream",
     "text": [
      "AR\n",
      "CK\n",
      "CT\n",
      "EW\n",
      "HL\n",
      "IS\n",
      "JP\n",
      "MF\n",
      "NC\n",
      "SK\n",
      "SS\n",
      "AR\n",
      "CK\n",
      "CT\n",
      "EW\n",
      "HL\n",
      "IS\n",
      "JP\n",
      "MF\n",
      "NC\n",
      "SK\n",
      "SS\n",
      "AR\n",
      "CK\n",
      "CT\n",
      "EW\n",
      "HL\n",
      "IS\n",
      "JP\n",
      "MF\n",
      "NC\n",
      "SK\n",
      "SS\n"
     ]
    }
   ],
   "source": [
    "# subject_names = ['AR', 'AS', 'CAN', 'CG', 'CK', 'CT', 'EK', 'ES', 'EW', 'HE', 'HL', 'HOL', 'HY', 'IS', 'JP', 'MF', 'NC','SA', 'SK', 'SS']\n",
    "subject_names = ['AR', 'CK', 'CT', 'EW', 'HL', 'IS', 'JP', 'MF', 'NC', 'SK', 'SS']\n",
    "nTypes = ['1', '2', '3']\n",
    "\n",
    "bootstrap_data = pd.DataFrame()\n",
    "row_subject = 0\n",
    "for ntype in nTypes:\n",
    "    for subject in subject_names:\n",
    "        print(subject)\n",
    "        subjectdata_temp = pd.DataFrame()\n",
    "\n",
    "        # load data:\n",
    "        filename = datapath + subject + '/' + subject + '_VM_output_' + ntype + 'nBack.csv'\n",
    "        subjectdata = pd.read_csv(filename)\n",
    "        subjectdata_temp.loc[row_subject, 'SUBJECT'] = subject\n",
    "        subjectdata_temp.loc[row_subject, 'TYPE'] = ntype\n",
    "        \n",
    "        for iteration in range(len(subjectdata['bootstrap_values'])):\n",
    "            \n",
    "            subjectdata_temp.loc[row_subject, str(iteration)] = subjectdata.loc[iteration, 'bootstrap_values']\n",
    "\n",
    "\n",
    "\n",
    "    \n",
    "        if (ntype == '1') & (subject == '1'):\n",
    "            bootstrap_data = subjectdata_temp\n",
    "\n",
    "        else:\n",
    "            bootstrap_data = pd.concat([bootstrap_data, subjectdata_temp])\n",
    "            \n",
    "        row_subject += 1\n",
    "\n",
    "        \n"
   ]
  },
  {
   "cell_type": "code",
   "execution_count": 14,
   "metadata": {
    "ExecuteTime": {
     "end_time": "2020-07-15T20:51:11.413252Z",
     "start_time": "2020-07-15T20:50:55.766300Z"
    }
   },
   "outputs": [
    {
     "name": "stdout",
     "output_type": "stream",
     "text": [
      "1\n",
      "2\n",
      "3\n"
     ]
    }
   ],
   "source": [
    "bootstrap_trimed = pd.DataFrame()\n",
    "\n",
    "row = 0\n",
    "for ntype in nTypes:\n",
    "    \n",
    "    print(ntype)\n",
    "    type_data = bootstrap_data[bootstrap_data['TYPE'] == ntype]\n",
    "    \n",
    "    for iteration in range(5000):\n",
    "        \n",
    "        column = str(iteration)\n",
    "        \n",
    "        bootstrap_trimed.loc[row,'TYPE'] = ntype\n",
    "        bootstrap_trimed.loc[row, column] = np.mean(type_data[column])\n",
    "        \n",
    "    \n",
    "    row += 1"
   ]
  },
  {
   "cell_type": "code",
   "execution_count": 15,
   "metadata": {
    "ExecuteTime": {
     "end_time": "2020-07-15T20:51:11.455566Z",
     "start_time": "2020-07-15T20:51:11.414864Z"
    }
   },
   "outputs": [],
   "source": [
    "type_v3 = pd.DataFrame()\n",
    "row=0\n",
    "for ntype in nTypes:\n",
    "    \n",
    "    type_data = bootstrap_trimed[bootstrap_trimed['TYPE'] == ntype].reset_index(drop=True)\n",
    "    mean, ci_low, ci_up = mean_confidence_interval.confidence_interval_percentile(type_data.iloc[0, 1:])\n",
    "    \n",
    "    type_v3.loc[row, 'TYPE'] = ntype\n",
    "    type_v3.loc[row, 'MEAN'] = mean\n",
    "    type_v3.loc[row, 'CI_LOW'] = ci_low\n",
    "    type_v3.loc[row, 'CI_UP'] = ci_up\n",
    "    \n",
    "    row += 1\n",
    "    "
   ]
  },
  {
   "cell_type": "code",
   "execution_count": 16,
   "metadata": {
    "ExecuteTime": {
     "end_time": "2020-07-15T20:51:11.471680Z",
     "start_time": "2020-07-15T20:51:11.457087Z"
    }
   },
   "outputs": [
    {
     "name": "stdout",
     "output_type": "stream",
     "text": [
      "0\n",
      "1\n",
      "2\n"
     ]
    }
   ],
   "source": [
    "alldata_ci_v3 = pd.DataFrame(columns= nTypes)\n",
    "for i in range(len(type_v3)):\n",
    "    \n",
    "    print(i)\n",
    "    ntype = type_v3.loc[i, 'TYPE']\n",
    "    low = type_v3.loc[i, 'MEAN'] - type_v3.loc[i, 'CI_LOW']\n",
    "    up = type_v3.loc[i, 'CI_UP'] - type_v3.loc[i, 'MEAN'] \n",
    "    \n",
    "    alldata_ci_v3.loc[0, ntype] = low\n",
    "    alldata_ci_v3.loc[1, ntype] = up"
   ]
  },
  {
   "cell_type": "code",
   "execution_count": 17,
   "metadata": {
    "ExecuteTime": {
     "end_time": "2020-07-15T20:51:37.857797Z",
     "start_time": "2020-07-15T20:51:11.473415Z"
    }
   },
   "outputs": [],
   "source": [
    "boostrap_trimed_reorganized = pd.DataFrame()\n",
    "row = 0\n",
    "for ntype in nTypes:\n",
    "    \n",
    "    type_data = bootstrap_trimed[bootstrap_trimed['TYPE'] == ntype].reset_index(drop=True)\n",
    "\n",
    "    for iteration in range(5000):\n",
    "        \n",
    "        \n",
    "        boostrap_trimed_reorganized.loc[row, 'TYPE'] = ntype\n",
    "        boostrap_trimed_reorganized.loc[row, 'BOOSTRAP_MEAN'] = type_data.loc[0, str(iteration)]\n",
    "        \n",
    "        \n",
    "        row += 1\n",
    "        \n",
    "        "
   ]
  },
  {
   "cell_type": "code",
   "execution_count": 18,
   "metadata": {
    "ExecuteTime": {
     "end_time": "2020-07-15T20:51:39.648143Z",
     "start_time": "2020-07-15T20:51:37.862606Z"
    },
    "scrolled": false
   },
   "outputs": [
    {
     "name": "stderr",
     "output_type": "stream",
     "text": [
      "The PostScript backend does not support transparency; partially transparent artists will be rendered opaque.\n",
      "The PostScript backend does not support transparency; partially transparent artists will be rendered opaque.\n",
      "The PostScript backend does not support transparency; partially transparent artists will be rendered opaque.\n",
      "The PostScript backend does not support transparency; partially transparent artists will be rendered opaque.\n",
      "The PostScript backend does not support transparency; partially transparent artists will be rendered opaque.\n",
      "The PostScript backend does not support transparency; partially transparent artists will be rendered opaque.\n",
      "The PostScript backend does not support transparency; partially transparent artists will be rendered opaque.\n",
      "The PostScript backend does not support transparency; partially transparent artists will be rendered opaque.\n",
      "The PostScript backend does not support transparency; partially transparent artists will be rendered opaque.\n",
      "The PostScript backend does not support transparency; partially transparent artists will be rendered opaque.\n",
      "The PostScript backend does not support transparency; partially transparent artists will be rendered opaque.\n",
      "The PostScript backend does not support transparency; partially transparent artists will be rendered opaque.\n",
      "The PostScript backend does not support transparency; partially transparent artists will be rendered opaque.\n",
      "The PostScript backend does not support transparency; partially transparent artists will be rendered opaque.\n",
      "The PostScript backend does not support transparency; partially transparent artists will be rendered opaque.\n",
      "The PostScript backend does not support transparency; partially transparent artists will be rendered opaque.\n",
      "The PostScript backend does not support transparency; partially transparent artists will be rendered opaque.\n",
      "The PostScript backend does not support transparency; partially transparent artists will be rendered opaque.\n",
      "The PostScript backend does not support transparency; partially transparent artists will be rendered opaque.\n",
      "The PostScript backend does not support transparency; partially transparent artists will be rendered opaque.\n",
      "The PostScript backend does not support transparency; partially transparent artists will be rendered opaque.\n",
      "The PostScript backend does not support transparency; partially transparent artists will be rendered opaque.\n",
      "The PostScript backend does not support transparency; partially transparent artists will be rendered opaque.\n",
      "The PostScript backend does not support transparency; partially transparent artists will be rendered opaque.\n",
      "The PostScript backend does not support transparency; partially transparent artists will be rendered opaque.\n",
      "The PostScript backend does not support transparency; partially transparent artists will be rendered opaque.\n",
      "The PostScript backend does not support transparency; partially transparent artists will be rendered opaque.\n",
      "The PostScript backend does not support transparency; partially transparent artists will be rendered opaque.\n",
      "The PostScript backend does not support transparency; partially transparent artists will be rendered opaque.\n",
      "The PostScript backend does not support transparency; partially transparent artists will be rendered opaque.\n",
      "The PostScript backend does not support transparency; partially transparent artists will be rendered opaque.\n",
      "The PostScript backend does not support transparency; partially transparent artists will be rendered opaque.\n",
      "The PostScript backend does not support transparency; partially transparent artists will be rendered opaque.\n",
      "The PostScript backend does not support transparency; partially transparent artists will be rendered opaque.\n",
      "The PostScript backend does not support transparency; partially transparent artists will be rendered opaque.\n",
      "The PostScript backend does not support transparency; partially transparent artists will be rendered opaque.\n",
      "The PostScript backend does not support transparency; partially transparent artists will be rendered opaque.\n",
      "The PostScript backend does not support transparency; partially transparent artists will be rendered opaque.\n",
      "The PostScript backend does not support transparency; partially transparent artists will be rendered opaque.\n",
      "The PostScript backend does not support transparency; partially transparent artists will be rendered opaque.\n",
      "The PostScript backend does not support transparency; partially transparent artists will be rendered opaque.\n",
      "The PostScript backend does not support transparency; partially transparent artists will be rendered opaque.\n",
      "The PostScript backend does not support transparency; partially transparent artists will be rendered opaque.\n",
      "The PostScript backend does not support transparency; partially transparent artists will be rendered opaque.\n",
      "The PostScript backend does not support transparency; partially transparent artists will be rendered opaque.\n",
      "The PostScript backend does not support transparency; partially transparent artists will be rendered opaque.\n",
      "The PostScript backend does not support transparency; partially transparent artists will be rendered opaque.\n",
      "The PostScript backend does not support transparency; partially transparent artists will be rendered opaque.\n",
      "The PostScript backend does not support transparency; partially transparent artists will be rendered opaque.\n",
      "The PostScript backend does not support transparency; partially transparent artists will be rendered opaque.\n",
      "The PostScript backend does not support transparency; partially transparent artists will be rendered opaque.\n",
      "The PostScript backend does not support transparency; partially transparent artists will be rendered opaque.\n",
      "The PostScript backend does not support transparency; partially transparent artists will be rendered opaque.\n",
      "The PostScript backend does not support transparency; partially transparent artists will be rendered opaque.\n",
      "The PostScript backend does not support transparency; partially transparent artists will be rendered opaque.\n",
      "The PostScript backend does not support transparency; partially transparent artists will be rendered opaque.\n",
      "The PostScript backend does not support transparency; partially transparent artists will be rendered opaque.\n",
      "The PostScript backend does not support transparency; partially transparent artists will be rendered opaque.\n",
      "The PostScript backend does not support transparency; partially transparent artists will be rendered opaque.\n",
      "The PostScript backend does not support transparency; partially transparent artists will be rendered opaque.\n",
      "The PostScript backend does not support transparency; partially transparent artists will be rendered opaque.\n",
      "The PostScript backend does not support transparency; partially transparent artists will be rendered opaque.\n",
      "The PostScript backend does not support transparency; partially transparent artists will be rendered opaque.\n",
      "The PostScript backend does not support transparency; partially transparent artists will be rendered opaque.\n",
      "The PostScript backend does not support transparency; partially transparent artists will be rendered opaque.\n",
      "The PostScript backend does not support transparency; partially transparent artists will be rendered opaque.\n",
      "The PostScript backend does not support transparency; partially transparent artists will be rendered opaque.\n",
      "The PostScript backend does not support transparency; partially transparent artists will be rendered opaque.\n",
      "The PostScript backend does not support transparency; partially transparent artists will be rendered opaque.\n",
      "The PostScript backend does not support transparency; partially transparent artists will be rendered opaque.\n",
      "The PostScript backend does not support transparency; partially transparent artists will be rendered opaque.\n",
      "The PostScript backend does not support transparency; partially transparent artists will be rendered opaque.\n",
      "The PostScript backend does not support transparency; partially transparent artists will be rendered opaque.\n",
      "The PostScript backend does not support transparency; partially transparent artists will be rendered opaque.\n",
      "The PostScript backend does not support transparency; partially transparent artists will be rendered opaque.\n",
      "The PostScript backend does not support transparency; partially transparent artists will be rendered opaque.\n"
     ]
    },
    {
     "name": "stderr",
     "output_type": "stream",
     "text": [
      "The PostScript backend does not support transparency; partially transparent artists will be rendered opaque.\n",
      "The PostScript backend does not support transparency; partially transparent artists will be rendered opaque.\n",
      "The PostScript backend does not support transparency; partially transparent artists will be rendered opaque.\n",
      "The PostScript backend does not support transparency; partially transparent artists will be rendered opaque.\n",
      "The PostScript backend does not support transparency; partially transparent artists will be rendered opaque.\n",
      "The PostScript backend does not support transparency; partially transparent artists will be rendered opaque.\n",
      "The PostScript backend does not support transparency; partially transparent artists will be rendered opaque.\n",
      "The PostScript backend does not support transparency; partially transparent artists will be rendered opaque.\n",
      "The PostScript backend does not support transparency; partially transparent artists will be rendered opaque.\n",
      "The PostScript backend does not support transparency; partially transparent artists will be rendered opaque.\n",
      "The PostScript backend does not support transparency; partially transparent artists will be rendered opaque.\n",
      "The PostScript backend does not support transparency; partially transparent artists will be rendered opaque.\n",
      "The PostScript backend does not support transparency; partially transparent artists will be rendered opaque.\n",
      "The PostScript backend does not support transparency; partially transparent artists will be rendered opaque.\n",
      "The PostScript backend does not support transparency; partially transparent artists will be rendered opaque.\n",
      "The PostScript backend does not support transparency; partially transparent artists will be rendered opaque.\n",
      "The PostScript backend does not support transparency; partially transparent artists will be rendered opaque.\n",
      "The PostScript backend does not support transparency; partially transparent artists will be rendered opaque.\n",
      "The PostScript backend does not support transparency; partially transparent artists will be rendered opaque.\n",
      "The PostScript backend does not support transparency; partially transparent artists will be rendered opaque.\n",
      "The PostScript backend does not support transparency; partially transparent artists will be rendered opaque.\n",
      "The PostScript backend does not support transparency; partially transparent artists will be rendered opaque.\n",
      "The PostScript backend does not support transparency; partially transparent artists will be rendered opaque.\n",
      "The PostScript backend does not support transparency; partially transparent artists will be rendered opaque.\n",
      "The PostScript backend does not support transparency; partially transparent artists will be rendered opaque.\n",
      "The PostScript backend does not support transparency; partially transparent artists will be rendered opaque.\n",
      "The PostScript backend does not support transparency; partially transparent artists will be rendered opaque.\n",
      "The PostScript backend does not support transparency; partially transparent artists will be rendered opaque.\n",
      "The PostScript backend does not support transparency; partially transparent artists will be rendered opaque.\n",
      "The PostScript backend does not support transparency; partially transparent artists will be rendered opaque.\n",
      "The PostScript backend does not support transparency; partially transparent artists will be rendered opaque.\n",
      "The PostScript backend does not support transparency; partially transparent artists will be rendered opaque.\n",
      "The PostScript backend does not support transparency; partially transparent artists will be rendered opaque.\n",
      "The PostScript backend does not support transparency; partially transparent artists will be rendered opaque.\n",
      "The PostScript backend does not support transparency; partially transparent artists will be rendered opaque.\n",
      "The PostScript backend does not support transparency; partially transparent artists will be rendered opaque.\n",
      "The PostScript backend does not support transparency; partially transparent artists will be rendered opaque.\n",
      "The PostScript backend does not support transparency; partially transparent artists will be rendered opaque.\n",
      "The PostScript backend does not support transparency; partially transparent artists will be rendered opaque.\n",
      "The PostScript backend does not support transparency; partially transparent artists will be rendered opaque.\n",
      "The PostScript backend does not support transparency; partially transparent artists will be rendered opaque.\n",
      "The PostScript backend does not support transparency; partially transparent artists will be rendered opaque.\n",
      "The PostScript backend does not support transparency; partially transparent artists will be rendered opaque.\n",
      "The PostScript backend does not support transparency; partially transparent artists will be rendered opaque.\n",
      "The PostScript backend does not support transparency; partially transparent artists will be rendered opaque.\n",
      "The PostScript backend does not support transparency; partially transparent artists will be rendered opaque.\n",
      "The PostScript backend does not support transparency; partially transparent artists will be rendered opaque.\n",
      "The PostScript backend does not support transparency; partially transparent artists will be rendered opaque.\n",
      "The PostScript backend does not support transparency; partially transparent artists will be rendered opaque.\n",
      "The PostScript backend does not support transparency; partially transparent artists will be rendered opaque.\n",
      "The PostScript backend does not support transparency; partially transparent artists will be rendered opaque.\n",
      "The PostScript backend does not support transparency; partially transparent artists will be rendered opaque.\n",
      "The PostScript backend does not support transparency; partially transparent artists will be rendered opaque.\n",
      "The PostScript backend does not support transparency; partially transparent artists will be rendered opaque.\n",
      "The PostScript backend does not support transparency; partially transparent artists will be rendered opaque.\n",
      "The PostScript backend does not support transparency; partially transparent artists will be rendered opaque.\n",
      "The PostScript backend does not support transparency; partially transparent artists will be rendered opaque.\n",
      "The PostScript backend does not support transparency; partially transparent artists will be rendered opaque.\n",
      "The PostScript backend does not support transparency; partially transparent artists will be rendered opaque.\n",
      "The PostScript backend does not support transparency; partially transparent artists will be rendered opaque.\n",
      "The PostScript backend does not support transparency; partially transparent artists will be rendered opaque.\n",
      "The PostScript backend does not support transparency; partially transparent artists will be rendered opaque.\n",
      "The PostScript backend does not support transparency; partially transparent artists will be rendered opaque.\n",
      "The PostScript backend does not support transparency; partially transparent artists will be rendered opaque.\n",
      "The PostScript backend does not support transparency; partially transparent artists will be rendered opaque.\n",
      "The PostScript backend does not support transparency; partially transparent artists will be rendered opaque.\n",
      "The PostScript backend does not support transparency; partially transparent artists will be rendered opaque.\n",
      "The PostScript backend does not support transparency; partially transparent artists will be rendered opaque.\n"
     ]
    },
    {
     "data": {
      "image/png": "[encoded data removed]",
      "text/plain": [
       "<Figure size 324x360 with 1 Axes>"
      ]
     },
     "metadata": {
      "needs_background": "light"
     },
     "output_type": "display_data"
    }
   ],
   "source": [
    "plt.figure(figsize=(4.5, 5))\n",
    "\n",
    "plt.bar(type_v3['TYPE'], type_v3['MEAN'], yerr=alldata_ci_v3.to_numpy(), ecolor='black',\n",
    "       capsize=6,color = ['darkgreen', 'forestgreen', 'darkseagreen'], edgecolor='k', alpha=0.9, width=0.6, linewidth=2)\n",
    "# ax = sns.swarmplot(x='TYPE', y=\"BOOSTRAP_MEAN\", data=boostrap_trimed_reorganized, dodge=True, size=10, alpha=0.7)\n",
    "ax = sns.swarmplot(x='NTYPE', y=\"BOOTSTRAP_MEAN\", data=ntype_data, dodge=True, size=7, alpha=0.7,edgecolor='k', linewidth=1, palette=['darkgreen', 'forestgreen', 'darkseagreen'])\n",
    "sns.despine()\n",
    "plt.ylabel('Bootstrapped                 \\nHalf                 \\nAmplitude                   ', rotation=0)\n",
    "plt.xlabel('')\n",
    "plt.ylim([-3, 6])\n",
    "ax.set_xticklabels(['1-Back', '2-Back', '3-Back'])\n",
    "plt.axhline(0, linestyle='-', linewidth=2, c='k')\n",
    "sns.despine()\n",
    "plt.yticks(np.arange(-3, 7, 1.0))\n",
    "plt.savefig('HalfAmplitude_v3_naives.eps', bbox_inches='tight', dpi=1200)\n",
    "plt.savefig('HalfAmplitude_v3_naives.svg', bbox_inches='tight', dpi=1200)\n",
    "plt.savefig('HalfAmplitude_v3_naives.jpg', bbox_inches='tight', dpi=1200)"
   ]
  },
  {
   "cell_type": "markdown",
   "metadata": {},
   "source": [
    "## Test significance bars "
   ]
  },
  {
   "cell_type": "code",
   "execution_count": 19,
   "metadata": {
    "ExecuteTime": {
     "end_time": "2020-07-15T20:51:39.835001Z",
     "start_time": "2020-07-15T20:51:39.654020Z"
    }
   },
   "outputs": [
    {
     "name": "stdout",
     "output_type": "stream",
     "text": [
      "1.0\n"
     ]
    },
    {
     "data": {
      "image/png": "[encoded data removed]",
      "text/plain": [
       "<Figure size 360x360 with 1 Axes>"
      ]
     },
     "metadata": {
      "needs_background": "light"
     },
     "output_type": "display_data"
    }
   ],
   "source": [
    "compDistributions.sigDistribution(bootstrap_trimed.iloc[0, 1:], extra_title=' 1-Back Naive', xlim=[-3, 4])"
   ]
  },
  {
   "cell_type": "code",
   "execution_count": 20,
   "metadata": {
    "ExecuteTime": {
     "end_time": "2020-07-15T20:51:39.986701Z",
     "start_time": "2020-07-15T20:51:39.836651Z"
    }
   },
   "outputs": [
    {
     "name": "stdout",
     "output_type": "stream",
     "text": [
      "1.0\n"
     ]
    },
    {
     "data": {
      "image/png": "[encoded data removed]",
      "text/plain": [
       "<Figure size 360x360 with 1 Axes>"
      ]
     },
     "metadata": {
      "needs_background": "light"
     },
     "output_type": "display_data"
    }
   ],
   "source": [
    "compDistributions.sigDistribution(bootstrap_trimed.iloc[1, 1:], extra_title=' 2-Back Naive', xlim=[-3, 4])"
   ]
  },
  {
   "cell_type": "code",
   "execution_count": 21,
   "metadata": {
    "ExecuteTime": {
     "end_time": "2020-07-15T20:51:40.151677Z",
     "start_time": "2020-07-15T20:51:39.988470Z"
    }
   },
   "outputs": [
    {
     "name": "stdout",
     "output_type": "stream",
     "text": [
      "0.9394\n"
     ]
    },
    {
     "data": {
      "image/png": "[encoded data removed]",
      "text/plain": [
       "<Figure size 360x360 with 1 Axes>"
      ]
     },
     "metadata": {
      "needs_background": "light"
     },
     "output_type": "display_data"
    }
   ],
   "source": [
    "compDistributions.sigDistribution(bootstrap_trimed.iloc[2, 1:], extra_title=' 3-Back Naive', xlim=[-3, 4])"
   ]
  },
  {
   "cell_type": "markdown",
   "metadata": {},
   "source": [
    "# Extra "
   ]
  },
  {
   "cell_type": "markdown",
   "metadata": {},
   "source": [
    " "
   ]
  },
  {
   "cell_type": "code",
   "execution_count": null,
   "metadata": {},
   "outputs": [],
   "source": []
  }
 ],
 "metadata": {
  "kernelspec": {
   "display_name": "Python 3",
   "language": "python",
   "name": "python3"
  },
  "language_info": {
   "codemirror_mode": {
    "name": "ipython",
    "version": 3
   },
   "file_extension": ".py",
   "mimetype": "text/x-python",
   "name": "python",
   "nbconvert_exporter": "python",
   "pygments_lexer": "ipython3",
   "version": "3.7.6"
  },
  "toc": {
   "base_numbering": 1,
   "nav_menu": {},
   "number_sections": true,
   "sideBar": true,
   "skip_h1_title": false,
   "title_cell": "Table of Contents",
   "title_sidebar": "Contents",
   "toc_cell": false,
   "toc_position": {
    "height": "calc(100% - 180px)",
    "left": "10px",
    "top": "150px",
    "width": "165px"
   },
   "toc_section_display": true,
   "toc_window_display": true
  },
  "varInspector": {
   "cols": {
    "lenName": 16,
    "lenType": 16,
    "lenVar": 40
   },
   "kernels_config": {
    "python": {
     "delete_cmd_postfix": "",
     "delete_cmd_prefix": "del ",
     "library": "var_list.py",
     "varRefreshCmd": "print(var_dic_list())"
    },
    "r": {
     "delete_cmd_postfix": ") ",
     "delete_cmd_prefix": "rm(",
     "library": "var_list.r",
     "varRefreshCmd": "cat(var_dic_list()) "
    }
   },
   "types_to_exclude": [
    "module",
    "function",
    "builtin_function_or_method",
    "instance",
    "_Feature"
   ],
   "window_display": false
  }
 },
 "nbformat": 4,
 "nbformat_minor": 4
}
