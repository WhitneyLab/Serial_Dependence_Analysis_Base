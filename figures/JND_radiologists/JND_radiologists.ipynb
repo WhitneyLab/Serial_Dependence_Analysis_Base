{
 "cells": [
  {
   "cell_type": "markdown",
   "metadata": {},
   "source": [
    "# Libraries "
   ]
  },
  {
   "cell_type": "code",
   "execution_count": 1,
   "metadata": {
    "ExecuteTime": {
     "end_time": "2021-02-08T19:32:57.882088Z",
     "start_time": "2021-02-08T19:32:56.369896Z"
    }
   },
   "outputs": [],
   "source": [
    "import pandas as pd\n",
    "import matplotlib.pyplot as plt\n",
    "import numpy as np\n",
    "from scipy.optimize import curve_fit\n",
    "from scipy.special import i0\n",
    "from numpy import exp, sin, cos\n",
    "import seaborn as sns\n",
    "import matplotlib as mpl\n",
    "import os\n",
    "from pathlib import Path\n",
    "# from statsFuncs import mean_confidence_interval\n",
    "# from statsFuncs import compDistributions\n",
    "import scipy\n",
    "import random\n",
    "import math \n",
    "from scipy import stats\n",
    "mpl.rcParams['axes.linewidth'] = 2\n",
    "\n",
    "import numpy as np\n",
    "from scipy.integrate import cumtrapz\n",
    "from scipy.stats import norm\n",
    "from matplotlib import pyplot as plt\n"
   ]
  },
  {
   "cell_type": "markdown",
   "metadata": {},
   "source": [
    "# Paths "
   ]
  },
  {
   "cell_type": "code",
   "execution_count": 2,
   "metadata": {
    "ExecuteTime": {
     "end_time": "2021-02-08T19:32:59.387575Z",
     "start_time": "2021-02-08T19:32:59.383068Z"
    }
   },
   "outputs": [],
   "source": [
    "fig3_path = os.getcwd()\n",
    "figures_path = str(Path(fig3_path).parent)\n",
    "# datapath = figures_path + '/data/radiologists/Analysis5_22_2020/'\n",
    "datapath = figures_path + '/data/radiologists/Analysis9_29_2020/rbf_back/'"
   ]
  },
  {
   "cell_type": "markdown",
   "metadata": {},
   "source": [
    "# Plot params "
   ]
  },
  {
   "cell_type": "code",
   "execution_count": 3,
   "metadata": {
    "ExecuteTime": {
     "end_time": "2021-02-08T19:33:01.507099Z",
     "start_time": "2021-02-08T19:33:01.500468Z"
    }
   },
   "outputs": [],
   "source": [
    "mpl.rcParams['xtick.major.size'] = 6\n",
    "mpl.rcParams['xtick.major.width'] = 2\n",
    "mpl.rcParams['ytick.major.size'] = 6\n",
    "mpl.rcParams['ytick.major.width'] = 2\n",
    "mpl.rcParams['xtick.direction'] = 'in'\n",
    "mpl.rcParams['ytick.direction'] = 'in'\n",
    "mpl.rcParams['font.serif'] = 'Myriad Pro'\n",
    "mpl.rcParams['font.weight'] = 'medium'\n",
    "mpl.rcParams['font.size'] = 16\n",
    "mpl.rcParams['axes.labelweight'] = 'medium'"
   ]
  },
  {
   "cell_type": "markdown",
   "metadata": {},
   "source": [
    "# Subject params "
   ]
  },
  {
   "cell_type": "code",
   "execution_count": 4,
   "metadata": {
    "ExecuteTime": {
     "end_time": "2021-02-08T19:33:02.343863Z",
     "start_time": "2021-02-08T19:33:02.333004Z"
    }
   },
   "outputs": [
    {
     "name": "stdout",
     "output_type": "stream",
     "text": [
      "134 files, 16 folders\n",
      "15 subjects\n"
     ]
    }
   ],
   "source": [
    "files = folders = 0\n",
    "\n",
    "for _, dirnames, filenames in os.walk(datapath):\n",
    "  # ^ this idiom means \"we won't be using this value\"\n",
    "    files += len(filenames)\n",
    "    folders += len(dirnames)\n",
    "\n",
    "print(\"{:,} files, {:,} folders\".format(files, folders))\n",
    "print(str(folders-1) + ' subjects')\n",
    "nSubjects = folders-1"
   ]
  },
  {
   "cell_type": "code",
   "execution_count": 5,
   "metadata": {
    "ExecuteTime": {
     "end_time": "2021-02-08T19:33:04.898691Z",
     "start_time": "2021-02-08T19:33:04.894783Z"
    }
   },
   "outputs": [],
   "source": [
    "subject_names = ['S1', 'S3', 'S4', 'S6', 'S7', 'S8', 's9', 's10', 's11', 's12', 's13', 's14', 's15']"
   ]
  },
  {
   "cell_type": "markdown",
   "metadata": {},
   "source": [
    "# Plot histograms "
   ]
  },
  {
   "cell_type": "code",
   "execution_count": null,
   "metadata": {
    "ExecuteTime": {
     "end_time": "2021-02-04T23:48:02.780358Z",
     "start_time": "2021-02-04T23:48:01.372579Z"
    }
   },
   "outputs": [],
   "source": [
    "df_percentiles = pd.DataFrame(columns=['SUBJECT','0TH','50TH'])\n",
    "alldata = pd.DataFrame()\n",
    "\n",
    "row = 0\n",
    "fig, axs = plt.subplots(2,7, figsize=(15, 6), facecolor='w', edgecolor='k', sharex=True, sharey=True)\n",
    "fig.subplots_adjust(hspace = .5, wspace=.001)\n",
    "fig.add_subplot(111, frameon=False)\n",
    "\n",
    "axs = axs.ravel()\n",
    "subject_names_wsuper = subject_names[:-1]\n",
    "for subject in subject_names_wsuper:\n",
    "    \n",
    "    # load data:\n",
    "    subjectdata = pd.read_csv(datapath + subject + '/' + subject + '_VM_output_1nBack.csv')\n",
    "    subjectdata = subjectdata[(subjectdata['trialNumber'] >=1) & (subjectdata['trialNumber'] <=84)]\n",
    "    df_percentiles.loc[row,'SUBJECT'] = subject\n",
    "    alldata[subject] = subjectdata['responseError']\n",
    "\n",
    "    axs[row].hist(subjectdata['responseError'])\n",
    "    axs[row].set_xlabel('')\n",
    "    axs[row].set_ylabel('')\n",
    "    axs[row].set_xlim([-60, 60])\n",
    "    axs[row].set_title(subject)\n",
    "\n",
    "    row += 1\n",
    "plt.tick_params(labelcolor='none', top=False, bottom=False, left=False, right=False)\n",
    "plt.xlabel('Error magnitude')\n",
    "plt.ylabel('Count')\n",
    "plt.title('Radiologists\\n\\n')"
   ]
  },
  {
   "cell_type": "markdown",
   "metadata": {},
   "source": [
    "## Subject loop with new JND"
   ]
  },
  {
   "cell_type": "code",
   "execution_count": null,
   "metadata": {
    "ExecuteTime": {
     "end_time": "2021-02-04T23:48:05.180262Z",
     "start_time": "2021-02-04T23:48:05.175713Z"
    }
   },
   "outputs": [],
   "source": [
    "n_bins=50"
   ]
  },
  {
   "cell_type": "code",
   "execution_count": null,
   "metadata": {
    "ExecuteTime": {
     "end_time": "2021-02-04T23:48:07.065049Z",
     "start_time": "2021-02-04T23:48:07.056044Z"
    }
   },
   "outputs": [],
   "source": [
    "def calculate_and_plot_cdf(data, title):\n",
    "    counts, bin_edges = np.histogram (data, bins=n_bins, normed=True)\n",
    "    cdf = np.cumsum (counts)\n",
    "    cdf_values = data.value_counts().sort_index().cumsum() / data.shape[0]\n",
    "    print(cdf_values)\n",
    "    cdf_percentile_25 = np.percentile(np.sort(cdf_values.index), 25) \n",
    "    cdf_percentile_75 = np.percentile(np.sort(cdf_values.index), 75) \n",
    "    \n",
    "    fig,ax = plt.subplots()\n",
    "    ax.hist(data, alpha=0.5, bins=50, color='lightblue')\n",
    "    ax.set_xlim([-73, 73])\n",
    "    ax.set_ylabel('Frequency Histogram')\n",
    "    ax.vlines(cdf_percentile_25, 0, 25, color='red')\n",
    "    ax.vlines(cdf_percentile_75, 0, 25, color='green')\n",
    "\n",
    "    ax2=ax.twinx()\n",
    "\n",
    "\n",
    "    ax2.plot (bin_edges[1:], cdf/cdf[-1], color='black', linewidth=2.5)\n",
    "    ax2.set_title('histogram + CDF of response error\\n Subject: ' + title)\n",
    "    ax2.set_xlim([-73, 73])\n",
    "    ax2.set_ylabel('CDF')\n",
    "    plt.xlabel('Respose Error')\n",
    "    plt.show()\n",
    "#     print(bin_edges)\n",
    "#     print(cdf_values.index)\n",
    "    return cdf_values, cdf_percentile_25, cdf_percentile_75"
   ]
  },
  {
   "cell_type": "code",
   "execution_count": null,
   "metadata": {
    "ExecuteTime": {
     "end_time": "2021-02-04T23:48:13.055054Z",
     "start_time": "2021-02-04T23:48:08.776691Z"
    },
    "scrolled": false
   },
   "outputs": [],
   "source": [
    "cdf_data = pd.DataFrame(columns=['SUBJECT','0TH','50TH'])\n",
    "\n",
    "row = 0\n",
    "for subject in subject_names:\n",
    "    \n",
    "    # load data:\n",
    "    subjectdata = pd.read_csv(datapath + subject + '/' + subject + '_VM_output_1nBack.csv')\n",
    "    subjectdata = subjectdata[(subjectdata['trialNumber'] >=1) & (subjectdata['trialNumber'] <=84)]\n",
    "\n",
    "    cdf, cdf_percentile_25, cdf_percentile_75 = calculate_and_plot_cdf(subjectdata['responseError'], title=subject)\n",
    "    cdf_data.loc[row,'SUBJECT'] = subject\n",
    "    cdf_data.loc[row, 'JND_CR'] = (cdf_percentile_75- cdf_percentile_25)/2\n",
    "    \n",
    "    \n",
    "    row += 1"
   ]
  },
  {
   "cell_type": "code",
   "execution_count": null,
   "metadata": {
    "ExecuteTime": {
     "end_time": "2021-02-04T23:48:45.385977Z",
     "start_time": "2021-02-04T23:48:45.161306Z"
    }
   },
   "outputs": [],
   "source": [
    "plt.figure(figsize=(12,6))\n",
    "plt.bar(cdf_data['SUBJECT'],  cdf_data['JND_CR'], color='gray')\n",
    "plt.ylabel('JND_CR')\n",
    "plt.xlabel('Subject')\n",
    "plt.title('Continuous Report Discrimination (CRD) per subject')"
   ]
  },
  {
   "cell_type": "code",
   "execution_count": null,
   "metadata": {
    "ExecuteTime": {
     "end_time": "2021-02-04T23:48:52.198714Z",
     "start_time": "2021-02-04T23:48:52.191518Z"
    }
   },
   "outputs": [],
   "source": [
    "cdf.index"
   ]
  },
  {
   "cell_type": "markdown",
   "metadata": {},
   "source": [
    "## Steeper function "
   ]
  },
  {
   "cell_type": "code",
   "execution_count": null,
   "metadata": {
    "ExecuteTime": {
     "end_time": "2021-02-05T17:57:38.098210Z",
     "start_time": "2021-02-05T17:57:38.074152Z"
    }
   },
   "outputs": [],
   "source": [
    "def sigmoid(x,a):\n",
    "    return 0.8/(1+np.exp(-a*x)) + 0.1\n",
    "\n",
    "def inverse_sigmoid(y, a):\n",
    "    return -math.log(0.8/(y-0.1)-1)/a\n",
    "\n",
    "def calculate_and_plot_cdf(data, title):\n",
    "    counts, bin_edges = np.histogram(data, bins=n_bins)\n",
    "    counts_filtered = counts.copy()\n",
    "    counts_filtered[counts_filtered < 5] = 0\n",
    "    cdf_filtered = np.cumsum (counts_filtered)\n",
    "    c = cdf_filtered.copy()\n",
    "    cdf_filtered = cdf_filtered/cdf_filtered[-1]\n",
    "    \n",
    "    cdf = np.cumsum (counts)\n",
    "    cdf = cdf/cdf[-1]\n",
    "    \n",
    "    bestvals, temp = curve_fit(sigmoid,bin_edges[1:],cdf_filtered,p0=[3])\n",
    "\n",
    "    perc_25 = inverse_sigmoid(0.25, bestvals)\n",
    "    perc_75 = inverse_sigmoid(0.75, bestvals)\n",
    "    \n",
    "    plt.plot(bin_edges[1:], cdf, color='red', linewidth=1.5, label='original')\n",
    "    plt.plot(bin_edges[1:], sigmoid(bin_edges[1:], bestvals), color='blue', linewidth=2.5,label='filtered')\n",
    "    plt.xlim([-60, 40])\n",
    "    plt.ylabel('CDF')\n",
    "    plt.xlabel('Response Error')\n",
    "    plt.legend()\n",
    "    plt.title(title)\n",
    "    plt.show()\n",
    "    \n",
    "    return (perc_75 - perc_25)/2\n",
    "#     ax2.plot (bin_edges[1:], cdf/cdf[-1], color='black', linewidth=2.5)\n",
    "#     ax2.set_title('histogram + CDF of response error\\n Subject: ' + title)\n",
    "#     ax2.set_xlim([-73, 73])\n",
    "#     ax2.set_ylabel('CDF')\n",
    "#     plt.xlabel('Respose Error')\n",
    "#     plt.show()\n",
    "# #     print(bin_edges)\n",
    "# #     print(cdf_values.index)\n",
    "#     return cdf_values, cdf_percentile_25, cdf_percentile_75"
   ]
  },
  {
   "cell_type": "code",
   "execution_count": null,
   "metadata": {
    "ExecuteTime": {
     "end_time": "2021-02-05T17:57:45.222385Z",
     "start_time": "2021-02-05T17:57:42.438010Z"
    }
   },
   "outputs": [],
   "source": [
    "cdf_data = pd.DataFrame(columns=['SUBJECT','JND_CR'])\n",
    "\n",
    "row = 0\n",
    "for subject in subject_names:\n",
    "    \n",
    "    # load data:\n",
    "    subjectdata = pd.read_csv(datapath + subject + '/' + subject + '_VM_output_1nBack.csv')\n",
    "    subjectdata = subjectdata[(subjectdata['trialNumber'] >=1) & (subjectdata['trialNumber'] <=84)]\n",
    "\n",
    "#     cdf_filtered_sub = calculate_and_plot_cdf(subjectdata['responseError'], title=subject)\n",
    "    \n",
    "    jnd_cr = calculate_and_plot_cdf(subjectdata['responseError'], title=subject)\n",
    "    cdf_data.loc[row,'SUBJECT'] = subject\n",
    "    cdf_data.loc[row, 'JND_CR'] = jnd_cr[0]\n",
    "    \n",
    "    \n",
    "    row += 1"
   ]
  },
  {
   "cell_type": "code",
   "execution_count": null,
   "metadata": {
    "ExecuteTime": {
     "end_time": "2021-02-05T17:57:52.720134Z",
     "start_time": "2021-02-05T17:57:52.708518Z"
    }
   },
   "outputs": [],
   "source": [
    "cdf_data"
   ]
  },
  {
   "cell_type": "code",
   "execution_count": null,
   "metadata": {
    "ExecuteTime": {
     "end_time": "2021-02-05T17:57:56.992777Z",
     "start_time": "2021-02-05T17:57:56.702752Z"
    }
   },
   "outputs": [],
   "source": [
    "plt.figure(figsize=(12,6))\n",
    "plt.bar(cdf_data['SUBJECT'],  cdf_data['JND_CR'], color='gray')\n",
    "plt.ylabel('JND_CR')\n",
    "plt.xlabel('Subject')\n",
    "plt.title('Continuous Report Discrimination (CRD) v2 per subject')"
   ]
  },
  {
   "cell_type": "markdown",
   "metadata": {},
   "source": [
    "# Gaussian & Cauchy distribution "
   ]
  },
  {
   "cell_type": "markdown",
   "metadata": {},
   "source": [
    "## Define functions "
   ]
  },
  {
   "cell_type": "code",
   "execution_count": null,
   "metadata": {
    "ExecuteTime": {
     "end_time": "2021-02-05T17:58:01.306532Z",
     "start_time": "2021-02-05T17:58:01.303314Z"
    }
   },
   "outputs": [],
   "source": [
    "# data = np.asarray(alldata['S1'])\n",
    "# counts, bin_edges = np.histogram(data, bins=n_bins)"
   ]
  },
  {
   "cell_type": "code",
   "execution_count": null,
   "metadata": {
    "ExecuteTime": {
     "end_time": "2021-02-05T17:58:16.762543Z",
     "start_time": "2021-02-05T17:58:16.736410Z"
    }
   },
   "outputs": [],
   "source": [
    "def sigmoid(x,a):\n",
    "    return 0.8/(1+np.exp(-a*x)) + 0.1\n",
    "\n",
    "# def sigmoid(x,a):\n",
    "#     return 1/(1+np.exp(-a*x)) + 0\n",
    "\n",
    "def inverse_sigmoid(y, a):\n",
    "    return -math.log(0.8/(y-0.1)-1)/a\n",
    "\n",
    "def gaussian(x, amplitude, mean, stddev):\n",
    "    return amplitude * np.exp(-(x-mean)**2/(2*stddev**2))\n",
    "\n",
    "def gaussian_original(x, amplitude, mean, stddev):\n",
    "    return amplitude * ((1/(stddev*np.sqrt(2*np.pi))) * np.exp((-1/2)*(((x-mean)**2)/(stddev**2))))\n",
    "\n",
    "def cauchy(x, gamma, amplitude, mean):\n",
    "    return (1/(np.pi*gamma*(1+((x-mean)/gamma)**2)))*amplitude\n",
    "\n",
    "def vm(x, mean, kai, amplitude):\n",
    "    x = (x/53)*np.pi\n",
    "    return amplitude * (np.exp(kai * np.cos(x-mean)) / (i0(kai) * 2 * np.pi))\n",
    "                  \n",
    "def cdf(counts):\n",
    "    cdf = np.cumsum (counts)\n",
    "    cdf = cdf/cdf[-1]\n",
    "    \n",
    "    counts_filtered = counts.copy()\n",
    "    \n",
    "    counts_filtered[counts_filtered < 5] = 0\n",
    "    cdf_filtered = np.cumsum (counts_filtered)\n",
    "    c = cdf_filtered.copy()\n",
    "    cdf_filtered = cdf_filtered/cdf_filtered[-1]\n",
    "    \n",
    "\n",
    "        \n",
    "    \n",
    "    return cdf, cdf_filtered, counts_filtered\n",
    "    \n",
    "def cdf_gaussian_cauchy(data, title):\n",
    "    counts, bin_edges = np.histogram(data, bins=n_bins)\n",
    "    \n",
    "    if title=='SuperSubject':\n",
    "        counts = counts/13\n",
    "    \n",
    "    cdf_og, cdf_filtered_og, counts_filtered_og = cdf(counts)\n",
    "    \n",
    "    popt_cauchy, _ = curve_fit(cauchy, bin_edges[1:], counts) #, p0=4, bounds= (0,np.inf))\n",
    "    popt_gaussian, _ = curve_fit(gaussian, bin_edges[1:], counts)\n",
    "    popt_vm, _ = curve_fit(vm, bin_edges[1:], counts)\n",
    "    \n",
    "    counts_cauchy = cauchy(bin_edges[1:], *popt_cauchy)\n",
    "#     print(popt_gaussian)\n",
    "    counts_gaussian = gaussian(bin_edges[1:], *popt_gaussian)\n",
    "    counts_vm = vm(bin_edges[1:,], *popt_vm)\n",
    "    \n",
    "    cdf_cauchy, cdf_filtered_cauchy, counts_cauchy_filtered = cdf(counts_cauchy)\n",
    "    cdf_gaussian, cdf_filtered_gaussian, counts_gaussian_filtered = cdf(counts_gaussian)\n",
    "    cdf_vm, cdf_filtered_vm, counts_vm_filtered = cdf(counts_vm)\n",
    "    \n",
    "    \n",
    "    bestvals_og, temp_og = curve_fit(sigmoid,bin_edges[1:],cdf_og,p0=[3])\n",
    "    bestvals_cauchy, temp_cauchy = curve_fit(sigmoid,bin_edges[1:],cdf_filtered_cauchy,p0=[3])\n",
    "    bestvals_gaussian, temp_gaussian = curve_fit(sigmoid,bin_edges[1:],cdf_filtered_gaussian,p0=[3])\n",
    "    bestvals_vm, temp_vm = curve_fit(sigmoid,bin_edges[1:],cdf_filtered_vm,p0=[3])\n",
    "    print(bestvals_vm)\n",
    "    print(bin_edges[1:])\n",
    "    print(cdf_filtered_vm)\n",
    "    \n",
    "    perc_25_og = inverse_sigmoid(0.25, bestvals_og)\n",
    "    perc_75_og = inverse_sigmoid(0.75, bestvals_og)\n",
    "        \n",
    "    perc_25_cauchy = inverse_sigmoid(0.25, bestvals_cauchy)\n",
    "    perc_75_cauchy = inverse_sigmoid(0.75, bestvals_cauchy)\n",
    "    \n",
    "    perc_25_gaussian = inverse_sigmoid(0.25, bestvals_gaussian)\n",
    "    perc_75_gaussian = inverse_sigmoid(0.75, bestvals_gaussian)\n",
    "\n",
    "    perc_25_vm = inverse_sigmoid(0.25, bestvals_vm)\n",
    "    perc_75_vm = inverse_sigmoid(0.75, bestvals_vm)    \n",
    "    \n",
    "    plt.plot(bin_edges[1:], cdf_og, color='red', linewidth=1.5, label='original')\n",
    "#     plt.plot(bin_edges[1:], sigmoid(bin_edges[1:], bestvals_og), color='red', linewidth=1.5, label='original')\n",
    "    plt.plot(bin_edges[1:], sigmoid(bin_edges[1:], bestvals_cauchy), color='blue', linewidth=2.5,label='cauchy')\n",
    "    plt.plot(bin_edges[1:], sigmoid(bin_edges[1:], bestvals_gaussian), color='green', linewidth=2.5,label='gaussian')\n",
    "    plt.plot(bin_edges[1:], sigmoid(bin_edges[1:], bestvals_vm), color='purple', linewidth=2.5,label='vm')\n",
    "    \n",
    "    plt.xlim([-60, 40])\n",
    "    plt.ylabel('CDF')\n",
    "    plt.xlabel('Response Error')\n",
    "    plt.legend()\n",
    "    plt.title(title)\n",
    "    plt.show()\n",
    "    \n",
    "    return (perc_75_og - perc_25_og)/2, (perc_75_gaussian - perc_25_gaussian)/2, (perc_75_cauchy - perc_25_cauchy)/2, (perc_75_vm - perc_25_vm)/2\n"
   ]
  },
  {
   "cell_type": "code",
   "execution_count": null,
   "metadata": {
    "ExecuteTime": {
     "end_time": "2021-02-05T17:58:23.151545Z",
     "start_time": "2021-02-05T17:58:19.900959Z"
    }
   },
   "outputs": [],
   "source": [
    "cdf_data = pd.DataFrame(columns=['SUBJECT','JND_OG',  'JND_GAUSSIAN', 'JND_CAUCHY'])\n",
    "\n",
    "row = 0\n",
    "for subject in subject_names:\n",
    "    \n",
    "    # load data:\n",
    "    subjectdata = pd.read_csv(datapath + subject + '/' + subject + '_VM_output_1nBack.csv')\n",
    "    subjectdata = subjectdata[(subjectdata['trialNumber'] >=1) & (subjectdata['trialNumber'] <=84)]\n",
    "\n",
    "    jnd_og, jnd_gaussian, jnd_cauchy, jnd_vm = cdf_gaussian_cauchy(subjectdata['responseError'], title=subject)\n",
    "    \n",
    "    cdf_data.loc[row,'SUBJECT'] = subject\n",
    "    cdf_data.loc[row, 'JND_OG'] = jnd_og[0]\n",
    "    cdf_data.loc[row, 'JND_GAUSSIAN'] = jnd_gaussian[0]\n",
    "    cdf_data.loc[row, 'JND_CAUCHY'] = jnd_cauchy[0]\n",
    "    cdf_data.loc[row, 'JND_VM'] = jnd_vm[0]\n",
    "    \n",
    "    row += 1"
   ]
  },
  {
   "cell_type": "code",
   "execution_count": null,
   "metadata": {
    "ExecuteTime": {
     "end_time": "2021-02-05T17:58:33.560028Z",
     "start_time": "2021-02-05T17:58:33.266876Z"
    }
   },
   "outputs": [],
   "source": [
    "plt.figure(figsize=(12,6))\n",
    "plt.bar(cdf_data['SUBJECT'],  cdf_data['JND_CAUCHY'], color='gray')\n",
    "plt.ylabel('CRD')\n",
    "plt.xlabel('Subject')\n",
    "plt.title('Continuous Report Discrimination (CRD) \\n Cauchy Fit')\n",
    "plt.ylim([0, 7])"
   ]
  },
  {
   "cell_type": "code",
   "execution_count": null,
   "metadata": {
    "ExecuteTime": {
     "end_time": "2021-02-05T17:58:46.974938Z",
     "start_time": "2021-02-05T17:58:46.697711Z"
    }
   },
   "outputs": [],
   "source": [
    "plt.figure(figsize=(12,6))\n",
    "plt.bar(cdf_data['SUBJECT'],  cdf_data['JND_GAUSSIAN'], color='gray')\n",
    "plt.ylabel('CRD')\n",
    "plt.xlabel('Subject')\n",
    "plt.title('Continuous Report Discrimination (CRD) \\n Gaussian Fit')\n",
    "plt.ylim([0, 7])"
   ]
  },
  {
   "cell_type": "code",
   "execution_count": null,
   "metadata": {
    "ExecuteTime": {
     "end_time": "2021-02-05T17:58:52.395479Z",
     "start_time": "2021-02-05T17:58:52.389043Z"
    }
   },
   "outputs": [],
   "source": [
    "np.median(cdf_data['JND_VM'])"
   ]
  },
  {
   "cell_type": "code",
   "execution_count": null,
   "metadata": {
    "ExecuteTime": {
     "end_time": "2021-02-05T17:58:55.666815Z",
     "start_time": "2021-02-05T17:58:55.654927Z"
    }
   },
   "outputs": [],
   "source": [
    "np.median(cdf_data['JND_CAUCHY'])"
   ]
  },
  {
   "cell_type": "code",
   "execution_count": null,
   "metadata": {
    "ExecuteTime": {
     "end_time": "2021-02-05T17:58:58.787637Z",
     "start_time": "2021-02-05T17:58:58.780918Z"
    }
   },
   "outputs": [],
   "source": [
    "np.median(cdf_data['JND_GAUSSIAN'])"
   ]
  },
  {
   "cell_type": "code",
   "execution_count": null,
   "metadata": {
    "ExecuteTime": {
     "end_time": "2021-02-05T17:59:08.103250Z",
     "start_time": "2021-02-05T17:59:07.826908Z"
    }
   },
   "outputs": [],
   "source": [
    "plt.figure(figsize=(12,6))\n",
    "plt.bar(cdf_data['SUBJECT'],  cdf_data['JND_VM'], color='gray')\n",
    "plt.ylabel('CRD')\n",
    "plt.xlabel('Subject')\n",
    "plt.title('Continuous Report Discrimination (CRD) \\n VM Fit')\n",
    "plt.ylim([0, 7])"
   ]
  },
  {
   "cell_type": "code",
   "execution_count": null,
   "metadata": {
    "ExecuteTime": {
     "end_time": "2021-02-05T18:02:24.862866Z",
     "start_time": "2021-02-05T18:02:24.840110Z"
    }
   },
   "outputs": [],
   "source": [
    "good_cdf_data = cdf_data.copy()\n",
    "good_cdf_data.loc[13, 'SUBJECT'] = 'mean'\n",
    "good_cdf_data.loc[13, 'JND_OG'] = np.mean(good_cdf_data.loc[range(13), 'JND_OG'])\n",
    "good_cdf_data.loc[13, 'JND_GAUSSIAN'] = np.mean(good_cdf_data.loc[range(13), 'JND_GAUSSIAN'])\n",
    "good_cdf_data.loc[13, 'JND_CAUCHY'] = np.mean(good_cdf_data.loc[range(13), 'JND_CAUCHY'])\n",
    "good_cdf_data.loc[13, 'JND_VM'] = np.mean(good_cdf_data.loc[range(13), 'JND_VM'])\n",
    "good_cdf_data"
   ]
  },
  {
   "cell_type": "code",
   "execution_count": null,
   "metadata": {
    "ExecuteTime": {
     "end_time": "2021-02-05T18:02:43.228631Z",
     "start_time": "2021-02-05T18:02:43.221671Z"
    }
   },
   "outputs": [],
   "source": [
    "jnd_vm_sem = stats.sem(good_cdf_data.loc[range(13), 'JND_VM'])\n",
    "jnd_vm_sem"
   ]
  },
  {
   "cell_type": "code",
   "execution_count": null,
   "metadata": {
    "ExecuteTime": {
     "end_time": "2021-02-05T18:02:46.284974Z",
     "start_time": "2021-02-05T18:02:46.278138Z"
    }
   },
   "outputs": [],
   "source": [
    "jnd_vm_sem_all = [0]*13\n",
    "jnd_vm_sem_all.append(jnd_vm_sem)\n",
    "jnd_vm_sem_all"
   ]
  },
  {
   "cell_type": "code",
   "execution_count": null,
   "metadata": {
    "ExecuteTime": {
     "end_time": "2021-02-05T18:03:01.579483Z",
     "start_time": "2021-02-05T18:03:01.248825Z"
    }
   },
   "outputs": [],
   "source": [
    "plt.figure(figsize=(13, 5))\n",
    "ax = plt.bar(good_cdf_data['SUBJECT'], good_cdf_data['JND_VM'], color='lightgrey', yerr=jnd_vm_sem_all)\n",
    "plt.ylabel('CRD')\n",
    "plt.xticks(range(14), ['S1', 'S2', 'S3', 'S4', 'S5', 'S6', 'S7', 'S8', 'S9', 'S10', 'S11', 'S12', 'S13', 'Mean'])\n",
    "sns.despine(top=True, right=True, left=False, bottom=False)\n",
    "plt.title('Radiologists')\n",
    "# # Hide the right and top spines\n",
    "# ax.spines['right'].set_visible(False)\n",
    "# ax.spines['top'].set_visible(False)\n",
    "\n",
    "# # Only show ticks on the left and bottom spines\n",
    "# ax.yaxis.set_ticks_position('left')\n",
    "# ax.xaxis.set_ticks_position('bottom');\n"
   ]
  },
  {
   "cell_type": "markdown",
   "metadata": {},
   "source": [
    "## Goodness of fit "
   ]
  },
  {
   "cell_type": "markdown",
   "metadata": {},
   "source": [
    "Here, yi refers to your input y-values, fi refers to your fitted y-values, and ̅y refers to the mean input y-value."
   ]
  },
  {
   "cell_type": "code",
   "execution_count": null,
   "metadata": {
    "ExecuteTime": {
     "end_time": "2021-02-04T23:50:15.974897Z",
     "start_time": "2021-02-04T23:50:15.966264Z"
    }
   },
   "outputs": [],
   "source": [
    "# residual sum of squares\n",
    "def r2(x, y,  y_fit, title):\n",
    "#     weight_param = 1/(abs(x)+1)\n",
    "#     plt.plot((y - y_fit) ** 2)\n",
    "#     plt.ylim([0, 2500])\n",
    "#     plt.title(title)\n",
    "#     plt.show()\n",
    "    ss_res = np.sum(((y - y_fit) ** 2))\n",
    "    \n",
    "    # total sum of squares\n",
    "    ss_tot = np.sum(((y - np.mean(y)) ** 2))\n",
    "\n",
    "    # r-squared\n",
    "    r2 = 1 - (ss_res / ss_tot)\n",
    "    return r2\n",
    "\n",
    "def calculate_r2_subjects(data, title):\n",
    "    counts, bin_edges = np.histogram(data, bins=n_bins)\n",
    "    popt_cauchy, _ = curve_fit(cauchy, bin_edges[1:], counts) #, p0=4, bounds= (0,np.inf))\n",
    "    popt_gaussian, _ = curve_fit(gaussian, bin_edges[1:], counts)\n",
    "    popt_vm, _ = curve_fit(vm, bin_edges[1:], counts)\n",
    "    \n",
    "    counts_cauchy = cauchy(bin_edges[1:], *popt_cauchy)\n",
    "    counts_gaussian = gaussian(bin_edges[1:], *popt_gaussian)\n",
    "    counts_vm = vm(bin_edges[1:], *popt_vm)\n",
    "\n",
    "    r2_fit_gaussian = r2(bin_edges[1:], counts, counts_cauchy, title+'Gaussian')\n",
    "    r2_fit_cauchy = r2(bin_edges[1:], counts, counts_gaussian, title+'Cauchy')\n",
    "    r2_fit_vm = r2(bin_edges[1:], counts, counts_vm, title+'VM')\n",
    "    \n",
    "    \n",
    "    return r2_fit_gaussian, r2_fit_cauchy, r2_fit_vm"
   ]
  },
  {
   "cell_type": "code",
   "execution_count": null,
   "metadata": {
    "ExecuteTime": {
     "end_time": "2021-02-04T23:50:18.258598Z",
     "start_time": "2021-02-04T23:50:18.073841Z"
    },
    "scrolled": false
   },
   "outputs": [],
   "source": [
    "r2_data = pd.DataFrame(columns=['SUBJECT','R2_GAUSSIAN', 'R2_CAUCHY', 'R2_VM'])\n",
    "\n",
    "row = 0\n",
    "for subject in subject_names:\n",
    "    \n",
    "    # load data:\n",
    "    subjectdata = pd.read_csv(datapath + subject + '/' + subject + '_VM_output_1nBack.csv')\n",
    "    subjectdata = subjectdata[(subjectdata['trialNumber'] >=1) & (subjectdata['trialNumber'] <=84)]\n",
    "\n",
    "    r2_fit_gaussian, r2_fit_cauchy, r2_fit_vm= calculate_r2_subjects(subjectdata['responseError'], subject)\n",
    "    \n",
    "    r2_data.loc[row,'SUBJECT'] = subject\n",
    "    r2_data.loc[row, 'R2_GAUSSIAN'] = r2_fit_gaussian\n",
    "    r2_data.loc[row, 'R2_CAUCHY'] = r2_fit_cauchy\n",
    "    r2_data.loc[row, 'R2_VM'] = r2_fit_vm\n",
    "    \n",
    "    \n",
    "    row += 1"
   ]
  },
  {
   "cell_type": "code",
   "execution_count": null,
   "metadata": {
    "ExecuteTime": {
     "end_time": "2021-02-04T23:50:23.725651Z",
     "start_time": "2021-02-04T23:50:23.716272Z"
    }
   },
   "outputs": [],
   "source": [
    "r2_data_melted = r2_data.melt(id_vars=['SUBJECT'], value_vars=['R2_GAUSSIAN','R2_CAUCHY', 'R2_VM'])"
   ]
  },
  {
   "cell_type": "code",
   "execution_count": null,
   "metadata": {
    "ExecuteTime": {
     "end_time": "2021-02-04T23:51:14.902689Z",
     "start_time": "2021-02-04T23:51:14.393585Z"
    }
   },
   "outputs": [],
   "source": [
    "plt.figure(figsize=(20,8))\n",
    "sns.barplot(x='SUBJECT', y='value', hue='variable', data=r2_data_melted)\n",
    "plt.ylabel('R2')\n"
   ]
  },
  {
   "cell_type": "markdown",
   "metadata": {},
   "source": [
    "## Comparing fits "
   ]
  },
  {
   "cell_type": "code",
   "execution_count": null,
   "metadata": {
    "ExecuteTime": {
     "end_time": "2021-02-04T23:51:26.914943Z",
     "start_time": "2021-02-04T23:51:24.804517Z"
    }
   },
   "outputs": [],
   "source": [
    "row = 0\n",
    "fig, axs = plt.subplots(2,7, figsize=(15, 6), facecolor='w', edgecolor='k', sharex=True, sharey=True)\n",
    "fig.subplots_adjust(hspace = .5, wspace=.001)\n",
    "fig.add_subplot(111, frameon=False)\n",
    "\n",
    "axs = axs.ravel()\n",
    "\n",
    "for subject in subject_names_wsuper:\n",
    "    \n",
    "    # load data:\n",
    "    subjectdata = pd.read_csv(datapath + subject + '/' + subject + '_VM_output_1nBack.csv')\n",
    "    subjectdata = subjectdata[(subjectdata['trialNumber'] >=1) & (subjectdata['trialNumber'] <=84)]\n",
    "    counts, bin_edges = np.histogram(subjectdata['responseError'], bins=n_bins)\n",
    "    popt_cauchy, _ = curve_fit(cauchy, bin_edges[1:], counts) \n",
    "    popt_gaussian, _ = curve_fit(gaussian, bin_edges[1:], counts)\n",
    "    popt_vm, _ = curve_fit(vm, bin_edges[1:], counts)\n",
    "    axs[row].hist(subjectdata['responseError'], bins=n_bins, alpha=0.3)\n",
    "    axs[row].plot(bin_edges[1:], cauchy(bin_edges[1:], *popt_cauchy), color='red', label='cauchy')\n",
    "    axs[row].plot(bin_edges[1:], gaussian(bin_edges[1:], *popt_gaussian), color='green', label='gaussian')\n",
    "    axs[row].plot(bin_edges[1:], vm(bin_edges[1:], *popt_vm), color='green', label='vm')\n",
    "    axs[row].set_xlabel('')\n",
    "    axs[row].set_ylabel('')\n",
    "    axs[row].set_xlim([-60, 60])\n",
    "    axs[row].set_title(subject)\n",
    "    \n",
    "    if subject == 's15':\n",
    "        axs[row].legend()\n",
    "    \n",
    "    row += 1\n",
    "plt.tick_params(labelcolor='none', top=False, bottom=False, left=False, right=False)\n",
    "plt.xlabel('Error magnitude')\n",
    "plt.ylabel('Count')\n",
    "plt.title('Radiologists\\n\\n');\n",
    "# plt.legend()\n"
   ]
  },
  {
   "cell_type": "markdown",
   "metadata": {
    "ExecuteTime": {
     "end_time": "2021-01-28T22:30:16.384194Z",
     "start_time": "2021-01-28T22:29:57.832Z"
    }
   },
   "source": [
    "# Category boundaries "
   ]
  },
  {
   "cell_type": "markdown",
   "metadata": {},
   "source": [
    "## First version"
   ]
  },
  {
   "cell_type": "code",
   "execution_count": null,
   "metadata": {
    "ExecuteTime": {
     "end_time": "2021-01-28T22:59:50.358294Z",
     "start_time": "2021-01-28T22:59:50.190604Z"
    }
   },
   "outputs": [],
   "source": [
    "perc_extreme_df = pd.DataFrame()\n",
    "for i, subject in enumerate(subject_names_wsuper):\n",
    "    \n",
    "    # load data:\n",
    "    subjectdata = pd.read_csv(datapath + subject + '/' + subject + '_VM_output_1nBack.csv')\n",
    "    subjectdata = subjectdata[(subjectdata['trialNumber'] >=1) & (subjectdata['trialNumber'] <=84)].reset_index(drop=True)\n",
    "#     display(subjectdata)\n",
    "    \n",
    "    perc_extreme = np.sum(abs(subjectdata['responseError']) > abs(subjectdata['Stim_diff']))/len(subjectdata)\n",
    "    perc_extreme_df.loc[i, 'SUBJECT'] = subject\n",
    "    perc_extreme_df.loc[i,'PERC_EXTREME'] = perc_extreme*100\n",
    "#     print(perc_extreme)\n"
   ]
  },
  {
   "cell_type": "code",
   "execution_count": null,
   "metadata": {
    "ExecuteTime": {
     "end_time": "2021-01-28T22:59:51.381602Z",
     "start_time": "2021-01-28T22:59:51.369018Z"
    }
   },
   "outputs": [],
   "source": [
    "perc_extreme_df"
   ]
  },
  {
   "cell_type": "code",
   "execution_count": null,
   "metadata": {
    "ExecuteTime": {
     "end_time": "2021-01-28T23:07:01.191454Z",
     "start_time": "2021-01-28T23:07:00.956870Z"
    }
   },
   "outputs": [],
   "source": [
    "sns.barplot(x='SUBJECT', y='PERC_EXTREME', data=perc_extreme_df)\n",
    "plt.ylabel('%')"
   ]
  },
  {
   "cell_type": "code",
   "execution_count": null,
   "metadata": {
    "ExecuteTime": {
     "end_time": "2021-01-28T22:58:58.466483Z",
     "start_time": "2021-01-28T22:58:58.460144Z"
    }
   },
   "outputs": [],
   "source": [
    "min(subjectdata['responseError'])"
   ]
  },
  {
   "cell_type": "code",
   "execution_count": null,
   "metadata": {
    "ExecuteTime": {
     "end_time": "2021-01-28T23:14:36.940715Z",
     "start_time": "2021-01-28T23:14:36.935103Z"
    }
   },
   "outputs": [],
   "source": [
    "np.median(perc_extreme_df['PERC_EXTREME'])"
   ]
  },
  {
   "cell_type": "markdown",
   "metadata": {},
   "source": [
    "## Second version"
   ]
  },
  {
   "cell_type": "code",
   "execution_count": 3,
   "metadata": {
    "ExecuteTime": {
     "end_time": "2021-02-08T19:33:10.668356Z",
     "start_time": "2021-02-08T19:33:10.655657Z"
    }
   },
   "outputs": [],
   "source": [
    "def vonmise_derivative(xdata, a = 25, kai = 4):\n",
    "    xdata = xdata / 73 * np.pi\n",
    "    return - a / (i0(kai) * 2 * np.pi) * exp(kai * cos(xdata)) * kai * sin(xdata) # Derivative of vonmise formula\n",
    "def getRunningMean(stimuli_diff, filtered_responseError, halfway =74, step = 8):\n",
    "    RM = [None] * (2 * halfway + 1); # running mean initialization\n",
    "    xvals = list(range(-halfway, halfway + 1)) # index for running mean -90~90 + -90~90 (avoid error in sep[jj] == 91\\92...\n",
    "    allx_vals = xvals + xvals\n",
    "    for ii in range(0,len(xvals) - 1): # start running mean calculation 0~180\n",
    "        if ii - step // 2 >= 0:\n",
    "            sep = allx_vals[(ii - step // 2) : (ii + step // 2 + 1)] # symmetric to avoid shift\n",
    "        else:\n",
    "            sep = allx_vals[(ii - step // 2) : len(allx_vals)] + allx_vals[0 : (ii + step // 2 + 1)]\n",
    "        sep_sum = []\n",
    "        for jj in range(0,len(sep)): # match every value in sep to every stimuli_diff point\n",
    "            for kk in range(0, len(stimuli_diff)):\n",
    "                if stimuli_diff[kk] == sep[jj]:\n",
    "                    sep_sum.insert(0, filtered_responseError[kk])\n",
    "        RM[ii] = np.mean(sep_sum)\n",
    "    RM[2 * halfway] = RM[0]\n",
    "    return RM, xvals\n",
    "\n",
    "def getRegressionLine(x, y, peak):\n",
    "    stimuli_diff_filtered = []\n",
    "    filtered_responseError_new = []\n",
    "    for i in range(len(x)):\n",
    "        if x[i] < peak + 1 and x[i] > - peak + 1:\n",
    "            stimuli_diff_filtered.append(x[i])\n",
    "            filtered_responseError_new.append(y[i])\n",
    "    coef = np.polyfit(stimuli_diff_filtered,filtered_responseError_new,1)\n",
    "    poly1d_fn = np.poly1d(coef)\n",
    "    return poly1d_fn, coef"
   ]
  },
  {
   "cell_type": "code",
   "execution_count": 4,
   "metadata": {
    "ExecuteTime": {
     "end_time": "2021-02-08T19:33:12.081962Z",
     "start_time": "2021-02-08T19:33:12.074675Z"
    }
   },
   "outputs": [],
   "source": [
    "def category_definition(morph):\n",
    "    \n",
    "    if (morph in range(124, 148)) or (morph in range(1, 26)):\n",
    "        category = 'A'\n",
    "    elif morph in range(26, 75):\n",
    "        category = 'B'\n",
    "    elif morph in range(75, 124):\n",
    "        category = 'C'\n",
    "        \n",
    "    return category"
   ]
  },
  {
   "cell_type": "code",
   "execution_count": 5,
   "metadata": {
    "ExecuteTime": {
     "end_time": "2021-02-06T01:12:00.562504Z",
     "start_time": "2021-02-06T01:12:00.525064Z"
    }
   },
   "outputs": [],
   "source": [
    "subjectdata = pd.read_csv(datapath + 'SuperSubject' + '/' + 'SuperSubject' + '_VM_output_-1nBack.csv')\n",
    "subjectdata = subjectdata[(subjectdata['trialNumber'] >=1) & (subjectdata['trialNumber'] <=84)].reset_index(drop=True)\n",
    "\n",
    "\n",
    "subjectdata['same_category'] = subjectdata['stimulusID'].apply(category_definition) == subjectdata['shifted_stimulusID'].apply(category_definition)\n",
    "\n",
    "same_category = subjectdata[subjectdata['same_category'] == True].reset_index(drop=True)\n",
    "diff_category = subjectdata[subjectdata['same_category'] == False].reset_index(drop=True)"
   ]
  },
  {
   "cell_type": "code",
   "execution_count": 6,
   "metadata": {
    "ExecuteTime": {
     "end_time": "2021-02-06T01:12:51.407909Z",
     "start_time": "2021-02-06T01:12:51.388520Z"
    }
   },
   "outputs": [],
   "source": [
    "def amplitude_calc(data, title):\n",
    "    ## Von Mise fitting: Shape Similarity##\n",
    "    init_vals = [-25, 4]\n",
    "    best_vals, covar = curve_fit(vonmise_derivative, data['Stim_diff'], data['responseError'], p0=init_vals, bounds = ([-60,2],[60,4]))\n",
    "    #### RUNNING MEAN ####\n",
    "    RM, xvals = getRunningMean(data['Stim_diff'], data['responseError'], step = 20)\n",
    "\n",
    "    plt.figure(figsize=(5, 4))\n",
    "    plt.plot(data['Stim_diff'], data['responseError'], color='dodgerblue', marker='o', linestyle='none', alpha=0.7, markersize=5)\n",
    "    x = np.linspace(-75, 75, 300)\n",
    "    y = [vonmise_derivative(xi,best_vals[0],best_vals[1]) for xi in x]\n",
    "    DoVM_values = [vonmise_derivative(xi,best_vals[0],best_vals[1]) for xi in data['Stim_diff']]\n",
    "    plt.plot(x, y, '-', linewidth = 4, color='k')\n",
    "    plt.plot(xvals, RM, label = 'Running Mean', color = 'red', linewidth = 3)\n",
    "    peak_x = (x[np.argmax(y)])\n",
    "    poly1d_fn, coef = getRegressionLine(x = data['Stim_diff'], y= data['responseError'], peak = peak_x)\n",
    "    xdata = np.linspace(-peak_x, peak_x, 100)\n",
    "    plt.plot(xdata, poly1d_fn(xdata), linestyle='--', color='powderblue', linewidth = 4)\n",
    "    plt.xlim([-73, 73])\n",
    "    plt.ylim([-60, 60])\n",
    "    plt.yticks(np.arange(-60, 70, 10))\n",
    "    # plt.xticks(np.arange(-70, 80, 20))\n",
    "    plt.xticks([-73, -50, -25, 0, 25, 50, 73])\n",
    "    sns.despine()\n",
    "    # print(coef[0], coef[1])\n",
    "    plt.title('Current and previous\\n ' + title)\n",
    "    plt.ylabel('Response Error\\n(morph units)')\n",
    "    plt.xlabel('\\nRelative Orientation of previous trial\\n(morph units)')\n",
    "    plt.savefig('RunningMean_DOGfit_Radiologists' + title + '.eps', bbox_inches='tight', dpi=1200)\n",
    "    plt.savefig('RunningMean_DOGfit_Radiologists' + title + '.jpg', bbox_inches='tight', dpi=1200)\n",
    "    plt.show()\n",
    "    \n",
    "    if x[np.argmax(y)] > 0: \n",
    "        amplitude = np.max(y)\n",
    "    else: \n",
    "        amplitude = -np.max(y)\n",
    "        \n",
    "        \n",
    "    return amplitude\n",
    "\n"
   ]
  },
  {
   "cell_type": "code",
   "execution_count": 7,
   "metadata": {
    "ExecuteTime": {
     "end_time": "2021-02-01T08:24:18.652411Z",
     "start_time": "2021-02-01T08:23:31.160864Z"
    },
    "scrolled": true
   },
   "outputs": [
    {
     "name": "stderr",
     "output_type": "stream",
     "text": [
      "/Users/peterren/anaconda3/lib/python3.7/site-packages/numpy/core/fromnumeric.py:3118: RuntimeWarning: Mean of empty slice.\n",
      "  out=out, **kwargs)\n",
      "/Users/peterren/anaconda3/lib/python3.7/site-packages/numpy/core/_methods.py:85: RuntimeWarning: invalid value encountered in double_scalars\n",
      "  ret = ret.dtype.type(ret / rcount)\n",
      "The PostScript backend does not support transparency; partially transparent artists will be rendered opaque.\n",
      "The PostScript backend does not support transparency; partially transparent artists will be rendered opaque.\n",
      "The PostScript backend does not support transparency; partially transparent artists will be rendered opaque.\n",
      "The PostScript backend does not support transparency; partially transparent artists will be rendered opaque.\n",
      "The PostScript backend does not support transparency; partially transparent artists will be rendered opaque.\n",
      "The PostScript backend does not support transparency; partially transparent artists will be rendered opaque.\n"
     ]
    },
    {
     "data": {
      "image/png": "[encoded data removed]",
      "text/plain": [
       "<Figure size 360x288 with 1 Axes>"
      ]
     },
     "metadata": {
      "needs_background": "light"
     },
     "output_type": "display_data"
    },
    {
     "ename": "KeyboardInterrupt",
     "evalue": "",
     "output_type": "error",
     "traceback": [
      "\u001b[0;31m---------------------------------------------------------------------------\u001b[0m",
      "\u001b[0;31mKeyboardInterrupt\u001b[0m                         Traceback (most recent call last)",
      "\u001b[0;32m<ipython-input-7-3b6c49df2f8a>\u001b[0m in \u001b[0;36m<module>\u001b[0;34m\u001b[0m\n\u001b[1;32m      1\u001b[0m \u001b[0mempirical_amp_same_category\u001b[0m \u001b[0;34m=\u001b[0m \u001b[0mamplitude_calc\u001b[0m\u001b[0;34m(\u001b[0m\u001b[0msame_category\u001b[0m\u001b[0;34m,\u001b[0m \u001b[0;34m'same_category'\u001b[0m\u001b[0;34m)\u001b[0m\u001b[0;34m\u001b[0m\u001b[0;34m\u001b[0m\u001b[0m\n\u001b[0;32m----> 2\u001b[0;31m \u001b[0mempirical_amp_diff_category\u001b[0m \u001b[0;34m=\u001b[0m \u001b[0mamplitude_calc\u001b[0m\u001b[0;34m(\u001b[0m\u001b[0mdiff_category\u001b[0m\u001b[0;34m,\u001b[0m \u001b[0;34m'different_category'\u001b[0m\u001b[0;34m)\u001b[0m\u001b[0;34m\u001b[0m\u001b[0;34m\u001b[0m\u001b[0m\n\u001b[0m\u001b[1;32m      3\u001b[0m \u001b[0;34m\u001b[0m\u001b[0m\n",
      "\u001b[0;32m<ipython-input-6-6d45761c83f5>\u001b[0m in \u001b[0;36mamplitude_calc\u001b[0;34m(data, title)\u001b[0m\n\u001b[1;32m      4\u001b[0m     \u001b[0mbest_vals\u001b[0m\u001b[0;34m,\u001b[0m \u001b[0mcovar\u001b[0m \u001b[0;34m=\u001b[0m \u001b[0mcurve_fit\u001b[0m\u001b[0;34m(\u001b[0m\u001b[0mvonmise_derivative\u001b[0m\u001b[0;34m,\u001b[0m \u001b[0mdata\u001b[0m\u001b[0;34m[\u001b[0m\u001b[0;34m'Stim_diff'\u001b[0m\u001b[0;34m]\u001b[0m\u001b[0;34m,\u001b[0m \u001b[0mdata\u001b[0m\u001b[0;34m[\u001b[0m\u001b[0;34m'responseError'\u001b[0m\u001b[0;34m]\u001b[0m\u001b[0;34m,\u001b[0m \u001b[0mp0\u001b[0m\u001b[0;34m=\u001b[0m\u001b[0minit_vals\u001b[0m\u001b[0;34m,\u001b[0m \u001b[0mbounds\u001b[0m \u001b[0;34m=\u001b[0m \u001b[0;34m(\u001b[0m\u001b[0;34m[\u001b[0m\u001b[0;34m-\u001b[0m\u001b[0;36m60\u001b[0m\u001b[0;34m,\u001b[0m\u001b[0;36m2\u001b[0m\u001b[0;34m]\u001b[0m\u001b[0;34m,\u001b[0m\u001b[0;34m[\u001b[0m\u001b[0;36m60\u001b[0m\u001b[0;34m,\u001b[0m\u001b[0;36m4\u001b[0m\u001b[0;34m]\u001b[0m\u001b[0;34m)\u001b[0m\u001b[0;34m)\u001b[0m\u001b[0;34m\u001b[0m\u001b[0;34m\u001b[0m\u001b[0m\n\u001b[1;32m      5\u001b[0m     \u001b[0;31m#### RUNNING MEAN ####\u001b[0m\u001b[0;34m\u001b[0m\u001b[0;34m\u001b[0m\u001b[0;34m\u001b[0m\u001b[0m\n\u001b[0;32m----> 6\u001b[0;31m     \u001b[0mRM\u001b[0m\u001b[0;34m,\u001b[0m \u001b[0mxvals\u001b[0m \u001b[0;34m=\u001b[0m \u001b[0mgetRunningMean\u001b[0m\u001b[0;34m(\u001b[0m\u001b[0mdata\u001b[0m\u001b[0;34m[\u001b[0m\u001b[0;34m'Stim_diff'\u001b[0m\u001b[0;34m]\u001b[0m\u001b[0;34m,\u001b[0m \u001b[0mdata\u001b[0m\u001b[0;34m[\u001b[0m\u001b[0;34m'responseError'\u001b[0m\u001b[0;34m]\u001b[0m\u001b[0;34m,\u001b[0m \u001b[0mstep\u001b[0m \u001b[0;34m=\u001b[0m \u001b[0;36m20\u001b[0m\u001b[0;34m)\u001b[0m\u001b[0;34m\u001b[0m\u001b[0;34m\u001b[0m\u001b[0m\n\u001b[0m\u001b[1;32m      7\u001b[0m \u001b[0;34m\u001b[0m\u001b[0m\n\u001b[1;32m      8\u001b[0m     \u001b[0mplt\u001b[0m\u001b[0;34m.\u001b[0m\u001b[0mfigure\u001b[0m\u001b[0;34m(\u001b[0m\u001b[0mfigsize\u001b[0m\u001b[0;34m=\u001b[0m\u001b[0;34m(\u001b[0m\u001b[0;36m5\u001b[0m\u001b[0;34m,\u001b[0m \u001b[0;36m4\u001b[0m\u001b[0;34m)\u001b[0m\u001b[0;34m)\u001b[0m\u001b[0;34m\u001b[0m\u001b[0;34m\u001b[0m\u001b[0m\n",
      "\u001b[0;32m<ipython-input-3-0f153e6d7069>\u001b[0m in \u001b[0;36mgetRunningMean\u001b[0;34m(stimuli_diff, filtered_responseError, halfway, step)\u001b[0m\n\u001b[1;32m     14\u001b[0m         \u001b[0;32mfor\u001b[0m \u001b[0mjj\u001b[0m \u001b[0;32min\u001b[0m \u001b[0mrange\u001b[0m\u001b[0;34m(\u001b[0m\u001b[0;36m0\u001b[0m\u001b[0;34m,\u001b[0m\u001b[0mlen\u001b[0m\u001b[0;34m(\u001b[0m\u001b[0msep\u001b[0m\u001b[0;34m)\u001b[0m\u001b[0;34m)\u001b[0m\u001b[0;34m:\u001b[0m \u001b[0;31m# match every value in sep to every stimuli_diff point\u001b[0m\u001b[0;34m\u001b[0m\u001b[0;34m\u001b[0m\u001b[0m\n\u001b[1;32m     15\u001b[0m             \u001b[0;32mfor\u001b[0m \u001b[0mkk\u001b[0m \u001b[0;32min\u001b[0m \u001b[0mrange\u001b[0m\u001b[0;34m(\u001b[0m\u001b[0;36m0\u001b[0m\u001b[0;34m,\u001b[0m \u001b[0mlen\u001b[0m\u001b[0;34m(\u001b[0m\u001b[0mstimuli_diff\u001b[0m\u001b[0;34m)\u001b[0m\u001b[0;34m)\u001b[0m\u001b[0;34m:\u001b[0m\u001b[0;34m\u001b[0m\u001b[0;34m\u001b[0m\u001b[0m\n\u001b[0;32m---> 16\u001b[0;31m                 \u001b[0;32mif\u001b[0m \u001b[0mstimuli_diff\u001b[0m\u001b[0;34m[\u001b[0m\u001b[0mkk\u001b[0m\u001b[0;34m]\u001b[0m \u001b[0;34m==\u001b[0m \u001b[0msep\u001b[0m\u001b[0;34m[\u001b[0m\u001b[0mjj\u001b[0m\u001b[0;34m]\u001b[0m\u001b[0;34m:\u001b[0m\u001b[0;34m\u001b[0m\u001b[0;34m\u001b[0m\u001b[0m\n\u001b[0m\u001b[1;32m     17\u001b[0m                     \u001b[0msep_sum\u001b[0m\u001b[0;34m.\u001b[0m\u001b[0minsert\u001b[0m\u001b[0;34m(\u001b[0m\u001b[0;36m0\u001b[0m\u001b[0;34m,\u001b[0m \u001b[0mfiltered_responseError\u001b[0m\u001b[0;34m[\u001b[0m\u001b[0mkk\u001b[0m\u001b[0;34m]\u001b[0m\u001b[0;34m)\u001b[0m\u001b[0;34m\u001b[0m\u001b[0;34m\u001b[0m\u001b[0m\n\u001b[1;32m     18\u001b[0m         \u001b[0mRM\u001b[0m\u001b[0;34m[\u001b[0m\u001b[0mii\u001b[0m\u001b[0;34m]\u001b[0m \u001b[0;34m=\u001b[0m \u001b[0mnp\u001b[0m\u001b[0;34m.\u001b[0m\u001b[0mmean\u001b[0m\u001b[0;34m(\u001b[0m\u001b[0msep_sum\u001b[0m\u001b[0;34m)\u001b[0m\u001b[0;34m\u001b[0m\u001b[0;34m\u001b[0m\u001b[0m\n",
      "\u001b[0;32m~/anaconda3/lib/python3.7/site-packages/pandas/core/series.py\u001b[0m in \u001b[0;36m__getitem__\u001b[0;34m(self, key)\u001b[0m\n\u001b[1;32m    866\u001b[0m         \u001b[0mkey\u001b[0m \u001b[0;34m=\u001b[0m \u001b[0mcom\u001b[0m\u001b[0;34m.\u001b[0m\u001b[0mapply_if_callable\u001b[0m\u001b[0;34m(\u001b[0m\u001b[0mkey\u001b[0m\u001b[0;34m,\u001b[0m \u001b[0mself\u001b[0m\u001b[0;34m)\u001b[0m\u001b[0;34m\u001b[0m\u001b[0;34m\u001b[0m\u001b[0m\n\u001b[1;32m    867\u001b[0m         \u001b[0;32mtry\u001b[0m\u001b[0;34m:\u001b[0m\u001b[0;34m\u001b[0m\u001b[0;34m\u001b[0m\u001b[0m\n\u001b[0;32m--> 868\u001b[0;31m             \u001b[0mresult\u001b[0m \u001b[0;34m=\u001b[0m \u001b[0mself\u001b[0m\u001b[0;34m.\u001b[0m\u001b[0mindex\u001b[0m\u001b[0;34m.\u001b[0m\u001b[0mget_value\u001b[0m\u001b[0;34m(\u001b[0m\u001b[0mself\u001b[0m\u001b[0;34m,\u001b[0m \u001b[0mkey\u001b[0m\u001b[0;34m)\u001b[0m\u001b[0;34m\u001b[0m\u001b[0;34m\u001b[0m\u001b[0m\n\u001b[0m\u001b[1;32m    869\u001b[0m \u001b[0;34m\u001b[0m\u001b[0m\n\u001b[1;32m    870\u001b[0m             \u001b[0;32mif\u001b[0m \u001b[0;32mnot\u001b[0m \u001b[0mis_scalar\u001b[0m\u001b[0;34m(\u001b[0m\u001b[0mresult\u001b[0m\u001b[0;34m)\u001b[0m\u001b[0;34m:\u001b[0m\u001b[0;34m\u001b[0m\u001b[0;34m\u001b[0m\u001b[0m\n",
      "\u001b[0;32m~/anaconda3/lib/python3.7/site-packages/pandas/core/indexes/base.py\u001b[0m in \u001b[0;36mget_value\u001b[0;34m(self, series, key)\u001b[0m\n\u001b[1;32m   4349\u001b[0m         \u001b[0;31m# use this, e.g. DatetimeIndex\u001b[0m\u001b[0;34m\u001b[0m\u001b[0;34m\u001b[0m\u001b[0;34m\u001b[0m\u001b[0m\n\u001b[1;32m   4350\u001b[0m         \u001b[0;31m# Things like `Series._get_value` (via .at) pass the EA directly here.\u001b[0m\u001b[0;34m\u001b[0m\u001b[0;34m\u001b[0m\u001b[0;34m\u001b[0m\u001b[0m\n\u001b[0;32m-> 4351\u001b[0;31m         \u001b[0ms\u001b[0m \u001b[0;34m=\u001b[0m \u001b[0mgetattr\u001b[0m\u001b[0;34m(\u001b[0m\u001b[0mseries\u001b[0m\u001b[0;34m,\u001b[0m \u001b[0;34m'_values'\u001b[0m\u001b[0;34m,\u001b[0m \u001b[0mseries\u001b[0m\u001b[0;34m)\u001b[0m\u001b[0;34m\u001b[0m\u001b[0;34m\u001b[0m\u001b[0m\n\u001b[0m\u001b[1;32m   4352\u001b[0m         \u001b[0;32mif\u001b[0m \u001b[0misinstance\u001b[0m\u001b[0;34m(\u001b[0m\u001b[0ms\u001b[0m\u001b[0;34m,\u001b[0m \u001b[0;34m(\u001b[0m\u001b[0mExtensionArray\u001b[0m\u001b[0;34m,\u001b[0m \u001b[0mIndex\u001b[0m\u001b[0;34m)\u001b[0m\u001b[0;34m)\u001b[0m \u001b[0;32mand\u001b[0m \u001b[0mis_scalar\u001b[0m\u001b[0;34m(\u001b[0m\u001b[0mkey\u001b[0m\u001b[0;34m)\u001b[0m\u001b[0;34m:\u001b[0m\u001b[0;34m\u001b[0m\u001b[0;34m\u001b[0m\u001b[0m\n\u001b[1;32m   4353\u001b[0m             \u001b[0;31m# GH 20882, 21257\u001b[0m\u001b[0;34m\u001b[0m\u001b[0;34m\u001b[0m\u001b[0;34m\u001b[0m\u001b[0m\n",
      "\u001b[0;32m~/anaconda3/lib/python3.7/site-packages/pandas/core/series.py\u001b[0m in \u001b[0;36m_values\u001b[0;34m(self)\u001b[0m\n\u001b[1;32m    479\u001b[0m         \u001b[0mReturn\u001b[0m \u001b[0mthe\u001b[0m \u001b[0minternal\u001b[0m \u001b[0mrepr\u001b[0m \u001b[0mof\u001b[0m \u001b[0mthis\u001b[0m \u001b[0mdata\u001b[0m\u001b[0;34m.\u001b[0m\u001b[0;34m\u001b[0m\u001b[0;34m\u001b[0m\u001b[0m\n\u001b[1;32m    480\u001b[0m         \"\"\"\n\u001b[0;32m--> 481\u001b[0;31m         \u001b[0;32mreturn\u001b[0m \u001b[0mself\u001b[0m\u001b[0;34m.\u001b[0m\u001b[0m_data\u001b[0m\u001b[0;34m.\u001b[0m\u001b[0minternal_values\u001b[0m\u001b[0;34m(\u001b[0m\u001b[0;34m)\u001b[0m\u001b[0;34m\u001b[0m\u001b[0;34m\u001b[0m\u001b[0m\n\u001b[0m\u001b[1;32m    482\u001b[0m \u001b[0;34m\u001b[0m\u001b[0m\n\u001b[1;32m    483\u001b[0m     \u001b[0;32mdef\u001b[0m \u001b[0m_formatting_values\u001b[0m\u001b[0;34m(\u001b[0m\u001b[0mself\u001b[0m\u001b[0;34m)\u001b[0m\u001b[0;34m:\u001b[0m\u001b[0;34m\u001b[0m\u001b[0;34m\u001b[0m\u001b[0m\n",
      "\u001b[0;32m~/anaconda3/lib/python3.7/site-packages/pandas/core/internals/managers.py\u001b[0m in \u001b[0;36minternal_values\u001b[0;34m(self)\u001b[0m\n\u001b[1;32m   1548\u001b[0m \u001b[0;34m\u001b[0m\u001b[0m\n\u001b[1;32m   1549\u001b[0m     \u001b[0;32mdef\u001b[0m \u001b[0minternal_values\u001b[0m\u001b[0;34m(\u001b[0m\u001b[0mself\u001b[0m\u001b[0;34m)\u001b[0m\u001b[0;34m:\u001b[0m\u001b[0;34m\u001b[0m\u001b[0;34m\u001b[0m\u001b[0m\n\u001b[0;32m-> 1550\u001b[0;31m         \u001b[0;32mreturn\u001b[0m \u001b[0mself\u001b[0m\u001b[0;34m.\u001b[0m\u001b[0m_block\u001b[0m\u001b[0;34m.\u001b[0m\u001b[0minternal_values\u001b[0m\u001b[0;34m(\u001b[0m\u001b[0;34m)\u001b[0m\u001b[0;34m\u001b[0m\u001b[0;34m\u001b[0m\u001b[0m\n\u001b[0m\u001b[1;32m   1551\u001b[0m \u001b[0;34m\u001b[0m\u001b[0m\n\u001b[1;32m   1552\u001b[0m     \u001b[0;32mdef\u001b[0m \u001b[0mformatting_values\u001b[0m\u001b[0;34m(\u001b[0m\u001b[0mself\u001b[0m\u001b[0;34m)\u001b[0m\u001b[0;34m:\u001b[0m\u001b[0;34m\u001b[0m\u001b[0;34m\u001b[0m\u001b[0m\n",
      "\u001b[0;32m~/anaconda3/lib/python3.7/site-packages/pandas/core/internals/blocks.py\u001b[0m in \u001b[0;36minternal_values\u001b[0;34m(self, dtype)\u001b[0m\n\u001b[1;32m    167\u001b[0m         \u001b[0mthis\u001b[0m \u001b[0mshould\u001b[0m \u001b[0mbe\u001b[0m \u001b[0mthe\u001b[0m \u001b[0mpure\u001b[0m \u001b[0minternal\u001b[0m \u001b[0mAPI\u001b[0m \u001b[0mformat\u001b[0m\u001b[0;34m\u001b[0m\u001b[0;34m\u001b[0m\u001b[0m\n\u001b[1;32m    168\u001b[0m         \"\"\"\n\u001b[0;32m--> 169\u001b[0;31m         \u001b[0;32mreturn\u001b[0m \u001b[0mself\u001b[0m\u001b[0;34m.\u001b[0m\u001b[0mvalues\u001b[0m\u001b[0;34m\u001b[0m\u001b[0;34m\u001b[0m\u001b[0m\n\u001b[0m\u001b[1;32m    170\u001b[0m \u001b[0;34m\u001b[0m\u001b[0m\n\u001b[1;32m    171\u001b[0m     \u001b[0;32mdef\u001b[0m \u001b[0mformatting_values\u001b[0m\u001b[0;34m(\u001b[0m\u001b[0mself\u001b[0m\u001b[0;34m)\u001b[0m\u001b[0;34m:\u001b[0m\u001b[0;34m\u001b[0m\u001b[0;34m\u001b[0m\u001b[0m\n",
      "\u001b[0;31mKeyboardInterrupt\u001b[0m: "
     ]
    }
   ],
   "source": [
    "empirical_amp_same_category = amplitude_calc(same_category, 'same_category')\n",
    "empirical_amp_diff_category = amplitude_calc(diff_category, 'different_category')\n",
    "    "
   ]
  },
  {
   "cell_type": "code",
   "execution_count": null,
   "metadata": {
    "ExecuteTime": {
     "end_time": "2021-02-07T02:16:09.514238Z",
     "start_time": "2021-02-07T01:42:21.486246Z"
    },
    "scrolled": true
   },
   "outputs": [],
   "source": [
    "def slope_calc(xdata, ydata):\n",
    "    ## Von Mise fitting: Shape Similarity##\n",
    "    init_vals = [-25, 4]\n",
    "    best_vals, covar = curve_fit(vonmise_derivative, xdata, ydata, p0=init_vals, bounds = ([-60,2],[60,4]))\n",
    "\n",
    "    x = np.linspace(-75, 75, 300)\n",
    "    y = [vonmise_derivative(xi,best_vals[0],best_vals[1]) for xi in x]\n",
    "    if x[np.argmax(y)] > 0: \n",
    "        amp = np.max(y)\n",
    "    else: \n",
    "        amp = -np.max(y)\n",
    "    peak_x = (x[np.argmax(y)])\n",
    "\n",
    "    poly1d_fn, coef = getRegressionLine(x = xdata, y= ydata, peak = peak_x)\n",
    "\n",
    "    return coef[0], amp\n",
    "\n",
    "\n",
    "def init_bootstrap(xdata, ydata, nIterations=5000):\n",
    "    slope_boots = []\n",
    "    amp_boots = []\n",
    "    bsSize = int(1.0 * len(xdata))\n",
    "    iteration = 0\n",
    "    while len(slope_boots) < nIterations:\n",
    "#         print(iteration)\n",
    "        RandIndex = np.random.choice(len(xdata), bsSize, replace=True) # get randi index of xdata\n",
    "        xdataNEW = [xdata[i] for i in RandIndex] # change xdata index\n",
    "        ydataNEW = [ydata[i] for i in RandIndex] # change ydata index\n",
    "\n",
    "        try:\n",
    "            slope, amp = slope_calc(xdataNEW, ydataNEW)\n",
    "            slope_boots.append(slope)\n",
    "            amp_boots.append(amp)\n",
    "            iteration += 1\n",
    "        except TypeError:\n",
    "            pass       \n",
    "\n",
    "        \n",
    "    return slope_boots, amp_boots\n",
    "\n",
    "slopes = pd.DataFrame(columns=['SUBJECT', 'TYPE', 'SLOPE'])\n",
    "amps = pd.DataFrame(columns=['SUBJECT', 'TYPE', 'AMPLITUDE'])\n",
    "for subject in subject_names:\n",
    "    print(subject)\n",
    "    tmp_same_slope = pd.DataFrame()\n",
    "    tmp_diff_slope = pd.DataFrame()\n",
    "    tmp_same_amp = pd.DataFrame()\n",
    "    tmp_diff_amp = pd.DataFrame()\n",
    "    # load data:\n",
    "    subjectdata = pd.read_csv(datapath + subject + '/' + subject + '_VM_output_1nBack.csv')\n",
    "    subjectdata = subjectdata[(subjectdata['trialNumber'] >=1) & (subjectdata['trialNumber'] <=84)]\n",
    "    subjectdata['same_category'] = subjectdata['stimulusID'].apply(category_definition) == subjectdata['shifted_stimulusID'].apply(category_definition)\n",
    "\n",
    "    same_category = subjectdata[subjectdata['same_category'] == True].reset_index(drop=True)\n",
    "    diff_category = subjectdata[subjectdata['same_category'] == False].reset_index(drop=True)\n",
    "    slope_same_cat, amp_same_cat = init_bootstrap(np.asarray(same_category['Stim_diff']), np.asarray(same_category['responseError']))\n",
    "    slope_diff_cat, amp_diff_cat = init_bootstrap(np.asarray(diff_category['Stim_diff']), np.asarray(diff_category['responseError']))    \n",
    "\n",
    "    tmp_same_slope['SLOPE'] = slope_same_cat\n",
    "    tmp_same_slope['SUBJECT'] = subject\n",
    "    tmp_same_slope['TYPE'] = 'SAME'    \n",
    "\n",
    "    tmp_same_amp['AMPLITUDE'] = amp_same_cat\n",
    "    tmp_same_amp['SUBJECT'] = subject\n",
    "    tmp_same_amp['TYPE'] = 'SAME'    \n",
    "\n",
    "    tmp_diff_slope['SLOPE'] = slope_diff_cat\n",
    "    tmp_diff_slope['SUBJECT'] = subject\n",
    "    tmp_diff_slope['TYPE'] = 'DIFFERENT'    \n",
    "\n",
    "    tmp_diff_amp['AMPLITUDE'] = amp_diff_cat\n",
    "    tmp_diff_amp['SUBJECT'] = subject\n",
    "    tmp_diff_amp['TYPE'] = 'DIFFERENT'\n",
    "    \n",
    "    slopes = pd.concat([slopes, tmp_same_slope, tmp_diff_slope])\n",
    "    amps = pd.concat([amps, tmp_same_amp, tmp_diff_amp])\n",
    "    "
   ]
  },
  {
   "cell_type": "code",
   "execution_count": null,
   "metadata": {
    "ExecuteTime": {
     "end_time": "2021-02-01T08:24:20.220493Z",
     "start_time": "2021-02-01T08:24:20.210833Z"
    }
   },
   "outputs": [],
   "source": [
    "all_category_emp = pd.DataFrame()\n",
    "all_category_emp.loc[0, 'NULL']='DIFFERENT'\n",
    "all_category_emp.loc[0, 'EMPIRICAL'] = empirical_amp_diff_category\n",
    "all_category_emp.loc[1, 'NULL']='SAME'\n",
    "all_category_emp.loc[1, 'EMPIRICAL'] = empirical_amp_same_category"
   ]
  },
  {
   "cell_type": "code",
   "execution_count": 8,
   "metadata": {
    "ExecuteTime": {
     "end_time": "2021-02-07T19:24:37.825380Z",
     "start_time": "2021-02-07T19:24:37.814388Z"
    }
   },
   "outputs": [],
   "source": [
    "def init_null(data, subject, nIterations=5000):\n",
    "    data_null = pd.DataFrame(columns=['ITERATION', 'SUBJECT', 'TYPE', 'AMPLITUDE', 'SLOPE'])\n",
    "    row = 0\n",
    "    data['Stim_diff_og'] = data['Stim_diff']\n",
    "    amp_same_arr = []\n",
    "    amp_diff_arr = []\n",
    "    slope_same_arr = []\n",
    "    slope_diff_arr = []\n",
    "    for iteration in range(nIterations):\n",
    "        print(iteration)\n",
    "        \n",
    "        data['Stim_diff'] = data['Stim_diff_og'].sample(frac=1).reset_index(drop=True)\n",
    "#         data['Stim_diff'] = data['Stim_diff'].sample(frac=1).reset_index(drop=True)\n",
    "\n",
    "        subjectdata['same_category'] = subjectdata['stimulusID'].apply(category_definition) == subjectdata['shifted_stimulusID'].apply(category_definition)\n",
    "\n",
    "        same_category = subjectdata[subjectdata['same_category'] == True].reset_index(drop=True)\n",
    "        diff_category = subjectdata[subjectdata['same_category'] == False].reset_index(drop=True)\n",
    "        try:\n",
    "\n",
    "            amplitude_same = permute_null(same_category, nIterations)\n",
    "\n",
    "#             slope_same_arr.append(slope_same)\n",
    "            amp_same_arr.append(amplitude_same)\n",
    "        except:\n",
    "            print('')\n",
    "        try:\n",
    "            amplitude_diff = permute_null(diff_category, nIterations)\n",
    "\n",
    "            amp_diff_arr.append(amplitude_diff)\n",
    "#             slope_diff_arr.append(slope_diff)\n",
    "        except TypeError:\n",
    "            print('diff didnt converge')\n",
    "        \n",
    "#     return data_null\n",
    "    return amp_same_arr, amp_diff_arr #, slope_same_arr, slope_diff_arr\n",
    "\n",
    "def permute_null(data, nIterations=5000):\n",
    "\n",
    "    ## Von Mise fitting: Shape Similarity##\n",
    "    init_vals = [-25, 4]\n",
    "    best_vals, covar = curve_fit(vonmise_derivative, data['Stim_diff'], data['responseError']) #, p0=init_vals,bounds = ([-60,2],[60,4]))\n",
    "    x = np.linspace(-75, 75, 300)\n",
    "    y = [vonmise_derivative(xi,best_vals[0],best_vals[1]) for xi in x]\n",
    "\n",
    "\n",
    "    if x[np.argmax(y)] > 0: \n",
    "        amplitude = np.max(y)\n",
    "    else: \n",
    "        amplitude = -np.max(y)\n",
    "\n",
    "    peak_x = (x[np.argmax(y)])\n",
    "\n",
    "#     poly1d_fn, coef = getRegressionLine(x = data['Stim_diff'], y= data['responseError'], peak = peak_x)\n",
    "    return amplitude #, coef[0]\n",
    "\n",
    "\n",
    "        \n"
   ]
  },
  {
   "cell_type": "markdown",
   "metadata": {},
   "source": [
    "# FOR PETER:"
   ]
  },
  {
   "cell_type": "code",
   "execution_count": 25,
   "metadata": {
    "ExecuteTime": {
     "end_time": "2021-02-08T19:47:48.612659Z",
     "start_time": "2021-02-08T19:47:48.601364Z"
    }
   },
   "outputs": [],
   "source": [
    "def init_null(data, subject, nIterations=100):\n",
    "    data_null = pd.DataFrame(columns=['ITERATION', 'SUBJECT', 'TYPE', 'AMPLITUDE', 'SLOPE'])\n",
    "    row = 0\n",
    "    data['Stim_diff_og'] = data['Stim_diff']\n",
    "    amp_same_arr = []\n",
    "    amp_diff_arr = []\n",
    "    slope_same_arr = []\n",
    "    slope_diff_arr = []\n",
    "    for iteration in range(nIterations):\n",
    "        print(iteration)\n",
    "        \n",
    "        data['Stim_diff'] = data['Stim_diff_og'].sample(frac=1).reset_index(drop=True)\n",
    "\n",
    "        data['same_category'] = data['stimulusID'].apply(category_definition) == data['shifted_stimulusID'].apply(category_definition)\n",
    "\n",
    "        same_category = data[data['same_category'] == True].reset_index(drop=True)\n",
    "        diff_category = data[data['same_category'] == False].reset_index(drop=True)\n",
    "#         try:\n",
    "            \n",
    "        ## Von Mise fitting: Shape Similarity##\n",
    "#             init_vals = [-25, 4]\n",
    "#             print(diff_category['Stim_diff'])\n",
    "#             print(diff_category['responseError'])\n",
    "        best_vals, covar = curve_fit(vonmise_derivative, diff_category['Stim_diff'], diff_category['responseError']) #, p0=init_vals,bounds = ([-60,2],[60,4]))\n",
    "#             print('best_vals', best_vals)\n",
    "        x = np.linspace(-75, 75, 300)\n",
    "        y = [vonmise_derivative(xi,best_vals[0],best_vals[1]) for xi in x]\n",
    "\n",
    "\n",
    "        if x[np.argmax(y)] > 0: \n",
    "            amplitude = np.max(y)\n",
    "        else: \n",
    "            amplitude = -np.max(y)\n",
    "\n",
    "        peak_x = (x[np.argmax(y)])\n",
    "        print(peak_x)\n",
    "        amp_diff_arr.append(amplitude)\n",
    "#             print('amplitude:', amplitude)\n",
    "\n",
    "#         except:\n",
    "#             print('here')\n",
    "#             pass\n",
    "#         try:\n",
    "        print(diff_category['Stim_diff'].values)\n",
    "        print(diff_category['responseError'].values)\n",
    "        poly1d_fn, coef = getRegressionLine(x = diff_category['Stim_diff'].values, y= diff_category['responseError'].values, peak = peak_x)\n",
    "\n",
    "        slope_diff_arr.append(coef[0])\n",
    "#         except:\n",
    "#             print('hello')\n",
    "#             pass\n",
    "\n",
    "        \n",
    "    return amp_diff_arr, slope_diff_arr #, slope_same_arr, slope_diff_arr\n",
    "\n",
    "\n"
   ]
  },
  {
   "cell_type": "code",
   "execution_count": 26,
   "metadata": {
    "ExecuteTime": {
     "end_time": "2021-02-08T19:47:49.613981Z",
     "start_time": "2021-02-08T19:47:49.069116Z"
    },
    "scrolled": true
   },
   "outputs": [
    {
     "name": "stdout",
     "output_type": "stream",
     "text": [
      "SuperSubject\n",
      "0\n",
      "-20.819397993311036\n",
      "[-71.  12.  49. ...  71.  58.  nan]\n",
      "[ 2.00097852  9.         36.         ... -5.          6.\n",
      "  3.        ]\n"
     ]
    },
    {
     "ename": "TypeError",
     "evalue": "expected non-empty vector for x",
     "output_type": "error",
     "traceback": [
      "\u001b[0;31m---------------------------------------------------------------------------\u001b[0m",
      "\u001b[0;31mTypeError\u001b[0m                                 Traceback (most recent call last)",
      "\u001b[0;32m<ipython-input-26-5ccfb58723bd>\u001b[0m in \u001b[0;36m<module>\u001b[0;34m\u001b[0m\n\u001b[1;32m     11\u001b[0m     \u001b[0msubjectdata\u001b[0m \u001b[0;34m=\u001b[0m \u001b[0msubjectdata\u001b[0m\u001b[0;34m[\u001b[0m\u001b[0;34m(\u001b[0m\u001b[0msubjectdata\u001b[0m\u001b[0;34m[\u001b[0m\u001b[0;34m'trialNumber'\u001b[0m\u001b[0;34m]\u001b[0m \u001b[0;34m>=\u001b[0m\u001b[0;36m1\u001b[0m\u001b[0;34m)\u001b[0m \u001b[0;34m&\u001b[0m \u001b[0;34m(\u001b[0m\u001b[0msubjectdata\u001b[0m\u001b[0;34m[\u001b[0m\u001b[0;34m'trialNumber'\u001b[0m\u001b[0;34m]\u001b[0m \u001b[0;34m<=\u001b[0m\u001b[0;36m84\u001b[0m\u001b[0;34m)\u001b[0m\u001b[0;34m]\u001b[0m\u001b[0;34m\u001b[0m\u001b[0;34m\u001b[0m\u001b[0m\n\u001b[1;32m     12\u001b[0m \u001b[0;34m\u001b[0m\u001b[0m\n\u001b[0;32m---> 13\u001b[0;31m     \u001b[0mamp_diff_arr\u001b[0m\u001b[0;34m,\u001b[0m \u001b[0mslope_diff_arr\u001b[0m \u001b[0;34m=\u001b[0m \u001b[0minit_null\u001b[0m\u001b[0;34m(\u001b[0m\u001b[0msubjectdata\u001b[0m\u001b[0;34m,\u001b[0m \u001b[0msubject\u001b[0m\u001b[0;34m,\u001b[0m \u001b[0;36m10\u001b[0m\u001b[0;34m)\u001b[0m\u001b[0;34m\u001b[0m\u001b[0;34m\u001b[0m\u001b[0m\n\u001b[0m\u001b[1;32m     14\u001b[0m \u001b[0;31m#     tmp_amp_same['NULL'] = amp_same_arr\u001b[0m\u001b[0;34m\u001b[0m\u001b[0;34m\u001b[0m\u001b[0;34m\u001b[0m\u001b[0m\n\u001b[1;32m     15\u001b[0m \u001b[0;31m#     tmp_amp_same['TYPE'] = 'SAME'\u001b[0m\u001b[0;34m\u001b[0m\u001b[0;34m\u001b[0m\u001b[0;34m\u001b[0m\u001b[0m\n",
      "\u001b[0;32m<ipython-input-25-0444d9d2bcd1>\u001b[0m in \u001b[0;36minit_null\u001b[0;34m(data, subject, nIterations)\u001b[0m\n\u001b[1;32m     44\u001b[0m         \u001b[0mprint\u001b[0m\u001b[0;34m(\u001b[0m\u001b[0mdiff_category\u001b[0m\u001b[0;34m[\u001b[0m\u001b[0;34m'Stim_diff'\u001b[0m\u001b[0;34m]\u001b[0m\u001b[0;34m.\u001b[0m\u001b[0mvalues\u001b[0m\u001b[0;34m)\u001b[0m\u001b[0;34m\u001b[0m\u001b[0;34m\u001b[0m\u001b[0m\n\u001b[1;32m     45\u001b[0m         \u001b[0mprint\u001b[0m\u001b[0;34m(\u001b[0m\u001b[0mdiff_category\u001b[0m\u001b[0;34m[\u001b[0m\u001b[0;34m'responseError'\u001b[0m\u001b[0;34m]\u001b[0m\u001b[0;34m.\u001b[0m\u001b[0mvalues\u001b[0m\u001b[0;34m)\u001b[0m\u001b[0;34m\u001b[0m\u001b[0;34m\u001b[0m\u001b[0m\n\u001b[0;32m---> 46\u001b[0;31m         \u001b[0mpoly1d_fn\u001b[0m\u001b[0;34m,\u001b[0m \u001b[0mcoef\u001b[0m \u001b[0;34m=\u001b[0m \u001b[0mgetRegressionLine\u001b[0m\u001b[0;34m(\u001b[0m\u001b[0mx\u001b[0m \u001b[0;34m=\u001b[0m \u001b[0mdiff_category\u001b[0m\u001b[0;34m[\u001b[0m\u001b[0;34m'Stim_diff'\u001b[0m\u001b[0;34m]\u001b[0m\u001b[0;34m.\u001b[0m\u001b[0mvalues\u001b[0m\u001b[0;34m,\u001b[0m \u001b[0my\u001b[0m\u001b[0;34m=\u001b[0m \u001b[0mdiff_category\u001b[0m\u001b[0;34m[\u001b[0m\u001b[0;34m'responseError'\u001b[0m\u001b[0;34m]\u001b[0m\u001b[0;34m.\u001b[0m\u001b[0mvalues\u001b[0m\u001b[0;34m,\u001b[0m \u001b[0mpeak\u001b[0m \u001b[0;34m=\u001b[0m \u001b[0mpeak_x\u001b[0m\u001b[0;34m)\u001b[0m\u001b[0;34m\u001b[0m\u001b[0;34m\u001b[0m\u001b[0m\n\u001b[0m\u001b[1;32m     47\u001b[0m \u001b[0;34m\u001b[0m\u001b[0m\n\u001b[1;32m     48\u001b[0m         \u001b[0mslope_diff_arr\u001b[0m\u001b[0;34m.\u001b[0m\u001b[0mappend\u001b[0m\u001b[0;34m(\u001b[0m\u001b[0mcoef\u001b[0m\u001b[0;34m[\u001b[0m\u001b[0;36m0\u001b[0m\u001b[0;34m]\u001b[0m\u001b[0;34m)\u001b[0m\u001b[0;34m\u001b[0m\u001b[0;34m\u001b[0m\u001b[0m\n",
      "\u001b[0;32m<ipython-input-3-0f153e6d7069>\u001b[0m in \u001b[0;36mgetRegressionLine\u001b[0;34m(x, y, peak)\u001b[0m\n\u001b[1;32m     27\u001b[0m             \u001b[0mstimuli_diff_filtered\u001b[0m\u001b[0;34m.\u001b[0m\u001b[0mappend\u001b[0m\u001b[0;34m(\u001b[0m\u001b[0mx\u001b[0m\u001b[0;34m[\u001b[0m\u001b[0mi\u001b[0m\u001b[0;34m]\u001b[0m\u001b[0;34m)\u001b[0m\u001b[0;34m\u001b[0m\u001b[0;34m\u001b[0m\u001b[0m\n\u001b[1;32m     28\u001b[0m             \u001b[0mfiltered_responseError_new\u001b[0m\u001b[0;34m.\u001b[0m\u001b[0mappend\u001b[0m\u001b[0;34m(\u001b[0m\u001b[0my\u001b[0m\u001b[0;34m[\u001b[0m\u001b[0mi\u001b[0m\u001b[0;34m]\u001b[0m\u001b[0;34m)\u001b[0m\u001b[0;34m\u001b[0m\u001b[0;34m\u001b[0m\u001b[0m\n\u001b[0;32m---> 29\u001b[0;31m     \u001b[0mcoef\u001b[0m \u001b[0;34m=\u001b[0m \u001b[0mnp\u001b[0m\u001b[0;34m.\u001b[0m\u001b[0mpolyfit\u001b[0m\u001b[0;34m(\u001b[0m\u001b[0mstimuli_diff_filtered\u001b[0m\u001b[0;34m,\u001b[0m\u001b[0mfiltered_responseError_new\u001b[0m\u001b[0;34m,\u001b[0m\u001b[0;36m1\u001b[0m\u001b[0;34m)\u001b[0m\u001b[0;34m\u001b[0m\u001b[0;34m\u001b[0m\u001b[0m\n\u001b[0m\u001b[1;32m     30\u001b[0m     \u001b[0mpoly1d_fn\u001b[0m \u001b[0;34m=\u001b[0m \u001b[0mnp\u001b[0m\u001b[0;34m.\u001b[0m\u001b[0mpoly1d\u001b[0m\u001b[0;34m(\u001b[0m\u001b[0mcoef\u001b[0m\u001b[0;34m)\u001b[0m\u001b[0;34m\u001b[0m\u001b[0;34m\u001b[0m\u001b[0m\n\u001b[1;32m     31\u001b[0m     \u001b[0;32mreturn\u001b[0m \u001b[0mpoly1d_fn\u001b[0m\u001b[0;34m,\u001b[0m \u001b[0mcoef\u001b[0m\u001b[0;34m\u001b[0m\u001b[0;34m\u001b[0m\u001b[0m\n",
      "\u001b[0;32m~/anaconda3/lib/python3.7/site-packages/numpy/lib/polynomial.py\u001b[0m in \u001b[0;36mpolyfit\u001b[0;34m(x, y, deg, rcond, full, w, cov)\u001b[0m\n\u001b[1;32m    596\u001b[0m         \u001b[0;32mraise\u001b[0m \u001b[0mTypeError\u001b[0m\u001b[0;34m(\u001b[0m\u001b[0;34m\"expected 1D vector for x\"\u001b[0m\u001b[0;34m)\u001b[0m\u001b[0;34m\u001b[0m\u001b[0;34m\u001b[0m\u001b[0m\n\u001b[1;32m    597\u001b[0m     \u001b[0;32mif\u001b[0m \u001b[0mx\u001b[0m\u001b[0;34m.\u001b[0m\u001b[0msize\u001b[0m \u001b[0;34m==\u001b[0m \u001b[0;36m0\u001b[0m\u001b[0;34m:\u001b[0m\u001b[0;34m\u001b[0m\u001b[0;34m\u001b[0m\u001b[0m\n\u001b[0;32m--> 598\u001b[0;31m         \u001b[0;32mraise\u001b[0m \u001b[0mTypeError\u001b[0m\u001b[0;34m(\u001b[0m\u001b[0;34m\"expected non-empty vector for x\"\u001b[0m\u001b[0;34m)\u001b[0m\u001b[0;34m\u001b[0m\u001b[0;34m\u001b[0m\u001b[0m\n\u001b[0m\u001b[1;32m    599\u001b[0m     \u001b[0;32mif\u001b[0m \u001b[0my\u001b[0m\u001b[0;34m.\u001b[0m\u001b[0mndim\u001b[0m \u001b[0;34m<\u001b[0m \u001b[0;36m1\u001b[0m \u001b[0;32mor\u001b[0m \u001b[0my\u001b[0m\u001b[0;34m.\u001b[0m\u001b[0mndim\u001b[0m \u001b[0;34m>\u001b[0m \u001b[0;36m2\u001b[0m\u001b[0;34m:\u001b[0m\u001b[0;34m\u001b[0m\u001b[0;34m\u001b[0m\u001b[0m\n\u001b[1;32m    600\u001b[0m         \u001b[0;32mraise\u001b[0m \u001b[0mTypeError\u001b[0m\u001b[0;34m(\u001b[0m\u001b[0;34m\"expected 1D or 2D array for y\"\u001b[0m\u001b[0;34m)\u001b[0m\u001b[0;34m\u001b[0m\u001b[0;34m\u001b[0m\u001b[0m\n",
      "\u001b[0;31mTypeError\u001b[0m: expected non-empty vector for x"
     ]
    }
   ],
   "source": [
    "amp_nulls = pd.DataFrame()\n",
    "slope_nulls = pd.DataFrame()\n",
    "for subject in ['SuperSubject']:\n",
    "    print(subject)\n",
    "    tmp_amp_same = pd.DataFrame()\n",
    "    tmp_amp_diff = pd.DataFrame()\n",
    "    tmp_slope_same = pd.DataFrame()\n",
    "    tmp_slope_diff = pd.DataFrame()\n",
    "    # load data:\n",
    "    subjectdata = pd.read_csv(datapath + subject + '/' + subject + '_VM_output_-1nBack.csv')\n",
    "    subjectdata = subjectdata[(subjectdata['trialNumber'] >=1) & (subjectdata['trialNumber'] <=84)]\n",
    " \n",
    "    amp_diff_arr, slope_diff_arr = init_null(subjectdata, subject, 10)\n",
    "#     tmp_amp_same['NULL'] = amp_same_arr\n",
    "#     tmp_amp_same['TYPE'] = 'SAME'\n",
    "#     tmp_amp_same['SUBJECT'] = subject\n",
    "    tmp_amp_diff['NULL'] = amp_diff_arr\n",
    "    tmp_amp_diff['TYPE'] = 'DIFF'  \n",
    "    tmp_amp_diff['SUBJECT'] = subject\n",
    "\n",
    "    \n",
    "#     tmp_slope_same['NULL'] = slope_same_arr\n",
    "#     tmp_slope_same['TYPE'] = 'SAME'\n",
    "#     tmp_slope_same['SUBJECT'] = subject\n",
    "\n",
    "    tmp_slope_diff['NULL'] = slope_diff_arr\n",
    "    tmp_slope_diff['TYPE'] = 'DIFF'      \n",
    "    tmp_slope_diff['SUBJECT'] = subject\n",
    "    \n",
    "    amp_nulls = pd.concat([amp_nulls, tmp_amp_diff])\n",
    "    slope_nulls = pd.concat([slope_nulls, tmp_slope_diff])"
   ]
  },
  {
   "cell_type": "code",
   "execution_count": null,
   "metadata": {
    "ExecuteTime": {
     "end_time": "2021-02-01T08:24:21.960840Z",
     "start_time": "2021-02-01T08:24:21.702551Z"
    }
   },
   "outputs": [],
   "source": [
    "ax = sns.violinplot(x='TYPE', y='AMPLITUDE', data=correct_null)\n",
    "for violin, alpha in zip(ax.collections[::2], [0.2, 0.2]):\n",
    "    violin.set_alpha(alpha)\n",
    "    \n",
    "sns.swarmplot(ax=ax, x='NULL', y='EMPIRICAL', data=all_category_emp, size=10)\n",
    "plt.xlabel('')\n",
    "plt.ylabel('Half Amplitude')\n",
    "plt.title('Empirical vs null half amplitudes\\nsame and different category')"
   ]
  },
  {
   "cell_type": "code",
   "execution_count": null,
   "metadata": {
    "ExecuteTime": {
     "end_time": "2021-02-01T03:18:16.899765Z",
     "start_time": "2021-02-01T03:18:16.890169Z"
    }
   },
   "outputs": [],
   "source": [
    "sorted_null_diff = sorted(correct_null.loc[correct_null['TYPE'] == 'DIFF', 'AMPLITUDE'])\n",
    "ci97_null_diff = sorted_null_diff[int(nIterations*0.97)]\n",
    "ci97_null_diff"
   ]
  },
  {
   "cell_type": "code",
   "execution_count": null,
   "metadata": {
    "ExecuteTime": {
     "end_time": "2021-02-01T03:18:23.025962Z",
     "start_time": "2021-02-01T03:18:23.015794Z"
    }
   },
   "outputs": [],
   "source": [
    "sorted_null_same = sorted(correct_null.loc[correct_null['TYPE'] == 'SAME', 'AMPLITUDE'])\n",
    "ci97_null_same = sorted_null_same[int(nIterations*0.97)]\n",
    "ci97_null_same"
   ]
  },
  {
   "cell_type": "code",
   "execution_count": null,
   "metadata": {
    "ExecuteTime": {
     "end_time": "2021-02-01T03:57:35.954597Z",
     "start_time": "2021-02-01T03:57:35.803880Z"
    }
   },
   "outputs": [],
   "source": [
    "sns.boxplot(correct_null[correct_null['TYPE'] == 'SAME']['AMPLITUDE'])"
   ]
  },
  {
   "cell_type": "code",
   "execution_count": null,
   "metadata": {
    "ExecuteTime": {
     "end_time": "2021-02-01T18:05:49.676101Z",
     "start_time": "2021-02-01T18:05:49.662891Z"
    }
   },
   "outputs": [],
   "source": [
    "def calc_p(data, empirical):\n",
    "    p = sum(data['AMPLITUDE'] < empirical)/len(data)\n",
    "    if p < .5:\n",
    "        twoTailedP = p * 2;\n",
    "    else:\n",
    "        twoTailedP = (1 - p) * 2;\n",
    "    return twoTailedP\n",
    "\n",
    "p_same = calc_p(correct_null[correct_null['TYPE'] == 'SAME'], empirical_amp_same_category)\n",
    "p_diff = calc_p(correct_null[correct_null['TYPE'] == 'DIFF'], empirical_amp_diff_category)\n",
    "p_same, p_diff"
   ]
  },
  {
   "cell_type": "markdown",
   "metadata": {},
   "source": [
    "#  Figure CRD"
   ]
  },
  {
   "cell_type": "code",
   "execution_count": null,
   "metadata": {
    "ExecuteTime": {
     "end_time": "2021-02-05T18:40:11.166841Z",
     "start_time": "2021-02-05T18:40:11.134568Z"
    }
   },
   "outputs": [],
   "source": [
    "good_cdf_data = cdf_data.copy()\n",
    "good_cdf_data.loc[13, 'SUBJECT'] = 'mean'\n",
    "good_cdf_data.loc[13, 'JND_OG'] = np.mean(good_cdf_data.loc[range(13), 'JND_OG'])\n",
    "good_cdf_data.loc[13, 'JND_GAUSSIAN'] = np.mean(good_cdf_data.loc[range(13), 'JND_GAUSSIAN'])\n",
    "good_cdf_data.loc[13, 'JND_CAUCHY'] = np.mean(good_cdf_data.loc[range(13), 'JND_CAUCHY'])\n",
    "good_cdf_data.loc[13, 'JND_VM'] = np.mean(good_cdf_data.loc[range(13), 'JND_VM'])\n",
    "good_cdf_data\n",
    "jnd_vm_sem = stats.sem(good_cdf_data.loc[range(13), 'JND_VM'])\n",
    "jnd_vm_sem\n",
    "jnd_vm_sem_all = [0]*13\n",
    "jnd_vm_sem_all.append(jnd_vm_sem)\n",
    "jnd_vm_sem_all"
   ]
  },
  {
   "cell_type": "code",
   "execution_count": null,
   "metadata": {
    "ExecuteTime": {
     "end_time": "2021-02-05T18:40:16.807791Z",
     "start_time": "2021-02-05T18:40:16.575692Z"
    }
   },
   "outputs": [],
   "source": [
    "plt.figure(figsize=(13, 5))\n",
    "ax = plt.bar(good_cdf_data['SUBJECT'], good_cdf_data['JND_VM'], color='lightgrey', yerr=jnd_vm_sem_all)\n",
    "plt.ylabel('CRD')\n",
    "plt.xticks(range(14), ['S1', 'S2', 'S3', 'S4', 'S5', 'S6', 'S7', 'S8', 'S9', 'S10', 'S11', 'S12', 'S13', 'Mean'])\n",
    "sns.despine(top=True, right=True, left=False, bottom=False)\n"
   ]
  },
  {
   "cell_type": "code",
   "execution_count": null,
   "metadata": {
    "ExecuteTime": {
     "end_time": "2021-02-05T18:13:34.020085Z",
     "start_time": "2021-02-05T18:13:33.697830Z"
    }
   },
   "outputs": [],
   "source": [
    "# row = 0\n",
    "# fig, axs = plt.subplots(2,7, figsize=(15, 6), facecolor='w', edgecolor='k', sharex=True, sharey=True)\n",
    "# fig.subplots_adjust(hspace = .5, wspace=.001)\n",
    "# fig.add_subplot(111, frameon=False)\n",
    "\n",
    "# axs = axs.ravel()\n",
    "\n",
    "# for subject in subject_names_wsuper:\n",
    "subject='S1'\n",
    "# load data:\n",
    "subjectdata = pd.read_csv(datapath + subject + '/' + subject + '_VM_output_1nBack.csv')\n",
    "subjectdata = subjectdata[(subjectdata['trialNumber'] >=1) & (subjectdata['trialNumber'] <=84)]\n",
    "counts, bin_edges = np.histogram(subjectdata['responseError'], bins=n_bins)\n",
    "counts[counts < 5] = 0\n",
    "\n",
    "popt_cauchy, _ = curve_fit(cauchy, bin_edges[1:], counts) \n",
    "popt_gaussian, _ = curve_fit(gaussian, bin_edges[1:], counts)\n",
    "popt_vm, _ = curve_fit(vm, bin_edges[1:], counts)\n",
    "plt.hist(subjectdata['responseError'], bins=n_bins, alpha=0.3)\n",
    "plt.plot(bin_edges[1:], vm(bin_edges[1:], *popt_vm), color='green', label='vm')\n",
    "plt.xlabel('')\n",
    "plt.ylabel('')\n",
    "plt.xlim([-60, 60])\n",
    "plt.title(subject)\n",
    "\n",
    "plt.legend()\n",
    "    \n",
    "plt.tick_params(labelcolor='none', top=False, bottom=False, left=False, right=False)\n",
    "plt.xlabel('Response error on current trial\\n (morph units)')\n",
    "plt.ylabel('Count')\n",
    "plt.title('Radiologists\\n');\n",
    "# plt.legend()\n"
   ]
  },
  {
   "cell_type": "code",
   "execution_count": null,
   "metadata": {
    "ExecuteTime": {
     "end_time": "2021-02-05T23:25:02.316503Z",
     "start_time": "2021-02-05T23:25:02.122641Z"
    }
   },
   "outputs": [],
   "source": [
    "subject='S1'\n",
    "# load data:\n",
    "subjectdata = pd.read_csv(datapath + subject + '/' + subject + '_VM_output_1nBack.csv')\n",
    "subjectdata = subjectdata[(subjectdata['trialNumber'] >=1) & (subjectdata['trialNumber'] <=84)]\n",
    "counts, bin_edges = np.histogram(subjectdata['responseError'], bins=n_bins)\n",
    "cdf_vm, cdf_filtered_vm, counts_vm_filtered = cdf(counts)\n",
    "\n",
    "\n",
    "bestvals_vm, temp_vm = curve_fit(sigmoid,bin_edges[1:],cdf_filtered_vm,p0=[3])\n",
    "cdf_og, cdf_filtered_og, counts_filtered_og = cdf(counts)\n",
    "\n",
    "\n",
    "perc_25_vm = inverse_sigmoid(0.25, bestvals_vm)\n",
    "perc_75_vm = inverse_sigmoid(0.75, bestvals_vm)    \n",
    "\n",
    "# plt.plot(bin_edges[1:], cdf_og, color='darkgrey', linewidth=1, label='CDF')\n",
    "\n",
    "plt.plot(bin_edges[1:], sigmoid(bin_edges[1:], bestvals_vm), color='black', linewidth=2.5)\n",
    "\n",
    "plt.axvline(perc_25_vm, 0, 0.23, color='red', linestyle='--')\n",
    "plt.axvline(perc_75_vm, 0, 0.75, color='green', linestyle='--')\n",
    "\n",
    "low_limit = -50\n",
    "plt.axhline(0.25, 0, (np.abs(low_limit) - np.abs(perc_25_vm))/100, color='red', linestyle='--')\n",
    "# plt.axhline(0.75, 0, ((60 - np.abs(perc_25_vm))/100) + (perc_75_vm/100), color='green', linestyle='--')\n",
    "plt.axhline(0.75, 0, ((np.abs(low_limit) + np.abs(perc_75_vm))/100), color='green', linestyle='--')\n",
    "\n",
    "plt.xlim([low_limit, 50])\n",
    "plt.ylabel('CDF')\n",
    "plt.xlabel('Response Error')\n",
    "# plt.legend()\n",
    "# plt.title(title)\n",
    "plt.show()\n",
    "    "
   ]
  },
  {
   "cell_type": "code",
   "execution_count": null,
   "metadata": {
    "ExecuteTime": {
     "end_time": "2021-02-05T18:57:01.552050Z",
     "start_time": "2021-02-05T18:57:01.058463Z"
    }
   },
   "outputs": [],
   "source": [
    "row = 0\n",
    "fig, axs = plt.subplots(1,2, figsize=(15, 5), facecolor='w', edgecolor='k')\n",
    "fig.subplots_adjust(hspace = .5, wspace=.18)\n",
    "# fig.add_subplot(111, frameon=False)\n",
    "\n",
    "# axs = axs.ravel()\n",
    "\n",
    "axs[0].bar(good_cdf_data['SUBJECT'], good_cdf_data['JND_VM'], color='darkgrey', yerr=jnd_vm_sem_all, edgecolor='black')\n",
    "axs[0].set_xticklabels(['1', '2', '3', '4', '5', '6', '7', '8', '9', '10', '11', '12', '13', '   Mean'])\n",
    "axs[0].set_ylabel('CRD')\n",
    "axs[0].set_xlabel('Subject')\n",
    "\n",
    "axs[1].hist(subjectdata['responseError'], bins=n_bins, alpha=0.3, color='darkgrey', edgecolor='black')\n",
    "axs[1].set_ylabel('Frequency')\n",
    "axs[1].set_xlabel('Response error on current trial\\n (morph units)')\n",
    "axs[1].plot(bin_edges[1:], vm(bin_edges[1:], *popt_vm), color='green', label='Von Mises Fit', linewidth=4)\n",
    "axs[1].legend()"
   ]
  },
  {
   "cell_type": "code",
   "execution_count": null,
   "metadata": {},
   "outputs": [],
   "source": []
  }
 ],
 "metadata": {
  "kernelspec": {
   "display_name": "Python 3",
   "language": "python",
   "name": "python3"
  },
  "language_info": {
   "codemirror_mode": {
    "name": "ipython",
    "version": 3
   },
   "file_extension": ".py",
   "mimetype": "text/x-python",
   "name": "python",
   "nbconvert_exporter": "python",
   "pygments_lexer": "ipython3",
   "version": "3.7.3"
  },
  "toc": {
   "base_numbering": 1,
   "nav_menu": {},
   "number_sections": true,
   "sideBar": true,
   "skip_h1_title": false,
   "title_cell": "Table of Contents",
   "title_sidebar": "Contents",
   "toc_cell": false,
   "toc_position": {
    "height": "calc(100% - 180px)",
    "left": "10px",
    "top": "150px",
    "width": "244px"
   },
   "toc_section_display": true,
   "toc_window_display": true
  },
  "varInspector": {
   "cols": {
    "lenName": 16,
    "lenType": 16,
    "lenVar": 40
   },
   "kernels_config": {
    "python": {
     "delete_cmd_postfix": "",
     "delete_cmd_prefix": "del ",
     "library": "var_list.py",
     "varRefreshCmd": "print(var_dic_list())"
    },
    "r": {
     "delete_cmd_postfix": ") ",
     "delete_cmd_prefix": "rm(",
     "library": "var_list.r",
     "varRefreshCmd": "cat(var_dic_list()) "
    }
   },
   "types_to_exclude": [
    "module",
    "function",
    "builtin_function_or_method",
    "instance",
    "_Feature"
   ],
   "window_display": false
  }
 },
 "nbformat": 4,
 "nbformat_minor": 4
}
