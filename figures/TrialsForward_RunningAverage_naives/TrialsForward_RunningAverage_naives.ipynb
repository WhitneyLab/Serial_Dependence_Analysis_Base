{
 "cells": [
  {
   "cell_type": "markdown",
   "metadata": {},
   "source": [
    "# Libraries"
   ]
  },
  {
   "cell_type": "code",
   "execution_count": 18,
   "metadata": {
    "ExecuteTime": {
     "end_time": "2020-09-28T23:50:49.557746Z",
     "start_time": "2020-09-28T23:50:49.553497Z"
    }
   },
   "outputs": [],
   "source": [
    "import pandas as pd\n",
    "import matplotlib.pyplot as plt\n",
    "import numpy as np\n",
    "from scipy.optimize import curve_fit\n",
    "from scipy.special import i0\n",
    "from numpy import exp, sin, cos\n",
    "import seaborn as sns\n",
    "import matplotlib as mpl\n",
    "import os\n",
    "from pathlib import Path\n",
    "from statsFuncs import mean_confidence_interval\n",
    "import scipy\n",
    "\n",
    "mpl.rcParams['axes.linewidth'] = 2"
   ]
  },
  {
   "cell_type": "markdown",
   "metadata": {},
   "source": [
    "# Paths"
   ]
  },
  {
   "cell_type": "code",
   "execution_count": 19,
   "metadata": {
    "ExecuteTime": {
     "end_time": "2020-09-28T23:50:51.109748Z",
     "start_time": "2020-09-28T23:50:51.105550Z"
    }
   },
   "outputs": [],
   "source": [
    "fig5_path = os.getcwd()\n",
    "figures_path = str(Path(fig5_path).parent)\n",
    "datapath = figures_path + '/data/naive_subjects/trials_forward/undergrad_results/'"
   ]
  },
  {
   "cell_type": "markdown",
   "metadata": {},
   "source": [
    "# Plot params "
   ]
  },
  {
   "cell_type": "code",
   "execution_count": 20,
   "metadata": {
    "ExecuteTime": {
     "end_time": "2020-09-28T23:50:51.604423Z",
     "start_time": "2020-09-28T23:50:51.599004Z"
    }
   },
   "outputs": [],
   "source": [
    "mpl.rcParams['xtick.major.size'] = 6\n",
    "mpl.rcParams['xtick.major.width'] = 2\n",
    "mpl.rcParams['ytick.major.size'] = 6\n",
    "mpl.rcParams['ytick.major.width'] = 2\n",
    "mpl.rcParams['xtick.direction'] = 'in'\n",
    "mpl.rcParams['ytick.direction'] = 'in'\n",
    "mpl.rcParams['font.serif'] = 'Myriad Pro'\n",
    "mpl.rcParams['font.weight'] = 'medium'\n",
    "mpl.rcParams['font.size'] = 16\n",
    "mpl.rcParams['axes.labelweight'] = 'medium'"
   ]
  },
  {
   "cell_type": "markdown",
   "metadata": {},
   "source": [
    "# Subject loop "
   ]
  },
  {
   "cell_type": "code",
   "execution_count": 21,
   "metadata": {
    "ExecuteTime": {
     "end_time": "2020-09-28T23:50:52.642687Z",
     "start_time": "2020-09-28T23:50:52.635326Z"
    }
   },
   "outputs": [
    {
     "name": "stdout",
     "output_type": "stream",
     "text": [
      "67 files, 11 folders\n",
      "10 subjects\n"
     ]
    }
   ],
   "source": [
    "files = folders = 0\n",
    "\n",
    "for _, dirnames, filenames in os.walk(datapath):\n",
    "  # ^ this idiom means \"we won't be using this value\"\n",
    "    files += len(filenames)\n",
    "    folders += len(dirnames)\n",
    "\n",
    "print(\"{:,} files, {:,} folders\".format(files, folders))\n",
    "print(str(folders-1) + ' subjects')\n",
    "nSubjects = folders-1"
   ]
  },
  {
   "cell_type": "code",
   "execution_count": 22,
   "metadata": {
    "ExecuteTime": {
     "end_time": "2020-09-28T23:50:53.132418Z",
     "start_time": "2020-09-28T23:50:53.129271Z"
    }
   },
   "outputs": [],
   "source": [
    "subject_names = ['AR', 'CK', 'CT', 'EW', 'HL', 'IS', 'JP', 'MF', 'NC', 'SK', 'SS']\n",
    "nSubjects = len(subject_names)"
   ]
  },
  {
   "cell_type": "markdown",
   "metadata": {},
   "source": [
    "## Calculate mean and errorr bars "
   ]
  },
  {
   "cell_type": "code",
   "execution_count": 6,
   "metadata": {
    "ExecuteTime": {
     "end_time": "2020-09-28T23:37:42.640897Z",
     "start_time": "2020-09-28T23:37:42.349630Z"
    }
   },
   "outputs": [
    {
     "name": "stdout",
     "output_type": "stream",
     "text": [
      "AR\n",
      "CK\n",
      "CT\n",
      "EW\n",
      "HL\n",
      "IS\n",
      "JP\n",
      "MF\n",
      "NC\n",
      "SK\n",
      "SS\n"
     ]
    }
   ],
   "source": [
    "alldata_trimed = pd.DataFrame()\n",
    "alldata = pd.DataFrame(columns=['SUBJECT', 'RUNNING_MEAN'])\n",
    "\n",
    "row = 0\n",
    "for subject in subject_names:\n",
    "    print(subject)\n",
    "\n",
    "    subjectdata_temp = pd.DataFrame()\n",
    "    \n",
    "    # load data:\n",
    "    subjectdata_complete = pd.read_csv(datapath + subject + '/' + subject + '_VM_output_-' + nforward + 'nBack.csv')\n",
    "    \n",
    "    subjectdata_temp['Running_Mean'] = subjectdata_complete['Running_Mean'].dropna()\n",
    "    subjectdata_temp.loc[:, 'SUBJECT'] = subject\n",
    "    \n",
    "    alldata_trimed.loc[row,'SUBJECT'] = subject\n",
    "    \n",
    "    mean, sem_low, sem_up = mean_confidence_interval.mean_sem(subjectdata_temp['Running_Mean'])\n",
    "    \n",
    "    alldata_trimed.loc[row, 'AVERAGE_MEAN'] = mean\n",
    "    alldata_trimed.loc[row, 'MEAN_SEM_LOW'] = sem_low\n",
    "    alldata_trimed.loc[row, 'MEAN_SEM_UP'] = sem_up\n",
    "    \n",
    "    if subject == 'S1':\n",
    "        alldata = subjectdata_temp\n",
    "    else:\n",
    "        alldata = pd.concat([alldata, subjectdata_temp])\n",
    "    \n",
    "\n",
    "    row += 1\n",
    "    "
   ]
  },
  {
   "cell_type": "code",
   "execution_count": 7,
   "metadata": {
    "ExecuteTime": {
     "end_time": "2020-09-28T23:37:42.898907Z",
     "start_time": "2020-09-28T23:37:42.650985Z"
    }
   },
   "outputs": [
    {
     "data": {
      "text/plain": [
       "[<matplotlib.lines.Line2D at 0x7f90390480d0>]"
      ]
     },
     "execution_count": 7,
     "metadata": {},
     "output_type": "execute_result"
    },
    {
     "data": {
      "image/png": "[encoded data removed]",
      "text/plain": [
       "<Figure size 432x288 with 1 Axes>"
      ]
     },
     "metadata": {
      "needs_background": "light"
     },
     "output_type": "display_data"
    }
   ],
   "source": [
    "plt.plot(subjectdata_complete['Running_Mean'])"
   ]
  },
  {
   "cell_type": "code",
   "execution_count": 8,
   "metadata": {
    "ExecuteTime": {
     "end_time": "2020-09-28T23:37:43.244730Z",
     "start_time": "2020-09-28T23:37:42.907849Z"
    }
   },
   "outputs": [
    {
     "name": "stdout",
     "output_type": "stream",
     "text": [
      "AR\n",
      "CK\n",
      "CT\n",
      "EW\n",
      "HL\n",
      "IS\n",
      "JP\n",
      "MF\n",
      "NC\n",
      "SK\n",
      "SS\n"
     ]
    }
   ],
   "source": [
    "alldata = pd.DataFrame()\n",
    "\n",
    "row = 0\n",
    "for subject in subject_names:\n",
    "    print(subject)\n",
    "\n",
    "    subjectdata_temp = pd.DataFrame()\n",
    "    \n",
    "    # load data:\n",
    "    subjectdata_complete = pd.read_csv(datapath + subject + '/' + subject + '_VM_output_-' + nforward + 'nBack.csv')\n",
    "    \n",
    "    alldata[subject] = subjectdata_complete['Running_Mean'].dropna()\n",
    "        \n"
   ]
  },
  {
   "cell_type": "code",
   "execution_count": 9,
   "metadata": {
    "ExecuteTime": {
     "end_time": "2020-09-28T23:37:43.587201Z",
     "start_time": "2020-09-28T23:37:43.253107Z"
    }
   },
   "outputs": [],
   "source": [
    "for row in range(len(alldata)): # let's go calculating row by row\n",
    "    mean, sem_low, sem_up = mean_confidence_interval.mean_sem(alldata.iloc[row, 0:nSubjects])\n",
    "    alldata.loc[row, 'MEAN'] = mean\n",
    "    alldata.loc[row, 'SEM_LOW'] = sem_low\n",
    "    alldata.loc[row, 'SEM_UP'] = sem_up"
   ]
  },
  {
   "cell_type": "code",
   "execution_count": 10,
   "metadata": {
    "ExecuteTime": {
     "end_time": "2020-09-28T23:37:48.597471Z",
     "start_time": "2020-09-28T23:37:43.605075Z"
    }
   },
   "outputs": [
    {
     "name": "stderr",
     "output_type": "stream",
     "text": [
      "The PostScript backend does not support transparency; partially transparent artists will be rendered opaque.\n",
      "The PostScript backend does not support transparency; partially transparent artists will be rendered opaque.\n",
      "The PostScript backend does not support transparency; partially transparent artists will be rendered opaque.\n",
      "The PostScript backend does not support transparency; partially transparent artists will be rendered opaque.\n",
      "The PostScript backend does not support transparency; partially transparent artists will be rendered opaque.\n",
      "The PostScript backend does not support transparency; partially transparent artists will be rendered opaque.\n"
     ]
    },
    {
     "data": {
      "image/png": "[encoded data removed]",
      "text/plain": [
       "<Figure size 432x288 with 1 Axes>"
      ]
     },
     "metadata": {
      "needs_background": "light"
     },
     "output_type": "display_data"
    }
   ],
   "source": [
    "plt.plot(alldata['MEAN'], color='darkblue')\n",
    "plt.fill_between(range(len(alldata)), alldata['SEM_LOW'], alldata['SEM_UP'], facecolor=\"orange\", color='dodgerblue', alpha=0.2)\n",
    "plt.ylabel('Running Mean \\n of Response Error')\n",
    "plt.xlabel('Relative Orientation of Previous Trial')\n",
    "plt.ylim([-3, 3])\n",
    "plt.yticks(np.arange(-3, 4, 1))\n",
    "plt.xticks(np.arange(0, 151, 25), ('-75', '-50', '-25', '0', '25', '50', '75'))\n",
    "sns.despine()\n",
    "plt.title(nforward + 'TrialsForward Naive')\n",
    "plt.savefig(nforward + 'forward_'+'TrialsForward_AvgRunningMean_Naive.eps', bbox_inches='tight', dpi=1200)\n",
    "plt.savefig(nforward + 'forward_'+'TrialsForward_AvgRunningMean_Naive.jpg', bbox_inches='tight', dpi=1200)\n",
    "plt.savefig(nforward + 'forward_'+'TrialsForward_AvgRunningMean_Naive.svg', bbox_inches='tight', dpi=1200)"
   ]
  },
  {
   "cell_type": "markdown",
   "metadata": {},
   "source": [
    "# Calculating running mean w/ diff step"
   ]
  },
  {
   "cell_type": "code",
   "execution_count": 23,
   "metadata": {
    "ExecuteTime": {
     "end_time": "2020-09-28T23:50:58.378678Z",
     "start_time": "2020-09-28T23:50:58.371371Z"
    }
   },
   "outputs": [],
   "source": [
    "def getRunningMean(stimuli_diff, filtered_responseError, halfway =73, step = 20):\n",
    "    RM = [None] * (2 * halfway + 1); # running mean initialization\n",
    "    xvals = list(range(-halfway, halfway + 1)) # index for running mean -90~90 + -90~90 (avoid error in sep[jj] == 91\\92...\n",
    "    allx_vals = xvals + xvals\n",
    "    for ii in range(0,len(xvals) - 1): # start running mean calculation 0~180\n",
    "        if ii - step // 2 >= 0:\n",
    "            sep = allx_vals[(ii - step // 2) : (ii + step // 2 + 1)] # symmetric to avoid shift\n",
    "        else:\n",
    "            sep = allx_vals[(ii - step // 2) : len(allx_vals)] + allx_vals[0 : (ii + step // 2 + 1)]\n",
    "        sep_sum = []\n",
    "        for jj in range(0,len(sep)): # match every value in sep to every stimuli_diff point\n",
    "            for kk in range(0, len(stimuli_diff)):\n",
    "                if stimuli_diff[kk] == sep[jj]:\n",
    "                    sep_sum.insert(0, filtered_responseError[kk])\n",
    "        RM[ii] = np.mean(sep_sum)\n",
    "    RM[2 * halfway] = RM[0]\n",
    "    return RM, xvals"
   ]
  },
  {
   "cell_type": "code",
   "execution_count": 12,
   "metadata": {
    "ExecuteTime": {
     "end_time": "2020-09-28T23:38:55.444412Z",
     "start_time": "2020-09-28T23:37:48.633925Z"
    }
   },
   "outputs": [
    {
     "name": "stdout",
     "output_type": "stream",
     "text": [
      "AR\n",
      "CK\n",
      "CT\n",
      "EW\n"
     ]
    },
    {
     "ename": "KeyboardInterrupt",
     "evalue": "",
     "output_type": "error",
     "traceback": [
      "\u001b[0;31m--------------------------------------------------------------------------\u001b[0m",
      "\u001b[0;31mKeyboardInterrupt\u001b[0m                        Traceback (most recent call last)",
      "\u001b[0;32m<ipython-input-12-2cae7285f904>\u001b[0m in \u001b[0;36m<module>\u001b[0;34m\u001b[0m\n\u001b[1;32m     15\u001b[0m     \u001b[0mfiltered_data\u001b[0m \u001b[0;34m=\u001b[0m \u001b[0msubjectdata_complete\u001b[0m\u001b[0;34m[\u001b[0m\u001b[0;34m[\u001b[0m\u001b[0;34m'Stim_diff'\u001b[0m\u001b[0;34m,\u001b[0m \u001b[0;34m'responseError'\u001b[0m\u001b[0;34m]\u001b[0m\u001b[0;34m]\u001b[0m\u001b[0;34m.\u001b[0m\u001b[0mdropna\u001b[0m\u001b[0;34m(\u001b[0m\u001b[0;34m)\u001b[0m\u001b[0;34m.\u001b[0m\u001b[0mreset_index\u001b[0m\u001b[0;34m(\u001b[0m\u001b[0mdrop\u001b[0m\u001b[0;34m=\u001b[0m\u001b[0;32mTrue\u001b[0m\u001b[0;34m)\u001b[0m\u001b[0;34m\u001b[0m\u001b[0;34m\u001b[0m\u001b[0m\n\u001b[1;32m     16\u001b[0m \u001b[0;34m\u001b[0m\u001b[0m\n\u001b[0;32m---> 17\u001b[0;31m     \u001b[0mRM\u001b[0m\u001b[0;34m,\u001b[0m \u001b[0mxvals\u001b[0m \u001b[0;34m=\u001b[0m \u001b[0mgetRunningMean\u001b[0m\u001b[0;34m(\u001b[0m\u001b[0mfiltered_data\u001b[0m\u001b[0;34m[\u001b[0m\u001b[0;34m'Stim_diff'\u001b[0m\u001b[0;34m]\u001b[0m\u001b[0;34m,\u001b[0m \u001b[0mfiltered_data\u001b[0m\u001b[0;34m[\u001b[0m\u001b[0;34m'responseError'\u001b[0m\u001b[0;34m]\u001b[0m\u001b[0;34m,\u001b[0m \u001b[0mhalfway\u001b[0m\u001b[0;34m=\u001b[0m\u001b[0;36m73\u001b[0m\u001b[0;34m,\u001b[0m \u001b[0mstep\u001b[0m \u001b[0;34m=\u001b[0m \u001b[0mstep\u001b[0m\u001b[0;34m)\u001b[0m\u001b[0;34m\u001b[0m\u001b[0;34m\u001b[0m\u001b[0m\n\u001b[0m\u001b[1;32m     18\u001b[0m \u001b[0;34m\u001b[0m\u001b[0m\n\u001b[1;32m     19\u001b[0m     \u001b[0malldata_20\u001b[0m\u001b[0;34m[\u001b[0m\u001b[0msubject\u001b[0m\u001b[0;34m]\u001b[0m \u001b[0;34m=\u001b[0m \u001b[0mRM\u001b[0m\u001b[0;34m\u001b[0m\u001b[0;34m\u001b[0m\u001b[0m\n",
      "\u001b[0;32m<ipython-input-11-b0e245bdb466>\u001b[0m in \u001b[0;36mgetRunningMean\u001b[0;34m(stimuli_diff, filtered_responseError, halfway, step)\u001b[0m\n\u001b[1;32m     11\u001b[0m         \u001b[0;32mfor\u001b[0m \u001b[0mjj\u001b[0m \u001b[0;32min\u001b[0m \u001b[0mrange\u001b[0m\u001b[0;34m(\u001b[0m\u001b[0;36m0\u001b[0m\u001b[0;34m,\u001b[0m\u001b[0mlen\u001b[0m\u001b[0;34m(\u001b[0m\u001b[0msep\u001b[0m\u001b[0;34m)\u001b[0m\u001b[0;34m)\u001b[0m\u001b[0;34m:\u001b[0m \u001b[0;31m# match every value in sep to every stimuli_diff point\u001b[0m\u001b[0;34m\u001b[0m\u001b[0;34m\u001b[0m\u001b[0m\n\u001b[1;32m     12\u001b[0m             \u001b[0;32mfor\u001b[0m \u001b[0mkk\u001b[0m \u001b[0;32min\u001b[0m \u001b[0mrange\u001b[0m\u001b[0;34m(\u001b[0m\u001b[0;36m0\u001b[0m\u001b[0;34m,\u001b[0m \u001b[0mlen\u001b[0m\u001b[0;34m(\u001b[0m\u001b[0mstimuli_diff\u001b[0m\u001b[0;34m)\u001b[0m\u001b[0;34m)\u001b[0m\u001b[0;34m:\u001b[0m\u001b[0;34m\u001b[0m\u001b[0;34m\u001b[0m\u001b[0m\n\u001b[0;32m---> 13\u001b[0;31m                 \u001b[0;32mif\u001b[0m \u001b[0mstimuli_diff\u001b[0m\u001b[0;34m[\u001b[0m\u001b[0mkk\u001b[0m\u001b[0;34m]\u001b[0m \u001b[0;34m==\u001b[0m \u001b[0msep\u001b[0m\u001b[0;34m[\u001b[0m\u001b[0mjj\u001b[0m\u001b[0;34m]\u001b[0m\u001b[0;34m:\u001b[0m\u001b[0;34m\u001b[0m\u001b[0;34m\u001b[0m\u001b[0m\n\u001b[0m\u001b[1;32m     14\u001b[0m                     \u001b[0msep_sum\u001b[0m\u001b[0;34m.\u001b[0m\u001b[0minsert\u001b[0m\u001b[0;34m(\u001b[0m\u001b[0;36m0\u001b[0m\u001b[0;34m,\u001b[0m \u001b[0mfiltered_responseError\u001b[0m\u001b[0;34m[\u001b[0m\u001b[0mkk\u001b[0m\u001b[0;34m]\u001b[0m\u001b[0;34m)\u001b[0m\u001b[0;34m\u001b[0m\u001b[0;34m\u001b[0m\u001b[0m\n\u001b[1;32m     15\u001b[0m         \u001b[0mRM\u001b[0m\u001b[0;34m[\u001b[0m\u001b[0mii\u001b[0m\u001b[0;34m]\u001b[0m \u001b[0;34m=\u001b[0m \u001b[0mnp\u001b[0m\u001b[0;34m.\u001b[0m\u001b[0mmean\u001b[0m\u001b[0;34m(\u001b[0m\u001b[0msep_sum\u001b[0m\u001b[0;34m)\u001b[0m\u001b[0;34m\u001b[0m\u001b[0;34m\u001b[0m\u001b[0m\n",
      "\u001b[0;32m/opt/anaconda3/lib/python3.7/site-packages/pandas/core/series.py\u001b[0m in \u001b[0;36m__getitem__\u001b[0;34m(self, key)\u001b[0m\n\u001b[1;32m    869\u001b[0m         \u001b[0mkey\u001b[0m \u001b[0;34m=\u001b[0m \u001b[0mcom\u001b[0m\u001b[0;34m.\u001b[0m\u001b[0mapply_if_callable\u001b[0m\u001b[0;34m(\u001b[0m\u001b[0mkey\u001b[0m\u001b[0;34m,\u001b[0m \u001b[0mself\u001b[0m\u001b[0;34m)\u001b[0m\u001b[0;34m\u001b[0m\u001b[0;34m\u001b[0m\u001b[0m\n\u001b[1;32m    870\u001b[0m         \u001b[0;32mtry\u001b[0m\u001b[0;34m:\u001b[0m\u001b[0;34m\u001b[0m\u001b[0;34m\u001b[0m\u001b[0m\n\u001b[0;32m--> 871\u001b[0;31m             \u001b[0mresult\u001b[0m \u001b[0;34m=\u001b[0m \u001b[0mself\u001b[0m\u001b[0;34m.\u001b[0m\u001b[0mindex\u001b[0m\u001b[0;34m.\u001b[0m\u001b[0mget_value\u001b[0m\u001b[0;34m(\u001b[0m\u001b[0mself\u001b[0m\u001b[0;34m,\u001b[0m \u001b[0mkey\u001b[0m\u001b[0;34m)\u001b[0m\u001b[0;34m\u001b[0m\u001b[0;34m\u001b[0m\u001b[0m\n\u001b[0m\u001b[1;32m    872\u001b[0m \u001b[0;34m\u001b[0m\u001b[0m\n\u001b[1;32m    873\u001b[0m             \u001b[0;32mif\u001b[0m \u001b[0;32mnot\u001b[0m \u001b[0mis_scalar\u001b[0m\u001b[0;34m(\u001b[0m\u001b[0mresult\u001b[0m\u001b[0;34m)\u001b[0m\u001b[0;34m:\u001b[0m\u001b[0;34m\u001b[0m\u001b[0;34m\u001b[0m\u001b[0m\n",
      "\u001b[0;32m/opt/anaconda3/lib/python3.7/site-packages/pandas/core/indexes/base.py\u001b[0m in \u001b[0;36mget_value\u001b[0;34m(self, series, key)\u001b[0m\n\u001b[1;32m   4403\u001b[0m         \u001b[0mk\u001b[0m \u001b[0;34m=\u001b[0m \u001b[0mself\u001b[0m\u001b[0;34m.\u001b[0m\u001b[0m_convert_scalar_indexer\u001b[0m\u001b[0;34m(\u001b[0m\u001b[0mk\u001b[0m\u001b[0;34m,\u001b[0m \u001b[0mkind\u001b[0m\u001b[0;34m=\u001b[0m\u001b[0;34m\"getitem\"\u001b[0m\u001b[0;34m)\u001b[0m\u001b[0;34m\u001b[0m\u001b[0;34m\u001b[0m\u001b[0m\n\u001b[1;32m   4404\u001b[0m         \u001b[0;32mtry\u001b[0m\u001b[0;34m:\u001b[0m\u001b[0;34m\u001b[0m\u001b[0;34m\u001b[0m\u001b[0m\n\u001b[0;32m-> 4405\u001b[0;31m             \u001b[0;32mreturn\u001b[0m \u001b[0mself\u001b[0m\u001b[0;34m.\u001b[0m\u001b[0m_engine\u001b[0m\u001b[0;34m.\u001b[0m\u001b[0mget_value\u001b[0m\u001b[0;34m(\u001b[0m\u001b[0ms\u001b[0m\u001b[0;34m,\u001b[0m \u001b[0mk\u001b[0m\u001b[0;34m,\u001b[0m \u001b[0mtz\u001b[0m\u001b[0;34m=\u001b[0m\u001b[0mgetattr\u001b[0m\u001b[0;34m(\u001b[0m\u001b[0mseries\u001b[0m\u001b[0;34m.\u001b[0m\u001b[0mdtype\u001b[0m\u001b[0;34m,\u001b[0m \u001b[0;34m\"tz\"\u001b[0m\u001b[0;34m,\u001b[0m \u001b[0;32mNone\u001b[0m\u001b[0;34m)\u001b[0m\u001b[0;34m)\u001b[0m\u001b[0;34m\u001b[0m\u001b[0;34m\u001b[0m\u001b[0m\n\u001b[0m\u001b[1;32m   4406\u001b[0m         \u001b[0;32mexcept\u001b[0m \u001b[0mKeyError\u001b[0m \u001b[0;32mas\u001b[0m \u001b[0me1\u001b[0m\u001b[0;34m:\u001b[0m\u001b[0;34m\u001b[0m\u001b[0;34m\u001b[0m\u001b[0m\n\u001b[1;32m   4407\u001b[0m             \u001b[0;32mif\u001b[0m \u001b[0mlen\u001b[0m\u001b[0;34m(\u001b[0m\u001b[0mself\u001b[0m\u001b[0;34m)\u001b[0m \u001b[0;34m>\u001b[0m \u001b[0;36m0\u001b[0m \u001b[0;32mand\u001b[0m \u001b[0;34m(\u001b[0m\u001b[0mself\u001b[0m\u001b[0;34m.\u001b[0m\u001b[0mholds_integer\u001b[0m\u001b[0;34m(\u001b[0m\u001b[0;34m)\u001b[0m \u001b[0;32mor\u001b[0m \u001b[0mself\u001b[0m\u001b[0;34m.\u001b[0m\u001b[0mis_boolean\u001b[0m\u001b[0;34m(\u001b[0m\u001b[0;34m)\u001b[0m\u001b[0;34m)\u001b[0m\u001b[0;34m:\u001b[0m\u001b[0;34m\u001b[0m\u001b[0;34m\u001b[0m\u001b[0m\n",
      "\u001b[0;31mKeyboardInterrupt\u001b[0m: "
     ]
    }
   ],
   "source": [
    "## IMPORTANT PARAMETERS:\n",
    "step = 20\n",
    "\n",
    "alldata_20 = pd.DataFrame()\n",
    "\n",
    "row = 0\n",
    "for subject in subject_names:\n",
    "    print(subject)\n",
    "\n",
    "    subjectdata_temp = pd.DataFrame()\n",
    "    \n",
    "    # load data:\n",
    "    subjectdata_complete = pd.read_csv(datapath + subject + '/' + subject + '_VM_output_-' + nforward + 'nBack.csv')\n",
    "    \n",
    "    filtered_data = subjectdata_complete[['Stim_diff', 'responseError']].dropna().reset_index(drop=True)\n",
    "    \n",
    "    RM, xvals = getRunningMean(filtered_data['Stim_diff'], filtered_data['responseError'], halfway=73, step = step)\n",
    "    \n",
    "    alldata_20[subject] = RM\n",
    "        \n",
    "for row in range(len(alldata_20)): # let's go calculating row by row\n",
    "    \n",
    "    mean, sem_low, sem_up = mean_confidence_interval.mean_sem(alldata_20.iloc[row, 0:nSubjects])\n",
    "    alldata_20.loc[row, 'MEAN'] = mean\n",
    "    alldata_20.loc[row, 'SEM_LOW'] = sem_low\n",
    "    alldata_20.loc[row, 'SEM_UP'] = sem_up"
   ]
  },
  {
   "cell_type": "code",
   "execution_count": null,
   "metadata": {
    "ExecuteTime": {
     "end_time": "2020-09-28T23:38:55.472926Z",
     "start_time": "2020-09-28T23:37:40.781Z"
    }
   },
   "outputs": [],
   "source": [
    "step = 20\n",
    "\n",
    "plt.figure(figsize=(5, 5))\n",
    "plt.plot(xvals, alldata_20['MEAN'], color='darkblue')\n",
    "plt.fill_between(xvals, alldata_20['SEM_LOW'], alldata_20['SEM_UP'], facecolor=\"orange\", color='dodgerblue', alpha=0.2)\n",
    "plt.ylabel('Response Error on Current Trial\\n (morph units)')\n",
    "plt.xlabel('Previous Tumor - Current Tumor\\n (morph units)')\n",
    "plt.ylim([-3, 3])\n",
    "plt.xlim([-73, 73])\n",
    "plt.yticks(np.arange(-3, 4, 1))\n",
    "plt.xticks([-73, -50, -25, 0, 25, 50, 73], ('-73', '-50', '-25', '0', '25', '50', '73'))\n",
    "sns.despine()\n",
    "plt.title(nforward + 'TrialsForward Naive, Step = ' + str(step))\n",
    "plt.savefig(nforward + 'forward_'+'Step' + str(step) + '_TrialsForward_AvgRunningMean_Naive.eps', bbox_inches='tight', dpi=1200)\n",
    "plt.savefig(nforward + 'forward_'+'Step' + str(step) + '_TrialsForward_AvgRunningMean_Naive.jpg', bbox_inches='tight', dpi=1200)\n",
    "plt.savefig(nforward + 'forward_'+'Step' + str(step) + '_TrialsForward_AvgRunningMean_Naive.svg', bbox_inches='tight', dpi=1200)"
   ]
  },
  {
   "cell_type": "code",
   "execution_count": null,
   "metadata": {
    "ExecuteTime": {
     "end_time": "2020-09-28T23:38:55.485617Z",
     "start_time": "2020-09-28T23:37:40.798Z"
    }
   },
   "outputs": [],
   "source": [
    "## IMPORTANT PARAMETERS:\n",
    "step = 25\n",
    "\n",
    "alldata_25 = pd.DataFrame()\n",
    "\n",
    "row = 0\n",
    "for subject in subject_names:\n",
    "    print(subject)\n",
    "\n",
    "    subjectdata_temp = pd.DataFrame()\n",
    "    \n",
    "    # load data:\n",
    "    subjectdata_complete = pd.read_csv(datapath + subject + '/' + subject + '_VM_output_-' + nforward + 'nBack.csv')\n",
    "    \n",
    "    filtered_data = subjectdata_complete[['Stim_diff', 'responseError']].dropna().reset_index(drop=True)\n",
    "    \n",
    "    RM, xvals = getRunningMean(filtered_data['Stim_diff'], filtered_data['responseError'], halfway=73, step = step)\n",
    "    \n",
    "    alldata_25[subject] = RM\n",
    "        \n",
    "for row in range(len(alldata_25)): # let's go calculating row by row\n",
    "    \n",
    "    mean, sem_low, sem_up = mean_confidence_interval.mean_sem(alldata_25.iloc[row, 0:nSubjects])\n",
    "    alldata_25.loc[row, 'MEAN'] = mean\n",
    "    alldata_25.loc[row, 'SEM_LOW'] = sem_low\n",
    "    alldata_25.loc[row, 'SEM_UP'] = sem_up"
   ]
  },
  {
   "cell_type": "code",
   "execution_count": null,
   "metadata": {
    "ExecuteTime": {
     "end_time": "2020-09-28T23:38:55.496669Z",
     "start_time": "2020-09-28T23:37:40.821Z"
    }
   },
   "outputs": [],
   "source": [
    "step = 25\n",
    "\n",
    "plt.figure(figsize=(5, 5))\n",
    "plt.plot(xvals, alldata_25['MEAN'], color='darkblue')\n",
    "plt.fill_between(xvals, alldata_25['SEM_LOW'], alldata_25['SEM_UP'], facecolor=\"orange\", color='dodgerblue', alpha=0.2)\n",
    "plt.ylabel('Response Error on Current Trial\\n (morph units)')\n",
    "plt.xlabel('Previous Tumor - Current Tumor\\n (morph units)')\n",
    "plt.ylim([-3, 3])\n",
    "plt.xlim([-73, 73])\n",
    "plt.yticks(np.arange(-3, 4, 1))\n",
    "plt.xticks([-73, -50, -25, 0, 25, 50, 73], ('-73', '-50', '-25', '0', '25', '50', '73'))\n",
    "sns.despine()\n",
    "plt.title(nforward + 'TrialsForward Naive, Step = ' + str(step))\n",
    "plt.savefig(nforward + 'forward_'+'Step' + str(step) + '_TrialsForward_AvgRunningMean_Naive.eps', bbox_inches='tight', dpi=1200)\n",
    "plt.savefig(nforward + 'forward_'+'Step' + str(step) + '_TrialsForward_AvgRunningMean_Naive.jpg', bbox_inches='tight', dpi=1200)\n",
    "plt.savefig(nforward + 'forward_'+'Step' + str(step) + '_TrialsForward_AvgRunningMean_Naive.svg', bbox_inches='tight', dpi=1200)"
   ]
  },
  {
   "cell_type": "code",
   "execution_count": 24,
   "metadata": {
    "ExecuteTime": {
     "end_time": "2020-09-28T23:55:23.048136Z",
     "start_time": "2020-09-28T23:51:02.827551Z"
    }
   },
   "outputs": [
    {
     "name": "stdout",
     "output_type": "stream",
     "text": [
      "AR\n",
      "CK\n",
      "CT\n",
      "EW\n",
      "HL\n",
      "IS\n",
      "JP\n",
      "MF\n",
      "NC\n",
      "SK\n",
      "SS\n"
     ]
    }
   ],
   "source": [
    "## IMPORTANT PARAMETERS:\n",
    "step = 30\n",
    "\n",
    "alldata_30 = pd.DataFrame()\n",
    "\n",
    "row = 0\n",
    "for subject in subject_names:\n",
    "    print(subject)\n",
    "\n",
    "    subjectdata_temp = pd.DataFrame()\n",
    "    \n",
    "    # load data:\n",
    "    subjectdata_complete = pd.read_csv(datapath + subject + '/' + subject + '_VM_output_-' + nforward + 'nBack.csv')\n",
    "    \n",
    "    filtered_data = subjectdata_complete[['Stim_diff', 'responseError']].dropna().reset_index(drop=True)\n",
    "    \n",
    "    RM, xvals = getRunningMean(filtered_data['Stim_diff'], filtered_data['responseError'], halfway=73, step = step)\n",
    "    \n",
    "    alldata_30[subject] = RM\n",
    "        \n",
    "for row in range(len(alldata_30)): # let's go calculating row by row\n",
    "    \n",
    "    mean, sem_low, sem_up = mean_confidence_interval.mean_sem(alldata_30.iloc[row, 0:nSubjects])\n",
    "    alldata_30.loc[row, 'MEAN'] = mean\n",
    "    alldata_30.loc[row, 'SEM_LOW'] = sem_low\n",
    "    alldata_30.loc[row, 'SEM_UP'] = sem_up"
   ]
  },
  {
   "cell_type": "code",
   "execution_count": 25,
   "metadata": {
    "ExecuteTime": {
     "end_time": "2020-09-28T23:55:27.599191Z",
     "start_time": "2020-09-28T23:55:23.414817Z"
    }
   },
   "outputs": [
    {
     "name": "stderr",
     "output_type": "stream",
     "text": [
      "The PostScript backend does not support transparency; partially transparent artists will be rendered opaque.\n",
      "The PostScript backend does not support transparency; partially transparent artists will be rendered opaque.\n",
      "The PostScript backend does not support transparency; partially transparent artists will be rendered opaque.\n",
      "The PostScript backend does not support transparency; partially transparent artists will be rendered opaque.\n",
      "The PostScript backend does not support transparency; partially transparent artists will be rendered opaque.\n",
      "The PostScript backend does not support transparency; partially transparent artists will be rendered opaque.\n"
     ]
    },
    {
     "data": {
      "image/png": "[encoded data removed]",
      "text/plain": [
       "<Figure size 360x360 with 1 Axes>"
      ]
     },
     "metadata": {
      "needs_background": "light"
     },
     "output_type": "display_data"
    }
   ],
   "source": [
    "step = 30\n",
    "\n",
    "plt.figure(figsize=(5, 5))\n",
    "plt.plot(xvals, alldata_30['MEAN'], color='darkblue')\n",
    "plt.fill_between(xvals, alldata_30['SEM_LOW'], alldata_30['SEM_UP'], facecolor=\"orange\", color='dodgerblue', alpha=0.2)\n",
    "plt.ylabel('Response Error on Current Trial\\n (morph units)')\n",
    "plt.xlabel('Previous Tumor - Current Tumor\\n (morph units)')\n",
    "plt.ylim([-3, 3])\n",
    "plt.xlim([-73, 73])\n",
    "plt.yticks(np.arange(-3, 4, 1))\n",
    "plt.xticks([-73, -50, -25, 0, 25, 50, 73], ('-73', '-50', '-25', '0', '25', '50', '73'))\n",
    "sns.despine()\n",
    "plt.title(nforward + 'TrialsForward Naive, Step = ' + str(step))\n",
    "plt.savefig(nforward + 'forward_'+'Step' + str(step) + '_TrialsForward_AvgRunningMean_Naive.eps', bbox_inches='tight', dpi=1200)\n",
    "plt.savefig(nforward + 'forward_'+'Step' + str(step) + '_TrialsForward_AvgRunningMean_Naive.jpg', bbox_inches='tight', dpi=1200)\n",
    "plt.savefig(nforward + 'forward_'+'Step' + str(step) + '_TrialsForward_AvgRunningMean_Naive.svg', bbox_inches='tight', dpi=1200)"
   ]
  },
  {
   "cell_type": "code",
   "execution_count": null,
   "metadata": {
    "ExecuteTime": {
     "end_time": "2020-09-28T23:38:55.541215Z",
     "start_time": "2020-09-28T23:37:40.879Z"
    }
   },
   "outputs": [],
   "source": [
    "## IMPORTANT PARAMETERS:\n",
    "step = 35\n",
    "\n",
    "alldata_35 = pd.DataFrame()\n",
    "\n",
    "row = 0\n",
    "for subject in subject_names:\n",
    "    print(subject)\n",
    "\n",
    "    subjectdata_temp = pd.DataFrame()\n",
    "    \n",
    "    # load data:\n",
    "    subjectdata_complete = pd.read_csv(datapath + subject + '/' + subject + '_VM_output_-' + nforward + 'nBack.csv')\n",
    "    \n",
    "    filtered_data = subjectdata_complete[['Stim_diff', 'responseError']].dropna().reset_index(drop=True)\n",
    "    \n",
    "    RM, xvals = getRunningMean(filtered_data['Stim_diff'], filtered_data['responseError'], halfway=73, step = step)\n",
    "    \n",
    "    alldata_35[subject] = RM\n",
    "        \n",
    "for row in range(len(alldata_35)): # let's go calculating row by row\n",
    "    \n",
    "    mean, sem_low, sem_up = mean_confidence_interval.mean_sem(alldata_35.iloc[row, 0:nSubjects])\n",
    "    alldata_35.loc[row, 'MEAN'] = mean\n",
    "    alldata_35.loc[row, 'SEM_LOW'] = sem_low\n",
    "    alldata_35.loc[row, 'SEM_UP'] = sem_up"
   ]
  },
  {
   "cell_type": "code",
   "execution_count": null,
   "metadata": {
    "ExecuteTime": {
     "end_time": "2020-09-28T23:38:55.553106Z",
     "start_time": "2020-09-28T23:37:40.896Z"
    }
   },
   "outputs": [],
   "source": [
    "step = 35\n",
    "\n",
    "plt.figure(figsize=(5, 5))\n",
    "plt.plot(xvals,alldata_35['MEAN'], color='darkblue')\n",
    "plt.fill_between(xvals, alldata_35['SEM_LOW'], alldata_35['SEM_UP'], facecolor=\"orange\", color='dodgerblue', alpha=0.2)\n",
    "plt.ylabel('Response Error on Current Trial\\n (morph units)')\n",
    "plt.xlabel('Previous Tumor - Current Tumor\\n (morph units)')\n",
    "plt.ylim([-3, 3])\n",
    "plt.xlim([-73, 73])\n",
    "plt.yticks(np.arange(-3, 4, 1))\n",
    "plt.xticks([-73, -50, -25, 0, 25, 50, 73], ('-73', '-50', '-25', '0', '25', '50', '73'))\n",
    "sns.despine()\n",
    "plt.title(nforward + 'TrialsForward Naive, Step = ' + str(step))\n",
    "plt.savefig(nforward + 'forward_'+'Step' + str(step) + '_TrialsForward_AvgRunningMean_Naive.eps', bbox_inches='tight', dpi=1200)\n",
    "plt.savefig(nforward + 'forward_'+'Step' + str(step) + '_TrialsForward_AvgRunningMean_Naive.jpg', bbox_inches='tight', dpi=1200)\n",
    "plt.savefig(nforward + 'forward_'+'Step' + str(step) + '_TrialsForward_AvgRunningMean_Naive.svg', bbox_inches='tight', dpi=1200)"
   ]
  },
  {
   "cell_type": "markdown",
   "metadata": {},
   "source": [
    "# Overlay average fit "
   ]
  },
  {
   "cell_type": "code",
   "execution_count": 26,
   "metadata": {
    "ExecuteTime": {
     "end_time": "2020-09-28T23:55:28.202446Z",
     "start_time": "2020-09-28T23:55:27.934782Z"
    }
   },
   "outputs": [],
   "source": [
    "fitting_all_data = pd.DataFrame()\n",
    "for subject in subject_names:\n",
    "    subjectdata_nonan = pd.DataFrame()\n",
    "    # load data:\n",
    "    subjectdata = pd.read_csv(datapath + subject + '/' + subject + '_VM_output_-' + nforward + 'nBack.csv')\n",
    "    \n",
    "    fitting_all_data[subject] = subjectdata['DoVM'].dropna()\n"
   ]
  },
  {
   "cell_type": "code",
   "execution_count": 27,
   "metadata": {
    "ExecuteTime": {
     "end_time": "2020-09-28T23:55:28.962077Z",
     "start_time": "2020-09-28T23:55:28.526239Z"
    }
   },
   "outputs": [],
   "source": [
    "for row in range(len(fitting_all_data)): # let's go calculating row by row\n",
    "    mean, sem_low, sem_up = mean_confidence_interval.mean_sem(fitting_all_data.iloc[row, 0:nSubjects])\n",
    "    fitting_all_data.loc[row, 'MEAN'] = mean\n",
    "    fitting_all_data.loc[row, 'SEM_LOW'] = sem_low\n",
    "    fitting_all_data.loc[row, 'SEM_UP'] = sem_up"
   ]
  },
  {
   "cell_type": "code",
   "execution_count": 28,
   "metadata": {
    "ExecuteTime": {
     "end_time": "2020-09-28T23:55:34.815788Z",
     "start_time": "2020-09-28T23:55:29.516632Z"
    }
   },
   "outputs": [
    {
     "name": "stderr",
     "output_type": "stream",
     "text": [
      "The PostScript backend does not support transparency; partially transparent artists will be rendered opaque.\n",
      "The PostScript backend does not support transparency; partially transparent artists will be rendered opaque.\n",
      "The PostScript backend does not support transparency; partially transparent artists will be rendered opaque.\n",
      "The PostScript backend does not support transparency; partially transparent artists will be rendered opaque.\n",
      "The PostScript backend does not support transparency; partially transparent artists will be rendered opaque.\n",
      "The PostScript backend does not support transparency; partially transparent artists will be rendered opaque.\n",
      "The PostScript backend does not support transparency; partially transparent artists will be rendered opaque.\n",
      "The PostScript backend does not support transparency; partially transparent artists will be rendered opaque.\n",
      "The PostScript backend does not support transparency; partially transparent artists will be rendered opaque.\n",
      "The PostScript backend does not support transparency; partially transparent artists will be rendered opaque.\n",
      "The PostScript backend does not support transparency; partially transparent artists will be rendered opaque.\n",
      "The PostScript backend does not support transparency; partially transparent artists will be rendered opaque.\n"
     ]
    },
    {
     "data": {
      "image/png": "[encoded data removed]",
      "text/plain": [
       "<Figure size 360x360 with 1 Axes>"
      ]
     },
     "metadata": {
      "needs_background": "light"
     },
     "output_type": "display_data"
    }
   ],
   "source": [
    "step = 30\n",
    "\n",
    "plt.figure(figsize=(5, 5))\n",
    "plt.plot(xvals, alldata_30['MEAN'], color='darkblue')\n",
    "plt.fill_between(xvals, alldata_30['SEM_LOW'], alldata_30['SEM_UP'], facecolor=\"orange\", color='dodgerblue', alpha=0.2)\n",
    "\n",
    "\n",
    "# fit\n",
    "plt.plot(range(-73, 74), fitting_all_data['MEAN'], color='darkgreen')\n",
    "plt.fill_between(range(-73, 74), fitting_all_data['SEM_LOW'], fitting_all_data['SEM_UP'], facecolor=\"orange\", color='darkgreen', alpha=0.2)\n",
    "\n",
    "\n",
    "\n",
    "plt.ylabel('Response Error on Current Trial\\n (morph units)')\n",
    "plt.xlabel('Previous Tumor - Current Tumor\\n (morph units)')\n",
    "plt.ylim([-3, 3])\n",
    "plt.xlim([-73, 73])\n",
    "plt.yticks(np.arange(-3, 4, 1))\n",
    "plt.xticks([-73, -50, -25, 0, 25, 50, 73], ('-73', '-50', '-25', '0', '25', '50', '73'))\n",
    "sns.despine()\n",
    "plt.title(nforward + 'TrialsForward Naives, Step = ' + str(step))\n",
    "plt.savefig(nforward + 'forward_'+'Step' + str(step) + '_TrialsForward_AvgRunningMean_Naives_wFit2.eps', bbox_inches='tight', dpi=1200)\n",
    "plt.savefig(nforward + 'forward_'+'Step' + str(step) + '_TrialsForward_AvgRunningMean_Naives_wFit2.jpg', bbox_inches='tight', dpi=1200)\n",
    "plt.savefig(nforward + 'forward_'+'Step' + str(step) + '_TrialsForward_AvgRunningMean_Naives_wFit2.svg', bbox_inches='tight', dpi=1200)"
   ]
  },
  {
   "cell_type": "markdown",
   "metadata": {},
   "source": [
    "## New fit "
   ]
  },
  {
   "cell_type": "code",
   "execution_count": null,
   "metadata": {
    "ExecuteTime": {
     "end_time": "2020-09-28T23:38:55.607526Z",
     "start_time": "2020-09-28T23:37:40.969Z"
    }
   },
   "outputs": [],
   "source": [
    "newfit = pd.read_csv(datapath + 'Naive_AverageFit_Output.csv')"
   ]
  },
  {
   "cell_type": "code",
   "execution_count": null,
   "metadata": {
    "ExecuteTime": {
     "end_time": "2020-09-28T23:38:55.620646Z",
     "start_time": "2020-09-28T23:37:40.987Z"
    }
   },
   "outputs": [],
   "source": [
    "step = 30\n",
    "\n",
    "plt.figure(figsize=(5, 5))\n",
    "plt.plot(xvals, alldata_30['MEAN'], color='royalblue', linewidth=3)\n",
    "plt.fill_between(xvals, alldata_30['SEM_LOW'], alldata_30['SEM_UP'], facecolor=\"orange\", color='skyblue', alpha=0.2)\n",
    "\n",
    "\n",
    "# fit\n",
    "plt.plot(range(-73, 74), newfit['DoVM'], color='darkgreen', linewidth=3.5)\n",
    "# plt.fill_between(range(-73, 74), fitting_all_data['SEM_LOW'], fitting_all_data['SEM_UP'], facecolor=\"orange\", color='darkgreen', alpha=0.2)\n",
    "\n",
    "\n",
    "\n",
    "plt.ylabel('Response Error                       \\non                       \\nCurrent Trial                       \\n(morph units)                       ', rotation=0)\n",
    "plt.xlabel('Previous Tumor - Current Tumor\\n (morph units)')\n",
    "plt.ylim([-3, 3])\n",
    "plt.xlim([-73, 73])\n",
    "plt.yticks(np.arange(-3, 4, 1))\n",
    "plt.xticks([-73, -50, -25, 0, 25, 50, 73], ('-73', '-50', '-25', '0', '25', '50', '73'))\n",
    "sns.despine()\n",
    "plt.title(nforward + 'TrialsForward Naives')\n",
    "plt.savefig(nforward + 'forward_'+'Step' + str(step) + '_TrialsForward_AvgRunningMean_Naives_wFit3.eps', bbox_inches='tight', dpi=1200)\n",
    "plt.savefig(nforward + 'forward_'+'Step' + str(step) + '_TrialsForward_AvgRunningMean_Naives_wFit3.jpg', bbox_inches='tight', dpi=1200)\n",
    "plt.savefig(nforward + 'forward_'+'Step' + str(step) + '_TrialsForward_AvgRunningMean_Naives_wFit3.svg', bbox_inches='tight', dpi=1200)"
   ]
  },
  {
   "cell_type": "markdown",
   "metadata": {},
   "source": [
    "# Overlay average slope "
   ]
  },
  {
   "cell_type": "code",
   "execution_count": null,
   "metadata": {
    "ExecuteTime": {
     "end_time": "2020-09-28T23:38:55.634096Z",
     "start_time": "2020-09-28T23:37:41.004Z"
    }
   },
   "outputs": [],
   "source": [
    "fitting_all_data_slope = pd.DataFrame()\n",
    "fitting_all_data_intrcpt = pd.DataFrame()\n",
    "\n",
    "for subject in subject_names:\n",
    "    subjectdata_nonan = pd.DataFrame()\n",
    "    # load data:\n",
    "    subjectdata = pd.read_csv(datapath + subject + '/' + subject + '_VM_output_-' + nforward + 'nBack.csv')\n",
    "    \n",
    "\n",
    "    # select the columns we care about\n",
    "    # drop the NaNs\n",
    "    \n",
    "    subjectdata_nonan['slopes'] = subjectdata['slopes'].dropna()\n",
    "    subjectdata_nonan['intercepts'] = subjectdata['intercepts'].dropna()\n",
    "    \n",
    "    fitting_all_data_slope[subject] = subjectdata_nonan['slopes']\n",
    "    fitting_all_data_intrcpt[subject] = subjectdata_nonan['intercepts']\n"
   ]
  },
  {
   "cell_type": "code",
   "execution_count": null,
   "metadata": {
    "ExecuteTime": {
     "end_time": "2020-09-28T23:38:55.648064Z",
     "start_time": "2020-09-28T23:37:41.019Z"
    }
   },
   "outputs": [],
   "source": [
    "for row in range(len(fitting_all_data_slope)): # let's go calculating row by row\n",
    "    mean = np.mean(fitting_all_data_slope.iloc[row, 1:nSubjects])\n",
    "    fitting_all_data_slope.loc[row, 'MEAN'] = mean\n",
    "    \n",
    "for row in range(len(fitting_all_data_intrcpt)): # let's go calculating row by row\n",
    "    mean = np.mean(fitting_all_data_intrcpt.iloc[row, 1:nSubjects])\n",
    "    fitting_all_data_intrcpt.loc[row, 'MEAN'] = mean\n",
    "    \n",
    "mean_slope, ci_low_slope, ci_up_slope = mean_confidence_interval.confidence_interval_percentile(fitting_all_data_slope['MEAN'])\n",
    "mean_intercept, ci_low_intercept, ci_up_intercept = mean_confidence_interval.confidence_interval_percentile(fitting_all_data_intrcpt['MEAN'])\n",
    "\n",
    "# plt.plot(subjectdata_nonan['Stim_diff'], slope*subjectdata_nonan['Stim_diff'] + intercept)"
   ]
  },
  {
   "cell_type": "code",
   "execution_count": null,
   "metadata": {
    "ExecuteTime": {
     "end_time": "2020-09-28T23:38:55.662650Z",
     "start_time": "2020-09-28T23:37:41.035Z"
    }
   },
   "outputs": [],
   "source": [
    "\n",
    "plt.figure(figsize=(5, 5))\n",
    "plt.plot(xvals, alldata_30['MEAN'], color='royalblue', linewidth=3)\n",
    "plt.fill_between(xvals, alldata_30['SEM_LOW'], alldata_30['SEM_UP'], facecolor=\"orange\", color='skyblue', alpha=0.2)\n",
    "\n",
    "\n",
    "# fit\n",
    "plt.plot(np.arange(-18, 19, 1), mean_slope*np.arange(-18, 19, 1)+mean_intercept, color='darkred', linestyle='--', linewidth=3, alpha=0.5)\n",
    "# plt.fill_between(np.arange(-19, 20, 1), ci_low_slope*+ci_low_intercept, ci_up_slope*np.arange(-19, 20, 1)+ci_up_intercept, facecolor=\"orange\", color='yellow', alpha=0.2)\n",
    "\n",
    "# yellow squares\n",
    "plt.axvspan(-18, 18, alpha=0.1, color='coral')\n",
    "\n",
    "\n",
    "\n",
    "plt.ylabel('Response Error                       \\non                       \\nCurrent Trial                       \\n(morph units)                       ', rotation=0)\n",
    "plt.xlabel('Previous Tumor - Current Tumor\\n (morph units)')\n",
    "plt.ylim([-3, 3])\n",
    "plt.xlim([-73, 73])\n",
    "plt.yticks(np.arange(-3, 4, 1))\n",
    "plt.xticks([-73, -50, -25, 0, 25, 50, 73], ('-73', '-50', '-25', '0', '25', '50', '73'))\n",
    "sns.despine()\n",
    "plt.title(nforward + 'TrialsForward Naives')\n",
    "plt.savefig(nforward + 'forward_'+'Step' + str(step) + '_TrialsForward_AvgRunningMean_Naives_wSlope.eps', bbox_inches='tight', dpi=1200)\n",
    "plt.savefig(nforward + 'forward_'+'Step' + str(step) + '_TrialsForward_AvgRunningMean_Naives_wSlope.jpg', bbox_inches='tight', dpi=1200)\n",
    "plt.savefig(nforward + 'forward_'+'Step' + str(step) + '_TrialsForward_AvgRunningMean_Naives_wSlope.svg', bbox_inches='tight', dpi=1200)"
   ]
  },
  {
   "cell_type": "code",
   "execution_count": null,
   "metadata": {
    "ExecuteTime": {
     "end_time": "2020-09-28T23:38:55.674549Z",
     "start_time": "2020-09-28T23:37:41.052Z"
    }
   },
   "outputs": [],
   "source": [
    "\n",
    "plt.figure(figsize=(5, 5))\n",
    "plt.plot(xvals, alldata_30['MEAN'], color='royalblue', linewidth=3)\n",
    "plt.fill_between(xvals, alldata_30['SEM_LOW'], alldata_30['SEM_UP'], facecolor=\"orange\", color='skyblue', alpha=0.2)\n",
    "\n",
    "\n",
    "# fit\n",
    "plt.plot(np.arange(-18, 19, 1), mean_slope*np.arange(-18, 19, 1)+mean_intercept, color='darkred', linestyle='--', linewidth=3, alpha=0.5)\n",
    "# plt.fill_between(np.arange(-19, 20, 1), ci_low_slope*+ci_low_intercept, ci_up_slope*np.arange(-19, 20, 1)+ci_up_intercept, facecolor=\"orange\", color='yellow', alpha=0.2)\n",
    "\n",
    "# yellow squares\n",
    "# plt.axvspan(-18, 18, alpha=0.1, color='coral')\n",
    "\n",
    "\n",
    "\n",
    "plt.ylabel('Response Error                       \\non                       \\nCurrent Trial                       \\n(morph units)                       ', rotation=0)\n",
    "plt.xlabel('Previous Tumor - Current Tumor\\n (morph units)')\n",
    "plt.ylim([-3, 3])\n",
    "plt.xlim([-73, 73])\n",
    "plt.yticks(np.arange(-3, 4, 1))\n",
    "plt.xticks([-73, -50, -25, 0, 25, 50, 73], ('-73', '-50', '-25', '0', '25', '50', '73'))\n",
    "sns.despine()\n",
    "plt.title(nforward + 'TrialsForward Naives')\n",
    "plt.savefig(nforward + 'forward_'+'Step' + str(step) + '_TrialsForward_AvgRunningMean_Naives_wSlope2.eps', bbox_inches='tight', dpi=1200)\n",
    "plt.savefig(nforward + 'forward_'+'Step' + str(step) + '_TrialsForward_AvgRunningMean_Naives_wSlope2.jpg', bbox_inches='tight', dpi=1200)\n",
    "plt.savefig(nforward + 'forward_'+'Step' + str(step) + '_TrialsForward_AvgRunningMean_Naives_wSlope2.svg', bbox_inches='tight', dpi=1200)"
   ]
  },
  {
   "cell_type": "code",
   "execution_count": null,
   "metadata": {},
   "outputs": [],
   "source": []
  }
 ],
 "metadata": {
  "kernelspec": {
   "display_name": "Python 3",
   "language": "python",
   "name": "python3"
  },
  "language_info": {
   "codemirror_mode": {
    "name": "ipython",
    "version": 3
   },
   "file_extension": ".py",
   "mimetype": "text/x-python",
   "name": "python",
   "nbconvert_exporter": "python",
   "pygments_lexer": "ipython3",
   "version": "3.7.6"
  },
  "toc": {
   "base_numbering": 1,
   "nav_menu": {},
   "number_sections": true,
   "sideBar": true,
   "skip_h1_title": false,
   "title_cell": "Table of Contents",
   "title_sidebar": "Contents",
   "toc_cell": false,
   "toc_position": {
    "height": "calc(100% - 180px)",
    "left": "10px",
    "top": "150px",
    "width": "165px"
   },
   "toc_section_display": true,
   "toc_window_display": true
  },
  "varInspector": {
   "cols": {
    "lenName": 16,
    "lenType": 16,
    "lenVar": 40
   },
   "kernels_config": {
    "python": {
     "delete_cmd_postfix": "",
     "delete_cmd_prefix": "del ",
     "library": "var_list.py",
     "varRefreshCmd": "print(var_dic_list())"
    },
    "r": {
     "delete_cmd_postfix": ") ",
     "delete_cmd_prefix": "rm(",
     "library": "var_list.r",
     "varRefreshCmd": "cat(var_dic_list()) "
    }
   },
   "types_to_exclude": [
    "module",
    "function",
    "builtin_function_or_method",
    "instance",
    "_Feature"
   ],
   "window_display": false
  }
 },
 "nbformat": 4,
 "nbformat_minor": 4
}
