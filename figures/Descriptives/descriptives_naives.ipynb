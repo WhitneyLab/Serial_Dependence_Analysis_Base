{
 "cells": [
  {
   "cell_type": "markdown",
   "metadata": {},
   "source": [
    "# Libraries "
   ]
  },
  {
   "cell_type": "code",
   "execution_count": 1,
   "metadata": {
    "ExecuteTime": {
     "end_time": "2020-07-15T21:27:55.437977Z",
     "start_time": "2020-07-15T21:27:54.519061Z"
    }
   },
   "outputs": [],
   "source": [
    "import pandas as pd\n",
    "import matplotlib.pyplot as plt\n",
    "import numpy as np\n",
    "from scipy.optimize import curve_fit\n",
    "from scipy.special import i0\n",
    "from numpy import exp, sin, cos\n",
    "import seaborn as sns\n",
    "import matplotlib as mpl\n",
    "import os\n",
    "from pathlib import Path\n",
    "from statsFuncs import mean_confidence_interval\n",
    "from statsFuncs import compDistributions\n",
    "import scipy\n",
    "\n",
    "mpl.rcParams['axes.linewidth'] = 2"
   ]
  },
  {
   "cell_type": "markdown",
   "metadata": {},
   "source": [
    "# Paths "
   ]
  },
  {
   "cell_type": "code",
   "execution_count": 2,
   "metadata": {
    "ExecuteTime": {
     "end_time": "2020-07-15T21:27:55.445988Z",
     "start_time": "2020-07-15T21:27:55.440447Z"
    }
   },
   "outputs": [],
   "source": [
    "descriptive_path = os.getcwd()\n",
    "figures_path = str(Path(descriptive_path).parent)\n",
    "datapath = figures_path + '/data/naive_subjects/Analysis5_27_2020/'\n"
   ]
  },
  {
   "cell_type": "markdown",
   "metadata": {},
   "source": [
    "# Plotparams "
   ]
  },
  {
   "cell_type": "code",
   "execution_count": 3,
   "metadata": {
    "ExecuteTime": {
     "end_time": "2020-07-15T21:27:55.455104Z",
     "start_time": "2020-07-15T21:27:55.447472Z"
    }
   },
   "outputs": [],
   "source": [
    "mpl.rcParams['xtick.major.size'] = 6\n",
    "mpl.rcParams['xtick.major.width'] = 2\n",
    "mpl.rcParams['ytick.major.size'] = 6\n",
    "mpl.rcParams['ytick.major.width'] = 2\n",
    "mpl.rcParams['xtick.direction'] = 'in'\n",
    "mpl.rcParams['ytick.direction'] = 'in'\n",
    "mpl.rcParams['font.serif'] = 'Myriad Pro'\n",
    "mpl.rcParams['font.weight'] = 'medium'\n",
    "mpl.rcParams['font.size'] = 16\n",
    "mpl.rcParams['axes.labelweight'] = 'medium'"
   ]
  },
  {
   "cell_type": "markdown",
   "metadata": {},
   "source": [
    "# Params "
   ]
  },
  {
   "cell_type": "code",
   "execution_count": 4,
   "metadata": {
    "ExecuteTime": {
     "end_time": "2020-07-15T21:27:55.467656Z",
     "start_time": "2020-07-15T21:27:55.457209Z"
    }
   },
   "outputs": [
    {
     "name": "stdout",
     "output_type": "stream",
     "text": [
      "99 files, 17 folders\n",
      "16 subjects\n"
     ]
    }
   ],
   "source": [
    "files = folders = 0\n",
    "\n",
    "for _, dirnames, filenames in os.walk(datapath):\n",
    "  # ^ this idiom means \"we won't be using this value\"\n",
    "    files += len(filenames)\n",
    "    folders += len(dirnames)\n",
    "\n",
    "print(\"{:,} files, {:,} folders\".format(files, folders))\n",
    "print(str(folders-1) + ' subjects')\n",
    "nSubjects = folders-1"
   ]
  },
  {
   "cell_type": "code",
   "execution_count": 5,
   "metadata": {
    "ExecuteTime": {
     "end_time": "2020-07-15T21:27:55.474914Z",
     "start_time": "2020-07-15T21:27:55.469723Z"
    }
   },
   "outputs": [],
   "source": [
    "subject_names = ['AR', 'CK', 'CT', 'EW', 'HL', 'IS', 'JP', 'MF', 'NC', 'SK', 'SS']\n"
   ]
  },
  {
   "cell_type": "markdown",
   "metadata": {},
   "source": [
    "# Avg Response Error"
   ]
  },
  {
   "cell_type": "code",
   "execution_count": 6,
   "metadata": {
    "ExecuteTime": {
     "end_time": "2020-07-15T21:27:55.665601Z",
     "start_time": "2020-07-15T21:27:55.476914Z"
    }
   },
   "outputs": [
    {
     "name": "stdout",
     "output_type": "stream",
     "text": [
      "AR\n",
      "CK\n",
      "CT\n",
      "EW\n",
      "HL\n",
      "IS\n",
      "JP\n",
      "MF\n",
      "NC\n",
      "SK\n",
      "SS\n",
      "Average response error: 8.883946197631044, STD: 2.054352389294675\n"
     ]
    }
   ],
   "source": [
    "alldata = pd.DataFrame(columns=['SUBJECT', 'RESPONSE_ERROR'])\n",
    "alldata_trimed = pd.DataFrame(columns=['SUBJECT', 'AVG_RESPONSE_ERROR'])\n",
    "\n",
    "row = 0\n",
    "for subject in subject_names:\n",
    "    subjectdata_temp = pd.DataFrame()\n",
    "    \n",
    "    # load data:\n",
    "    subjectdata = pd.read_csv(datapath + subject + '/' + subject + '_VM_output_1nBack.csv')\n",
    "    subjectdata_temp['RESPONSE_ERROR'] = abs(subjectdata['responseError'])\n",
    "    subjectdata_temp.loc[:, 'SUBJECT'] = subject\n",
    "    \n",
    "    alldata_trimed.loc[row, 'SUBJECT'] = subject\n",
    "    alldata_trimed.loc[row, 'RESPONSE_ERROR'] = np.mean(subjectdata_temp['RESPONSE_ERROR'])\n",
    "    \n",
    "    print(subject)\n",
    "    \n",
    "    if subject == 'AR':\n",
    "        alldata = subjectdata_temp\n",
    "    else:\n",
    "        alldata = pd.concat([alldata, subjectdata_temp])\n",
    "    \n",
    "    row += 1\n",
    "    \n",
    "mean_across_subs = np.mean(alldata_trimed['RESPONSE_ERROR'])\n",
    "std = np.std(alldata_trimed['RESPONSE_ERROR'])\n",
    "\n",
    "print('Average response error: ' + str(mean_across_subs) + ', STD: ' + str(std))\n"
   ]
  },
  {
   "cell_type": "code",
   "execution_count": 7,
   "metadata": {
    "ExecuteTime": {
     "end_time": "2020-07-15T21:27:55.676288Z",
     "start_time": "2020-07-15T21:27:55.668503Z"
    }
   },
   "outputs": [],
   "source": [
    "alldata.dropna(inplace=True)"
   ]
  },
  {
   "cell_type": "code",
   "execution_count": 8,
   "metadata": {
    "ExecuteTime": {
     "end_time": "2020-07-15T21:27:55.686388Z",
     "start_time": "2020-07-15T21:27:55.678433Z"
    }
   },
   "outputs": [
    {
     "data": {
      "text/plain": [
       "8.881095461971265"
      ]
     },
     "execution_count": 8,
     "metadata": {},
     "output_type": "execute_result"
    }
   ],
   "source": [
    "np.mean(alldata['RESPONSE_ERROR'])"
   ]
  },
  {
   "cell_type": "markdown",
   "metadata": {},
   "source": [
    "# Avg Response Time "
   ]
  },
  {
   "cell_type": "code",
   "execution_count": 9,
   "metadata": {
    "ExecuteTime": {
     "end_time": "2020-07-15T21:27:55.858476Z",
     "start_time": "2020-07-15T21:27:55.688540Z"
    }
   },
   "outputs": [
    {
     "name": "stdout",
     "output_type": "stream",
     "text": [
      "AR\n",
      "CK\n",
      "CT\n",
      "EW\n",
      "HL\n",
      "IS\n",
      "JP\n",
      "MF\n",
      "NC\n",
      "SK\n",
      "SS\n",
      "Average RT: 2.982151183268056, STD: 0.5776796538710366\n"
     ]
    }
   ],
   "source": [
    "alldata_rt = pd.DataFrame(columns=['SUBJECT', 'RESPONSE_ERROR'])\n",
    "alldata_rt_trimed = pd.DataFrame(columns=['SUBJECT', 'AVG_RESPONSE_ERROR'])\n",
    "\n",
    "row = 0\n",
    "for subject in subject_names:\n",
    "    subjectdata_temp = pd.DataFrame()\n",
    "    \n",
    "    # load data:\n",
    "    subjectdata = pd.read_csv(datapath + subject + '/' + subject + '_VM_output_1nBack.csv')\n",
    "    subjectdata_temp['RT'] = abs(subjectdata['RT'])\n",
    "    subjectdata_temp.loc[:, 'SUBJECT'] = subject\n",
    "    \n",
    "    alldata_rt_trimed.loc[row, 'SUBJECT'] = subject\n",
    "    alldata_rt_trimed.loc[row, 'RT'] = np.mean(subjectdata_temp['RT'])\n",
    "    \n",
    "    print(subject)\n",
    "    \n",
    "    if subject == 'AR':\n",
    "        alldata_rt = subjectdata_temp\n",
    "    else:\n",
    "        alldata_rt = pd.concat([alldata_rt, subjectdata_temp])\n",
    "    \n",
    "    row += 1\n",
    "    \n",
    "mean_across_subs_rt = np.mean(alldata_rt_trimed['RT'])\n",
    "std_rt = np.std(alldata_rt_trimed['RT'])\n",
    "\n",
    "print('Average RT: ' + str(mean_across_subs_rt) + ', STD: ' + str(std_rt))\n"
   ]
  },
  {
   "cell_type": "markdown",
   "metadata": {},
   "source": [
    "# Avg Slopes "
   ]
  },
  {
   "cell_type": "code",
   "execution_count": 10,
   "metadata": {
    "ExecuteTime": {
     "end_time": "2020-07-15T21:27:56.041056Z",
     "start_time": "2020-07-15T21:27:55.859871Z"
    }
   },
   "outputs": [
    {
     "name": "stdout",
     "output_type": "stream",
     "text": [
      "AR\n",
      "CK\n",
      "CT\n",
      "EW\n",
      "HL\n",
      "IS\n",
      "JP\n",
      "MF\n",
      "NC\n",
      "SK\n",
      "SS\n",
      "Average SLOPE: 0.16518021575061262, STD: 0.10642322740648433\n"
     ]
    }
   ],
   "source": [
    "alldata_slope = pd.DataFrame(columns=['SUBJECT', 'SLOPE'])\n",
    "alldata_slope_trimed = pd.DataFrame(columns=['SUBJECT', 'SLOPE'])\n",
    "\n",
    "row = 0\n",
    "for subject in subject_names:\n",
    "    subjectdata_temp = pd.DataFrame()\n",
    "    \n",
    "    # load data:\n",
    "    subjectdata = pd.read_csv(datapath + subject + '/' + subject + '_VM_output_1nBack.csv')\n",
    "    subjectdata_temp['SLOPE'] = subjectdata['slopes']\n",
    "    subjectdata_temp.loc[:, 'SUBJECT'] = subject\n",
    "    \n",
    "    alldata_slope_trimed.loc[row, 'SUBJECT'] = subject\n",
    "    alldata_slope_trimed.loc[row, 'SLOPE'] = np.mean(subjectdata_temp['SLOPE'])\n",
    "    \n",
    "    print(subject)\n",
    "    \n",
    "    if subject == 'S1':\n",
    "        alldata_slope = subjectdata_temp\n",
    "    else:\n",
    "        alldata_slope = pd.concat([alldata_slope, subjectdata_temp])\n",
    "    \n",
    "    row += 1\n",
    "    \n",
    "mean_across_subs_slope = np.mean(alldata_slope_trimed['SLOPE'])\n",
    "std_slope = np.std(alldata_slope_trimed['SLOPE'])\n",
    "\n",
    "print('Average SLOPE: ' + str(mean_across_subs_slope) + ', STD: ' + str(std_slope))\n"
   ]
  },
  {
   "cell_type": "code",
   "execution_count": null,
   "metadata": {},
   "outputs": [],
   "source": []
  }
 ],
 "metadata": {
  "kernelspec": {
   "display_name": "Python 3",
   "language": "python",
   "name": "python3"
  },
  "language_info": {
   "codemirror_mode": {
    "name": "ipython",
    "version": 3
   },
   "file_extension": ".py",
   "mimetype": "text/x-python",
   "name": "python",
   "nbconvert_exporter": "python",
   "pygments_lexer": "ipython3",
   "version": "3.7.6"
  },
  "toc": {
   "base_numbering": 1,
   "nav_menu": {},
   "number_sections": true,
   "sideBar": true,
   "skip_h1_title": false,
   "title_cell": "Table of Contents",
   "title_sidebar": "Contents",
   "toc_cell": false,
   "toc_position": {},
   "toc_section_display": true,
   "toc_window_display": true
  },
  "varInspector": {
   "cols": {
    "lenName": 16,
    "lenType": 16,
    "lenVar": 40
   },
   "kernels_config": {
    "python": {
     "delete_cmd_postfix": "",
     "delete_cmd_prefix": "del ",
     "library": "var_list.py",
     "varRefreshCmd": "print(var_dic_list())"
    },
    "r": {
     "delete_cmd_postfix": ") ",
     "delete_cmd_prefix": "rm(",
     "library": "var_list.r",
     "varRefreshCmd": "cat(var_dic_list()) "
    }
   },
   "types_to_exclude": [
    "module",
    "function",
    "builtin_function_or_method",
    "instance",
    "_Feature"
   ],
   "window_display": false
  }
 },
 "nbformat": 4,
 "nbformat_minor": 4
}
