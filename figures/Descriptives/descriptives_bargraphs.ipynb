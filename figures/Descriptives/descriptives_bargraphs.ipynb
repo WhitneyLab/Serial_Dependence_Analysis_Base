{
 "cells": [
  {
   "cell_type": "markdown",
   "metadata": {},
   "source": [
    "# Libraries "
   ]
  },
  {
   "cell_type": "code",
   "execution_count": 19,
   "metadata": {
    "ExecuteTime": {
     "end_time": "2020-09-30T19:18:27.201823Z",
     "start_time": "2020-09-30T19:18:27.187054Z"
    }
   },
   "outputs": [],
   "source": [
    "import pandas as pd\n",
    "import matplotlib.pyplot as plt\n",
    "import numpy as np\n",
    "from scipy.optimize import curve_fit\n",
    "from scipy.special import i0\n",
    "from numpy import exp, sin, cos\n",
    "import seaborn as sns\n",
    "import matplotlib as mpl\n",
    "import os\n",
    "from pathlib import Path\n",
    "from statsFuncs import mean_confidence_interval as ms\n",
    "from statsFuncs import compDistributions\n",
    "import scipy\n",
    "\n",
    "mpl.rcParams['axes.linewidth'] = 2"
   ]
  },
  {
   "cell_type": "markdown",
   "metadata": {},
   "source": [
    "# Paths "
   ]
  },
  {
   "cell_type": "code",
   "execution_count": 20,
   "metadata": {
    "ExecuteTime": {
     "end_time": "2020-09-30T19:18:27.211683Z",
     "start_time": "2020-09-30T19:18:27.204950Z"
    }
   },
   "outputs": [],
   "source": [
    "descriptive_path = os.getcwd()\n",
    "figures_path = str(Path(descriptive_path).parent)\n",
    "datapath_radiologists = figures_path + '/data/radiologists/Analysis9_29_2020/rbf_back/'\n",
    "datapath_naives = figures_path + '/data/naive_subjects/Analysis9_29_2020/naive_back_rbf/'\n"
   ]
  },
  {
   "cell_type": "markdown",
   "metadata": {},
   "source": [
    "# Plot params "
   ]
  },
  {
   "cell_type": "code",
   "execution_count": 21,
   "metadata": {
    "ExecuteTime": {
     "end_time": "2020-09-30T19:18:27.222784Z",
     "start_time": "2020-09-30T19:18:27.215750Z"
    }
   },
   "outputs": [],
   "source": [
    "mpl.rcParams['xtick.major.size'] = 6\n",
    "mpl.rcParams['xtick.major.width'] = 2\n",
    "mpl.rcParams['ytick.major.size'] = 6\n",
    "mpl.rcParams['ytick.major.width'] = 2\n",
    "mpl.rcParams['xtick.direction'] = 'in'\n",
    "mpl.rcParams['ytick.direction'] = 'in'\n",
    "mpl.rcParams['font.serif'] = 'Myriad Pro'\n",
    "mpl.rcParams['font.weight'] = 'medium'\n",
    "mpl.rcParams['font.size'] = 16\n",
    "mpl.rcParams['axes.labelweight'] = 'medium'"
   ]
  },
  {
   "cell_type": "code",
   "execution_count": 22,
   "metadata": {
    "ExecuteTime": {
     "end_time": "2020-09-30T19:18:27.230905Z",
     "start_time": "2020-09-30T19:18:27.226332Z"
    }
   },
   "outputs": [],
   "source": [
    "plt.rcParams['font.family'] = 'Myriad Pro'\n",
    "mpl.rcParams['pdf.fonttype'] = 42\n",
    "mpl.rcParams['ps.fonttype'] = 42\n"
   ]
  },
  {
   "cell_type": "markdown",
   "metadata": {},
   "source": [
    "# Params "
   ]
  },
  {
   "cell_type": "markdown",
   "metadata": {},
   "source": [
    "## Radiologists "
   ]
  },
  {
   "cell_type": "code",
   "execution_count": 23,
   "metadata": {
    "ExecuteTime": {
     "end_time": "2020-09-30T19:18:27.247817Z",
     "start_time": "2020-09-30T19:18:27.233478Z"
    }
   },
   "outputs": [
    {
     "name": "stdout",
     "output_type": "stream",
     "text": [
      "128 files, 15 folders\n",
      "14 subjects\n"
     ]
    }
   ],
   "source": [
    "files = folders = 0\n",
    "\n",
    "for _, dirnames, filenames in os.walk(datapath_radiologists):\n",
    "    files += len(filenames)\n",
    "    folders += len(dirnames)\n",
    "\n",
    "print(\"{:,} files, {:,} folders\".format(files, folders))\n",
    "print(str(folders-1) + ' subjects')\n",
    "nSubjects_radiologists = folders-1\n",
    "subject_names_radiologists = ['S1', 'S3', 'S4', 'S6', 'S7', 'S8', 's9', 's10', 's11', 's12', 's13', 's14', 's15']"
   ]
  },
  {
   "cell_type": "code",
   "execution_count": 24,
   "metadata": {
    "ExecuteTime": {
     "end_time": "2020-09-30T19:18:27.267002Z",
     "start_time": "2020-09-30T19:18:27.253337Z"
    }
   },
   "outputs": [
    {
     "name": "stdout",
     "output_type": "stream",
     "text": [
      "78 files, 12 folders\n",
      "11 subjects\n"
     ]
    }
   ],
   "source": [
    "files = folders = 0\n",
    "\n",
    "for _, dirnames, filenames in os.walk(datapath_naives):\n",
    "  # ^ this idiom means \"we won't be using this value\"\n",
    "    files += len(filenames)\n",
    "    folders += len(dirnames)\n",
    "\n",
    "print(\"{:,} files, {:,} folders\".format(files, folders))\n",
    "print(str(folders-1) + ' subjects')\n",
    "nSubjects_naives = folders-1\n",
    "subject_names_naives = ['AR', 'CK', 'CT', 'EW', 'HL', 'IS', 'JP', 'MF', 'NC', 'SK', 'SS']\n"
   ]
  },
  {
   "cell_type": "markdown",
   "metadata": {},
   "source": [
    "# Average response error "
   ]
  },
  {
   "cell_type": "markdown",
   "metadata": {},
   "source": [
    "## Radiologists "
   ]
  },
  {
   "cell_type": "code",
   "execution_count": 25,
   "metadata": {
    "ExecuteTime": {
     "end_time": "2020-09-30T19:18:27.617294Z",
     "start_time": "2020-09-30T19:18:27.273094Z"
    }
   },
   "outputs": [
    {
     "name": "stdout",
     "output_type": "stream",
     "text": [
      "S1\n",
      "S3\n",
      "S4\n",
      "S6\n",
      "S7\n",
      "S8\n",
      "s9\n",
      "s10\n",
      "s11\n",
      "s12\n",
      "s13\n",
      "s14\n",
      "s15\n",
      "Average response error: 9.19664389441864, STD: 1.8096676755584051, SEM_LOW: 8.674237834604936, SEM_UP: 9.719049954232345\n"
     ]
    },
    {
     "data": {
      "text/plain": [
       "0.5224060598137048"
      ]
     },
     "execution_count": 25,
     "metadata": {},
     "output_type": "execute_result"
    }
   ],
   "source": [
    "alldata_radiologists = pd.DataFrame(columns=['SUBJECT', 'RESPONSE_ERROR'])\n",
    "alldata_trimed_radiologists = pd.DataFrame(columns=['SUBJECT', 'AVG_RESPONSE_ERROR'])\n",
    "\n",
    "row = 0\n",
    "for subject in subject_names_radiologists:\n",
    "    subjectdata_temp = pd.DataFrame()\n",
    "    \n",
    "    # load data:\n",
    "    subjectdata = pd.read_csv(datapath_radiologists + subject + '/' + subject + '_VM_output_1nBack.csv')\n",
    "    subjectdata_temp['RESPONSE_ERROR'] = abs(subjectdata['responseError'])\n",
    "    subjectdata_temp.loc[:, 'SUBJECT'] = subject\n",
    "    \n",
    "    alldata_trimed_radiologists.loc[row, 'SUBJECT'] = subject\n",
    "    alldata_trimed_radiologists.loc[row, 'RESPONSE_ERROR'] = np.mean(subjectdata_temp['RESPONSE_ERROR'])\n",
    "    \n",
    "    print(subject)\n",
    "    \n",
    "    if subject == 'S1':\n",
    "        alldata_radiologists = subjectdata_temp\n",
    "    else:\n",
    "        alldata_radiologists = pd.concat([alldata_radiologists, subjectdata_temp])\n",
    "    \n",
    "    row += 1\n",
    "    \n",
    "mean_across_subs_radiologists, sem_low_radiologists, sem_high_radiologists = ms.mean_sem(alldata_trimed_radiologists['RESPONSE_ERROR'])\n",
    "std_radiologists = np.std(alldata_trimed_radiologists['RESPONSE_ERROR'])\n",
    "sem_radiologists_simple = scipy.stats.sem(alldata_trimed_radiologists['RESPONSE_ERROR'], nan_policy='omit')\n",
    "\n",
    "print('Average response error: ' + str(mean_across_subs_radiologists) +\n",
    "      ', STD: ' + str(std_radiologists) + ', SEM_LOW: ' + str(sem_low_radiologists) + ', SEM_UP: ' + str(sem_high_radiologists))\n",
    "sem_radiologists_simple"
   ]
  },
  {
   "cell_type": "markdown",
   "metadata": {},
   "source": [
    "## Naives "
   ]
  },
  {
   "cell_type": "code",
   "execution_count": 26,
   "metadata": {
    "ExecuteTime": {
     "end_time": "2020-09-30T19:18:27.908330Z",
     "start_time": "2020-09-30T19:18:27.641651Z"
    }
   },
   "outputs": [
    {
     "name": "stdout",
     "output_type": "stream",
     "text": [
      "AR\n",
      "CK\n",
      "CT\n",
      "EW\n",
      "HL\n",
      "IS\n",
      "JP\n",
      "MF\n",
      "NC\n",
      "SK\n",
      "SS\n",
      "Average response error: 8.935401263245865, STD: 1.7907435954624722, SEM_LOW: 8.369118416543808, SEM_UP: 9.501684109947922\n"
     ]
    },
    {
     "data": {
      "text/plain": [
       "0.5662828467020578"
      ]
     },
     "execution_count": 26,
     "metadata": {},
     "output_type": "execute_result"
    }
   ],
   "source": [
    "alldata_naives = pd.DataFrame(columns=['SUBJECT', 'RESPONSE_ERROR'])\n",
    "alldata_trimed_naives = pd.DataFrame(columns=['SUBJECT', 'AVG_RESPONSE_ERROR'])\n",
    "\n",
    "row = 0\n",
    "for subject in subject_names_naives:\n",
    "    subjectdata_temp = pd.DataFrame()\n",
    "    \n",
    "    # load data:\n",
    "    subjectdata = pd.read_csv(datapath_naives + subject + '/' + subject + '_VM_output_1nBack.csv')\n",
    "    subjectdata_temp['RESPONSE_ERROR'] = abs(subjectdata['responseError'])\n",
    "    subjectdata_temp.loc[:, 'SUBJECT'] = subject\n",
    "    \n",
    "    alldata_trimed_naives.loc[row, 'SUBJECT'] = subject\n",
    "    alldata_trimed_naives.loc[row, 'RESPONSE_ERROR'] = np.mean(subjectdata_temp['RESPONSE_ERROR'])\n",
    "    \n",
    "    print(subject)\n",
    "    \n",
    "    if subject == 'AR':\n",
    "        alldata_naives = subjectdata_temp\n",
    "    else:\n",
    "        alldata_naives = pd.concat([alldata_naives, subjectdata_temp])\n",
    "    \n",
    "    row += 1\n",
    "    \n",
    "mean_across_subs_naives, sem_low_naives, sem_high_naives = ms.mean_sem(alldata_trimed_naives['RESPONSE_ERROR'])\n",
    "std_naives = np.std(alldata_trimed_naives['RESPONSE_ERROR'])\n",
    "sem_naives_simple = scipy.stats.sem(alldata_trimed_naives['RESPONSE_ERROR'], nan_policy='omit')\n",
    "\n",
    "print('Average response error: ' + str(mean_across_subs_naives) +\n",
    "      ', STD: ' + str(std_naives) + ', SEM_LOW: ' + str(sem_low_naives) + ', SEM_UP: ' + str(sem_high_naives))\n",
    "sem_naives_simple"
   ]
  },
  {
   "cell_type": "markdown",
   "metadata": {},
   "source": [
    "## Bar graph "
   ]
  },
  {
   "cell_type": "code",
   "execution_count": 27,
   "metadata": {
    "ExecuteTime": {
     "end_time": "2020-09-30T19:18:27.974231Z",
     "start_time": "2020-09-30T19:18:27.955706Z"
    }
   },
   "outputs": [
    {
     "data": {
      "text/plain": [
       "[9.19664389441864, 8.935401263245865]"
      ]
     },
     "execution_count": 27,
     "metadata": {},
     "output_type": "execute_result"
    }
   ],
   "source": [
    "sems = [sem_radiologists_simple, sem_naives_simple]\n",
    "means = [mean_across_subs_radiologists, mean_across_subs_naives]\n",
    "means"
   ]
  },
  {
   "cell_type": "code",
   "execution_count": 28,
   "metadata": {
    "ExecuteTime": {
     "end_time": "2020-09-30T19:18:28.400597Z",
     "start_time": "2020-09-30T19:18:27.991291Z"
    }
   },
   "outputs": [
    {
     "data": {
      "image/png": "[encoded data removed]",
      "text/plain": [
       "<Figure size 324x360 with 1 Axes>"
      ]
     },
     "metadata": {
      "needs_background": "light"
     },
     "output_type": "display_data"
    }
   ],
   "source": [
    "plt.figure(figsize=(4.5, 5))\n",
    "\n",
    "plt.bar(range(2), means, yerr=sems, ecolor='black',\n",
    "       capsize=6, color = ['grey', 'lightgrey'])\n",
    "plt.xticks(range(2), ['Radiologists', 'Naive \\nSubjects'])\n",
    "plt.ylabel('Mean                        \\nResponse Error                        \\n(°)                        ', rotation='horizontal')\n",
    "plt.savefig('descriptives_response_error.pdf', format='pdf', dpi=3000, transparent=True)\n",
    "plt.show()"
   ]
  },
  {
   "cell_type": "markdown",
   "metadata": {},
   "source": [
    "## T test "
   ]
  },
  {
   "cell_type": "code",
   "execution_count": 29,
   "metadata": {
    "ExecuteTime": {
     "end_time": "2020-09-30T19:18:28.423754Z",
     "start_time": "2020-09-30T19:18:28.404784Z"
    }
   },
   "outputs": [
    {
     "data": {
      "text/plain": [
       "Ttest_indResult(statistic=0.33899548591036954, pvalue=0.7378275538399175)"
      ]
     },
     "execution_count": 29,
     "metadata": {},
     "output_type": "execute_result"
    }
   ],
   "source": [
    "scipy.stats.ttest_ind(alldata_trimed_radiologists['RESPONSE_ERROR'], alldata_trimed_naives['RESPONSE_ERROR'])"
   ]
  },
  {
   "cell_type": "code",
   "execution_count": 30,
   "metadata": {
    "ExecuteTime": {
     "end_time": "2020-09-30T19:18:28.449222Z",
     "start_time": "2020-09-30T19:18:28.435572Z"
    }
   },
   "outputs": [
    {
     "data": {
      "text/plain": [
       "22"
      ]
     },
     "execution_count": 30,
     "metadata": {},
     "output_type": "execute_result"
    }
   ],
   "source": [
    "t_degfreelen = (len(alldata_trimed_radiologists) + len(alldata_trimed_naives))-2\n",
    "t_degfreelen"
   ]
  },
  {
   "cell_type": "markdown",
   "metadata": {},
   "source": [
    "# Average response time "
   ]
  },
  {
   "cell_type": "markdown",
   "metadata": {},
   "source": [
    "## Radiologists"
   ]
  },
  {
   "cell_type": "code",
   "execution_count": 31,
   "metadata": {
    "ExecuteTime": {
     "end_time": "2020-09-30T19:18:28.781103Z",
     "start_time": "2020-09-30T19:18:28.466584Z"
    }
   },
   "outputs": [
    {
     "name": "stdout",
     "output_type": "stream",
     "text": [
      "S1\n",
      "S3\n",
      "S4\n",
      "S6\n",
      "S7\n",
      "S8\n",
      "s9\n",
      "s10\n",
      "s11\n",
      "s12\n",
      "s13\n",
      "s14\n",
      "s15\n",
      "Average response error: 3.2444661810710684, STD: 0.8451958187316707, SEM_LOW: 3.00047916433973, SEM_UP: 3.4884531978024067\n"
     ]
    },
    {
     "data": {
      "text/plain": [
       "0.24398701673133813"
      ]
     },
     "execution_count": 31,
     "metadata": {},
     "output_type": "execute_result"
    }
   ],
   "source": [
    "alldata_radiologists = pd.DataFrame(columns=['SUBJECT', 'RESPONSE_TIME'])\n",
    "alldata_trimed_radiologists = pd.DataFrame(columns=['SUBJECT', 'AVG_RESPONSE_TIME'])\n",
    "\n",
    "row = 0\n",
    "for subject in subject_names_radiologists:\n",
    "    subjectdata_temp = pd.DataFrame()\n",
    "    \n",
    "    # load data:\n",
    "    subjectdata = pd.read_csv(datapath_radiologists + subject + '/' + subject + '_VM_output_1nBack.csv')\n",
    "    subjectdata_temp['RT'] = abs(subjectdata['RT'])\n",
    "    subjectdata_temp.loc[:, 'SUBJECT'] = subject\n",
    "    \n",
    "    alldata_trimed_radiologists.loc[row, 'SUBJECT'] = subject\n",
    "    alldata_trimed_radiologists.loc[row, 'RT'] = np.mean(subjectdata_temp['RT'])\n",
    "    \n",
    "    print(subject)\n",
    "    \n",
    "    if subject == 'S1':\n",
    "        alldata_radiologists = subjectdata_temp\n",
    "    else:\n",
    "        alldata_radiologists = pd.concat([alldata_radiologists, subjectdata_temp])\n",
    "    \n",
    "    row += 1\n",
    "    \n",
    "mean_across_subs_radiologists, sem_low_radiologists, sem_high_radiologists = ms.mean_sem(alldata_trimed_radiologists['RT'])\n",
    "std_radiologists = np.std(alldata_trimed_radiologists['RT'])\n",
    "sem_radiologists_simple = scipy.stats.sem(alldata_trimed_radiologists['RT'], nan_policy='omit')\n",
    "\n",
    "print('Average response error: ' + str(mean_across_subs_radiologists) +\n",
    "      ', STD: ' + str(std_radiologists) + ', SEM_LOW: ' + str(sem_low_radiologists) + ', SEM_UP: ' + str(sem_high_radiologists))\n",
    "sem_radiologists_simple"
   ]
  },
  {
   "cell_type": "markdown",
   "metadata": {},
   "source": [
    "## Naives "
   ]
  },
  {
   "cell_type": "code",
   "execution_count": 32,
   "metadata": {
    "ExecuteTime": {
     "end_time": "2020-09-30T19:18:29.082216Z",
     "start_time": "2020-09-30T19:18:28.787961Z"
    }
   },
   "outputs": [
    {
     "name": "stdout",
     "output_type": "stream",
     "text": [
      "AR\n",
      "CK\n",
      "CT\n",
      "EW\n",
      "HL\n",
      "IS\n",
      "JP\n",
      "MF\n",
      "NC\n",
      "SK\n",
      "SS\n",
      "Average response error: 2.982151183268056, STD: 0.5776796538710366, SEM_LOW: 2.799472836851038, SEM_UP: 3.1648295296850737\n"
     ]
    },
    {
     "data": {
      "text/plain": [
       "0.18267834641701808"
      ]
     },
     "execution_count": 32,
     "metadata": {},
     "output_type": "execute_result"
    }
   ],
   "source": [
    "alldata_naives = pd.DataFrame(columns=['SUBJECT', 'RESPONSE_TIME'])\n",
    "alldata_trimed_naives = pd.DataFrame(columns=['SUBJECT', 'AVG_RESPONSE_TIME'])\n",
    "\n",
    "row = 0\n",
    "for subject in subject_names_naives:\n",
    "    subjectdata_temp = pd.DataFrame()\n",
    "    \n",
    "    # load data:\n",
    "    subjectdata = pd.read_csv(datapath_naives + subject + '/' + subject + '_VM_output_1nBack.csv')\n",
    "    subjectdata_temp['RT'] = abs(subjectdata['RT'])\n",
    "    subjectdata_temp.loc[:, 'SUBJECT'] = subject\n",
    "    \n",
    "    alldata_trimed_naives.loc[row, 'SUBJECT'] = subject\n",
    "    alldata_trimed_naives.loc[row, 'RT'] = np.mean(subjectdata_temp['RT'])\n",
    "    \n",
    "    print(subject)\n",
    "    \n",
    "    if subject == 'AR':\n",
    "        alldata_naives = subjectdata_temp\n",
    "    else:\n",
    "        alldata_naives = pd.concat([alldata_naives, subjectdata_temp])\n",
    "    \n",
    "    row += 1\n",
    "    \n",
    "mean_across_subs_naives, sem_low_naives, sem_high_naives = ms.mean_sem(alldata_trimed_naives['RT'])\n",
    "std_naives = np.std(alldata_trimed_naives['RT'])\n",
    "sem_naives_simple = scipy.stats.sem(alldata_trimed_naives['RT'], nan_policy='omit')\n",
    "\n",
    "print('Average response error: ' + str(mean_across_subs_naives) +\n",
    "      ', STD: ' + str(std_naives) + ', SEM_LOW: ' + str(sem_low_naives) + ', SEM_UP: ' + str(sem_high_naives))\n",
    "sem_naives_simple"
   ]
  },
  {
   "cell_type": "markdown",
   "metadata": {},
   "source": [
    "## Bar graph"
   ]
  },
  {
   "cell_type": "code",
   "execution_count": 33,
   "metadata": {
    "ExecuteTime": {
     "end_time": "2020-09-30T19:18:29.096489Z",
     "start_time": "2020-09-30T19:18:29.085503Z"
    }
   },
   "outputs": [
    {
     "data": {
      "text/plain": [
       "[3.2444661810710684, 2.982151183268056]"
      ]
     },
     "execution_count": 33,
     "metadata": {},
     "output_type": "execute_result"
    }
   ],
   "source": [
    "sems = [sem_radiologists_simple, sem_naives_simple]\n",
    "means = [mean_across_subs_radiologists, mean_across_subs_naives]\n",
    "means"
   ]
  },
  {
   "cell_type": "code",
   "execution_count": 34,
   "metadata": {
    "ExecuteTime": {
     "end_time": "2020-09-30T19:18:29.895112Z",
     "start_time": "2020-09-30T19:18:29.121682Z"
    }
   },
   "outputs": [
    {
     "data": {
      "image/png": "[encoded data removed]",
      "text/plain": [
       "<Figure size 324x360 with 1 Axes>"
      ]
     },
     "metadata": {
      "needs_background": "light"
     },
     "output_type": "display_data"
    }
   ],
   "source": [
    "plt.figure(figsize=(4.5, 5))\n",
    "\n",
    "plt.bar(range(2), means, yerr=sems, ecolor='black',\n",
    "       capsize=6, color = ['grey', 'lightgrey'])\n",
    "plt.xticks(range(2), ['Radiologists', 'Naive \\nSubjects'])\n",
    "plt.ylabel('Mean                        \\nResponse Time                        \\n(secs)                        ', rotation='horizontal')\n",
    "plt.savefig('descriptives_response_time.eps', dpi=3000)\n",
    "plt.savefig('descriptives_response_time.pdf', format='pdf', dpi=3000, transparent=True)\n",
    "\n",
    "plt.show()"
   ]
  },
  {
   "cell_type": "markdown",
   "metadata": {},
   "source": [
    "## T test "
   ]
  },
  {
   "cell_type": "code",
   "execution_count": 35,
   "metadata": {
    "ExecuteTime": {
     "end_time": "2020-09-30T19:18:29.930019Z",
     "start_time": "2020-09-30T19:18:29.915475Z"
    }
   },
   "outputs": [
    {
     "data": {
      "text/plain": [
       "Ttest_indResult(statistic=0.8343275785953173, pvalue=0.4130646342950065)"
      ]
     },
     "execution_count": 35,
     "metadata": {},
     "output_type": "execute_result"
    }
   ],
   "source": [
    "scipy.stats.ttest_ind(alldata_trimed_radiologists['RT'], alldata_trimed_naives['RT'])"
   ]
  },
  {
   "cell_type": "code",
   "execution_count": 36,
   "metadata": {
    "ExecuteTime": {
     "end_time": "2020-09-30T19:18:29.952294Z",
     "start_time": "2020-09-30T19:18:29.932553Z"
    }
   },
   "outputs": [
    {
     "data": {
      "text/plain": [
       "22"
      ]
     },
     "execution_count": 36,
     "metadata": {},
     "output_type": "execute_result"
    }
   ],
   "source": [
    "t_degfreelen = (len(alldata_trimed_radiologists) + len(alldata_trimed_naives))-2\n",
    "t_degfreelen"
   ]
  },
  {
   "cell_type": "code",
   "execution_count": null,
   "metadata": {},
   "outputs": [],
   "source": []
  }
 ],
 "metadata": {
  "kernelspec": {
   "display_name": "Python 3",
   "language": "python",
   "name": "python3"
  },
  "language_info": {
   "codemirror_mode": {
    "name": "ipython",
    "version": 3
   },
   "file_extension": ".py",
   "mimetype": "text/x-python",
   "name": "python",
   "nbconvert_exporter": "python",
   "pygments_lexer": "ipython3",
   "version": "3.8.2"
  },
  "toc": {
   "base_numbering": 1,
   "nav_menu": {},
   "number_sections": true,
   "sideBar": true,
   "skip_h1_title": false,
   "title_cell": "Table of Contents",
   "title_sidebar": "Contents",
   "toc_cell": false,
   "toc_position": {},
   "toc_section_display": true,
   "toc_window_display": true
  },
  "varInspector": {
   "cols": {
    "lenName": 16,
    "lenType": 16,
    "lenVar": 40
   },
   "kernels_config": {
    "python": {
     "delete_cmd_postfix": "",
     "delete_cmd_prefix": "del ",
     "library": "var_list.py",
     "varRefreshCmd": "print(var_dic_list())"
    },
    "r": {
     "delete_cmd_postfix": ") ",
     "delete_cmd_prefix": "rm(",
     "library": "var_list.r",
     "varRefreshCmd": "cat(var_dic_list()) "
    }
   },
   "types_to_exclude": [
    "module",
    "function",
    "builtin_function_or_method",
    "instance",
    "_Feature"
   ],
   "window_display": false
  }
 },
 "nbformat": 4,
 "nbformat_minor": 4
}
