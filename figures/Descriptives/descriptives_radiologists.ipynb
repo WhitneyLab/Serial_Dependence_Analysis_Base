{
 "cells": [
  {
   "cell_type": "markdown",
   "metadata": {},
   "source": [
    "# Libraries "
   ]
  },
  {
   "cell_type": "code",
   "execution_count": 1,
   "metadata": {
    "ExecuteTime": {
     "end_time": "2020-09-30T01:32:33.087082Z",
     "start_time": "2020-09-30T01:32:31.651981Z"
    }
   },
   "outputs": [],
   "source": [
    "import pandas as pd\n",
    "import matplotlib.pyplot as plt\n",
    "import numpy as np\n",
    "from scipy.optimize import curve_fit\n",
    "from scipy.special import i0\n",
    "from numpy import exp, sin, cos\n",
    "import seaborn as sns\n",
    "import matplotlib as mpl\n",
    "import os\n",
    "from pathlib import Path\n",
    "from statsFuncs import mean_confidence_interval\n",
    "from statsFuncs import compDistributions\n",
    "import scipy\n",
    "\n",
    "mpl.rcParams['axes.linewidth'] = 2"
   ]
  },
  {
   "cell_type": "markdown",
   "metadata": {},
   "source": [
    "# Paths "
   ]
  },
  {
   "cell_type": "code",
   "execution_count": 2,
   "metadata": {
    "ExecuteTime": {
     "end_time": "2020-09-30T01:32:33.098804Z",
     "start_time": "2020-09-30T01:32:33.091663Z"
    }
   },
   "outputs": [],
   "source": [
    "descriptive_path = os.getcwd()\n",
    "figures_path = str(Path(descriptive_path).parent)\n",
    "datapath = figures_path + '/data/radiologists/Analysis9_29_2020/rbf_back/'"
   ]
  },
  {
   "cell_type": "markdown",
   "metadata": {},
   "source": [
    "# Plotparams "
   ]
  },
  {
   "cell_type": "code",
   "execution_count": 3,
   "metadata": {
    "ExecuteTime": {
     "end_time": "2020-09-30T01:32:33.114444Z",
     "start_time": "2020-09-30T01:32:33.106122Z"
    }
   },
   "outputs": [],
   "source": [
    "mpl.rcParams['xtick.major.size'] = 6\n",
    "mpl.rcParams['xtick.major.width'] = 2\n",
    "mpl.rcParams['ytick.major.size'] = 6\n",
    "mpl.rcParams['ytick.major.width'] = 2\n",
    "mpl.rcParams['xtick.direction'] = 'in'\n",
    "mpl.rcParams['ytick.direction'] = 'in'\n",
    "mpl.rcParams['font.serif'] = 'Myriad Pro'\n",
    "mpl.rcParams['font.weight'] = 'medium'\n",
    "mpl.rcParams['font.size'] = 16\n",
    "mpl.rcParams['axes.labelweight'] = 'medium'"
   ]
  },
  {
   "cell_type": "markdown",
   "metadata": {},
   "source": [
    "# Params "
   ]
  },
  {
   "cell_type": "code",
   "execution_count": 4,
   "metadata": {
    "ExecuteTime": {
     "end_time": "2020-09-30T01:32:33.133934Z",
     "start_time": "2020-09-30T01:32:33.118548Z"
    }
   },
   "outputs": [
    {
     "name": "stdout",
     "output_type": "stream",
     "text": [
      "128 files, 15 folders\n",
      "14 subjects\n"
     ]
    }
   ],
   "source": [
    "files = folders = 0\n",
    "\n",
    "for _, dirnames, filenames in os.walk(datapath):\n",
    "  # ^ this idiom means \"we won't be using this value\"\n",
    "    files += len(filenames)\n",
    "    folders += len(dirnames)\n",
    "\n",
    "print(\"{:,} files, {:,} folders\".format(files, folders))\n",
    "print(str(folders-1) + ' subjects')\n",
    "nSubjects = folders-1"
   ]
  },
  {
   "cell_type": "code",
   "execution_count": 5,
   "metadata": {
    "ExecuteTime": {
     "end_time": "2020-09-30T01:32:33.146359Z",
     "start_time": "2020-09-30T01:32:33.138291Z"
    }
   },
   "outputs": [],
   "source": [
    "subject_names = ['S1', 'S3', 'S4', 'S6', 'S7', 'S8', 's9', 's10', 's11', 's12', 's13', 's14', 's15']"
   ]
  },
  {
   "cell_type": "markdown",
   "metadata": {},
   "source": [
    "# Avg Response Error "
   ]
  },
  {
   "cell_type": "code",
   "execution_count": 6,
   "metadata": {
    "ExecuteTime": {
     "end_time": "2020-09-30T01:32:33.506494Z",
     "start_time": "2020-09-30T01:32:33.150490Z"
    }
   },
   "outputs": [
    {
     "name": "stdout",
     "output_type": "stream",
     "text": [
      "S1\n",
      "S3\n",
      "S4\n",
      "S6\n",
      "S7\n",
      "S8\n",
      "s9\n",
      "s10\n",
      "s11\n",
      "s12\n",
      "s13\n",
      "s14\n",
      "s15\n",
      "Average response error: 9.19664389441864, STD: 1.8096676755584051\n"
     ]
    }
   ],
   "source": [
    "alldata = pd.DataFrame(columns=['SUBJECT', 'RESPONSE_ERROR'])\n",
    "alldata_trimed = pd.DataFrame(columns=['SUBJECT', 'AVG_RESPONSE_ERROR'])\n",
    "\n",
    "row = 0\n",
    "for subject in subject_names:\n",
    "    subjectdata_temp = pd.DataFrame()\n",
    "    \n",
    "    # load data:\n",
    "    subjectdata = pd.read_csv(datapath + subject + '/' + subject + '_VM_output_1nBack.csv')\n",
    "    subjectdata_temp['RESPONSE_ERROR'] = abs(subjectdata['responseError'])\n",
    "    subjectdata_temp.loc[:, 'SUBJECT'] = subject\n",
    "    \n",
    "    alldata_trimed.loc[row, 'SUBJECT'] = subject\n",
    "    alldata_trimed.loc[row, 'RESPONSE_ERROR'] = np.mean(subjectdata_temp['RESPONSE_ERROR'])\n",
    "    \n",
    "    print(subject)\n",
    "    \n",
    "    if subject == 'S1':\n",
    "        alldata = subjectdata_temp\n",
    "    else:\n",
    "        alldata = pd.concat([alldata, subjectdata_temp])\n",
    "    \n",
    "    row += 1\n",
    "    \n",
    "mean_across_subs = np.mean(alldata_trimed['RESPONSE_ERROR'])\n",
    "std = np.std(alldata_trimed['RESPONSE_ERROR'])\n",
    "\n",
    "print('Average response error: ' + str(mean_across_subs) + ', STD: ' + str(std))\n"
   ]
  },
  {
   "cell_type": "code",
   "execution_count": 7,
   "metadata": {
    "ExecuteTime": {
     "end_time": "2020-09-30T01:32:33.527233Z",
     "start_time": "2020-09-30T01:32:33.510974Z"
    }
   },
   "outputs": [],
   "source": [
    "alldata.dropna(inplace=True)"
   ]
  },
  {
   "cell_type": "code",
   "execution_count": 8,
   "metadata": {
    "ExecuteTime": {
     "end_time": "2020-09-30T01:32:33.543058Z",
     "start_time": "2020-09-30T01:32:33.532651Z"
    }
   },
   "outputs": [
    {
     "data": {
      "text/plain": [
       "9.193446813965172"
      ]
     },
     "execution_count": 8,
     "metadata": {},
     "output_type": "execute_result"
    }
   ],
   "source": [
    "np.mean(alldata['RESPONSE_ERROR'])"
   ]
  },
  {
   "cell_type": "code",
   "execution_count": 9,
   "metadata": {
    "ExecuteTime": {
     "end_time": "2020-09-30T01:32:33.560368Z",
     "start_time": "2020-09-30T01:32:33.551698Z"
    }
   },
   "outputs": [
    {
     "data": {
      "text/plain": [
       "9.173291804119517"
      ]
     },
     "execution_count": 9,
     "metadata": {},
     "output_type": "execute_result"
    }
   ],
   "source": [
    "np.std(alldata['RESPONSE_ERROR'])"
   ]
  },
  {
   "cell_type": "code",
   "execution_count": 10,
   "metadata": {
    "ExecuteTime": {
     "end_time": "2020-09-30T01:32:33.573439Z",
     "start_time": "2020-09-30T01:32:33.564496Z"
    }
   },
   "outputs": [
    {
     "data": {
      "text/plain": [
       "0.16178368381720099"
      ]
     },
     "execution_count": 10,
     "metadata": {},
     "output_type": "execute_result"
    }
   ],
   "source": [
    "scipy.stats.sem(alldata['RESPONSE_ERROR'])"
   ]
  },
  {
   "cell_type": "code",
   "execution_count": 11,
   "metadata": {
    "ExecuteTime": {
     "end_time": "2020-09-30T01:32:33.588249Z",
     "start_time": "2020-09-30T01:32:33.577548Z"
    }
   },
   "outputs": [
    {
     "data": {
      "text/plain": [
       "9.19664389441864"
      ]
     },
     "execution_count": 11,
     "metadata": {},
     "output_type": "execute_result"
    }
   ],
   "source": [
    "mean_across_subs"
   ]
  },
  {
   "cell_type": "markdown",
   "metadata": {},
   "source": [
    "# Avg Response Time "
   ]
  },
  {
   "cell_type": "code",
   "execution_count": 12,
   "metadata": {
    "ExecuteTime": {
     "end_time": "2020-09-30T01:32:33.817926Z",
     "start_time": "2020-09-30T01:32:33.591988Z"
    }
   },
   "outputs": [
    {
     "name": "stdout",
     "output_type": "stream",
     "text": [
      "S1\n",
      "S3\n",
      "S4\n",
      "S6\n",
      "S7\n",
      "S8\n",
      "s9\n",
      "s10\n",
      "s11\n",
      "s12\n",
      "s13\n",
      "s14\n",
      "s15\n",
      "Average RT: 3.2444661810710684, STD: 0.8451958187316707\n"
     ]
    }
   ],
   "source": [
    "alldata_rt = pd.DataFrame(columns=['SUBJECT', 'RESPONSE_ERROR'])\n",
    "alldata_rt_trimed = pd.DataFrame(columns=['SUBJECT', 'AVG_RESPONSE_ERROR'])\n",
    "\n",
    "row = 0\n",
    "for subject in subject_names:\n",
    "    subjectdata_temp = pd.DataFrame()\n",
    "    \n",
    "    # load data:\n",
    "    subjectdata = pd.read_csv(datapath + subject + '/' + subject + '_VM_output_1nBack.csv')\n",
    "    subjectdata_temp['RT'] = abs(subjectdata['RT'])\n",
    "    subjectdata_temp.loc[:, 'SUBJECT'] = subject\n",
    "    \n",
    "    alldata_rt_trimed.loc[row, 'SUBJECT'] = subject\n",
    "    alldata_rt_trimed.loc[row, 'RT'] = np.mean(subjectdata_temp['RT'])\n",
    "    \n",
    "    print(subject)\n",
    "    \n",
    "    if subject == 'S1':\n",
    "        alldata_rt = subjectdata_temp\n",
    "    else:\n",
    "        alldata_rt = pd.concat([alldata_rt, subjectdata_temp])\n",
    "    \n",
    "    row += 1\n",
    "    \n",
    "mean_across_subs_rt = np.mean(alldata_rt_trimed['RT'])\n",
    "std_rt = np.std(alldata_rt_trimed['RT'])\n",
    "\n",
    "print('Average RT: ' + str(mean_across_subs_rt) + ', STD: ' + str(std_rt))\n"
   ]
  },
  {
   "cell_type": "markdown",
   "metadata": {},
   "source": [
    "# Avg Slope "
   ]
  },
  {
   "cell_type": "code",
   "execution_count": 13,
   "metadata": {
    "ExecuteTime": {
     "end_time": "2020-09-30T01:32:34.022809Z",
     "start_time": "2020-09-30T01:32:33.820721Z"
    }
   },
   "outputs": [
    {
     "name": "stdout",
     "output_type": "stream",
     "text": [
      "S1\n",
      "S3\n",
      "S4\n",
      "S6\n",
      "S7\n",
      "S8\n",
      "s9\n",
      "s10\n",
      "s11\n",
      "s12\n",
      "s13\n",
      "s14\n",
      "s15\n",
      "Average SLOPE: 0.1322461243358394, STD: 0.0988095730426945\n"
     ]
    }
   ],
   "source": [
    "alldata_slope = pd.DataFrame(columns=['SUBJECT', 'SLOPE'])\n",
    "alldata_slope_trimed = pd.DataFrame(columns=['SUBJECT', 'SLOPE'])\n",
    "\n",
    "row = 0\n",
    "for subject in subject_names:\n",
    "    subjectdata_temp = pd.DataFrame()\n",
    "    \n",
    "    # load data:\n",
    "    subjectdata = pd.read_csv(datapath + subject + '/' + subject + '_VM_output_1nBack.csv')\n",
    "    subjectdata_temp['SLOPE'] = subjectdata['slopes']\n",
    "    subjectdata_temp.loc[:, 'SUBJECT'] = subject\n",
    "    \n",
    "    alldata_slope_trimed.loc[row, 'SUBJECT'] = subject\n",
    "    alldata_slope_trimed.loc[row, 'SLOPE'] = np.mean(subjectdata_temp['SLOPE'])\n",
    "    \n",
    "    print(subject)\n",
    "    \n",
    "    if subject == 'S1':\n",
    "        alldata_slope = subjectdata_temp\n",
    "    else:\n",
    "        alldata_slope = pd.concat([alldata_slope, subjectdata_temp])\n",
    "    \n",
    "    row += 1\n",
    "    \n",
    "mean_across_subs_slope = np.mean(alldata_slope_trimed['SLOPE'])\n",
    "std_slope = np.std(alldata_slope_trimed['SLOPE'])\n",
    "\n",
    "print('Average SLOPE: ' + str(mean_across_subs_slope) + ', STD: ' + str(std_slope))\n"
   ]
  },
  {
   "cell_type": "code",
   "execution_count": null,
   "metadata": {},
   "outputs": [],
   "source": []
  }
 ],
 "metadata": {
  "kernelspec": {
   "display_name": "Python 3",
   "language": "python",
   "name": "python3"
  },
  "language_info": {
   "codemirror_mode": {
    "name": "ipython",
    "version": 3
   },
   "file_extension": ".py",
   "mimetype": "text/x-python",
   "name": "python",
   "nbconvert_exporter": "python",
   "pygments_lexer": "ipython3",
   "version": "3.7.6"
  },
  "toc": {
   "base_numbering": 1,
   "nav_menu": {},
   "number_sections": true,
   "sideBar": true,
   "skip_h1_title": false,
   "title_cell": "Table of Contents",
   "title_sidebar": "Contents",
   "toc_cell": false,
   "toc_position": {},
   "toc_section_display": true,
   "toc_window_display": true
  },
  "varInspector": {
   "cols": {
    "lenName": 16,
    "lenType": 16,
    "lenVar": 40
   },
   "kernels_config": {
    "python": {
     "delete_cmd_postfix": "",
     "delete_cmd_prefix": "del ",
     "library": "var_list.py",
     "varRefreshCmd": "print(var_dic_list())"
    },
    "r": {
     "delete_cmd_postfix": ") ",
     "delete_cmd_prefix": "rm(",
     "library": "var_list.r",
     "varRefreshCmd": "cat(var_dic_list()) "
    }
   },
   "types_to_exclude": [
    "module",
    "function",
    "builtin_function_or_method",
    "instance",
    "_Feature"
   ],
   "window_display": false
  }
 },
 "nbformat": 4,
 "nbformat_minor": 4
}
