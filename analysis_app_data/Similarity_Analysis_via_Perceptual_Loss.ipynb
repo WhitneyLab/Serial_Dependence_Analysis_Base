{
 "cells": [
  {
   "cell_type": "code",
   "execution_count": null,
   "metadata": {},
   "outputs": [],
   "source": [
    "import torch\n",
    "from torchvision import io\n",
    "from torchvision.transforms import functional as TF\n",
    "\n",
    "import vgg_loss"
   ]
  },
  {
   "cell_type": "code",
   "execution_count": null,
   "metadata": {},
   "outputs": [],
   "source": [
    "device = torch.device('cuda' if torch.cuda.is_available() else 'cpu')\n",
    "print('Using device:', device)\n",
    "\n",
    "crit_vgg = vgg_loss.VGGLoss().to(device)\n",
    "\n",
    "def get_similarity(image1, image2):\n",
    "\n",
    "    img1 = io.read_image(image1)[None] / 255\n",
    "    img2 = io.read_image(image2)[None] / 255\n",
    "    img1 = TF.resize(img1, (256, 256), 3).to(device)\n",
    "    img2 = TF.resize(img2, (256, 256), 3).to(device)\n",
    "\n",
    "\n",
    "    loss = crit_vgg(img1, img2, target_is_features=False)\n",
    "    return loss.item()"
   ]
  },
  {
   "cell_type": "code",
   "execution_count": null,
   "metadata": {},
   "outputs": [],
   "source": [
    "image1_filename = \"\"\n",
    "image2_filename = \"\"\n",
    "\n",
    "similarity = get_similarity(image1_filename, image2_filename)"
   ]
  }
 ],
 "metadata": {
  "kernelspec": {
   "display_name": "Python 3",
   "language": "python",
   "name": "python3"
  },
  "language_info": {
   "codemirror_mode": {
    "name": "ipython",
    "version": 3
   },
   "file_extension": ".py",
   "mimetype": "text/x-python",
   "name": "python",
   "nbconvert_exporter": "python",
   "pygments_lexer": "ipython3",
   "version": "3.7.3"
  }
 },
 "nbformat": 4,
 "nbformat_minor": 2
}
