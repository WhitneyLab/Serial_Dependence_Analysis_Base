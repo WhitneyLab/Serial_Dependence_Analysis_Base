{
 "cells": [
  {
   "cell_type": "code",
   "execution_count": 2,
   "id": "27594711",
   "metadata": {},
   "outputs": [],
   "source": [
    "import pandas as pd\n",
    "import numpy as np\n",
    "import pdb \n",
    "from datetime import datetime, timedelta\n",
    "from dis import dis\n",
    "import matplotlib.pyplot as plt\n",
    "\n",
    "pd.options.mode.chained_assignment = None  # default='warn'\n",
    "\n",
    "data = pd.read_csv(\"prepped_data.csv\")"
   ]
  },
  {
   "cell_type": "code",
   "execution_count": 4,
   "id": "0362a3cc",
   "metadata": {},
   "outputs": [
    {
     "data": {
      "text/plain": [
       "0.4977301884930425"
      ]
     },
     "execution_count": 4,
     "metadata": {},
     "output_type": "execute_result"
    }
   ],
   "source": [
    "#Temporal tunning analysis (Fig.2) of Manassi et al.(2019): https://whitneylab.berkeley.edu/PDFs/Manassi_Scientific_Reports.pdf\n",
    "\n",
    "#Fig2A\n",
    "#correct answers\n",
    "correct = data['score']==100\n",
    "correct[data['chosen_answer']==\"['nevus']\"].value_counts()[True] #326920\n",
    "correct[data['chosen_answer']==\"['melanoma']\"].value_counts()[True] #287219\n",
    "\n",
    "#### similar / dissimilar\n",
    "pos_sim = data['similarity_to_previous'].abs()\n",
    "treshold = pos_sim.mean()\n",
    "\n",
    "is_similar = []\n",
    "\n",
    "for i in pos_sim:\n",
    "    sim = i<treshold\n",
    "    \n",
    "    is_similar.append(int(sim))\n",
    "\n",
    "data['is_similar'] = is_similar\n",
    "#data = data[data['is_similar']==1] #for similar = 1, for dissimilar = 0\n",
    "\n",
    "#incorrect answers\n",
    "incorrect = data['score']==0\n",
    "incorrect[data['chosen_answer']==\"['nevus']\"].value_counts()[True] #64882\n",
    "incorrect[data['chosen_answer']==\"['melanoma']\"].value_counts()[True] #76980\n",
    "\n",
    "#Fig2B\n",
    "M_incorrect = incorrect[data['chosen_answer']==\"['melanoma']\"]\n",
    "B_incorrect = incorrect[data['chosen_answer']==\"['nevus']\"]\n",
    "\n",
    "#Fig2B.B\n",
    "BBM = M_incorrect[data['current_correct_answer'].shift(periods = 1) == \"['nevus']\"].value_counts()[True] #44248 #false positive\n",
    "BMB = B_incorrect[data['current_correct_answer'].shift(periods = 1) == \"['nevus']\"].value_counts()[True] #37877 #false negative\n",
    "\n",
    "#Fig2B.M\n",
    "MBM = M_incorrect[data['current_correct_answer'].shift(periods = 1) == \"['melanoma']\"].value_counts()[True] #32732\n",
    "MMB = B_incorrect[data['current_correct_answer'].shift(periods = 1) == \"['melanoma']\"].value_counts()[True] #27005\n",
    "\n",
    "#Fig2C\n",
    "# Serial Dependence when correct answer is malignant (Diagnostic Error!):\n",
    "BMB / (BMB + MMB) #58.4% -> 8.4% Serial Dependence towards 1-back if previous image is benign\n",
    "\n",
    "# Serial Dependence when correct answer is benign :\n",
    "MBM / (MBM + BBM) #42.5% -> no one-back if previous image is malignant\n",
    "\n",
    "(BMB + MBM) / (BMB + MMB + MBM + BBM) #no SD over all incorrect answers\n",
    "\n",
    "# maybe error was less if previous was malignant -> base rate: \"It already has been malignant last time, no way it's malignant AGAIN!\""
   ]
  },
  {
   "cell_type": "code",
   "execution_count": 22,
   "id": "0e99d954",
   "metadata": {},
   "outputs": [
    {
     "data": {
      "text/plain": [
       "0.6128870422064139"
      ]
     },
     "execution_count": 22,
     "metadata": {},
     "output_type": "execute_result"
    }
   ],
   "source": [
    "#Errors across categories\n",
    "#45% Error when correct answer is malignant:\n",
    "B_incorrect.value_counts()[True] / (B_incorrect.value_counts()[True] + M_incorrect.value_counts()[True]) \n",
    "#54% Error when correct answer is benign:\n",
    "M_incorrect.value_counts()[True] / (M_incorrect.value_counts()[True] + B_incorrect.value_counts()[True])"
   ]
  },
  {
   "cell_type": "code",
   "execution_count": 5,
   "id": "3f276267",
   "metadata": {
    "scrolled": false
   },
   "outputs": [
    {
     "data": {
      "image/png": "[encoded data removed]",
      "text/plain": [
       "<Figure size 1296x360 with 1 Axes>"
      ]
     },
     "metadata": {
      "needs_background": "light"
     },
     "output_type": "display_data"
    }
   ],
   "source": [
    "# PLOT 1 \n",
    "height = [BMB / (BMB + MMB), MBM / (MBM + BBM), 0, (BMB + MBM) / (BMB + MMB + MBM + BBM)]\n",
    "bars = ('Malignant Images', 'Benign Images', ' ', 'Average')\n",
    "x_pos = np.arange(len(bars))\n",
    "\n",
    "plt.figure(figsize=(18, 5))\n",
    "plt.bar(x_pos, height)\n",
    "plt.title('1-back SD for incorrect trials (%)')\n",
    "plt.axhline(y=0.5,linewidth=1, color='grey', linestyle='--') \n",
    "plt.xticks(x_pos, bars)\n",
    "\n",
    "plt.show()\n",
    "\n",
    "#8.4% (58.4%) SD towards 1-back if previous image is benign, negative SD when previous image is malignant"
   ]
  },
  {
   "cell_type": "code",
   "execution_count": 5,
   "id": "cab0aefd",
   "metadata": {
    "scrolled": true
   },
   "outputs": [
    {
     "data": {
      "text/plain": [
       "['nevus']       0.57263\n",
       "['melanoma']    0.42737\n",
       "Name: current_correct_answer, dtype: float64"
      ]
     },
     "execution_count": 5,
     "metadata": {},
     "output_type": "execute_result"
    }
   ],
   "source": [
    "#Problem: there are more trials when previous was benign than malignant\n",
    "\n",
    "data['current_correct_answer'].value_counts(1)"
   ]
  },
  {
   "cell_type": "code",
   "execution_count": 6,
   "id": "763c2042",
   "metadata": {
    "scrolled": true
   },
   "outputs": [
    {
     "data": {
      "text/plain": [
       "['nevus']       0.518256\n",
       "['melanoma']    0.481744\n",
       "Name: chosen_answer, dtype: float64"
      ]
     },
     "execution_count": 6,
     "metadata": {},
     "output_type": "execute_result"
    }
   ],
   "source": [
    "data['chosen_answer'].value_counts(1)"
   ]
  },
  {
   "cell_type": "code",
   "execution_count": 6,
   "id": "fb2d8890",
   "metadata": {
    "scrolled": true
   },
   "outputs": [],
   "source": [
    "# Take similarity (S) and dissimilarity (D) into account\n",
    "\n",
    "# MALIGNANT\n",
    "\n",
    "BBMS = data[(data.score==0) & (data.chosen_answer == \"['melanoma']\")& (data.current_correct_answer.shift(1) == \"['nevus']\") & (data.is_similar == 1)].shape[0]\n",
    "\n",
    "MBMS = data[(data.score==0) & (data.chosen_answer == \"['melanoma']\")& (data.current_correct_answer.shift(1) == \"['melanoma']\") & (data.is_similar == 1)].shape[0]\n",
    "\n",
    "BBMD = data[(data.score==0) & (data.chosen_answer == \"['melanoma']\")& (data.current_correct_answer.shift(1) == \"['nevus']\") & (data.is_similar == 0)].shape[0]\n",
    "\n",
    "MBMD = data[(data.score==0) & (data.chosen_answer == \"['melanoma']\")& (data.current_correct_answer.shift(1) == \"['melanoma']\") & (data.is_similar == 0)].shape[0]\n",
    "\n",
    "# BENIGN\n",
    "\n",
    "BMBS = data[(data.score==0) & (data.chosen_answer == \"['nevus']\")& (data.current_correct_answer.shift(1) == \"['nevus']\") & (data.is_similar == 1)].shape[0]\n",
    "\n",
    "MMBS = data[(data.score==0) & (data.chosen_answer == \"['nevus']\")& (data.current_correct_answer.shift(1) == \"['melanoma']\") & (data.is_similar == 1)].shape[0]\n",
    "\n",
    "BMBD = data[(data.score==0) & (data.chosen_answer == \"['nevus']\")& (data.current_correct_answer.shift(1) == \"['nevus']\") & (data.is_similar == 0)].shape[0]\n",
    "\n",
    "MMBD = data[(data.score==0) & (data.chosen_answer == \"['nevus']\")& (data.current_correct_answer.shift(1) == \"['melanoma']\") & (data.is_similar == 0)].shape[0]"
   ]
  },
  {
   "cell_type": "code",
   "execution_count": 7,
   "id": "d06d3a92",
   "metadata": {
    "scrolled": true
   },
   "outputs": [
    {
     "data": {
      "image/png": "[encoded data removed]",
      "text/plain": [
       "<Figure size 1296x360 with 1 Axes>"
      ]
     },
     "metadata": {
      "needs_background": "light"
     },
     "output_type": "display_data"
    }
   ],
   "source": [
    "# PLOT 2: Similar with previous \n",
    "\n",
    "height = [BMBS / (BMBS + MMBS), MBMS / (MBMS + BBMS), 0, (BMBS + MBMS) / (BMBS + MMBS + MBMS + BBMS)]\n",
    "bars = ('Malignant Images', 'Benign Images', ' ', 'Average')\n",
    "x_pos = np.arange(len(bars))\n",
    "\n",
    "plt.figure(figsize=(18, 5))\n",
    "plt.bar(x_pos, height)\n",
    "plt.title('Similiar with previous: 1-back SD for incorrect trials (%)')\n",
    "plt.axhline(y=0.5,linewidth=1, color='grey', linestyle='--') \n",
    "plt.xticks(x_pos, bars)\n",
    "\n",
    "plt.show()"
   ]
  },
  {
   "cell_type": "code",
   "execution_count": 8,
   "id": "57e8de01",
   "metadata": {},
   "outputs": [
    {
     "data": {
      "image/png": "[encoded data removed]",
      "text/plain": [
       "<Figure size 1296x360 with 1 Axes>"
      ]
     },
     "metadata": {
      "needs_background": "light"
     },
     "output_type": "display_data"
    }
   ],
   "source": [
    "# PLOT 3: Dissimilar with previous \n",
    "\n",
    "height = [BMBD / (BMBD + MMBD), MBMD / (MBMD + BBMD), 0, (BMBD + MBMD) / (BMBD + MMBD + MBMD + BBMD)]\n",
    "bars = ('Malignant Images', 'Benign Images', ' ', 'Average')\n",
    "x_pos = np.arange(len(bars))\n",
    "\n",
    "plt.figure(figsize=(18, 5))\n",
    "plt.bar(x_pos, height)\n",
    "plt.title('Dissimiliar with previous: 1-back SD for incorrect trials (%)')\n",
    "plt.axhline(y=0.5,linewidth=1, color='grey', linestyle='--') \n",
    "plt.xticks(x_pos, bars)\n",
    "\n",
    "plt.show()"
   ]
  }
 ],
 "metadata": {
  "kernelspec": {
   "display_name": "Python 3 (ipykernel)",
   "language": "python",
   "name": "python3"
  },
  "language_info": {
   "codemirror_mode": {
    "name": "ipython",
    "version": 3
   },
   "file_extension": ".py",
   "mimetype": "text/x-python",
   "name": "python",
   "nbconvert_exporter": "python",
   "pygments_lexer": "ipython3",
   "version": "3.9.7"
  }
 },
 "nbformat": 4,
 "nbformat_minor": 5
}
