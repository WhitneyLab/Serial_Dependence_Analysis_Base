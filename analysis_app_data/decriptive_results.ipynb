{
 "cells": [
  {
   "cell_type": "code",
   "execution_count": 1,
   "metadata": {},
   "outputs": [
    {
     "data": {
      "text/plain": [
       "0.7927411817534156"
      ]
     },
     "execution_count": 1,
     "metadata": {},
     "output_type": "execute_result"
    }
   ],
   "source": [
    "import pandas as pd\n",
    "import numpy as np\n",
    "import pdb \n",
    "from datetime import datetime, timedelta\n",
    "from dis import dis\n",
    "import matplotlib.pyplot as plt\n",
    "\n",
    "pd.options.mode.chained_assignment = None  # default='warn'\n",
    "\n",
    "data = pd.read_csv(\"prepped_data.csv\")\n",
    "\n",
    "# global level\n",
    "data['score'].mean()\n",
    "data['RT'].std()\n",
    "data['1back_accuracy'].mean()\n",
    "data['2back_accuracy'].mean()\n",
    "data['3back_accuracy'].mean()\n",
    "data['1forward_accuracy'].mean()\n",
    "\n",
    "# subject level\n",
    "sub = data.groupby(['user_id']).mean()\n",
    "sub['score'].mean()\n",
    "sub['RT'].std()\n",
    "\n",
    "# Min and Max amount of trials done\n",
    "data['user_id'].value_counts() \n",
    "\n",
    "# How often were images shown?\n",
    "melanoma_list = data['origin'][data['current_correct_answer']== \"['melanoma']\"].value_counts() \n",
    "melanoma_list.mean()\n",
    "\n",
    "nevus_list = data['origin'][data['current_correct_answer']== \"['nevus']\"].value_counts() \n",
    "nevus_list.mean()\n"
   ]
  }
 ],
 "metadata": {
  "kernelspec": {
   "display_name": "Python 3",
   "language": "python",
   "name": "python3"
  },
  "language_info": {
   "codemirror_mode": {
    "name": "ipython",
    "version": 3
   },
   "file_extension": ".py",
   "mimetype": "text/x-python",
   "name": "python",
   "nbconvert_exporter": "python",
   "pygments_lexer": "ipython3",
   "version": "3.7.3"
  }
 },
 "nbformat": 4,
 "nbformat_minor": 5
}
