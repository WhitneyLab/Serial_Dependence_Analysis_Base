{
 "cells": [
  {
   "cell_type": "code",
   "execution_count": 1,
   "id": "a7fb882e",
   "metadata": {},
   "outputs": [],
   "source": [
    "import pandas as pd\n",
    "import numpy as np\n",
    "import pdb \n",
    "from datetime import datetime, timedelta\n",
    "from dis import dis\n",
    "import matplotlib.pyplot as plt\n",
    "\n",
    "pd.options.mode.chained_assignment = None  # default='warn'\n",
    "\n",
    "data = pd.read_csv(\"prepped_data.csv\")\n",
    "\n",
    "def permutation(x, y, permIter = 100):    \n",
    "    \n",
    "    OutB = [] # Output a array, store each trial's a\n",
    "    perm_xdata = x\n",
    "    for i in range(permIter):\n",
    "        perm_xdata = np.random.permutation(perm_xdata) # permutate nonlocal xdata to update, don't change ydata #THATS MOST IMPORTANT\n",
    "        true_false_list = pd.notnull(y)\n",
    "        \n",
    "        numerator = np.sum(y[true_false_list]==perm_xdata[true_false_list])\n",
    "        denominator = np.sum(true_false_list)\n",
    "\n",
    "        ratio = numerator/denominator\n",
    "\n",
    "        OutB.append(ratio)                   \n",
    "    return(OutB)\n",
    "\n",
    "def nevus_permutation(x, y, permIter = 100):    \n",
    "    \n",
    "    OutB = [] # Output a array, store each trial's a\n",
    "    perm_xdata = x\n",
    "    for i in range(permIter):\n",
    "        perm_xdata = np.random.permutation(perm_xdata) # permutate nonlocal xdata to update, don't change ydata\n",
    "\n",
    "        true_false_list = y == \"['nevus']\"\n",
    "\n",
    "        numerator = np.unique(perm_xdata[true_false_list], return_counts=True)[1]\n",
    "        denominator = np.sum(np.unique(perm_xdata[true_false_list], return_counts=True)[1])\n",
    "\n",
    "        ratio = numerator/denominator\n",
    "\n",
    "        OutB.append(ratio[1])                   \n",
    "    return(OutB)\n",
    "\n",
    "def melanoma_permutation(x, y, permIter = 100):    \n",
    "    \n",
    "    OutB = [] # Output a array, store each trial's a\n",
    "    perm_xdata = x\n",
    "    for i in range(permIter):\n",
    "        perm_xdata = np.random.permutation(perm_xdata) # permutate nonlocal xdata to update, don't change ydata #THATS MOST IMPORTANT\n",
    "\n",
    "        true_false_list = y == \"['melanoma']\"\n",
    "\n",
    "        numerator = np.unique(perm_xdata[true_false_list], return_counts=True)[1]\n",
    "        denominator = np.sum(np.unique(perm_xdata[true_false_list], return_counts=True)[1])\n",
    "\n",
    "        ratio = numerator/denominator\n",
    "\n",
    "        OutB.append(ratio[0])                   \n",
    "    return(OutB)\n",
    "\n",
    "# values for permutation\n",
    "y = data['current_correct_answer'].shift(periods = 1)\n",
    "x = data['chosen_answer']"
   ]
  },
  {
   "cell_type": "code",
   "execution_count": null,
   "id": "f29b9f4a",
   "metadata": {},
   "outputs": [],
   "source": [
    "# 1-back permutation\n",
    "ratios = permutation(x = x, y = y, permIter = 5000)\n",
    "\n",
    "plt.hist(ratios, bins = 500)\n",
    "\n",
    "mean_accuracy = data['1back_accuracy'].mean()\n",
    "plt.axvline(x=mean_accuracy, color='g')\n",
    "plt.axvline(x=np.percentile(a = ratios, q = 95), color='r')"
   ]
  },
  {
   "cell_type": "code",
   "execution_count": 3,
   "id": "61ffbcbd",
   "metadata": {
    "scrolled": true
   },
   "outputs": [],
   "source": [
    "#1-back nevus permutation\n",
    "nevus_ratios = nevus_permutation(x = x, y = y, permIter = 5000)\n",
    "\n",
    "plt.hist(nevus_ratios, bins = 500)\n",
    "one_back_nevus = data['current_correct_answer'].shift(periods = 1) == \"['nevus']\"\n",
    "nevus_current_ratio = data['chosen_answer'][one_back_nevus].value_counts(1)[\"['nevus']\"]\n",
    "plt.axvline(x=nevus_current_ratio, color='g')\n",
    "plt.axvline(x=np.percentile(a = nevus_ratios, q = 95), color='r')"
   ]
  },
  {
   "cell_type": "code",
   "execution_count": null,
   "id": "b0425074",
   "metadata": {},
   "outputs": [],
   "source": [
    "# 1-back melanoma permutation\n",
    "melanoma_ratios = melanoma_permutation(x = x, y = y, permIter = 5000)\n",
    "\n",
    "plt.hist(melanoma_ratios, bins = 500)\n",
    "one_back_melanoma = data['current_correct_answer'].shift(periods = 1) == \"['melanoma']\"\n",
    "melanoma_current_ratio = data['chosen_answer'][one_back_melanoma].value_counts(1)[['melanoma']]\n",
    "plt.axvline(x=melanoma_current_ratio, color='g')\n",
    "plt.axvline(x=np.percentile(a = melanoma_ratios, q = 95), color='r')"
   ]
  },
  {
   "cell_type": "code",
   "execution_count": 4,
   "id": "35134a83",
   "metadata": {
    "scrolled": false
   },
   "outputs": [
    {
     "data": {
      "text/plain": [
       "<matplotlib.lines.Line2D at 0x23f8e829e20>"
      ]
     },
     "execution_count": 4,
     "metadata": {},
     "output_type": "execute_result"
    },
    {
     "data": {
      "image/png": "[encoded data removed]",
      "text/plain": [
       "<Figure size 432x288 with 1 Axes>"
      ]
     },
     "metadata": {
      "needs_background": "light"
     },
     "output_type": "display_data"
    }
   ],
   "source": [
    "# LOOK AT INDIVIDUAL SUBJECT RATIOS\n",
    "data_per_user = data.groupby(['user_id']).mean()\n",
    "\n",
    "#1-back ratio per subject plot\n",
    "plt.hist(data_per_user['1back_accuracy'], bins=200)\n",
    "mean_1back_accuracy = data['1back_accuracy'].value_counts(1)[1]\n",
    "plt.axvline(x=mean_1back_accuracy, color='g')"
   ]
  },
  {
   "cell_type": "code",
   "execution_count": 72,
   "id": "b154d02a",
   "metadata": {},
   "outputs": [
    {
     "data": {
      "text/plain": [
       "<matplotlib.lines.Line2D at 0x1ee39022880>"
      ]
     },
     "execution_count": 72,
     "metadata": {},
     "output_type": "execute_result"
    },
    {
     "data": {
      "image/png": "[encoded data removed]",
      "text/plain": [
       "<Figure size 1296x360 with 1 Axes>"
      ]
     },
     "metadata": {
      "needs_background": "light"
     },
     "output_type": "display_data"
    }
   ],
   "source": [
    "#PLOT 1: 1-back ratio with N-1 subject each\n",
    "\n",
    "Out = []\n",
    "ratio = data['1back_accuracy'].mean()\n",
    "subjects = data['user_id'].unique()\n",
    "\n",
    "for i in subjects:\n",
    "        reduced_data = data.loc[data['user_id'] != i]\n",
    "        ratio = reduced_data['1back_accuracy'].mean()\n",
    "        \n",
    "        Out.append(ratio)\n",
    "        \n",
    "plt.figure(figsize=(18, 5))\n",
    "plt.hist(Out, bins=500)\n",
    "\n",
    "plt.axvline(x=ratio, color='g') #this is the mean ratio over all trials (not all subjects)"
   ]
  },
  {
   "cell_type": "code",
   "execution_count": 85,
   "id": "406ddac7",
   "metadata": {
    "scrolled": false
   },
   "outputs": [],
   "source": [
    "# LOOK AT RATIOS OF CORRECT AND INCORRECT TRIALS EACH\n",
    "\n",
    "# DATA FOR INCORRECT TRIALS\n",
    "y = data['current_correct_answer'].shift(periods = 1)[data['score'] == 0]\n",
    "x = data['chosen_answer'][data['score'] == 0]"
   ]
  },
  {
   "cell_type": "code",
   "execution_count": 87,
   "id": "dc7ff38b",
   "metadata": {
    "scrolled": true
   },
   "outputs": [
    {
     "data": {
      "text/plain": [
       "<matplotlib.lines.Line2D at 0x2d0f6eb0430>"
      ]
     },
     "execution_count": 87,
     "metadata": {},
     "output_type": "execute_result"
    },
    {
     "data": {
      "image/png": "[encoded data removed]",
      "text/plain": [
       "<Figure size 432x288 with 1 Axes>"
      ]
     },
     "metadata": {
      "needs_background": "light"
     },
     "output_type": "display_data"
    }
   ],
   "source": [
    "#PLOT 2A: ratio for incorrect trials only\n",
    "    \n",
    "ratios = permutation(x = x, y = y, permIter = 5000)\n",
    "\n",
    "plt.hist(ratios, bins = 200)\n",
    "incorrect_accuracy = data['1back_accuracy'][data['score'] == 0].mean()\n",
    "plt.axvline(x=incorrect_accuracy, color='g')\n",
    "plt.axvline(x=np.percentile(a = ratios, q = 95), color='r')"
   ]
  },
  {
   "cell_type": "code",
   "execution_count": null,
   "id": "075b3e2d",
   "metadata": {},
   "outputs": [],
   "source": [
    "melanoma_ratios = melanoma_permutation(x = x, y = y, permIter = 1000)\n",
    "\n",
    "plt.hist(melanoma_ratios, bins = 200)\n",
    "one_back_melanoma = data['current_correct_answer'].shift(periods = 1) == \"['melanoma']\"\n",
    "melanoma_ratio_all = data['chosen_answer'][one_back_melanoma].value_counts(1)[1]\n",
    "melanoma_ratio_incorrect = data['chosen_answer'][data['score'] == 0][one_back_melanoma].value_counts(1)[\"['melanoma']\"]\n",
    "\n",
    "plt.axvline(x=melanoma_ratio_incorrect, color='g')\n",
    "plt.axvline(x=np.percentile(a = melanoma_ratios, q = 95), color='r')"
   ]
  },
  {
   "cell_type": "code",
   "execution_count": null,
   "id": "5e795e79",
   "metadata": {},
   "outputs": [],
   "source": [
    "nevus_ratios = nevus_permutation(x = x, y = y, permIter = 1000)\n",
    "\n",
    "plt.hist(nevus_ratios, bins = 200)\n",
    "one_back_nevus = data['current_correct_answer'].shift(periods = 1) == \"['nevus']\"\n",
    "nevus_ratio_all = data['chosen_answer'][one_back_nevus].value_counts(1)[1]\n",
    "nevus_ratio_incorrect = data['chosen_answer'][data['score'] == 0][one_back_nevus].value_counts(1)[\"['nevus']\"]\n",
    "\n",
    "plt.axvline(x=nevus_ratio_incorrect, color='g')\n",
    "plt.axvline(x=np.percentile(a = nevus_ratios, q = 95), color='r')"
   ]
  },
  {
   "cell_type": "code",
   "execution_count": 88,
   "id": "bab45d02",
   "metadata": {
    "scrolled": false
   },
   "outputs": [],
   "source": [
    "# DATA FOR CORRECT TRIALS\n",
    "y = data['current_correct_answer'].shift(periods = 1)[data['score'] == 100]\n",
    "x = data['chosen_answer'][data['score'] == 100]"
   ]
  },
  {
   "cell_type": "code",
   "execution_count": 89,
   "id": "fe54e561",
   "metadata": {},
   "outputs": [
    {
     "data": {
      "text/plain": [
       "<matplotlib.lines.Line2D at 0x2d0f70b3f40>"
      ]
     },
     "execution_count": 89,
     "metadata": {},
     "output_type": "execute_result"
    },
    {
     "data": {
      "image/png": "[encoded data removed]",
      "text/plain": [
       "<Figure size 432x288 with 1 Axes>"
      ]
     },
     "metadata": {
      "needs_background": "light"
     },
     "output_type": "display_data"
    }
   ],
   "source": [
    "#PLOT 2B: ratio for correct trials only\n",
    "ratios = permutation(x = x, y = y, permIter = 5000)\n",
    "\n",
    "plt.hist(ratios, bins = 200)\n",
    "correct_accuracy = data['1back_accuracy'][data['score'] == 100].mean()\n",
    "plt.axvline(x=correct_accuracy, color='g')\n",
    "plt.axvline(x=np.percentile(a = ratios, q = 95), color='r')"
   ]
  },
  {
   "cell_type": "code",
   "execution_count": null,
   "id": "e3a63b4a",
   "metadata": {},
   "outputs": [],
   "source": [
    "melanoma_ratios = melanoma_permutation(x = x, y = y, permIter = 1000)\n",
    "\n",
    "plt.hist(melanoma_ratios, bins = 200)\n",
    "one_back_melanoma = data['current_correct_answer'].shift(periods = 1) == \"['melanoma']\"\n",
    "melanoma_ratio_all = data['chosen_answer'][one_back_melanoma].value_counts(1)[\"['melanoma']\"]\n",
    "melanoma_ratio_correct = data['chosen_answer'][data['score'] == 100][one_back_melanoma].value_counts(1)[\"['melanoma']\"]\n",
    "\n",
    "plt.axvline(x=melanoma_ratio_correct, color='g')\n",
    "plt.axvline(x=np.percentile(a = melanoma_ratios, q = 95), color='r')"
   ]
  },
  {
   "cell_type": "code",
   "execution_count": null,
   "id": "f95a81a1",
   "metadata": {},
   "outputs": [],
   "source": [
    "nevus_ratios = nevus_permutation(x = x, y = y, permIter = 1000)\n",
    "\n",
    "plt.hist(nevus_ratios, bins = 200)\n",
    "one_back_nevus = data['current_correct_answer'].shift(periods = 1) == \"['nevus']\"\n",
    "nevus_ratio_all = data['chosen_answer'][one_back_nevus].value_counts(1)[\"['nevus']\"]\n",
    "nevus_ratio_correct = data['chosen_answer'][data['score'] == 100][one_back_nevus].value_counts(1)[\"['nevus']\"]\n",
    "\n",
    "plt.axvline(x=nevus_ratio_correct, color='g')\n",
    "plt.axvline(x=np.percentile(a = nevus_ratios, q = 95), color='r')"
   ]
  },
  {
   "cell_type": "code",
   "execution_count": 96,
   "id": "507a2fa8",
   "metadata": {},
   "outputs": [],
   "source": [
    "# Average 1-back accuracy\n",
    "data['1back_accuracy'].mean() # over all trials: 50.3\n",
    "data['1back_accuracy'][data['score'] == 0].mean() # for incorrect trials: 49.8\n",
    "data['1back_accuracy'][data['score'] == 100].mean() # for correct trials: 50.4"
   ]
  }
 ],
 "metadata": {
  "kernelspec": {
   "display_name": "Python 3 (ipykernel)",
   "language": "python",
   "name": "python3"
  },
  "language_info": {
   "codemirror_mode": {
    "name": "ipython",
    "version": 3
   },
   "file_extension": ".py",
   "mimetype": "text/x-python",
   "name": "python",
   "nbconvert_exporter": "python",
   "pygments_lexer": "ipython3",
   "version": "3.9.7"
  }
 },
 "nbformat": 4,
 "nbformat_minor": 5
}
